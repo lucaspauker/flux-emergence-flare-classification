{
 "cells": [
  {
   "cell_type": "markdown",
   "metadata": {},
   "source": [
    "# Predicting Solar Flares with Flux Emergence Data\n",
    "\n",
    "In this notebook, we will download and extract features from flux emergence data taken from Helioseismic and Magnetic Imager (HMI) instrument on NASA's Solar Dynamics Observatory (SDO) satellite, and train a machine learning model to predict the likelihood of an active region flaring.\n",
    "\n",
    "TODO: CHANGE\n",
    "The metadata from the HMI instrument is stored in a database called the Data Record Management System, or DRMS. This data can be accessed using the `drms` module. We will begin by importing the data."
   ]
  },
  {
   "cell_type": "code",
   "execution_count": 1,
   "metadata": {},
   "outputs": [],
   "source": [
    "import drms\n",
    "import csv\n",
    "import json\n",
    "import requests\n",
    "import random\n",
    "import sunpy\n",
    "import sunpy.instr.goes\n",
    "import pandas as pd\n",
    "import numpy as np\n",
    "import matplotlib.pyplot as plt\n",
    "import matplotlib.ticker as mtick\n",
    "import matplotlib.dates as mdate\n",
    "\n",
    "from sklearn.preprocessing import MinMaxScaler\n",
    "from sklearn.model_selection import train_test_split\n",
    "from sklearn.ensemble import AdaBoostClassifier\n",
    "from sklearn.ensemble import RandomForestClassifier\n",
    "from sklearn import svm\n",
    "from sklearn.linear_model import SGDClassifier\n",
    "from sklearn.neural_network import MLPClassifier\n",
    "\n",
    "from pandas.plotting import register_matplotlib_converters\n",
    "from datetime import datetime"
   ]
  },
  {
   "cell_type": "markdown",
   "metadata": {},
   "source": [
    "## Downloading Data\n",
    "\n",
    "JSOC (Joint Science Operations Center) keeps an up-to-date catalog of all the active regions observed on the sun. This can be found here: `http://jsoc.stanford.edu/doc/data/hmi/harpnum_to_noaa/all_harps_with_noaa_ars.txt`. The code block below takes a file `./data/all_harps_with_noaa_ars.txt` (which is a downloaded version of the aforementioned link) and extracts the harp_ids, as well as a dictionary of harp_ids corresponding to noaa_ids.\n",
    "\n",
    "To download the newest version of the file, one could use a tool such as `wget`: `wget http://jsoc.stanford.edu/doc/data/hmi/harpnum_to_noaa/all_harps_with_noaa_ars.txt`"
   ]
  },
  {
   "cell_type": "code",
   "execution_count": 72,
   "metadata": {
    "scrolled": false
   },
   "outputs": [],
   "source": [
    "def get_harp_ids_and_harp_noaa_dict():\n",
    "    '''This method requires there to be a file ./data/all_harps_with_noaa_ars.txt with\n",
    "    two columns: HARP IDs and NOAA IDs. This method returns a list of HARP IDs and a\n",
    "    dictionary of HARP IDs corresponding to a list of NOAA IDs.\n",
    "    '''\n",
    "    harp_ids = []\n",
    "    harp_noaa_dict = {}\n",
    "    with open('./data/all_harps_with_noaa_ars.txt') as f:\n",
    "        content = f.readlines()[1:] # Disregard the header line\n",
    "        for line in content:\n",
    "            harp_id = line.split()[0]\n",
    "            noaa_ids = line.split()[1].split(',')\n",
    "            harp_ids.append(int(harp_id))\n",
    "            harp_noaa_dict[int(harp_id)] = noaa_ids\n",
    "    return harp_ids, harp_noaa_dict"
   ]
  },
  {
   "cell_type": "code",
   "execution_count": 3,
   "metadata": {},
   "outputs": [],
   "source": [
    "def query_data(harp_id):\n",
    "    '''This method grabs data from the JSOC database. It currently gets two\n",
    "    variables: time and unsigned flux. This method also makes sure the data received\n",
    "    is high-quality and accurate.\n",
    "    '''\n",
    "    url_base = 'http://jsoc.stanford.edu/cgi-bin/ajax/jsoc_info?ds=hmi.sharp_cea_720s'\n",
    "    harp_id_string = '[' + str(harp_id) + ']'\n",
    "    param_string = '[? (abs(OBS_VR)< 3500) and (QUALITY<65536) ?]'\n",
    "    keys_string = '&op=rs_list&key=T_REC,USFLUX,CRVAL1,CRLN_OBS'\n",
    "    url = url_base + harp_id_string + param_string + keys_string\n",
    "    r = requests.get(url)\n",
    "    assert r.status_code == 200\n",
    "    data = json.loads(r.text)\n",
    "    keys = pd.DataFrame()\n",
    "    for keyword_data in data['keywords']:\n",
    "        keyword = keyword_data['name']\n",
    "        vals = keyword_data['values']\n",
    "        keys[keyword] = vals\n",
    "    return keys"
   ]
  },
  {
   "cell_type": "code",
   "execution_count": 4,
   "metadata": {},
   "outputs": [],
   "source": [
    "def parse_time_string(t_str):\n",
    "    year   = int(t_str[:4])\n",
    "    month  = int(t_str[5:7])\n",
    "    day    = int(t_str[8:10])\n",
    "    hour   = int(t_str[11:13])\n",
    "    minute = int(t_str[14:16])\n",
    "    return datetime(year, month, day, hour, minute)"
   ]
  },
  {
   "cell_type": "code",
   "execution_count": 5,
   "metadata": {},
   "outputs": [],
   "source": [
    "def get_time_delta(start_time, end_time):\n",
    "    '''Returns time difference between two given datetime objects in hours.\n",
    "    '''\n",
    "    return (end_time - start_time).total_seconds() / (60 * 60) # Convert to hours"
   ]
  },
  {
   "cell_type": "code",
   "execution_count": 6,
   "metadata": {},
   "outputs": [],
   "source": [
    "def get_time_data(keys):\n",
    "    start_time = parse_time_string(keys.T_REC[0])\n",
    "    time_data = []\n",
    "    for i in range(keys.T_REC.size):\n",
    "        time = parse_time_string(keys.T_REC[i])\n",
    "        time_data.append(get_time_delta(start_time, time))\n",
    "    return time_data"
   ]
  },
  {
   "cell_type": "code",
   "execution_count": 7,
   "metadata": {},
   "outputs": [],
   "source": [
    "def create_csv(keys, true_time_data, time_data, harp_id):\n",
    "    '''Creates a csv file in ./data/[harp_id].csv with two columns: time and \n",
    "    unsigned_flux. This method will not write any data that occurs outside the\n",
    "    range of +/- 70 degrees longitude from the meridian.\n",
    "    '''\n",
    "    data_dir = './data/'\n",
    "    filename = data_dir + str(harp_id) + '.csv'\n",
    "    with open(filename, 'w') as csv_file:\n",
    "        writer = csv.writer(csv_file, delimiter=',', quoting=csv.QUOTE_MINIMAL)\n",
    "        writer.writerow(['true_time', 'time', 'unsigned_flux'])\n",
    "        for i in range(len(keys.USFLUX)):\n",
    "            if abs(float(keys.CRVAL1[i]) - float(keys.CRLN_OBS[i])) < 70.0:\n",
    "                writer.writerow([true_time_data[i], time_data[i], keys.USFLUX[i]])"
   ]
  },
  {
   "cell_type": "code",
   "execution_count": 8,
   "metadata": {},
   "outputs": [],
   "source": [
    "def create_all_csvs(harp_ids):\n",
    "    '''This method creates a csv file with time and unsigned flux for\n",
    "    all the HARP IDs in the inputted harp_ids.\n",
    "    '''\n",
    "    count = 0\n",
    "    for harp_id in harp_ids:\n",
    "        count += 1\n",
    "        print(count, harp_id)\n",
    "        if count % 100 == 0: print(count)\n",
    "        keys = query_data(harp_id)\n",
    "        time_data = get_time_data(keys)\n",
    "        create_csv(keys, keys.T_REC, time_data, harp_id)"
   ]
  },
  {
   "cell_type": "code",
   "execution_count": 24,
   "metadata": {},
   "outputs": [],
   "source": [
    "def read_data(harp_id):\n",
    "    '''This method reads the data from ./data/[harp_id].csv, and returns a pandas\n",
    "    DataFrame with two columns: time since the beginning of the active region data,\n",
    "    and unsigned flux.\n",
    "    '''\n",
    "    filename = './data/' + str(harp_id) + '.csv'\n",
    "    key_dict = {'TRUE_TIME': [], 'TIME': [], 'USFLUX': []}\n",
    "    with open(filename, 'r') as csv_file:\n",
    "        reader = csv.reader(csv_file, delimiter=',')\n",
    "        next(reader)  # Skip header\n",
    "        for row in reader:\n",
    "            key_dict['TRUE_TIME'].append(parse_time_string(row[0]))\n",
    "            key_dict['TIME'].append(float(row[1]))\n",
    "            key_dict['USFLUX'].append(float(row[2]))\n",
    "    keys = pd.DataFrame(key_dict)\n",
    "    return keys"
   ]
  },
  {
   "cell_type": "code",
   "execution_count": 10,
   "metadata": {},
   "outputs": [],
   "source": [
    "def get_flare_data_from_database(t_start, t_end, min_event):\n",
    "    '''This helper method simply grabs data from the GOES database. It returns\n",
    "    the metadata associated with each flaring active region greater in event\n",
    "    size than min_event and between time t_start and t_end.\n",
    "    '''\n",
    "    time_range = sunpy.time.TimeRange(t_start, t_end)\n",
    "    results = sunpy.instr.goes.get_goes_event_list(time_range, min_event)\n",
    "    return results"
   ]
  },
  {
   "cell_type": "code",
   "execution_count": 11,
   "metadata": {},
   "outputs": [],
   "source": [
    "def get_flare_data(harp_ids, min_event):\n",
    "    '''This method accesses the GOES database to get the flare data for each\n",
    "    HARP ID in the inputted harp_ids.\n",
    "    '''\n",
    "    first_keys = query_data(harp_ids[0])\n",
    "    t_start = first_keys.T_REC[0]\n",
    "    last_keys = query_data(harp_ids[-1])\n",
    "    t_end = last_keys.T_REC[len(last_keys.T_REC) - 1]\n",
    "    print('Time range:', t_start, 'to', t_end)\n",
    "\n",
    "    return get_flare_data_from_database(t_start, t_end, min_event)"
   ]
  },
  {
   "cell_type": "code",
   "execution_count": 12,
   "metadata": {},
   "outputs": [],
   "source": [
    "def write_noaa_data_to_csv(flare_data):\n",
    "    with open('./data/noaa_data.csv', 'w') as csv_file:\n",
    "        field_names = flare_data[0].keys()\n",
    "        writer = csv.DictWriter(csv_file, fieldnames=field_names)\n",
    "        writer.writeheader()\n",
    "        for flare in flare_data:\n",
    "            writer.writerow(flare)"
   ]
  },
  {
   "cell_type": "code",
   "execution_count": 13,
   "metadata": {},
   "outputs": [],
   "source": [
    "def get_noaa_data_from_csv():\n",
    "    noaa_flare_set = []\n",
    "    with open('./data/noaa_data.csv', 'r') as csv_file:\n",
    "        reader = csv.DictReader(csv_file)\n",
    "        for row in reader:\n",
    "            noaa_flare_set.append(dict(row))\n",
    "    return noaa_flare_set"
   ]
  },
  {
   "cell_type": "code",
   "execution_count": 73,
   "metadata": {},
   "outputs": [
    {
     "name": "stdout",
     "output_type": "stream",
     "text": [
      "Number of active regions: 1335\n",
      "Number of flares: 8029\n"
     ]
    }
   ],
   "source": [
    "# Set recreate_data to True if you want to redownload all the data (takes 30+ minutes)\n",
    "recreate_data = False\n",
    "\n",
    "harp_ids, harp_noaa_dict = get_harp_ids_and_harp_noaa_dict()\n",
    "\n",
    "if recreate_data:\n",
    "    create_all_csvs(harp_ids[310:])\n",
    "    flare_data = get_flare_data(harp_ids, 'C1.0')\n",
    "    write_noaa_data_to_csv(flare_data)\n",
    "else:\n",
    "    flare_data = get_noaa_data_from_csv()\n",
    "\n",
    "print('Number of active regions:', len(harp_ids))\n",
    "print('Number of flares:', len(flare_data))"
   ]
  },
  {
   "cell_type": "markdown",
   "metadata": {},
   "source": [
    "## Data Processing\n",
    "\n",
    "Our raw data, obtained in the \"Downloading Data\" section, consists of three data structures: a list of the HARP IDs `harp_ids`, a dictionary relating the HARP IDs to the NOAA IDs `harp_noaa_dict`, and the flare data downloaded from GOES `flare_data`.\n",
    "\n",
    "In the next blocks of code, we will process the data in various ways to extract information and relate the raw data described above."
   ]
  },
  {
   "cell_type": "code",
   "execution_count": 59,
   "metadata": {
    "scrolled": true
   },
   "outputs": [],
   "source": [
    "def get_flared_noaa_id_set(flare_data):\n",
    "    '''This method returns a list of all the NOAA IDs that have\n",
    "    flared, based on the data passed in from flare_data.\n",
    "    '''\n",
    "    noaa_flare_set = set()\n",
    "    for flare in flare_data:\n",
    "        noaa_flare_set.add(int(flare['noaa_active_region']))\n",
    "    return noaa_flare_set"
   ]
  },
  {
   "cell_type": "code",
   "execution_count": 60,
   "metadata": {},
   "outputs": [],
   "source": [
    "def has_flared(harp_id, harp_noaa_dict, noaa_flare_set):\n",
    "    '''Returns a boolean corresponding to whether the given active\n",
    "    region corresponding to the harp_id flared or not.\n",
    "    '''\n",
    "    for noaa_id in harp_noaa_dict[harp_id]:\n",
    "        if int(noaa_id) in noaa_flare_set:\n",
    "            return True\n",
    "    return False"
   ]
  },
  {
   "cell_type": "code",
   "execution_count": 61,
   "metadata": {},
   "outputs": [],
   "source": [
    "def get_harp_id_to_flaring_times_dict(harp_noaa_dict, flare_data):\n",
    "    '''This method returns a dictionary where the keys are HARP IDs and\n",
    "    the values are a list of peak times where the given active region flared.\n",
    "    Times are given in units of hours after the first time in the harp_id data.\n",
    "    If the active region corresponding to the HARP IDs did not flare, then\n",
    "    the list will be empty.\n",
    "    '''\n",
    "    noaa_id_flare_time_dict = {}\n",
    "    for flare in flare_data:\n",
    "        time = flare['peak_time']\n",
    "        noaa_id = int(flare['noaa_active_region'])\n",
    "        if noaa_id in noaa_id_flare_time_dict.keys():\n",
    "            noaa_id_flare_time_dict[noaa_id] += [time]\n",
    "        else:\n",
    "            noaa_id_flare_time_dict[noaa_id] = [time]\n",
    "    flare_time_dict = {}\n",
    "    for harp_id in harp_noaa_dict.keys():\n",
    "        keys = read_data(harp_id)\n",
    "        if len(keys.TRUE_TIME) == 0: continue\n",
    "        t_start = keys.TRUE_TIME[0]\n",
    "        flare_time_dict[int(harp_id)] = []\n",
    "        for noaa_id in harp_noaa_dict[harp_id]:\n",
    "            if int(noaa_id) not in noaa_id_flare_time_dict.keys(): continue\n",
    "            time_array = []\n",
    "            for time in noaa_id_flare_time_dict[int(noaa_id)]:\n",
    "                time_array.append(get_time_delta(t_start, parse_time_string(time)))\n",
    "            flare_time_dict[int(harp_id)] += time_array\n",
    "    return flare_time_dict"
   ]
  },
  {
   "cell_type": "code",
   "execution_count": 62,
   "metadata": {},
   "outputs": [],
   "source": [
    "def find_unlabeled_flares_above_minimum(flare_data, min_class='M5.0'):\n",
    "    '''While looking at the NOAA data, I noticed that the NOAA ID of some flares\n",
    "    were labeled as 0. This method finds and returns flare_data entries that have\n",
    "    an NOAA ID of 0, and have a GOES class above min_class. This is used to see\n",
    "    if any of the unlabeled flares interfere with the learning algorithm.\n",
    "    '''\n",
    "    unlabeled_flare_list = []\n",
    "    for flare in flare_data:\n",
    "        if flare['noaa_active_region'] == '0':\n",
    "            goes_class = flare['goes_class']\n",
    "            classes = ['c', 'm', 'x']\n",
    "            if (\n",
    "                classes.index(goes_class[0].lower()) > classes.index(min_class[0].lower()) or\n",
    "                (classes.index(goes_class[0].lower()) == classes.index(min_class[0].lower()) and\n",
    "                float(goes_class[1:]) > float(min_class[1:]))\n",
    "            ):\n",
    "                unlabeled_flare_list.append(flare)\n",
    "    return unlabeled_flare_list"
   ]
  },
  {
   "cell_type": "code",
   "execution_count": 63,
   "metadata": {},
   "outputs": [],
   "source": [
    "def count_flared_num(harp_ids, harp_noaa_dict, noaa_flare_set):\n",
    "    '''This method returns the number of active regions in the inputted\n",
    "    harp_ids that have flared.\n",
    "    '''\n",
    "    number_flared = 0\n",
    "    for harp_id in harp_ids:\n",
    "        if has_flared(harp_id, harp_noaa_dict, noaa_flare_set): number_flared += 1\n",
    "    return number_flared"
   ]
  },
  {
   "cell_type": "code",
   "execution_count": 64,
   "metadata": {},
   "outputs": [
    {
     "name": "stdout",
     "output_type": "stream",
     "text": [
      "Number of unlabeled flares ≥ M1.0: 27\n",
      "649 active regions flared out of 1335\n"
     ]
    }
   ],
   "source": [
    "noaa_flare_set = get_flared_noaa_id_set(flare_data)\n",
    "\n",
    "flare_time_dict = get_harp_id_to_flaring_times_dict(harp_noaa_dict, flare_data)\n",
    "\n",
    "min_class = 'M1.0'\n",
    "unlabeled_flare_list = find_unlabeled_flares_above_minimum(flare_data, min_class=min_class)\n",
    "print('Number of unlabeled flares ≥', min_class + ':', len(unlabeled_flare_list))\n",
    "\n",
    "number_flared = count_flared_num(harp_ids, harp_noaa_dict, noaa_flare_set)\n",
    "print(number_flared, 'active regions flared out of', len(harp_ids))"
   ]
  },
  {
   "cell_type": "markdown",
   "metadata": {},
   "source": [
    "## Visualizing Data\n",
    "\n",
    "We want to be able to graph the data in order to visually understand the differences between the flux vs. time graphs of flaring and non-flaring active regions."
   ]
  },
  {
   "cell_type": "code",
   "execution_count": 65,
   "metadata": {},
   "outputs": [],
   "source": [
    "def plot_graph(x, y, x_label, y_label, title, clr=None, \n",
    "               scatter=False, line=None, vertical_lines=None):\n",
    "    '''This method uses matplotlib to create a graph of x vs. y.\n",
    "    '''\n",
    "    # Style elements\n",
    "    text_style = dict(fontsize=12, fontdict={'family': 'monospace'})\n",
    "\n",
    "    # Add data\n",
    "    if scatter:\n",
    "        plt.scatter(x, y, color=clr)\n",
    "    else:\n",
    "        plt.plot(x, y, '.', color=clr, linestyle=line)\n",
    "    \n",
    "    if vertical_lines:\n",
    "        for x_val in vertical_lines:\n",
    "            plt.axvline(x=x_val, color=clr)\n",
    "    plt.axhline(y=0, color='black', linewidth=1)\n",
    "\n",
    "    # label the axes and the plot\n",
    "    ax = plt.gca()\n",
    "    ax.tick_params(labelsize=12)\n",
    "    ax.set_xlabel(x_label, **text_style)\n",
    "    ax.set_ylabel(y_label, **text_style)\n",
    "    ax.set_title(title, **text_style)"
   ]
  },
  {
   "cell_type": "code",
   "execution_count": 77,
   "metadata": {
    "scrolled": true
   },
   "outputs": [],
   "source": [
    "def plot_flux_time_graphs(harp_ids, color=None, flare_time_dict=None):\n",
    "    '''This method will graph all the flux vs. time data from the inputted\n",
    "    harp_ids on the same plot. This is useful for seeing how different flux\n",
    "    emergences look simultaneously. If flare_time_dict is specified,\n",
    "    this method will plot vertical lines at the times where the given harp_id\n",
    "    flares.\n",
    "    '''\n",
    "    for harp_id in harp_ids:\n",
    "        keys = read_data(harp_id)\n",
    "        us_flux_data = list(map(lambda x : float(x) / 1e22, keys.USFLUX))\n",
    "        time_data = list(keys.TIME)\n",
    "        start_time = time_data[0]\n",
    "        if flare_time_dict and flare_time_dict[harp_id]:\n",
    "            vertical_lines = flare_time_dict[harp_id]\n",
    "        else:\n",
    "            vertical_lines = None\n",
    "        plot_graph(time_data, us_flux_data, 'Hours Since Active Region Detected',\n",
    "                  'Unsigned Flux (Maxwells x 10^22)', 'Unsigned Flux vs. Time for Active Regions',\n",
    "                  clr=color, vertical_lines=vertical_lines)\n",
    "    plt.show()"
   ]
  },
  {
   "cell_type": "code",
   "execution_count": 78,
   "metadata": {},
   "outputs": [],
   "source": [
    "def plot_flux_time_derivative_graphs(harp_ids, color=None, flare_time_dict=None):\n",
    "    '''This method will graph all the slope of flux vs. time data from the inputted\n",
    "    harp_ids on the same plot. This is useful for seeing how different flux\n",
    "    emergences look simultaneously.\n",
    "    '''\n",
    "    for harp_id in harp_ids:\n",
    "        keys = query_data(harp_id)\n",
    "        us_flux_data = list(map(lambda x : float(x) / 1e22, keys.USFLUX))\n",
    "        us_flux_derivative_data = []\n",
    "        time_data = get_time_data(keys)\n",
    "        interval = 100 # Interval of data to take\n",
    "        new_time_data = []\n",
    "        for i, flux in enumerate(us_flux_data):\n",
    "            if i % interval != 0: continue\n",
    "            if i >= len(us_flux_data) - interval: break\n",
    "            flux_change = us_flux_data[i + interval] - flux\n",
    "            time_change = time_data[i + interval] - time_data[i]\n",
    "            new_time_data.append(time_data[i])\n",
    "            us_flux_derivative_data.append(flux_change / time_change)\n",
    "        start_time = parse_time_string(keys.T_REC[0])\n",
    "        if flare_time_dict and flare_time_dict[harp_id]:\n",
    "            vertical_lines = flare_time_dict[harp_id]\n",
    "        else:\n",
    "            vertical_lines = None\n",
    "        plot_graph(new_time_data, us_flux_derivative_data, \n",
    "                   'Hours Since Active Region Detected', 'Flux derivative (Maxwells x 10^22)',\n",
    "                   'Unsigned Flux Derivative vs. Time for Active Regions', clr=color, line='-',\n",
    "                   vertical_lines=vertical_lines)\n",
    "    plt.show()"
   ]
  },
  {
   "cell_type": "code",
   "execution_count": 79,
   "metadata": {
    "scrolled": false
   },
   "outputs": [],
   "source": [
    "def plot_random_graphs(harp_ids, harp_noaa_dict, noaa_flare_set, flare=True,\n",
    "                       n=10, color=None, derivative=False, flare_time_dict=None):\n",
    "    '''This method plots n random unsigned flux vs. time graphs. If flare=True,\n",
    "    it will plot graphs of active regions that have flared. Else, it will plot\n",
    "    graphs of active regions that have not flared.\n",
    "    '''\n",
    "    def plot(harp_id):\n",
    "        if derivative:\n",
    "            plot_flux_time_derivative_graphs([harp_id], color, flare_time_dict=flare_time_dict)\n",
    "        else:\n",
    "            plot_flux_time_graphs([harp_id], color, flare_time_dict=flare_time_dict)\n",
    "\n",
    "    c = drms.Client()\n",
    "    count = 0\n",
    "    ids = harp_ids.copy()\n",
    "    random.shuffle(ids)\n",
    "    for harp_id in ids:\n",
    "        if flare:\n",
    "            if has_flared(harp_id, harp_noaa_dict, noaa_flare_set):\n",
    "                count += 1\n",
    "                plot(harp_id)\n",
    "                if count >= n: break\n",
    "        else:\n",
    "            if not has_flared(harp_id, harp_noaa_dict, noaa_flare_set):\n",
    "                count += 1\n",
    "                plot(harp_id)\n",
    "                if count >= n: break"
   ]
  },
  {
   "cell_type": "code",
   "execution_count": 83,
   "metadata": {
    "scrolled": true
   },
   "outputs": [
    {
     "data": {
      "image/png": "[encoded data removed]",
      "text/plain": [
       "<Figure size 432x288 with 1 Axes>"
      ]
     },
     "metadata": {
      "needs_background": "light"
     },
     "output_type": "display_data"
    },
    {
     "data": {
      "image/png": "[encoded data removed]",
      "text/plain": [
       "<Figure size 432x288 with 1 Axes>"
      ]
     },
     "metadata": {
      "needs_background": "light"
     },
     "output_type": "display_data"
    }
   ],
   "source": [
    "# plot_flux_time_graphs(harp_ids[:5])\n",
    "# plot_flux_time_derivative_graphs(harp_ids[:5])\n",
    "\n",
    "num_graphs = 1\n",
    "plot_random_graphs(harp_ids, harp_noaa_dict, noaa_flare_set, n=num_graphs,\n",
    "                   color='b', derivative=False,\n",
    "                   flare_time_dict=flare_time_dict)\n",
    "plot_random_graphs(harp_ids, harp_noaa_dict, noaa_flare_set, False, n=num_graphs,\n",
    "                   color='r', derivative=False,\n",
    "                   flare_time_dict=flare_time_dict)"
   ]
  },
  {
   "cell_type": "markdown",
   "metadata": {},
   "source": [
    "## Learning\n",
    "\n",
    "This next section includes all the feature extraction and learning segments of the code."
   ]
  },
  {
   "cell_type": "code",
   "execution_count": 19,
   "metadata": {},
   "outputs": [],
   "source": [
    "def mean_flux(flux_data):\n",
    "    return np.mean(flux_data)"
   ]
  },
  {
   "cell_type": "code",
   "execution_count": 20,
   "metadata": {},
   "outputs": [],
   "source": [
    "def std_flux(flux_data):\n",
    "    return np.std(flux_data)"
   ]
  },
  {
   "cell_type": "code",
   "execution_count": 21,
   "metadata": {},
   "outputs": [],
   "source": [
    "def max_flux(flux_data):\n",
    "    return max(flux_data)"
   ]
  },
  {
   "cell_type": "code",
   "execution_count": 22,
   "metadata": {},
   "outputs": [],
   "source": [
    "def flux_range(flux_data):\n",
    "    return max(flux_data) - min(flux_data)"
   ]
  },
  {
   "cell_type": "code",
   "execution_count": 23,
   "metadata": {},
   "outputs": [],
   "source": [
    "def time_range(time_data):\n",
    "    return np.ptp(time_data)"
   ]
  },
  {
   "cell_type": "code",
   "execution_count": 24,
   "metadata": {},
   "outputs": [],
   "source": [
    "def slope_to_max(flux_data, time_data):\n",
    "    max_flux_value = (max_flux(flux_data))\n",
    "    i = flux_data.index(max_flux_value)\n",
    "    if time_data[i] == 0: # TODO: Investigate why/when this happens\n",
    "        return 0\n",
    "    return max_flux_value / time_data[i]"
   ]
  },
  {
   "cell_type": "code",
   "execution_count": 25,
   "metadata": {},
   "outputs": [],
   "source": [
    "def derivative_sum(flux_data, time_data, interval=1):\n",
    "    total_derivative = 0\n",
    "    for i, flux in enumerate(flux_data):\n",
    "        if i % interval != 0: continue\n",
    "        if i >= len(flux_data) - interval: break\n",
    "        flux_change = flux_data[i + interval] - flux\n",
    "        time_change = time_data[i + interval] - time_data[i]\n",
    "        total_derivative += abs(flux_change / time_change)\n",
    "    return total_derivative"
   ]
  },
  {
   "cell_type": "code",
   "execution_count": 26,
   "metadata": {},
   "outputs": [],
   "source": [
    "def extract_features(harp_id):\n",
    "    '''Given a harp_id, this method returns an array of features corresponding to the\n",
    "    active region corresponding to the harp_id.\n",
    "\n",
    "    Current features are:\n",
    "        Mean unsigned flux\n",
    "        Standard deviation of unsigned flux\n",
    "        Maximum flux\n",
    "        Time range (i.e. how long the active region existed)\n",
    "        Slope to the maximum flux (max flux / time)\n",
    "        The sum of the absolute values of the slopes for the data in the graph\n",
    "\n",
    "    NOTE: in order for this method to work, there must exist a csv file containing time and\n",
    "    unsigned flux in ./data/[harp_id].csv. This can be obtained using the create_csv method.\n",
    "    '''\n",
    "    # Get data from CSV\n",
    "    filename = './data/' + str(harp_id) + '.csv'\n",
    "    time_data = []\n",
    "    flux_data = []\n",
    "    with open(filename, 'r') as csv_file:\n",
    "        reader = csv.reader(csv_file, delimiter=',')\n",
    "        next(reader)  # Skip header\n",
    "        for row in reader:\n",
    "            time_data.append(float(row[0]))\n",
    "            flux_data.append(float(row[1])/1e21)\n",
    "\n",
    "    # Extract features\n",
    "    features = []\n",
    "    features.append(mean_flux(flux_data))\n",
    "    features.append(std_flux(flux_data))\n",
    "    features.append(max_flux(flux_data))\n",
    "    features.append(flux_range(flux_data))\n",
    "    features.append(time_range(time_data))\n",
    "    features.append(slope_to_max(flux_data, time_data))\n",
    "    features.append(derivative_sum(flux_data, time_data))\n",
    "    \n",
    "    return features"
   ]
  },
  {
   "cell_type": "code",
   "execution_count": 27,
   "metadata": {},
   "outputs": [
    {
     "name": "stdout",
     "output_type": "stream",
     "text": [
      "[5.765639281475541, 2.257557397315269, 11.55301, 9.05462, 256.2, 0.2555975663716814, 566.5431399999986]\n"
     ]
    }
   ],
   "source": [
    "print(extract_features(1))"
   ]
  },
  {
   "cell_type": "code",
   "execution_count": 28,
   "metadata": {},
   "outputs": [],
   "source": [
    "def create_binary_learning_dataset(harp_ids):\n",
    "    '''Given a harp_id, this method returns two arrays: x and y. The x array is an array of\n",
    "    feature arrays corresponding to each harp_id. y is an array of booleans indicating whether\n",
    "    each active region flared or not.\n",
    "    The output of this method can easily be applied to a machine learning algorithm.\n",
    "    '''\n",
    "    x, y = [], []\n",
    "    for harp_id in harp_ids:\n",
    "        x.append(extract_features(harp_id))\n",
    "        y.append(has_flared(harp_id, harp_noaa_dict, noaa_flare_set))\n",
    "    return x, y\n",
    "\n",
    "x, y = create_binary_learning_dataset(harp_ids)"
   ]
  },
  {
   "cell_type": "code",
   "execution_count": 29,
   "metadata": {},
   "outputs": [],
   "source": [
    "def scale_x_data(x):\n",
    "    '''Method to scale each feature in the inputted x data to a range of 0 to 1.\n",
    "    Returns the scaled data.\n",
    "    '''\n",
    "    scaler = MinMaxScaler()\n",
    "    return scaler.fit_transform(x)\n",
    "\n",
    "x = scale_x_data(x)"
   ]
  },
  {
   "cell_type": "code",
   "execution_count": 30,
   "metadata": {},
   "outputs": [
    {
     "data": {
      "image/png": "[encoded data removed]",
      "text/plain": [
       "<Figure size 432x288 with 1 Axes>"
      ]
     },
     "metadata": {
      "needs_background": "light"
     },
     "output_type": "display_data"
    },
    {
     "data": {
      "image/png": "[encoded data removed]",
      "text/plain": [
       "<Figure size 432x288 with 1 Axes>"
      ]
     },
     "metadata": {
      "needs_background": "light"
     },
     "output_type": "display_data"
    }
   ],
   "source": [
    "def graph_features(x, y, feature_name_list, max_num_graphs=float('inf')):\n",
    "    '''Given the feature data as x, this function will graph features versus each other.\n",
    "    Different outputs in y will be displayed in different colors. The function will graph\n",
    "    every combination of features, and print them.\n",
    "    '''\n",
    "    single_feature_vectors = [[] for _ in range(len(x[0]))]\n",
    "    colors = []\n",
    "    color_map = {True: 'r', False: 'b'}\n",
    "    for i, data_pt in enumerate(x):\n",
    "        colors.append(color_map[y[i]])\n",
    "        for j in range(len(data_pt)):\n",
    "            single_feature_vectors[j].append(data_pt[j])\n",
    "    count = 0\n",
    "    for i in range(len(x[0])):\n",
    "        for j in range(i + 1, len(x[0])):\n",
    "            count += 1\n",
    "            plot_graph(single_feature_vectors[i], single_feature_vectors[j],\n",
    "                       feature_name_list[i], feature_name_list[j],\n",
    "                       feature_name_list[i].title() + ' vs. ' + feature_name_list[j].title(),\n",
    "                       clr=colors, scatter=True)\n",
    "            plt.show()\n",
    "            if count >= max_num_graphs: break\n",
    "        if count >= max_num_graphs: break\n",
    "\n",
    "feature_name_list = ['mean flux', 'flux std', 'max flux', 'time range', 'slope to max']\n",
    "graph_features(x, y, feature_name_list, 2)"
   ]
  },
  {
   "cell_type": "markdown",
   "metadata": {},
   "source": [
    "## Different Classification Algorithms and Their Pros and Cons\n",
    "\n",
    "1. Suppport Vector Machines (SVMs)\n",
    "  * SVMs work by constructing hyper-planes in higher dimensional space. This can be used for classification by maximizing the distance between the hyper-plane and the training data of any class.\n",
    "  * This is a good choice because it is a versatile classification algorithm.\n",
    "2. Stochastic Gradient Descent\n",
    "  * Creates a linear classifier to minimize loss.\n",
    "  * Less versatile than SVMs (this should not be an issue for the binary classification, however).\n",
    "  * Scikitlearn has the following built-in loss functions: hinge loss, modified Huber, and logistic.\n",
    "3. Multi-layer Perceptron\n",
    "  * Can learn non-linear models.\n",
    "  * Doesn't necessarily find global optimum: different initial weights can alter validation accuracy.\n",
    "  * Needs tweaking of hyperparameters such as the number of hidden neurons, layers, and iterations to work well.\n",
    "4. AdaBoost (Boosting algorithm)\n",
    "  * Principle is to combine many weak learners to create one strong model.\n",
    "  * Each weak learner concentrates on the examples that are missed by the previous learners.\n",
    "5. Random Forest\n",
    "  * Each tree is built from a random sample of the total data (with replacement).\n",
    "  * This tends to reduce the overall bias."
   ]
  },
  {
   "cell_type": "code",
   "execution_count": 31,
   "metadata": {},
   "outputs": [],
   "source": [
    "def fit_algorithm(clf, x, y, n=1):\n",
    "    '''This method will fit the given classifier clf to the input x, y data\n",
    "    and will return the training and test accuracy of the model.\n",
    "    This method will randomize the train/test split n number of times and will\n",
    "    return the average train/test accuracy.'''\n",
    "    avg_train, avg_test = 0, 0\n",
    "    for _ in range(n):\n",
    "        x_train, x_test, y_train, y_test = train_test_split(x, y, test_size=0.25)\n",
    "        clf.fit(x_train, y_train)\n",
    "        avg_train += clf.score(x_train, y_train)\n",
    "        avg_test += clf.score(x_test, y_test)\n",
    "    return avg_train / n, avg_test / n"
   ]
  },
  {
   "cell_type": "code",
   "execution_count": 32,
   "metadata": {},
   "outputs": [],
   "source": [
    "def print_info(clf, x, y, algorithm_name, best_accuracy=0, best_algorithm=None):\n",
    "    '''This method streamlines the code required to fit the given clf to the \n",
    "    model, as well as print out important statistics. This method returns the new\n",
    "    best algorithm and best accuracy, based on the test accuracy.\n",
    "    '''\n",
    "    print(algorithm_name + ':')\n",
    "    train_accuracy, test_accuracy = fit_algorithm(clf, x, y, 50)\n",
    "    print('> Train accuracy:', train_accuracy)\n",
    "    print('> Test accuracy:', test_accuracy)\n",
    "    if test_accuracy > best_accuracy:\n",
    "        best_accuracy = test_accuracy\n",
    "        best_algorithm = algorithm_name\n",
    "    return best_algorithm, best_accuracy"
   ]
  },
  {
   "cell_type": "code",
   "execution_count": 33,
   "metadata": {
    "scrolled": true
   },
   "outputs": [
    {
     "name": "stdout",
     "output_type": "stream",
     "text": [
      "Support Vector Machine:\n",
      "> Train accuracy: 0.7870729270729271\n",
      "> Test accuracy: 0.79251497005988\n",
      "> [[2.57493491e-02 3.43423766e-02 4.20263752e-02 ... 6.88121155e-01\n",
      "  1.39505999e-02 5.92628831e-02]\n",
      " [3.59733685e-02 3.75560686e-02 4.45628661e-02 ... 5.91102698e-01\n",
      "  1.95659506e-02 4.76559550e-02]\n",
      " [2.66357765e-02 4.14982394e-02 4.06802368e-02 ... 6.61145291e-01\n",
      "  1.16014917e-02 4.67820459e-02]\n",
      " ...\n",
      " [3.08371730e-01 3.35904300e-01 3.45565189e-01 ... 8.02650260e-01\n",
      "  1.95602422e-02 8.84891712e-01]\n",
      " [2.07873226e-02 4.58517096e-02 4.37595881e-02 ... 6.54046380e-01\n",
      "  3.16872632e-03 4.74447741e-02]\n",
      " [4.47408010e-04 8.02812582e-04 4.67654315e-04 ... 0.00000000e+00\n",
      "  0.00000000e+00 1.81803493e-05]] \n",
      "\n",
      "Stochastic Gradient Descent:\n",
      "> Train accuracy: 0.7771228771228773\n",
      "> Test accuracy: 0.7740718562874248\n",
      "> [[8.34856367 6.07048899 6.63833735 6.6355077  0.56413038 0.91072371\n",
      "  4.40258717]] \n",
      "\n",
      "Multi-layer Perceptron:\n",
      "> Train accuracy: 0.7839960039960039\n",
      "> Test accuracy: 0.7834730538922153\n",
      "> 0.44460077738391046 \n",
      "\n",
      "AdaBoost:\n",
      "> Train accuracy: 0.807972027972028\n",
      "> Test accuracy: 0.7732335329341318\n",
      "> [0.24 0.2  0.08 0.04 0.2  0.04 0.2 ] \n",
      "\n",
      "Random Forest:\n",
      "> Train accuracy: 0.793126873126873\n",
      "> Test accuracy: 0.7825149700598805\n",
      "> [0.13601369 0.11091011 0.15318511 0.22744631 0.03754938 0.00358713\n",
      " 0.33130827] \n",
      "\n",
      "The best algorithm is Support Vector Machine with a test accuracy of 0.79251497005988\n"
     ]
    }
   ],
   "source": [
    "def run_learning_algorithms(x, y):\n",
    "    '''This method runs different machine learning (ML) algorithms and prints \n",
    "    statements indicated the accuracy, finally printing the best overall algorithm \n",
    "    in terms of test accuracy.\n",
    "    \n",
    "    Current ML algorithms:\n",
    "        Support Vector Machine\n",
    "        Stochastic Gradient Descent\n",
    "        Multi-layer Perceptron\n",
    "        AdaBoost\n",
    "        Random Forest\n",
    "    '''\n",
    "    best_accuracy = 0\n",
    "    best_algorithm = None\n",
    "\n",
    "    algorithm_name = 'Support Vector Machine'\n",
    "    clf = svm.SVC(gamma='scale')\n",
    "    best_algorithm, best_accuracy = print_info(clf, x, y, algorithm_name, best_accuracy, best_algorithm)\n",
    "    print('>', clf.support_vectors_, '\\n')\n",
    "\n",
    "    algorithm_name = 'Stochastic Gradient Descent'\n",
    "    clf = SGDClassifier(loss='hinge', penalty='l2')\n",
    "    best_algorithm, best_accuracy = print_info(clf, x, y, algorithm_name, best_accuracy, best_algorithm)\n",
    "    print('>', clf.coef_, '\\n')\n",
    "\n",
    "    algorithm_name = 'Multi-layer Perceptron'\n",
    "    clf = MLPClassifier(max_iter=500)\n",
    "    best_algorithm, best_accuracy = print_info(clf, x, y, algorithm_name, best_accuracy, best_algorithm)\n",
    "    print('>', clf.loss_, '\\n')\n",
    "\n",
    "    algorithm_name = 'AdaBoost'\n",
    "    clf = AdaBoostClassifier(n_estimators=25, random_state=0)\n",
    "    best_algorithm, best_accuracy = print_info(clf, x, y, algorithm_name, best_accuracy, best_algorithm)\n",
    "    print('>', clf.feature_importances_, '\\n')\n",
    "\n",
    "    algorithm_name = 'Random Forest'\n",
    "    clf = RandomForestClassifier(n_estimators=25, max_depth=2, random_state=0)\n",
    "    best_algorithm, best_accuracy = print_info(clf, x, y, algorithm_name, best_accuracy, best_algorithm)\n",
    "    print('>', clf.feature_importances_, '\\n')\n",
    "\n",
    "    print('The best algorithm is', best_algorithm, 'with a test accuracy of', best_accuracy)\n",
    "\n",
    "run_learning_algorithms(x, y)"
   ]
  },
  {
   "cell_type": "markdown",
   "metadata": {},
   "source": [
    "TODO:\n",
    "- ~~Try SVM~~\n",
    "- ~~Look up and *write out* pros and cons of different classification algorithms~~\n",
    "- Look more at the graphs and think about features\n",
    "  - ~~Make function that outputs random graphs that are either flares or not flares and see if we can find any visual differences~~\n",
    "  - Think about regression for graphs: do these graphs look like functions?\n",
    "- ~~Think about how the data can be serialized in different ways: I feel like std of different timelengths is a bad measurement; I should normalize this~~\n",
    "- Look up and read related research\n",
    "- ~~Ping rachel and see how her progress is going (THURSDAY)~~\n",
    "- ~~Write about each code block/set of code blocks~~\n",
    "- Read SUNPY documentation\n",
    "- ~~Make sure data is shuffled~~\n",
    "- Look at test cases that are failing"
   ]
  }
 ],
 "metadata": {
  "kernelspec": {
   "display_name": "Python 3",
   "language": "python",
   "name": "python3"
  },
  "language_info": {
   "codemirror_mode": {
    "name": "ipython",
    "version": 3
   },
   "file_extension": ".py",
   "mimetype": "text/x-python",
   "name": "python",
   "nbconvert_exporter": "python",
   "pygments_lexer": "ipython3",
   "version": "3.7.3"
  }
 },
 "nbformat": 4,
 "nbformat_minor": 2
}
