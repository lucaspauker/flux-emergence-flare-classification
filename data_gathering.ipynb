{
 "cells": [
  {
   "cell_type": "markdown",
   "metadata": {},
   "source": [
    "# Predicting Solar Flares with Flux Emergence Data\n",
    "\n",
    "In this notebook, we will download and extract features from flux emergence data taken from Helioseismic and Magnetic Imager (HMI) instrument on NASA's Solar Dynamics Observatory (SDO) satellite, and train a machine learning model to predict the likelihood of an active region flaring.\n",
    "\n",
    "TODO: CHANGE\n",
    "The metadata from the HMI instrument is stored in a database called the Data Record Management System, or DRMS. This data can be accessed using the `drms` module. We will begin by importing the data."
   ]
  },
  {
   "cell_type": "code",
   "execution_count": 244,
   "metadata": {},
   "outputs": [],
   "source": [
    "import drms\n",
    "import csv\n",
    "import json\n",
    "import requests\n",
    "import math\n",
    "import random\n",
    "import scipy\n",
    "import sunpy\n",
    "import sunpy.instr.goes\n",
    "import pandas as pd\n",
    "import numpy as np\n",
    "\n",
    "import matplotlib\n",
    "import matplotlib.pyplot as plt\n",
    "import matplotlib.dates as mdate\n",
    "\n",
    "from sklearn.preprocessing import MinMaxScaler\n",
    "from sklearn.model_selection import train_test_split\n",
    "from sklearn.ensemble import AdaBoostClassifier\n",
    "from sklearn.ensemble import RandomForestClassifier\n",
    "from sklearn.svm import SVC\n",
    "from sklearn.linear_model import SGDClassifier\n",
    "from sklearn.neural_network import MLPClassifier\n",
    "\n",
    "from datetime import datetime\n",
    "from scipy.stats.kde import gaussian_kde\n",
    "\n",
    "import movie"
   ]
  },
  {
   "cell_type": "markdown",
   "metadata": {},
   "source": [
    "## Downloading Data\n",
    "\n",
    "JSOC (Joint Science Operations Center) keeps an up-to-date catalog of all the active regions observed on the sun. This can be found here: `http://jsoc.stanford.edu/doc/data/hmi/harpnum_to_noaa/all_harps_with_noaa_ars.txt`. The code block below takes a file `./data/all_harps_with_noaa_ars.txt` (which is a downloaded version of the aforementioned link) and extracts the harp_ids, as well as a dictionary of harp_ids corresponding to noaa_ids.\n",
    "\n",
    "To download the newest version of the file, one could use a tool such as `wget`: `wget http://jsoc.stanford.edu/doc/data/hmi/harpnum_to_noaa/all_harps_with_noaa_ars.txt`"
   ]
  },
  {
   "cell_type": "code",
   "execution_count": 2,
   "metadata": {
    "scrolled": false
   },
   "outputs": [],
   "source": [
    "def get_harp_ids_and_harp_noaa_dict():\n",
    "    '''This method requires there to be a file ./data/all_harps_with_noaa_ars.txt with\n",
    "    two columns: HARP IDs and NOAA IDs. This method returns a list of HARP IDs and a\n",
    "    dictionary of HARP IDs corresponding to a list of NOAA IDs.\n",
    "    '''\n",
    "    harp_ids = []\n",
    "    harp_noaa_dict = {}\n",
    "    with open('./data/all_harps_with_noaa_ars.txt') as f:\n",
    "        content = f.readlines()[1:] # Disregard the header line\n",
    "        for line in content:\n",
    "            harp_id = line.split()[0]\n",
    "            noaa_ids = line.split()[1].split(',')\n",
    "            harp_ids.append(int(harp_id))\n",
    "            harp_noaa_dict[int(harp_id)] = noaa_ids\n",
    "    return harp_ids, harp_noaa_dict"
   ]
  },
  {
   "cell_type": "code",
   "execution_count": 3,
   "metadata": {},
   "outputs": [],
   "source": [
    "def query_data(harp_id):\n",
    "    '''This method grabs data from the JSOC database. It currently gets two\n",
    "    variables: time and unsigned flux. This method also makes sure the data received\n",
    "    is high-quality and accurate.\n",
    "    '''\n",
    "    url_base = 'http://jsoc.stanford.edu/cgi-bin/ajax/jsoc_info?ds=hmi.sharp_cea_720s'\n",
    "    harp_id_string = '[' + str(harp_id) + ']'\n",
    "    param_string = '[? (abs(OBS_VR)< 3500) and (QUALITY<65536) ?]'\n",
    "    keys_string = '&op=rs_list&key=T_REC,USFLUX,CRVAL1,CRLN_OBS'\n",
    "    url = url_base + harp_id_string + param_string + keys_string\n",
    "    r = requests.get(url)\n",
    "    assert r.status_code == 200\n",
    "    data = json.loads(r.text)\n",
    "    keys = pd.DataFrame()\n",
    "    for keyword_data in data['keywords']:\n",
    "        keyword = keyword_data['name']\n",
    "        vals = keyword_data['values']\n",
    "        keys[keyword] = vals\n",
    "    return keys"
   ]
  },
  {
   "cell_type": "code",
   "execution_count": 4,
   "metadata": {},
   "outputs": [],
   "source": [
    "def parse_time_string(t_str):\n",
    "    year   = int(t_str[:4])\n",
    "    month  = int(t_str[5:7])\n",
    "    day    = int(t_str[8:10])\n",
    "    hour   = int(t_str[11:13])\n",
    "    minute = int(t_str[14:16])\n",
    "    return datetime(year, month, day, hour, minute)"
   ]
  },
  {
   "cell_type": "code",
   "execution_count": 5,
   "metadata": {},
   "outputs": [],
   "source": [
    "def convert_datetime_to_tai(t_obj):\n",
    "    return str(t_obj.year) + '.' + str(t_obj.month) + '.' + str(t_obj.day) + '_' \\\n",
    "            + str(t_obj.hour) + ':' + str(t_obj.minute) + '_TAI'"
   ]
  },
  {
   "cell_type": "code",
   "execution_count": 6,
   "metadata": {},
   "outputs": [],
   "source": [
    "def get_time_delta(start_time, end_time):\n",
    "    '''Returns time difference between two given datetime objects in hours.\n",
    "    '''\n",
    "    return (end_time - start_time).total_seconds() / (60 * 60) # Convert to hours"
   ]
  },
  {
   "cell_type": "code",
   "execution_count": 7,
   "metadata": {},
   "outputs": [],
   "source": [
    "def get_time_data(keys):\n",
    "    start_time = parse_time_string(keys.T_REC[0])\n",
    "    time_data = []\n",
    "    for i in range(keys.T_REC.size):\n",
    "        time = parse_time_string(keys.T_REC[i])\n",
    "        time_data.append(get_time_delta(start_time, time))\n",
    "    return time_data"
   ]
  },
  {
   "cell_type": "code",
   "execution_count": 8,
   "metadata": {},
   "outputs": [],
   "source": [
    "def create_csv(keys, time_data, harp_id):\n",
    "    '''Creates a csv file in ./data/[harp_id].csv with two columns: time and \n",
    "    unsigned_flux. This method will not write any data that occurs outside the\n",
    "    range of +/- 70 degrees longitude from the meridian.\n",
    "    '''\n",
    "    data_dir = './data/'\n",
    "    filename = data_dir + str(harp_id) + '.csv'\n",
    "    with open(filename, 'w') as csv_file:\n",
    "        writer = csv.writer(csv_file, delimiter=',', quoting=csv.QUOTE_MINIMAL)\n",
    "        writer.writerow(['true_time', 'time', 'unsigned_flux'])\n",
    "        for i in range(len(keys.USFLUX)):\n",
    "            if abs(float(keys.CRVAL1[i]) - float(keys.CRLN_OBS[i])) < 70.0:\n",
    "                writer.writerow([keys.T_REC[i], time_data[i], keys.USFLUX[i]])"
   ]
  },
  {
   "cell_type": "code",
   "execution_count": 9,
   "metadata": {},
   "outputs": [],
   "source": [
    "def create_all_csvs(harp_ids):\n",
    "    '''This method creates a csv file with time and unsigned flux for\n",
    "    all the HARP IDs in the inputted harp_ids.\n",
    "    '''\n",
    "    count = 0\n",
    "    for harp_id in harp_ids:\n",
    "        count += 1\n",
    "        print(count, harp_id)\n",
    "        if count % 100 == 0: print(count)\n",
    "        keys = query_data(harp_id)\n",
    "        time_data = get_time_data(keys)\n",
    "        create_csv(keys, time_data, harp_id)"
   ]
  },
  {
   "cell_type": "code",
   "execution_count": 10,
   "metadata": {},
   "outputs": [],
   "source": [
    "def read_data(harp_id):\n",
    "    '''This method reads the data from ./data/[harp_id].csv, and returns a pandas\n",
    "    DataFrame with two columns: time since the beginning of the active region data,\n",
    "    and unsigned flux.\n",
    "    '''\n",
    "    filename = './data/' + str(harp_id) + '.csv'\n",
    "    key_dict = {'TRUE_TIME': [], 'TIME': [], 'USFLUX': []}\n",
    "    with open(filename, 'r') as csv_file:\n",
    "        reader = csv.reader(csv_file, delimiter=',')\n",
    "        next(reader)  # Skip header\n",
    "        for row in reader:\n",
    "            key_dict['TRUE_TIME'].append(parse_time_string(row[0]))\n",
    "            key_dict['TIME'].append(float(row[1]))\n",
    "            key_dict['USFLUX'].append(float(row[2]))\n",
    "    keys = pd.DataFrame(key_dict)\n",
    "    return keys"
   ]
  },
  {
   "cell_type": "code",
   "execution_count": 11,
   "metadata": {},
   "outputs": [],
   "source": [
    "def get_flare_data_from_database(t_start, t_end, min_event):\n",
    "    '''This helper method simply grabs data from the GOES database. It returns\n",
    "    the metadata associated with each flaring active region greater in event\n",
    "    size than min_event and between time t_start and t_end.\n",
    "    '''\n",
    "    time_range = sunpy.time.TimeRange(t_start, t_end)\n",
    "    results = sunpy.instr.goes.get_goes_event_list(time_range, min_event)\n",
    "    return results"
   ]
  },
  {
   "cell_type": "code",
   "execution_count": 12,
   "metadata": {},
   "outputs": [],
   "source": [
    "def get_flare_data(harp_ids, min_event):\n",
    "    '''This method accesses the GOES database to get the flare data for each\n",
    "    HARP ID in the inputted harp_ids.\n",
    "    '''\n",
    "    first_keys = query_data(harp_ids[0])\n",
    "    t_start = first_keys.T_REC[0]\n",
    "    last_keys = query_data(harp_ids[-1])\n",
    "    t_end = last_keys.T_REC[len(last_keys.T_REC) - 1]\n",
    "    print('Time range:', t_start, 'to', t_end)\n",
    "\n",
    "    return get_flare_data_from_database(t_start, t_end, min_event)"
   ]
  },
  {
   "cell_type": "code",
   "execution_count": 13,
   "metadata": {},
   "outputs": [],
   "source": [
    "def write_noaa_data_to_csv(flare_data):\n",
    "    with open('./data/noaa_data.csv', 'w') as csv_file:\n",
    "        field_names = flare_data[0].keys()\n",
    "        writer = csv.DictWriter(csv_file, fieldnames=field_names)\n",
    "        writer.writeheader()\n",
    "        for flare in flare_data:\n",
    "            writer.writerow(flare)"
   ]
  },
  {
   "cell_type": "code",
   "execution_count": 14,
   "metadata": {},
   "outputs": [],
   "source": [
    "def get_noaa_data_from_csv():\n",
    "    noaa_flare_set = []\n",
    "    with open('./data/noaa_data.csv', 'r') as csv_file:\n",
    "        reader = csv.DictReader(csv_file)\n",
    "        for row in reader:\n",
    "            noaa_flare_set.append(dict(row))\n",
    "    return noaa_flare_set"
   ]
  },
  {
   "cell_type": "code",
   "execution_count": 29,
   "metadata": {},
   "outputs": [
    {
     "name": "stdout",
     "output_type": "stream",
     "text": [
      "Time range: 2010.05.01_00:12:00_TAI to 2019.05.19_07:12:00_TAI\n",
      "Number of active regions: 1335\n",
      "Number of flares: 45\n",
      "Time range: 2010.05.01_00:12:00_TAI to 2019.05.19_07:12:00_TAI\n",
      "Number of X flares: 45\n"
     ]
    }
   ],
   "source": [
    "# Set recreate_data to True if you want to redownload all the data (takes 30+ minutes)\n",
    "recreate_data = True\n",
    "\n",
    "harp_ids, harp_noaa_dict = get_harp_ids_and_harp_noaa_dict()\n",
    "\n",
    "if recreate_data:\n",
    "    #create_all_csvs(harp_ids[310:])\n",
    "    flare_data = get_flare_data(harp_ids, 'X1.0')\n",
    "    #write_noaa_data_to_csv(flare_data)\n",
    "else:\n",
    "    flare_data = get_noaa_data_from_csv()\n",
    "\n",
    "print('Number of active regions:', len(harp_ids))\n",
    "print('Number of flares:', len(flare_data))\n",
    "\n",
    "x_flare_data = get_flare_data(harp_ids, 'X1.0')\n",
    "print('Number of X flares:', len(x_flare_data))"
   ]
  },
  {
   "cell_type": "markdown",
   "metadata": {},
   "source": [
    "## Data Processing\n",
    "\n",
    "Our raw data, obtained in the \"Downloading Data\" section, consists of three data structures: a list of the HARP IDs `harp_ids`, a dictionary relating the HARP IDs to the NOAA IDs `harp_noaa_dict`, and the flare data downloaded from GOES `flare_data`.\n",
    "\n",
    "In the next blocks of code, we will process the data in various ways to extract information and relate the raw data described above."
   ]
  },
  {
   "cell_type": "code",
   "execution_count": 30,
   "metadata": {
    "scrolled": true
   },
   "outputs": [],
   "source": [
    "def get_flared_noaa_id_set(flare_data):\n",
    "    '''This method returns a list of all the NOAA IDs that have\n",
    "    flared, based on the data passed in from flare_data.\n",
    "    '''\n",
    "    noaa_flare_set = set()\n",
    "    for flare in flare_data:\n",
    "        noaa_flare_set.add(int(flare['noaa_active_region']))\n",
    "    return noaa_flare_set"
   ]
  },
  {
   "cell_type": "code",
   "execution_count": 31,
   "metadata": {},
   "outputs": [],
   "source": [
    "def has_flared(harp_id, harp_noaa_dict, noaa_flare_set):\n",
    "    '''Returns a boolean corresponding to whether the given active\n",
    "    region corresponding to the harp_id flared or not.\n",
    "    '''\n",
    "    for noaa_id in harp_noaa_dict[harp_id]:\n",
    "        if int(noaa_id) in noaa_flare_set:\n",
    "            return True\n",
    "    return False"
   ]
  },
  {
   "cell_type": "code",
   "execution_count": 32,
   "metadata": {},
   "outputs": [],
   "source": [
    "def get_harp_id_to_flaring_times_dict(harp_noaa_dict, flare_data):\n",
    "    '''This method returns a dictionary where the keys are HARP IDs and\n",
    "    the values are a list of peak times where the given active region flared.\n",
    "    Times are given in units of hours after the first time in the harp_id data.\n",
    "    If the active region corresponding to the HARP IDs did not flare, then\n",
    "    the list will be empty.\n",
    "    '''\n",
    "    noaa_id_flare_time_dict = {}\n",
    "    for flare in flare_data:\n",
    "        time = flare['peak_time']\n",
    "        noaa_id = int(flare['noaa_active_region'])\n",
    "        if noaa_id in noaa_id_flare_time_dict.keys():\n",
    "            noaa_id_flare_time_dict[noaa_id] += [time]\n",
    "        else:\n",
    "            noaa_id_flare_time_dict[noaa_id] = [time]\n",
    "    flare_time_dict = {}\n",
    "    for harp_id in harp_noaa_dict.keys():\n",
    "        keys = read_data(harp_id)\n",
    "        flare_time_dict[int(harp_id)] = []\n",
    "        if len(keys.TRUE_TIME) == 0: continue\n",
    "        datetime_start = keys.TRUE_TIME[0]\n",
    "        hour_start = keys.TIME[0]\n",
    "        for noaa_id in harp_noaa_dict[harp_id]:\n",
    "            if int(noaa_id) not in noaa_id_flare_time_dict.keys(): continue\n",
    "            time_array = []\n",
    "            for time in noaa_id_flare_time_dict[int(noaa_id)]:\n",
    "                time_array.append(hour_start + get_time_delta(datetime_start, parse_time_string(str(time))))\n",
    "            flare_time_dict[int(harp_id)] += time_array\n",
    "    return flare_time_dict"
   ]
  },
  {
   "cell_type": "code",
   "execution_count": 33,
   "metadata": {},
   "outputs": [],
   "source": [
    "def find_unlabeled_flares_above_minimum(flare_data, min_class='M5.0'):\n",
    "    '''While looking at the NOAA data, I noticed that the NOAA ID of some flares\n",
    "    were labeled as 0. This method finds and returns flare_data entries that have\n",
    "    an NOAA ID of 0, and have a GOES class above min_class. This is used to see\n",
    "    if any of the unlabeled flares interfere with the learning algorithm.\n",
    "    '''\n",
    "    unlabeled_flare_list = []\n",
    "    for flare in flare_data:\n",
    "        if flare['noaa_active_region'] == '0':\n",
    "            goes_class = flare['goes_class']\n",
    "            classes = ['c', 'm', 'x']\n",
    "            if (\n",
    "                classes.index(goes_class[0].lower()) > classes.index(min_class[0].lower()) or\n",
    "                (classes.index(goes_class[0].lower()) == classes.index(min_class[0].lower()) and\n",
    "                float(goes_class[1:]) > float(min_class[1:]))\n",
    "            ):\n",
    "                unlabeled_flare_list.append(flare)\n",
    "    return unlabeled_flare_list"
   ]
  },
  {
   "cell_type": "code",
   "execution_count": 34,
   "metadata": {},
   "outputs": [],
   "source": [
    "def count_flared_num(harp_ids, harp_noaa_dict, noaa_flare_set):\n",
    "    '''This method returns the number of active regions in the inputted\n",
    "    harp_ids that have flared.\n",
    "    '''\n",
    "    number_flared = 0\n",
    "    for harp_id in harp_ids:\n",
    "        if has_flared(harp_id, harp_noaa_dict, noaa_flare_set): number_flared += 1\n",
    "    return number_flared"
   ]
  },
  {
   "cell_type": "code",
   "execution_count": 63,
   "metadata": {},
   "outputs": [],
   "source": [
    "def get_segmented_data(harp_ids, flare_time_dict, n=None, return_harp_ids=False):\n",
    "    '''This method returns two arrays: x and y. The x array includes time series\n",
    "    data, while y represents whether the corresponding active region in x flared.\n",
    "    \n",
    "    The x and y arrays are built according to the following rule:\n",
    "        - If a flare occurs within 24 hours after sample time t, it is considered\n",
    "        to belong to the positive case (i.e. the corresponding y entry will be True).\n",
    "        - If no flare occurs within 24 hours, it is considered to belong to the\n",
    "        negative case.\n",
    "    \n",
    "    The x array is an array of arrays, where each array represents a 24-hour set of\n",
    "    data corresponding to an active region. Each of these 24-hour arrays are arrays of\n",
    "    tuples representing the (time, flux) at each recorded interval within the 24 hours.\n",
    "    \n",
    "    The n parameter refers to how many negative data points. If n is set to None (default),\n",
    "    then the number of negative data points = the number of positive data points.\n",
    "    '''\n",
    "    num_no_flare = 0\n",
    "    num_flares = 0\n",
    "    for harp_id in harp_ids:\n",
    "        data = flare_time_dict[harp_id]\n",
    "        if not data: num_no_flare += 1\n",
    "        num_flares += len(data)\n",
    "    if n:\n",
    "        num_samples_per_datapoint = math.ceil(n / num_no_flare)\n",
    "    else:\n",
    "        n = num_flares\n",
    "        num_samples_per_datapoint = math.ceil(num_flares / num_no_flare)\n",
    "    \n",
    "    x = []\n",
    "    y = []\n",
    "    harp_list = []\n",
    "    num_negative = 0\n",
    "    for harp_id in harp_ids:\n",
    "        keys = read_data(harp_id)\n",
    "        flare_data = flare_time_dict[harp_id]\n",
    "        if flare_data:\n",
    "            for flare_time in flare_data:\n",
    "                # Throw out flare data with less than 24 hours of preceding data\n",
    "                if flare_time - keys.TIME[0] > 24 and flare_time < keys.TIME.iloc[-1]:\n",
    "                    data = []\n",
    "                    for i, time in enumerate(keys.TIME):\n",
    "                        if time <= flare_time and time >= flare_time - 24:\n",
    "                            data.append((time, keys.USFLUX[i]))\n",
    "                    if not data or data[-1][0] - data[0][0] < 23:\n",
    "                        # Insufficient data\n",
    "                        continue\n",
    "                    x.append(data)\n",
    "                    harp_list.append(harp_id)\n",
    "                    y.append(True) # True => flare is present\n",
    "        else:\n",
    "            if len(keys.TIME) <= 0 or keys.TIME.iloc[-1] - keys.TIME[0] < 24 or \\\n",
    "                (n and num_negative >= n): continue\n",
    "            for _ in range(num_samples_per_datapoint):\n",
    "                end = keys.TIME[0]\n",
    "                while end - keys.TIME[0] < 24:\n",
    "                    end = keys.TIME[random.randrange(len(keys.TIME))]\n",
    "                data = []\n",
    "                for i, time in enumerate(keys.TIME):\n",
    "                    if time <= end and time >= end - 24:\n",
    "                        data.append((time, keys.USFLUX[i]))\n",
    "                if not data or data[-1][0] - data[0][0] < 23:\n",
    "                    # Insufficient data\n",
    "                    continue\n",
    "                x.append(data)\n",
    "                harp_list.append(harp_id)\n",
    "                y.append(False) # False => flare is not present\n",
    "                num_negative += 1\n",
    "    if return_harp_ids:\n",
    "        return x, y, harp_list\n",
    "    else:\n",
    "        return x, y"
   ]
  },
  {
   "cell_type": "code",
   "execution_count": 36,
   "metadata": {},
   "outputs": [],
   "source": [
    "def get_decreasing_x_class_flares(x_flares_seg_x, x_flares_harp_list):\n",
    "    '''This method returns a dictionary of all the X class flaring regions that decrease\n",
    "    in flux over their lifespan. The dictionary keys are the HARP IDs of the X class flares\n",
    "    and the values are tuples of the (start_time, end_time) of the active region data.\n",
    "    '''\n",
    "    decreasing_dict = {}\n",
    "    for i, x_flare_data in enumerate(x_flares_seg_x):\n",
    "        if x_flare_data[0][1] - x_flare_data[-1][1] > 0:\n",
    "            harp_id = x_flares_harp_list[i]\n",
    "            data = read_data(harp_id)\n",
    "            start_row = data.loc[data['TIME'] == x_flare_data[0][0]]\n",
    "            start_time = convert_datetime_to_tai(start_row.iloc[0]['TRUE_TIME'])\n",
    "            end_row = data.loc[data['TIME'] == x_flare_data[-1][0]]\n",
    "            end_time = convert_datetime_to_tai(end_row.iloc[0]['TRUE_TIME'])\n",
    "            decreasing_dict[harp_id] = (start_time, end_time)\n",
    "        #print(x_flare_data)\n",
    "        #print(read_data(harp_id))\n",
    "    return decreasing_dict"
   ]
  },
  {
   "cell_type": "code",
   "execution_count": 38,
   "metadata": {},
   "outputs": [
    {
     "name": "stdout",
     "output_type": "stream",
     "text": [
      "25 active regions flared out of 1335\n"
     ]
    }
   ],
   "source": [
    "noaa_flare_set = get_flared_noaa_id_set(flare_data)\n",
    "\n",
    "flare_time_dict = get_harp_id_to_flaring_times_dict(harp_noaa_dict, flare_data)\n",
    "x_flare_time_dict = get_harp_id_to_flaring_times_dict(harp_noaa_dict, x_flare_data)\n",
    "\n",
    "#min_class = 'M1.0'\n",
    "#unlabeled_flare_list = find_unlabeled_flares_above_minimum(flare_data, min_class=min_class)\n",
    "#print('Number of unlabeled flares ≥', min_class + ':', len(unlabeled_flare_list))\n",
    "\n",
    "number_flared = count_flared_num(harp_ids, harp_noaa_dict, noaa_flare_set)\n",
    "print(number_flared, 'active regions flared out of', len(harp_ids))"
   ]
  },
  {
   "cell_type": "code",
   "execution_count": 65,
   "metadata": {
    "scrolled": false
   },
   "outputs": [
    {
     "name": "stdout",
     "output_type": "stream",
     "text": [
      "# Positive: 23 --- # Negative: 25\n"
     ]
    }
   ],
   "source": [
    "seg_x, seg_y = get_segmented_data(harp_ids, flare_time_dict, n=25)\n",
    "positive_count, negative_count = 0, 0\n",
    "for has_flare in seg_y:\n",
    "    if has_flare: positive_count += 1\n",
    "    else: negative_count += 1\n",
    "print('# Positive:', positive_count, '--- # Negative:', negative_count)"
   ]
  },
  {
   "cell_type": "code",
   "execution_count": 25,
   "metadata": {},
   "outputs": [
    {
     "name": "stdout",
     "output_type": "stream",
     "text": [
      "23\n"
     ]
    }
   ],
   "source": [
    "x_flares_seg_x, x_flares_seg_y, x_flares_harp_list = get_segmented_data(harp_ids, x_flare_time_dict,\n",
    "                                                                        n=0, return_harp_ids=True)\n",
    "print(len(x_flares_seg_x))"
   ]
  },
  {
   "cell_type": "code",
   "execution_count": 28,
   "metadata": {},
   "outputs": [],
   "source": [
    "# decreasing_x_class_flares = get_decreasing_x_class_flares(x_flares_seg_x, x_flares_harp_list)\n",
    "# print(len(decreasing_x_class_flares))\n",
    "\n",
    "# for key in decreasing_x_class_flares:\n",
    "#     data = decreasing_x_class_flares[key]\n",
    "#     movie.save_animation(key, data[0], data[1], time_interval='1h')"
   ]
  },
  {
   "cell_type": "markdown",
   "metadata": {},
   "source": [
    "## Visualizing Data\n",
    "\n",
    "We want to be able to graph the data in order to visually understand the differences between the flux vs. time graphs of flaring and non-flaring active regions."
   ]
  },
  {
   "cell_type": "code",
   "execution_count": 72,
   "metadata": {},
   "outputs": [],
   "source": [
    "def plot_graph(x, y, x_label, y_label, title, clr=None, scatter=False,\n",
    "               line=None, vertical_lines=None, formula=None):\n",
    "    '''This method uses matplotlib to create a graph of x vs. y.\n",
    "    '''\n",
    "    # Style elements\n",
    "    text_style = dict(fontsize=12, fontdict={'family': 'monospace'})\n",
    "\n",
    "    # Add data\n",
    "    if scatter:\n",
    "        plt.scatter(x, y, color=clr)\n",
    "    else:\n",
    "        plt.plot(x, y, '.', color=clr, linestyle=line)\n",
    "    \n",
    "    if vertical_lines:\n",
    "        for x_val in vertical_lines:\n",
    "            plt.axvline(x=x_val, color=clr)\n",
    "    plt.axhline(y=0, color='black', linewidth=1)\n",
    "    \n",
    "    if formula:\n",
    "        x_vals = np.array(x)\n",
    "        y_vals = formula(x_vals)\n",
    "        plt.plot(x, y_vals, color=clr)\n",
    "\n",
    "    # label the axes and the plot\n",
    "    ax = plt.gca()\n",
    "    ax.tick_params(labelsize=12)\n",
    "    ax.set_xlabel(x_label, **text_style)\n",
    "    ax.set_ylabel(y_label, **text_style)\n",
    "    ax.set_title(title, **text_style)"
   ]
  },
  {
   "cell_type": "code",
   "execution_count": 73,
   "metadata": {
    "scrolled": true
   },
   "outputs": [],
   "source": [
    "def plot_flux_time_graphs(harp_ids, color=None, flare_time_dict=None):\n",
    "    '''This method will graph all the flux vs. time data from the inputted\n",
    "    harp_ids on the same plot. This is useful for seeing how different flux\n",
    "    emergences look simultaneously. If flare_time_dict is specified,\n",
    "    this method will plot vertical lines at the times where the given harp_id\n",
    "    flares.\n",
    "    '''\n",
    "    for harp_id in harp_ids:\n",
    "        keys = read_data(harp_id)\n",
    "        us_flux_data = list(map(lambda x : float(x) / 1e22, keys.USFLUX))\n",
    "        time_data = list(keys.TIME)\n",
    "        start_time = time_data[0]\n",
    "        if flare_time_dict and flare_time_dict[harp_id]:\n",
    "            vertical_lines = flare_time_dict[harp_id]\n",
    "        else:\n",
    "            vertical_lines = None\n",
    "        plot_graph(time_data, us_flux_data, 'Hours Since Active Region Detected',\n",
    "                  'Unsigned Flux (Maxwells x 10^22)', 'Unsigned Flux vs. Time for Active Regions',\n",
    "                  clr=color, vertical_lines=vertical_lines)\n",
    "    plt.show()"
   ]
  },
  {
   "cell_type": "code",
   "execution_count": 74,
   "metadata": {},
   "outputs": [],
   "source": [
    "def plot_flux_time_derivative_graphs(harp_ids, color=None, flare_time_dict=None):\n",
    "    '''This method will graph all the slope of flux vs. time data from the inputted\n",
    "    harp_ids on the same plot. This is useful for seeing how different flux\n",
    "    emergences look simultaneously.\n",
    "    '''\n",
    "    for harp_id in harp_ids:\n",
    "        keys = read_data(harp_id)\n",
    "        us_flux_data = list(map(lambda x : float(x) / 1e22, keys.USFLUX))\n",
    "        us_flux_derivative_data = []\n",
    "        time_data = keys.TIME\n",
    "        interval = 100 # Interval of data to take\n",
    "        new_time_data = []\n",
    "        for i, flux in enumerate(us_flux_data):\n",
    "            if i % interval != 0: continue\n",
    "            if i >= len(us_flux_data) - interval: break\n",
    "            flux_change = us_flux_data[i + interval] - flux\n",
    "            time_change = time_data[i + interval] - time_data[i]\n",
    "            new_time_data.append(time_data[i])\n",
    "            us_flux_derivative_data.append(flux_change / time_change)\n",
    "        if flare_time_dict and flare_time_dict[harp_id]:\n",
    "            vertical_lines = flare_time_dict[harp_id]\n",
    "        else:\n",
    "            vertical_lines = None\n",
    "        plot_graph(new_time_data, us_flux_derivative_data, \n",
    "                   'Hours Since Active Region Detected', 'Flux derivative (Maxwells x 10^22)',\n",
    "                   'Unsigned Flux Derivative vs. Time for Active Regions', clr=color, line='-',\n",
    "                   vertical_lines=vertical_lines)\n",
    "    plt.show()"
   ]
  },
  {
   "cell_type": "code",
   "execution_count": 75,
   "metadata": {
    "scrolled": false
   },
   "outputs": [],
   "source": [
    "def plot_random_graphs(harp_ids, harp_noaa_dict, noaa_flare_set, flare=True,\n",
    "                       n=10, color=None, derivative=False, flare_time_dict=None):\n",
    "    '''This method plots n random unsigned flux vs. time graphs. If flare=True,\n",
    "    it will plot graphs of active regions that have flared. Else, it will plot\n",
    "    graphs of active regions that have not flared.\n",
    "    '''\n",
    "    def plot(harp_id):\n",
    "        if derivative:\n",
    "            plot_flux_time_derivative_graphs([harp_id], color, flare_time_dict=flare_time_dict)\n",
    "        else:\n",
    "            plot_flux_time_graphs([harp_id], color, flare_time_dict=flare_time_dict)\n",
    "\n",
    "    c = drms.Client()\n",
    "    count = 0\n",
    "    ids = harp_ids.copy()\n",
    "    random.shuffle(ids)\n",
    "    for harp_id in ids:\n",
    "        if flare:\n",
    "            if has_flared(harp_id, harp_noaa_dict, noaa_flare_set):\n",
    "                count += 1\n",
    "                plot(harp_id)\n",
    "                if count >= n: break\n",
    "        else:\n",
    "            if not has_flared(harp_id, harp_noaa_dict, noaa_flare_set):\n",
    "                count += 1\n",
    "                plot(harp_id)\n",
    "                if count >= n: break"
   ]
  },
  {
   "cell_type": "code",
   "execution_count": 281,
   "metadata": {},
   "outputs": [],
   "source": [
    "def plot_segmented_graphs(seg_x, seg_y, flare=True, n=5, color=None):\n",
    "    '''This method plots n random graphs that correspond to flaring active \n",
    "    regions if flare is True, and non-flaring active regions if flare is False.\n",
    "    '''\n",
    "    for _ in range(n):\n",
    "        i = random.randrange(len(seg_y))\n",
    "        while seg_y[i] != flare:\n",
    "            i = random.randrange(len(seg_y))\n",
    "        data = seg_x[i]\n",
    "        x, y = [], []\n",
    "        for t, f in data:\n",
    "            x.append(t)\n",
    "            y.append(f / 1e22)\n",
    "        plot_graph(x, y, 'Hours Since Active Region Detected',\n",
    "                    'Unsigned Flux (Maxwells x 10^22)',\n",
    "                    'Unsigned Flux vs. Time for Active Region', clr=color)\n",
    "        plt.show()"
   ]
  },
  {
   "cell_type": "code",
   "execution_count": 77,
   "metadata": {},
   "outputs": [],
   "source": [
    "def overlay_plots(seg_x, n=float('inf'), linear_fit=False, quadratic_fit=False,\n",
    "                 polynomial_fit=False, exponential_fit=False):\n",
    "    count = 0\n",
    "    for i, data in enumerate(seg_x):\n",
    "        count += 1\n",
    "        if count > n: break\n",
    "        x, y = [], []\n",
    "        start_time = data[0][0]\n",
    "        start_flux = data[0][1]\n",
    "        for t, f in data:\n",
    "            x.append(t - start_time)\n",
    "            y.append((f - start_flux) / 1e21)\n",
    "\n",
    "        formula = None\n",
    "\n",
    "        def f_linear(x, a, b):\n",
    "            return a * x + b\n",
    "        if linear_fit:\n",
    "            popt, _ = scipy.optimize.curve_fit(f_linear, x, y)\n",
    "            formula = lambda x : popt[0] * x + popt[1]\n",
    "\n",
    "        def f_quad(x, a, b, c):\n",
    "            return a * x ** 2 + b * x + c\n",
    "        if quadratic_fit:\n",
    "            popt, _ = scipy.optimize.curve_fit(f_quad, x, y)\n",
    "            formula = lambda x : popt[0] * x ** 2 + popt[1] * x + popt[2]\n",
    "\n",
    "        def f_poly(x, a, b, c, d):\n",
    "            return a * x ** 3 + b * x ** 2 + c * x + d\n",
    "        if polynomial_fit:\n",
    "            popt, _ = scipy.optimize.curve_fit(f_poly, x, y)\n",
    "            formula = lambda x : popt[0] * x ** 3 + popt[1] * x ** 2 + popt[2] * x + popt[3]\n",
    "\n",
    "        def f_exp(x, a, b):\n",
    "            return a * b ** x\n",
    "        if exponential_fit:\n",
    "            popt, _ = scipy.optimize.curve_fit(f_exp, x, y)\n",
    "            formula = lambda x : popt[0] * popt[1] ** x\n",
    "\n",
    "        colors = matplotlib.colors.TABLEAU_COLORS\n",
    "        plot_graph(x, y, 'Hours Since Start of 24hr Time Frame',\n",
    "                        'Unsigned Flux (Maxwells x 10^22)',\n",
    "                        'Unsigned Flux vs. Time for Active Region',\n",
    "                        formula=formula, clr=colors[list(colors.keys())[i % len(colors)]])\n",
    "    plt.show()"
   ]
  },
  {
   "cell_type": "code",
   "execution_count": 282,
   "metadata": {
    "scrolled": false
   },
   "outputs": [
    {
     "data": {
      "image/png": "[encoded data removed]",
      "text/plain": [
       "<Figure size 432x288 with 1 Axes>"
      ]
     },
     "metadata": {
      "needs_background": "light"
     },
     "output_type": "display_data"
    },
    {
     "data": {
      "image/png": "[encoded data removed]",
      "text/plain": [
       "<Figure size 432x288 with 1 Axes>"
      ]
     },
     "metadata": {
      "needs_background": "light"
     },
     "output_type": "display_data"
    },
    {
     "data": {
      "image/png": "[encoded data removed]",
      "text/plain": [
       "<Figure size 432x288 with 1 Axes>"
      ]
     },
     "metadata": {
      "needs_background": "light"
     },
     "output_type": "display_data"
    },
    {
     "data": {
      "image/png": "[encoded data removed]",
      "text/plain": [
       "<Figure size 432x288 with 1 Axes>"
      ]
     },
     "metadata": {
      "needs_background": "light"
     },
     "output_type": "display_data"
    },
    {
     "data": {
      "image/png": "[encoded data removed]",
      "text/plain": [
       "<Figure size 432x288 with 1 Axes>"
      ]
     },
     "metadata": {
      "needs_background": "light"
     },
     "output_type": "display_data"
    },
    {
     "data": {
      "image/png": "[encoded data removed]",
      "text/plain": [
       "<Figure size 432x288 with 1 Axes>"
      ]
     },
     "metadata": {
      "needs_background": "light"
     },
     "output_type": "display_data"
    },
    {
     "data": {
      "image/png": "[encoded data removed]",
      "text/plain": [
       "<Figure size 432x288 with 1 Axes>"
      ]
     },
     "metadata": {
      "needs_background": "light"
     },
     "output_type": "display_data"
    },
    {
     "data": {
      "image/png": "[encoded data removed]",
      "text/plain": [
       "<Figure size 432x288 with 1 Axes>"
      ]
     },
     "metadata": {
      "needs_background": "light"
     },
     "output_type": "display_data"
    },
    {
     "data": {
      "image/png": "[encoded data removed]",
      "text/plain": [
       "<Figure size 432x288 with 1 Axes>"
      ]
     },
     "metadata": {
      "needs_background": "light"
     },
     "output_type": "display_data"
    },
    {
     "data": {
      "image/png": "[encoded data removed]",
      "text/plain": [
       "<Figure size 432x288 with 1 Axes>"
      ]
     },
     "metadata": {
      "needs_background": "light"
     },
     "output_type": "display_data"
    }
   ],
   "source": [
    "# plot_flux_time_graphs(harp_ids[:1])\n",
    "# plot_flux_time_derivative_graphs(harp_ids[:5])\n",
    "\n",
    "# num_graphs = 2\n",
    "# plot_random_graphs(harp_ids, harp_noaa_dict, noaa_flare_set, n=num_graphs,\n",
    "#                    color='b', derivative=False,\n",
    "#                    flare_time_dict=flare_time_dict)\n",
    "# plot_random_graphs(harp_ids, harp_noaa_dict, noaa_flare_set, False, n=num_graphs,\n",
    "#                    color='r', derivative=True,\n",
    "#                    flare_time_dict=flare_time_dict)\\\n",
    "num_graphs = 5\n",
    "plot_segmented_graphs(seg_x, seg_y, flare=True, n=num_graphs, color='blue')\n",
    "plot_segmented_graphs(seg_x, seg_y, flare=False, n=num_graphs, color='red')\n",
    "\n",
    "# overlay_plots(x_flares_seg_x, n=50, linear_fit=False, quadratic_fit=False,\n",
    "#              polynomial_fit=False, exponential_fit=False)\n",
    "# no_flares_seg_x = []\n",
    "# for i, is_flared in enumerate(seg_y):\n",
    "#     if not is_flared: no_flares_seg_x.append(seg_x[i])\n",
    "# overlay_plots(no_flares_seg_x, n=5, linear_fit=False, quadratic_fit=False,\n",
    "#              polynomial_fit=False, exponential_fit=False)"
   ]
  },
  {
   "cell_type": "markdown",
   "metadata": {},
   "source": [
    "## Learning\n",
    "\n",
    "This next section includes all the feature extraction and learning segments of the code."
   ]
  },
  {
   "cell_type": "code",
   "execution_count": null,
   "metadata": {},
   "outputs": [],
   "source": [
    "def mean_flux(flux_data):\n",
    "    return np.mean(flux_data)"
   ]
  },
  {
   "cell_type": "code",
   "execution_count": null,
   "metadata": {},
   "outputs": [],
   "source": [
    "def std_flux(flux_data):\n",
    "    return np.std(flux_data)"
   ]
  },
  {
   "cell_type": "code",
   "execution_count": null,
   "metadata": {},
   "outputs": [],
   "source": [
    "def max_flux(flux_data):\n",
    "    return max(flux_data)"
   ]
  },
  {
   "cell_type": "code",
   "execution_count": null,
   "metadata": {},
   "outputs": [],
   "source": [
    "def flux_range(flux_data):\n",
    "    return max(flux_data) - min(flux_data)"
   ]
  },
  {
   "cell_type": "code",
   "execution_count": null,
   "metadata": {},
   "outputs": [],
   "source": [
    "def time_range(time_data):\n",
    "    return np.ptp(time_data)"
   ]
  },
  {
   "cell_type": "code",
   "execution_count": null,
   "metadata": {},
   "outputs": [],
   "source": [
    "def slope_to_max(flux_data, time_data):\n",
    "    max_flux_value = (max_flux(flux_data))\n",
    "    i = flux_data.index(max_flux_value)\n",
    "    if time_data[i] == 0: # TODO: Investigate why/when this happens\n",
    "        return 0\n",
    "    return max_flux_value / time_data[i]"
   ]
  },
  {
   "cell_type": "code",
   "execution_count": null,
   "metadata": {},
   "outputs": [],
   "source": [
    "def derivative_sum(flux_data, time_data, interval=1):\n",
    "    total_derivative = 0\n",
    "    for i, flux in enumerate(flux_data):\n",
    "        if i % interval != 0: continue\n",
    "        if i >= len(flux_data) - interval: break\n",
    "        flux_change = flux_data[i + interval] - flux\n",
    "        time_change = time_data[i + interval] - time_data[i]\n",
    "        total_derivative += abs(flux_change / time_change)\n",
    "    return total_derivative"
   ]
  },
  {
   "cell_type": "code",
   "execution_count": null,
   "metadata": {},
   "outputs": [],
   "source": [
    "def extract_features(harp_id):\n",
    "    '''Given a harp_id, this method returns an array of features corresponding to the\n",
    "    active region corresponding to the harp_id.\n",
    "\n",
    "    Current features are:\n",
    "        Mean unsigned flux\n",
    "        Standard deviation of unsigned flux\n",
    "        Maximum flux\n",
    "        Time range (i.e. how long the active region existed)\n",
    "        Slope to the maximum flux (max flux / time)\n",
    "        The sum of the absolute values of the slopes for the data in the graph\n",
    "\n",
    "    NOTE: in order for this method to work, there must exist a csv file containing time and\n",
    "    unsigned flux in ./data/[harp_id].csv. This can be obtained using the create_csv method.\n",
    "    '''\n",
    "    # Get data from CSV\n",
    "    filename = './data/' + str(harp_id) + '.csv'\n",
    "    time_data = []\n",
    "    flux_data = []\n",
    "    with open(filename, 'r') as csv_file:\n",
    "        reader = csv.reader(csv_file, delimiter=',')\n",
    "        next(reader)  # Skip header\n",
    "        for row in reader:\n",
    "            time_data.append(float(row[0]))\n",
    "            flux_data.append(float(row[1])/1e21)\n",
    "\n",
    "    # Extract features\n",
    "    features = []\n",
    "    features.append(mean_flux(flux_data))\n",
    "    features.append(std_flux(flux_data))\n",
    "    features.append(max_flux(flux_data))\n",
    "    features.append(flux_range(flux_data))\n",
    "    features.append(time_range(time_data))\n",
    "    features.append(slope_to_max(flux_data, time_data))\n",
    "    features.append(derivative_sum(flux_data, time_data))\n",
    "    \n",
    "    return features"
   ]
  },
  {
   "cell_type": "code",
   "execution_count": null,
   "metadata": {},
   "outputs": [],
   "source": [
    "print(extract_features(1))"
   ]
  },
  {
   "cell_type": "code",
   "execution_count": null,
   "metadata": {},
   "outputs": [],
   "source": [
    "def create_binary_learning_dataset(harp_ids):\n",
    "    '''Given a harp_id, this method returns two arrays: x and y. The x array is an array of\n",
    "    feature arrays corresponding to each harp_id. y is an array of booleans indicating whether\n",
    "    each active region flared or not.\n",
    "    The output of this method can easily be applied to a machine learning algorithm.\n",
    "    '''\n",
    "    x, y = [], []\n",
    "    for harp_id in harp_ids:\n",
    "        x.append(extract_features(harp_id))\n",
    "        y.append(has_flared(harp_id, harp_noaa_dict, noaa_flare_set))\n",
    "    return x, y\n",
    "\n",
    "x, y = create_binary_learning_dataset(harp_ids)"
   ]
  },
  {
   "cell_type": "markdown",
   "metadata": {},
   "source": [
    "# New ML stuff below"
   ]
  },
  {
   "cell_type": "code",
   "execution_count": 162,
   "metadata": {},
   "outputs": [],
   "source": [
    "def regression_helper(function, time_data, flux_data):\n",
    "    popt, _ = scipy.optimize.curve_fit(function, time_data, flux_data)\n",
    "    residuals = flux_data - function(time_data, *popt)\n",
    "    ss_res = np.sum(residuals ** 2)\n",
    "    ss_tot = np.sum((flux_data - np.mean(flux_data)) ** 2)\n",
    "    r_squared = 1 - (ss_res / ss_tot)\n",
    "    return popt, r_squared"
   ]
  },
  {
   "cell_type": "code",
   "execution_count": 163,
   "metadata": {},
   "outputs": [],
   "source": [
    "def linear_features(time_data, flux_data, feature_names=False):\n",
    "    def f_linear(x, a, b):\n",
    "        return a * x + b\n",
    "    popt, r_squared = regression_helper(f_linear, time_data, flux_data)\n",
    "    if feature_names:\n",
    "        return np.array([*popt, r_squared]), ['slope', 'intercept', 'r^2_linear']\n",
    "    return np.array([*popt, r_squared])"
   ]
  },
  {
   "cell_type": "code",
   "execution_count": 164,
   "metadata": {},
   "outputs": [],
   "source": [
    "def exponential_features(time_data, flux_data, feature_names=False):\n",
    "    def f_exponential(x, a, b):\n",
    "        return a * b ** x\n",
    "    popt, r_squared = regression_helper(f_exponential, time_data, flux_data)\n",
    "    if feature_names:\n",
    "        return np.array([popt[1], r_squared]), ['exp_val', 'r^2_exp']\n",
    "    return np.array([popt[1], r_squared])"
   ]
  },
  {
   "cell_type": "code",
   "execution_count": 165,
   "metadata": {},
   "outputs": [],
   "source": [
    "def quadratic_features(time_data, flux_data, feature_names=False):\n",
    "    def f_quad(x, a, b, c):\n",
    "        return a * x ** 2 + b * x + c\n",
    "    popt, r_squared = regression_helper(f_quad, time_data, flux_data)\n",
    "    if feature_names:\n",
    "        return np.array([*popt, r_squared]), ['quad_1', 'quad_2', 'quad_3', 'r^2_quad']\n",
    "    return np.array([*popt, r_squared])"
   ]
  },
  {
   "cell_type": "code",
   "execution_count": 173,
   "metadata": {},
   "outputs": [],
   "source": [
    "def cubic_features(time_data, flux_data, feature_names=False):\n",
    "    def f_cubic(x, a, b, c, d):\n",
    "        return a * x ** 3 + b * x ** 2 + c * x + d\n",
    "    popt, r_squared = regression_helper(f_cubic, time_data, flux_data)\n",
    "    if feature_names:\n",
    "        return np.array([*popt, r_squared]), ['cube_1', 'cube_2', 'cube_3', 'cube_4', 'r^2_cube']\n",
    "    return np.array([*popt, r_squared])"
   ]
  },
  {
   "cell_type": "code",
   "execution_count": 215,
   "metadata": {},
   "outputs": [],
   "source": [
    "def discrete_features(time_data, flux_data, feature_names=False):\n",
    "    features = []\n",
    "    features.append(np.mean(flux_data))\n",
    "    if feature_names:\n",
    "        return features, ['mean']"
   ]
  },
  {
   "cell_type": "code",
   "execution_count": 174,
   "metadata": {},
   "outputs": [],
   "source": [
    "def extract_time_series_features(time_data, flux_data, features):\n",
    "    feature_list = np.array([])\n",
    "    feature_names = []\n",
    "    for feature in features:\n",
    "        data, names = feature(time_data, flux_data, feature_names=True)\n",
    "        feature_list = np.append(feature_list, data)\n",
    "        feature_names += names\n",
    "    return feature_list, feature_names"
   ]
  },
  {
   "cell_type": "code",
   "execution_count": 276,
   "metadata": {},
   "outputs": [
    {
     "name": "stdout",
     "output_type": "stream",
     "text": [
      "Features used: ['mean']\n"
     ]
    }
   ],
   "source": [
    "def create_learning_dataset(seg_x, seg_y, features):\n",
    "    '''Creates learning dataset with time series data.\n",
    "    '''\n",
    "    x, y = [], []\n",
    "    for i, data in enumerate(seg_x):\n",
    "        if len(data) < 3: continue\n",
    "        time_data, flux_data = [], []\n",
    "        for t, f in data:\n",
    "            time_data.append(t)\n",
    "            flux_data.append(f / 1e22)\n",
    "        #print(seg_y[i])\n",
    "        time_data = np.array(time_data)\n",
    "        flux_data = np.array(flux_data)\n",
    "        data, names = extract_time_series_features(time_data, flux_data, features)\n",
    "        x.append(data)\n",
    "        y.append(seg_y[i])\n",
    "    return x, y, names\n",
    "\n",
    "features = [discrete_features]\n",
    "raw_x, y, feature_names = create_learning_dataset(seg_x, seg_y, features)\n",
    "print('Features used:', feature_names)"
   ]
  },
  {
   "cell_type": "code",
   "execution_count": 261,
   "metadata": {},
   "outputs": [],
   "source": [
    "def scale_x_data(x):\n",
    "    '''Method to scale each feature in the inputted x data to a range of 0 to 1.\n",
    "    Returns the scaled data.\n",
    "    '''\n",
    "    scaler = MinMaxScaler()\n",
    "    return scaler.fit_transform(x)\n",
    "\n",
    "x = scale_x_data(raw_x)"
   ]
  },
  {
   "cell_type": "code",
   "execution_count": 262,
   "metadata": {},
   "outputs": [],
   "source": [
    "def graph_features(x, y, feature_names, max_num_graphs=float('inf')):\n",
    "    '''Given the feature data as x, this function will graph features versus each other.\n",
    "    Different outputs in y will be displayed in different colors. The function will graph\n",
    "    every combination of features, and print them.\n",
    "    '''\n",
    "    single_feature_vectors = [[] for _ in range(len(x[0]))]\n",
    "    colors = []\n",
    "    color_map = {True: 'r', False: 'b'}\n",
    "    for i, data_pt in enumerate(x):\n",
    "        colors.append(color_map[y[i]])\n",
    "        for j in range(len(data_pt)):\n",
    "            single_feature_vectors[j].append(data_pt[j])\n",
    "    count = 0\n",
    "    for i in range(len(x[0])):\n",
    "        for j in range(i + 1, len(x[0])):\n",
    "            count += 1\n",
    "            plot_graph(single_feature_vectors[i], single_feature_vectors[j],\n",
    "                       feature_names[i], feature_names[j],\n",
    "                       feature_names[i].title() + ' vs. ' + feature_names[j].title(),\n",
    "                       clr=colors, scatter=True)\n",
    "            plt.show()\n",
    "            if count >= max_num_graphs: break\n",
    "        if count >= max_num_graphs: break\n",
    "\n",
    "graph_features(x, y, feature_names)"
   ]
  },
  {
   "cell_type": "code",
   "execution_count": 284,
   "metadata": {},
   "outputs": [
    {
     "data": {
      "image/png": "[encoded data removed]",
      "text/plain": [
       "<Figure size 432x288 with 1 Axes>"
      ]
     },
     "metadata": {
      "needs_background": "light"
     },
     "output_type": "display_data"
    }
   ],
   "source": [
    "def make_histogram(x, y, index, title=None, num_bins=10, pdf=False):\n",
    "    feature_data = [[], []]\n",
    "    for i, data_pt in enumerate(x):\n",
    "        if y[i]:\n",
    "            feature_data[0].append(data_pt[index])\n",
    "        else:\n",
    "            feature_data[1].append(data_pt[index])\n",
    "    colors = ['blue', 'red']\n",
    "    plt.hist(feature_data, bins=num_bins, color=colors, edgecolor='black', alpha=0.5)\n",
    "    if pdf:\n",
    "        for i, data in enumerate(feature_data):\n",
    "            kde = gaussian_kde(data)\n",
    "            dist_space = np.linspace(min(data), max(data), 100)\n",
    "            plt.plot(dist_space, kde(dist_space), color=colors[i])\n",
    "            #sorted_data = sorted(data)\n",
    "            #plt.plot(sorted_data, scipy.stats.norm.pdf(sorted_data))\n",
    "    ax = plt.gca()\n",
    "    ax.set_title(title)\n",
    "    plt.show() \n",
    "\n",
    "for i in range(len(feature_names)):\n",
    "    make_histogram(x, y, i, title=feature_names[i].title(), pdf=True)"
   ]
  },
  {
   "cell_type": "markdown",
   "metadata": {},
   "source": [
    "## Different Classification Algorithms and Their Pros and Cons\n",
    "\n",
    "1. Suppport Vector Machines (SVMs)\n",
    "  * SVMs work by constructing hyper-planes in higher dimensional space. This can be used for classification by maximizing the distance between the hyper-plane and the training data of any class.\n",
    "  * This is a good choice because it is a versatile classification algorithm.\n",
    "2. Stochastic Gradient Descent\n",
    "  * Creates a linear classifier to minimize loss.\n",
    "  * Less versatile than SVMs (this should not be an issue for the binary classification, however).\n",
    "  * Scikitlearn has the following built-in loss functions: hinge loss, modified Huber, and logistic.\n",
    "3. Multi-layer Perceptron\n",
    "  * Can learn non-linear models.\n",
    "  * Doesn't necessarily find global optimum: different initial weights can alter validation accuracy.\n",
    "  * Needs tweaking of hyperparameters such as the number of hidden neurons, layers, and iterations to work well.\n",
    "4. AdaBoost (Boosting algorithm)\n",
    "  * Principle is to combine many weak learners to create one strong model.\n",
    "  * Each weak learner concentrates on the examples that are missed by the previous learners.\n",
    "5. Random Forest\n",
    "  * Each tree is built from a random sample of the total data (with replacement).\n",
    "  * This tends to reduce the overall bias."
   ]
  },
  {
   "cell_type": "code",
   "execution_count": 264,
   "metadata": {},
   "outputs": [],
   "source": [
    "def fit_algorithm(clf, x, y, n=1):\n",
    "    '''This method will fit the given classifier clf to the input x, y data\n",
    "    and will return the training and test accuracy of the model.\n",
    "    This method will randomize the train/test split n number of times and will\n",
    "    return the average train/test accuracy.'''\n",
    "    avg_train, avg_test = 0, 0\n",
    "    for _ in range(n):\n",
    "        x_train, x_test, y_train, y_test = train_test_split(x, y, test_size=0.25)\n",
    "        clf.fit(x_train, y_train)\n",
    "        avg_train += clf.score(x_train, y_train)\n",
    "        avg_test += clf.score(x_test, y_test)\n",
    "    return avg_train / n, avg_test / n"
   ]
  },
  {
   "cell_type": "code",
   "execution_count": 265,
   "metadata": {},
   "outputs": [],
   "source": [
    "def print_info(clf, x, y, algorithm_name, best_accuracy=0, best_algorithm=None):\n",
    "    '''This method streamlines the code required to fit the given clf to the \n",
    "    model, as well as print out important statistics. This method returns the new\n",
    "    best algorithm and best accuracy, based on the test accuracy.\n",
    "    '''\n",
    "    print(algorithm_name + ':')\n",
    "    train_accuracy, test_accuracy = fit_algorithm(clf, x, y, 50)\n",
    "    print('> Train accuracy:', train_accuracy)\n",
    "    print('> Test accuracy:', test_accuracy)\n",
    "    result_vals_dict = {'TP': 0, 'FP': 0, 'TN': 0, 'FN':0}\n",
    "    for i, data_pt in enumerate(x):\n",
    "        prediction = clf.predict([data_pt])\n",
    "        if prediction == y[i]:\n",
    "            if prediction == 1:\n",
    "                result_vals_dict['TP'] += 1\n",
    "            else:\n",
    "                result_vals_dict['TN'] += 1\n",
    "        else:\n",
    "            if prediction == 1:\n",
    "                result_vals_dict['FP'] += 1\n",
    "            else:\n",
    "                result_vals_dict['FN'] += 1\n",
    "    precision = result_vals_dict['TP'] / (result_vals_dict['TP'] + result_vals_dict['FP'])\n",
    "    recall = result_vals_dict['TP'] / (result_vals_dict['TP'] + result_vals_dict['FN'])\n",
    "    tss_score = recall - result_vals_dict['FP'] / (result_vals_dict['FP'] + result_vals_dict['TN'])\n",
    "    print('> Precision:', precision)\n",
    "    print('> Recall:', recall)\n",
    "    print('> TSS Score:', tss_score)\n",
    "    if test_accuracy > best_accuracy:\n",
    "        best_accuracy = test_accuracy\n",
    "        best_algorithm = algorithm_name\n",
    "    return best_algorithm, best_accuracy"
   ]
  },
  {
   "cell_type": "code",
   "execution_count": 285,
   "metadata": {},
   "outputs": [
    {
     "name": "stdout",
     "output_type": "stream",
     "text": [
      "[0.53632154] False\n",
      "[0.07739949] False\n",
      "[0.07701128] False\n",
      "[0.98566178] False\n",
      "[0.03545147] False\n",
      "[0.30621729] False\n",
      "[0.81987156] False\n",
      "[0.05894938] False\n",
      "[0.06192382] False\n",
      "[0.60850745] False\n",
      "[0.05675519] False\n",
      "[0.14411934] False\n",
      "[0.24125182] False\n",
      "[0.10901777] False\n",
      "[0.03230063] False\n",
      "[0.31753545] False\n",
      "[0.18064135] False\n",
      "[0.51108476] False\n",
      "[0.75839484] False\n",
      "[0.51675821] False\n",
      "[0.02627541] False\n",
      "[0.10925563] False\n",
      "[0.44511523] False\n",
      "[0.14099635] False\n",
      "[3.28373137] False\n",
      "[2.45760351] True\n",
      "[3.15118186] True\n",
      "[1.6013195] True\n",
      "[1.62600535] True\n",
      "[4.18286533] True\n",
      "[5.39535851] True\n",
      "[5.40303332] True\n",
      "[6.62498882] True\n",
      "[8.6162094] True\n",
      "[6.52081519] True\n",
      "[4.34665668] True\n",
      "[3.49263804] True\n",
      "[8.39692918] True\n",
      "[13.38742628] True\n",
      "[14.77747257] True\n",
      "[17.48947638] True\n",
      "[19.44796198] True\n",
      "[4.00446133] True\n",
      "[10.19213548] True\n",
      "[2.46963876] True\n",
      "[4.01308389] True\n",
      "[4.13999941] True\n",
      "[5.34799186] True\n"
     ]
    }
   ],
   "source": [
    "for i, a in enumerate(raw_x):\n",
    "    print(a, y[i])"
   ]
  },
  {
   "cell_type": "code",
   "execution_count": 270,
   "metadata": {
    "scrolled": true
   },
   "outputs": [
    {
     "name": "stdout",
     "output_type": "stream",
     "text": [
      "Stochastic Gradient Descent:\n",
      "> Train accuracy: 0.9588888888888885\n",
      "> Test accuracy: 0.9466666666666664\n",
      "> Precision: 0.9583333333333334\n",
      "> Recall: 1.0\n",
      "> TSS Score: 0.96\n",
      "> [[30.26485907]] \n",
      "\n",
      "[-39.58506648]\n",
      "AdaBoost:\n",
      "> Train accuracy: 1.0\n",
      "> Test accuracy: 0.9233333333333333\n",
      "> Precision: 0.9583333333333334\n",
      "> Recall: 1.0\n",
      "> TSS Score: 0.96\n",
      "> [1.] \n",
      "\n",
      "{'algorithm': 'SAMME.R', 'base_estimator': None, 'learning_rate': 1.0, 'n_estimators': 25, 'random_state': 0}\n",
      "Random Forest:\n",
      "> Train accuracy: 0.9811111111111107\n",
      "> Test accuracy: 0.938333333333333\n",
      "> Precision: 0.9583333333333334\n",
      "> Recall: 1.0\n",
      "> TSS Score: 0.96\n",
      "> [1.] \n",
      "\n",
      "The best algorithm is Stochastic Gradient Descent with a test accuracy of 0.9466666666666664\n"
     ]
    }
   ],
   "source": [
    "def run_learning_algorithms(x, y):\n",
    "    '''This method runs different machine learning (ML) algorithms and prints \n",
    "    statements indicated the accuracy, finally printing the best overall algorithm \n",
    "    in terms of test accuracy.\n",
    "    \n",
    "    Current ML algorithms:\n",
    "        Support Vector Machine\n",
    "        Stochastic Gradient Descent\n",
    "        Multi-layer Perceptron\n",
    "        AdaBoost\n",
    "        Random Forest\n",
    "    '''\n",
    "    best_accuracy = 0\n",
    "    best_algorithm = None\n",
    "\n",
    "    #algorithm_name = 'Support Vector Machine'\n",
    "    #clf = SVC(gamma='scale')\n",
    "    #best_algorithm, best_accuracy = print_info(clf, x, y, algorithm_name, best_accuracy, best_algorithm)\n",
    "    #print('>', clf.support_vectors_, '\\n')\n",
    "\n",
    "    algorithm_name = 'Stochastic Gradient Descent'\n",
    "    clf = SGDClassifier(loss='hinge', penalty='l2')\n",
    "    best_algorithm, best_accuracy = print_info(clf, raw_x, y, algorithm_name, best_accuracy, best_algorithm)\n",
    "    print('>', clf.coef_, '\\n')\n",
    "\n",
    "    #algorithm_name = 'Multi-layer Perceptron'\n",
    "    #clf = MLPClassifier(max_iter=500)\n",
    "    #best_algorithm, best_accuracy = print_info(clf, x, y, algorithm_name, best_accuracy, best_algorithm)\n",
    "    #print('>', clf.loss_, '\\n')\n",
    "\n",
    "    algorithm_name = 'AdaBoost'\n",
    "    clf = AdaBoostClassifier(n_estimators=25, random_state=0)\n",
    "    best_algorithm, best_accuracy = print_info(clf, raw_x, y, algorithm_name, best_accuracy, best_algorithm)\n",
    "    print('>', clf.feature_importances_, '\\n')\n",
    "    print(clf.get_params())\n",
    "\n",
    "    algorithm_name = 'Random Forest'\n",
    "    clf = RandomForestClassifier(n_estimators=25, max_depth=2, random_state=0)\n",
    "    best_algorithm, best_accuracy = print_info(clf, x, y, algorithm_name, best_accuracy, best_algorithm)\n",
    "    print('>', clf.feature_importances_, '\\n')\n",
    "\n",
    "    print('The best algorithm is', best_algorithm, 'with a test accuracy of', best_accuracy)\n",
    "\n",
    "run_learning_algorithms(x, y)"
   ]
  },
  {
   "cell_type": "markdown",
   "metadata": {},
   "source": [
    "- add discrete features?\n",
    "- look at m and x esp. x\n",
    "- ~~Plot x class flares and fits~~\n",
    "- ~~skill scores -- look at paper~~\n",
    "- regression problem for continuous data?\n",
    "- upper or lower limits for flaring behavior\n",
    "- multiclass classification"
   ]
  }
 ],
 "metadata": {
  "kernelspec": {
   "display_name": "Python 3",
   "language": "python",
   "name": "python3"
  },
  "language_info": {
   "codemirror_mode": {
    "name": "ipython",
    "version": 3
   },
   "file_extension": ".py",
   "mimetype": "text/x-python",
   "name": "python",
   "nbconvert_exporter": "python",
   "pygments_lexer": "ipython3",
   "version": "3.7.3"
  }
 },
 "nbformat": 4,
 "nbformat_minor": 2
}
