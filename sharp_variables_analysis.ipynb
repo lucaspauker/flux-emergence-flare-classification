{
 "cells": [
  {
   "cell_type": "markdown",
   "metadata": {},
   "source": [
    "# Sharp Variables Analysis\n",
    "This notebook is for the analysis of different variables related to solar flares and flux emergence.\n",
    "1.\tWhy do some flaring active regions have rapid flux emergence before a flare and some don’t?\n",
    " - This is similar to the previous question of how does flux emergence relate to flaring, except now we are specifically looking at flaring regions, and trying to determine the factors that lead to flares.\n",
    " - Alternative version of the question: how do we know when a flaring active region will flare? Does it depend on flux emergence?\n",
    "2.\tWhy do some rapid flux emergences flare and others don’t?\n",
    "3.\tAre there natural clusters of data given some physical variables?\n",
    " - Questions 1 and 2 will inform this question.\n",
    " - This question is an unsupervised learning problem."
   ]
  },
  {
   "cell_type": "code",
   "execution_count": 34,
   "metadata": {},
   "outputs": [
    {
     "data": {
      "text/html": [
       "\n",
       "    <div class=\"bk-root\">\n",
       "        <a href=\"https://bokeh.pydata.org\" target=\"_blank\" class=\"bk-logo bk-logo-small bk-logo-notebook\"></a>\n",
       "        <span id=\"2527\">Loading BokehJS ...</span>\n",
       "    </div>"
      ]
     },
     "metadata": {},
     "output_type": "display_data"
    },
    {
     "data": {
      "application/javascript": [
       "\n",
       "(function(root) {\n",
       "  function now() {\n",
       "    return new Date();\n",
       "  }\n",
       "\n",
       "  var force = true;\n",
       "\n",
       "  if (typeof root._bokeh_onload_callbacks === \"undefined\" || force === true) {\n",
       "    root._bokeh_onload_callbacks = [];\n",
       "    root._bokeh_is_loading = undefined;\n",
       "  }\n",
       "\n",
       "  var JS_MIME_TYPE = 'application/javascript';\n",
       "  var HTML_MIME_TYPE = 'text/html';\n",
       "  var EXEC_MIME_TYPE = 'application/vnd.bokehjs_exec.v0+json';\n",
       "  var CLASS_NAME = 'output_bokeh rendered_html';\n",
       "\n",
       "  /**\n",
       "   * Render data to the DOM node\n",
       "   */\n",
       "  function render(props, node) {\n",
       "    var script = document.createElement(\"script\");\n",
       "    node.appendChild(script);\n",
       "  }\n",
       "\n",
       "  /**\n",
       "   * Handle when an output is cleared or removed\n",
       "   */\n",
       "  function handleClearOutput(event, handle) {\n",
       "    var cell = handle.cell;\n",
       "\n",
       "    var id = cell.output_area._bokeh_element_id;\n",
       "    var server_id = cell.output_area._bokeh_server_id;\n",
       "    // Clean up Bokeh references\n",
       "    if (id != null && id in Bokeh.index) {\n",
       "      Bokeh.index[id].model.document.clear();\n",
       "      delete Bokeh.index[id];\n",
       "    }\n",
       "\n",
       "    if (server_id !== undefined) {\n",
       "      // Clean up Bokeh references\n",
       "      var cmd = \"from bokeh.io.state import curstate; print(curstate().uuid_to_server['\" + server_id + \"'].get_sessions()[0].document.roots[0]._id)\";\n",
       "      cell.notebook.kernel.execute(cmd, {\n",
       "        iopub: {\n",
       "          output: function(msg) {\n",
       "            var id = msg.content.text.trim();\n",
       "            if (id in Bokeh.index) {\n",
       "              Bokeh.index[id].model.document.clear();\n",
       "              delete Bokeh.index[id];\n",
       "            }\n",
       "          }\n",
       "        }\n",
       "      });\n",
       "      // Destroy server and session\n",
       "      var cmd = \"import bokeh.io.notebook as ion; ion.destroy_server('\" + server_id + \"')\";\n",
       "      cell.notebook.kernel.execute(cmd);\n",
       "    }\n",
       "  }\n",
       "\n",
       "  /**\n",
       "   * Handle when a new output is added\n",
       "   */\n",
       "  function handleAddOutput(event, handle) {\n",
       "    var output_area = handle.output_area;\n",
       "    var output = handle.output;\n",
       "\n",
       "    // limit handleAddOutput to display_data with EXEC_MIME_TYPE content only\n",
       "    if ((output.output_type != \"display_data\") || (!output.data.hasOwnProperty(EXEC_MIME_TYPE))) {\n",
       "      return\n",
       "    }\n",
       "\n",
       "    var toinsert = output_area.element.find(\".\" + CLASS_NAME.split(' ')[0]);\n",
       "\n",
       "    if (output.metadata[EXEC_MIME_TYPE][\"id\"] !== undefined) {\n",
       "      toinsert[toinsert.length - 1].firstChild.textContent = output.data[JS_MIME_TYPE];\n",
       "      // store reference to embed id on output_area\n",
       "      output_area._bokeh_element_id = output.metadata[EXEC_MIME_TYPE][\"id\"];\n",
       "    }\n",
       "    if (output.metadata[EXEC_MIME_TYPE][\"server_id\"] !== undefined) {\n",
       "      var bk_div = document.createElement(\"div\");\n",
       "      bk_div.innerHTML = output.data[HTML_MIME_TYPE];\n",
       "      var script_attrs = bk_div.children[0].attributes;\n",
       "      for (var i = 0; i < script_attrs.length; i++) {\n",
       "        toinsert[toinsert.length - 1].firstChild.setAttribute(script_attrs[i].name, script_attrs[i].value);\n",
       "      }\n",
       "      // store reference to server id on output_area\n",
       "      output_area._bokeh_server_id = output.metadata[EXEC_MIME_TYPE][\"server_id\"];\n",
       "    }\n",
       "  }\n",
       "\n",
       "  function register_renderer(events, OutputArea) {\n",
       "\n",
       "    function append_mime(data, metadata, element) {\n",
       "      // create a DOM node to render to\n",
       "      var toinsert = this.create_output_subarea(\n",
       "        metadata,\n",
       "        CLASS_NAME,\n",
       "        EXEC_MIME_TYPE\n",
       "      );\n",
       "      this.keyboard_manager.register_events(toinsert);\n",
       "      // Render to node\n",
       "      var props = {data: data, metadata: metadata[EXEC_MIME_TYPE]};\n",
       "      render(props, toinsert[toinsert.length - 1]);\n",
       "      element.append(toinsert);\n",
       "      return toinsert\n",
       "    }\n",
       "\n",
       "    /* Handle when an output is cleared or removed */\n",
       "    events.on('clear_output.CodeCell', handleClearOutput);\n",
       "    events.on('delete.Cell', handleClearOutput);\n",
       "\n",
       "    /* Handle when a new output is added */\n",
       "    events.on('output_added.OutputArea', handleAddOutput);\n",
       "\n",
       "    /**\n",
       "     * Register the mime type and append_mime function with output_area\n",
       "     */\n",
       "    OutputArea.prototype.register_mime_type(EXEC_MIME_TYPE, append_mime, {\n",
       "      /* Is output safe? */\n",
       "      safe: true,\n",
       "      /* Index of renderer in `output_area.display_order` */\n",
       "      index: 0\n",
       "    });\n",
       "  }\n",
       "\n",
       "  // register the mime type if in Jupyter Notebook environment and previously unregistered\n",
       "  if (root.Jupyter !== undefined) {\n",
       "    var events = require('base/js/events');\n",
       "    var OutputArea = require('notebook/js/outputarea').OutputArea;\n",
       "\n",
       "    if (OutputArea.prototype.mime_types().indexOf(EXEC_MIME_TYPE) == -1) {\n",
       "      register_renderer(events, OutputArea);\n",
       "    }\n",
       "  }\n",
       "\n",
       "  \n",
       "  if (typeof (root._bokeh_timeout) === \"undefined\" || force === true) {\n",
       "    root._bokeh_timeout = Date.now() + 5000;\n",
       "    root._bokeh_failed_load = false;\n",
       "  }\n",
       "\n",
       "  var NB_LOAD_WARNING = {'data': {'text/html':\n",
       "     \"<div style='background-color: #fdd'>\\n\"+\n",
       "     \"<p>\\n\"+\n",
       "     \"BokehJS does not appear to have successfully loaded. If loading BokehJS from CDN, this \\n\"+\n",
       "     \"may be due to a slow or bad network connection. Possible fixes:\\n\"+\n",
       "     \"</p>\\n\"+\n",
       "     \"<ul>\\n\"+\n",
       "     \"<li>re-rerun `output_notebook()` to attempt to load from CDN again, or</li>\\n\"+\n",
       "     \"<li>use INLINE resources instead, as so:</li>\\n\"+\n",
       "     \"</ul>\\n\"+\n",
       "     \"<code>\\n\"+\n",
       "     \"from bokeh.resources import INLINE\\n\"+\n",
       "     \"output_notebook(resources=INLINE)\\n\"+\n",
       "     \"</code>\\n\"+\n",
       "     \"</div>\"}};\n",
       "\n",
       "  function display_loaded() {\n",
       "    var el = document.getElementById(\"2527\");\n",
       "    if (el != null) {\n",
       "      el.textContent = \"BokehJS is loading...\";\n",
       "    }\n",
       "    if (root.Bokeh !== undefined) {\n",
       "      if (el != null) {\n",
       "        el.textContent = \"BokehJS \" + root.Bokeh.version + \" successfully loaded.\";\n",
       "      }\n",
       "    } else if (Date.now() < root._bokeh_timeout) {\n",
       "      setTimeout(display_loaded, 100)\n",
       "    }\n",
       "  }\n",
       "\n",
       "\n",
       "  function run_callbacks() {\n",
       "    try {\n",
       "      root._bokeh_onload_callbacks.forEach(function(callback) {\n",
       "        if (callback != null)\n",
       "          callback();\n",
       "      });\n",
       "    } finally {\n",
       "      delete root._bokeh_onload_callbacks\n",
       "    }\n",
       "    console.debug(\"Bokeh: all callbacks have finished\");\n",
       "  }\n",
       "\n",
       "  function load_libs(css_urls, js_urls, callback) {\n",
       "    if (css_urls == null) css_urls = [];\n",
       "    if (js_urls == null) js_urls = [];\n",
       "\n",
       "    root._bokeh_onload_callbacks.push(callback);\n",
       "    if (root._bokeh_is_loading > 0) {\n",
       "      console.debug(\"Bokeh: BokehJS is being loaded, scheduling callback at\", now());\n",
       "      return null;\n",
       "    }\n",
       "    if (js_urls == null || js_urls.length === 0) {\n",
       "      run_callbacks();\n",
       "      return null;\n",
       "    }\n",
       "    console.debug(\"Bokeh: BokehJS not loaded, scheduling load and callback at\", now());\n",
       "    root._bokeh_is_loading = css_urls.length + js_urls.length;\n",
       "\n",
       "    function on_load() {\n",
       "      root._bokeh_is_loading--;\n",
       "      if (root._bokeh_is_loading === 0) {\n",
       "        console.debug(\"Bokeh: all BokehJS libraries/stylesheets loaded\");\n",
       "        run_callbacks()\n",
       "      }\n",
       "    }\n",
       "\n",
       "    function on_error() {\n",
       "      console.error(\"failed to load \" + url);\n",
       "    }\n",
       "\n",
       "    for (var i = 0; i < css_urls.length; i++) {\n",
       "      var url = css_urls[i];\n",
       "      const element = document.createElement(\"link\");\n",
       "      element.onload = on_load;\n",
       "      element.onerror = on_error;\n",
       "      element.rel = \"stylesheet\";\n",
       "      element.type = \"text/css\";\n",
       "      element.href = url;\n",
       "      console.debug(\"Bokeh: injecting link tag for BokehJS stylesheet: \", url);\n",
       "      document.body.appendChild(element);\n",
       "    }\n",
       "\n",
       "    for (var i = 0; i < js_urls.length; i++) {\n",
       "      var url = js_urls[i];\n",
       "      var element = document.createElement('script');\n",
       "      element.onload = on_load;\n",
       "      element.onerror = on_error;\n",
       "      element.async = false;\n",
       "      element.src = url;\n",
       "      console.debug(\"Bokeh: injecting script tag for BokehJS library: \", url);\n",
       "      document.head.appendChild(element);\n",
       "    }\n",
       "  };var element = document.getElementById(\"2527\");\n",
       "  if (element == null) {\n",
       "    console.error(\"Bokeh: ERROR: autoload.js configured with elementid '2527' but no matching script tag was found. \")\n",
       "    return false;\n",
       "  }\n",
       "\n",
       "  function inject_raw_css(css) {\n",
       "    const element = document.createElement(\"style\");\n",
       "    element.appendChild(document.createTextNode(css));\n",
       "    document.body.appendChild(element);\n",
       "  }\n",
       "\n",
       "  var js_urls = [\"https://cdn.pydata.org/bokeh/release/bokeh-1.3.2.min.js\", \"https://cdn.pydata.org/bokeh/release/bokeh-widgets-1.3.2.min.js\", \"https://cdn.pydata.org/bokeh/release/bokeh-tables-1.3.2.min.js\", \"https://cdn.pydata.org/bokeh/release/bokeh-gl-1.3.2.min.js\"];\n",
       "  var css_urls = [];\n",
       "\n",
       "  var inline_js = [\n",
       "    function(Bokeh) {\n",
       "      Bokeh.set_log_level(\"info\");\n",
       "    },\n",
       "    \n",
       "    function(Bokeh) {\n",
       "      \n",
       "    },\n",
       "    function(Bokeh) {} // ensure no trailing comma for IE\n",
       "  ];\n",
       "\n",
       "  function run_inline_js() {\n",
       "    \n",
       "    if ((root.Bokeh !== undefined) || (force === true)) {\n",
       "      for (var i = 0; i < inline_js.length; i++) {\n",
       "        inline_js[i].call(root, root.Bokeh);\n",
       "      }if (force === true) {\n",
       "        display_loaded();\n",
       "      }} else if (Date.now() < root._bokeh_timeout) {\n",
       "      setTimeout(run_inline_js, 100);\n",
       "    } else if (!root._bokeh_failed_load) {\n",
       "      console.log(\"Bokeh: BokehJS failed to load within specified timeout.\");\n",
       "      root._bokeh_failed_load = true;\n",
       "    } else if (force !== true) {\n",
       "      var cell = $(document.getElementById(\"2527\")).parents('.cell').data().cell;\n",
       "      cell.output_area.append_execute_result(NB_LOAD_WARNING)\n",
       "    }\n",
       "\n",
       "  }\n",
       "\n",
       "  if (root._bokeh_is_loading === 0) {\n",
       "    console.debug(\"Bokeh: BokehJS loaded, going straight to plotting\");\n",
       "    run_inline_js();\n",
       "  } else {\n",
       "    load_libs(css_urls, js_urls, function() {\n",
       "      console.debug(\"Bokeh: BokehJS plotting callback run at\", now());\n",
       "      run_inline_js();\n",
       "    });\n",
       "  }\n",
       "}(window));"
      ],
      "application/vnd.bokehjs_load.v0+json": "\n(function(root) {\n  function now() {\n    return new Date();\n  }\n\n  var force = true;\n\n  if (typeof root._bokeh_onload_callbacks === \"undefined\" || force === true) {\n    root._bokeh_onload_callbacks = [];\n    root._bokeh_is_loading = undefined;\n  }\n\n  \n\n  \n  if (typeof (root._bokeh_timeout) === \"undefined\" || force === true) {\n    root._bokeh_timeout = Date.now() + 5000;\n    root._bokeh_failed_load = false;\n  }\n\n  var NB_LOAD_WARNING = {'data': {'text/html':\n     \"<div style='background-color: #fdd'>\\n\"+\n     \"<p>\\n\"+\n     \"BokehJS does not appear to have successfully loaded. If loading BokehJS from CDN, this \\n\"+\n     \"may be due to a slow or bad network connection. Possible fixes:\\n\"+\n     \"</p>\\n\"+\n     \"<ul>\\n\"+\n     \"<li>re-rerun `output_notebook()` to attempt to load from CDN again, or</li>\\n\"+\n     \"<li>use INLINE resources instead, as so:</li>\\n\"+\n     \"</ul>\\n\"+\n     \"<code>\\n\"+\n     \"from bokeh.resources import INLINE\\n\"+\n     \"output_notebook(resources=INLINE)\\n\"+\n     \"</code>\\n\"+\n     \"</div>\"}};\n\n  function display_loaded() {\n    var el = document.getElementById(\"2527\");\n    if (el != null) {\n      el.textContent = \"BokehJS is loading...\";\n    }\n    if (root.Bokeh !== undefined) {\n      if (el != null) {\n        el.textContent = \"BokehJS \" + root.Bokeh.version + \" successfully loaded.\";\n      }\n    } else if (Date.now() < root._bokeh_timeout) {\n      setTimeout(display_loaded, 100)\n    }\n  }\n\n\n  function run_callbacks() {\n    try {\n      root._bokeh_onload_callbacks.forEach(function(callback) {\n        if (callback != null)\n          callback();\n      });\n    } finally {\n      delete root._bokeh_onload_callbacks\n    }\n    console.debug(\"Bokeh: all callbacks have finished\");\n  }\n\n  function load_libs(css_urls, js_urls, callback) {\n    if (css_urls == null) css_urls = [];\n    if (js_urls == null) js_urls = [];\n\n    root._bokeh_onload_callbacks.push(callback);\n    if (root._bokeh_is_loading > 0) {\n      console.debug(\"Bokeh: BokehJS is being loaded, scheduling callback at\", now());\n      return null;\n    }\n    if (js_urls == null || js_urls.length === 0) {\n      run_callbacks();\n      return null;\n    }\n    console.debug(\"Bokeh: BokehJS not loaded, scheduling load and callback at\", now());\n    root._bokeh_is_loading = css_urls.length + js_urls.length;\n\n    function on_load() {\n      root._bokeh_is_loading--;\n      if (root._bokeh_is_loading === 0) {\n        console.debug(\"Bokeh: all BokehJS libraries/stylesheets loaded\");\n        run_callbacks()\n      }\n    }\n\n    function on_error() {\n      console.error(\"failed to load \" + url);\n    }\n\n    for (var i = 0; i < css_urls.length; i++) {\n      var url = css_urls[i];\n      const element = document.createElement(\"link\");\n      element.onload = on_load;\n      element.onerror = on_error;\n      element.rel = \"stylesheet\";\n      element.type = \"text/css\";\n      element.href = url;\n      console.debug(\"Bokeh: injecting link tag for BokehJS stylesheet: \", url);\n      document.body.appendChild(element);\n    }\n\n    for (var i = 0; i < js_urls.length; i++) {\n      var url = js_urls[i];\n      var element = document.createElement('script');\n      element.onload = on_load;\n      element.onerror = on_error;\n      element.async = false;\n      element.src = url;\n      console.debug(\"Bokeh: injecting script tag for BokehJS library: \", url);\n      document.head.appendChild(element);\n    }\n  };var element = document.getElementById(\"2527\");\n  if (element == null) {\n    console.error(\"Bokeh: ERROR: autoload.js configured with elementid '2527' but no matching script tag was found. \")\n    return false;\n  }\n\n  function inject_raw_css(css) {\n    const element = document.createElement(\"style\");\n    element.appendChild(document.createTextNode(css));\n    document.body.appendChild(element);\n  }\n\n  var js_urls = [\"https://cdn.pydata.org/bokeh/release/bokeh-1.3.2.min.js\", \"https://cdn.pydata.org/bokeh/release/bokeh-widgets-1.3.2.min.js\", \"https://cdn.pydata.org/bokeh/release/bokeh-tables-1.3.2.min.js\", \"https://cdn.pydata.org/bokeh/release/bokeh-gl-1.3.2.min.js\"];\n  var css_urls = [];\n\n  var inline_js = [\n    function(Bokeh) {\n      Bokeh.set_log_level(\"info\");\n    },\n    \n    function(Bokeh) {\n      \n    },\n    function(Bokeh) {} // ensure no trailing comma for IE\n  ];\n\n  function run_inline_js() {\n    \n    if ((root.Bokeh !== undefined) || (force === true)) {\n      for (var i = 0; i < inline_js.length; i++) {\n        inline_js[i].call(root, root.Bokeh);\n      }if (force === true) {\n        display_loaded();\n      }} else if (Date.now() < root._bokeh_timeout) {\n      setTimeout(run_inline_js, 100);\n    } else if (!root._bokeh_failed_load) {\n      console.log(\"Bokeh: BokehJS failed to load within specified timeout.\");\n      root._bokeh_failed_load = true;\n    } else if (force !== true) {\n      var cell = $(document.getElementById(\"2527\")).parents('.cell').data().cell;\n      cell.output_area.append_execute_result(NB_LOAD_WARNING)\n    }\n\n  }\n\n  if (root._bokeh_is_loading === 0) {\n    console.debug(\"Bokeh: BokehJS loaded, going straight to plotting\");\n    run_inline_js();\n  } else {\n    load_libs(css_urls, js_urls, function() {\n      console.debug(\"Bokeh: BokehJS plotting callback run at\", now());\n      run_inline_js();\n    });\n  }\n}(window));"
     },
     "metadata": {},
     "output_type": "display_data"
    }
   ],
   "source": [
    "import sys\n",
    "import math\n",
    "import random\n",
    "import matplotlib.pyplot as plt\n",
    "import scipy\n",
    "import numpy as np\n",
    "\n",
    "from sklearn.linear_model import SGDClassifier\n",
    "from sklearn.ensemble import AdaBoostClassifier\n",
    "\n",
    "# aas-timeseries\n",
    "from aas_timeseries import InteractiveTimeSeriesFigure\n",
    "from astropy import units\n",
    "from astropy.timeseries import TimeSeries\n",
    "\n",
    "# Bokeh plotting\n",
    "from bokeh.plotting import figure, output_file, show, ColumnDataSource\n",
    "from bokeh.models.widgets import Button, RadioButtonGroup, Select, Slider\n",
    "from bokeh.models import HoverTool, Legend\n",
    "from bokeh.sampledata.glucose import data\n",
    "from bokeh.io import output_notebook\n",
    "from bokeh.layouts import column\n",
    "output_notebook()\n",
    "\n",
    "from notebook_import import NotebookFinder\n",
    "sys.meta_path.append(NotebookFinder())\n",
    "import flux_emergence_analysis as fea"
   ]
  },
  {
   "cell_type": "code",
   "execution_count": 56,
   "metadata": {},
   "outputs": [
    {
     "name": "stdout",
     "output_type": "stream",
     "text": [
      "Number of active regions: 1335\n",
      "Number of flares: 8029\n"
     ]
    }
   ],
   "source": [
    "harp_ids, harp_noaa_dict = fea.get_harp_ids_and_harp_noaa_dict()\n",
    "#flare_data = fea.get_flare_data(harp_ids, 'M1.0')\n",
    "flare_data = fea.get_noaa_data_from_csv()\n",
    "print('Number of active regions:', len(harp_ids))\n",
    "print('Number of flares:', len(flare_data))\n",
    "\n",
    "flare_time_dict = fea.get_harp_id_to_flaring_times_dict(harp_noaa_dict, flare_data)"
   ]
  },
  {
   "cell_type": "code",
   "execution_count": 36,
   "metadata": {},
   "outputs": [],
   "source": [
    "def get_segmented_data(harp_ids, flare_time_dict, n=None, return_harp_ids=False, num_hours=24):\n",
    "    '''This method returns two arrays: x and y. The x array includes time series\n",
    "    data, while y represents whether the corresponding active region in x flared.\n",
    "    \n",
    "    The x and y arrays are built according to the following rule:\n",
    "        - If a flare occurs within num_hours hours after sample time t, it is considered\n",
    "        to belong to the positive case (i.e. the corresponding y entry will be True).\n",
    "        - If no flare occurs within num_hours hours, it is considered to belong to the\n",
    "        negative case.\n",
    "    \n",
    "    The x array is an array of arrays, where each array represents a num_hours-hour set of\n",
    "    data corresponding to an active region. Each of these num_hours-hour arrays are arrays of\n",
    "    dictionaries representing the data at each recorded interval within the num_hours hours.\n",
    "    \n",
    "    The n parameter refers to how many negative data points. If n is set to None (default),\n",
    "    then the number of negative data points = the number of positive data points.\n",
    "    '''\n",
    "    num_flares = 0\n",
    "    for harp_id in harp_ids:\n",
    "        keys = fea.read_data(harp_id)\n",
    "        flare_data = flare_time_dict[harp_id]\n",
    "        for flare_time in flare_data:\n",
    "            if flare_time - keys.TIME[0] > num_hours and flare_time < keys.TIME.iloc[-1]:\n",
    "                num_flares += 1\n",
    "    if n != None:\n",
    "        num_samples_per_datapoint = math.ceil(n / num_flares) * 10\n",
    "    else:\n",
    "        n = num_flares\n",
    "        num_samples_per_datapoint = 10\n",
    "    x = []\n",
    "    y = []\n",
    "    harp_list = []\n",
    "    num_negative = 0\n",
    "    for harp_id in harp_ids:\n",
    "        keys = fea.read_data(harp_id)\n",
    "        flare_data = flare_time_dict[harp_id]\n",
    "        if flare_data:\n",
    "            for flare_time in flare_data:\n",
    "                # Throw out flare data with less than 24 hours of preceding data\n",
    "                if flare_time - keys.TIME[0] > num_hours and flare_time < keys.TIME.iloc[-1]:\n",
    "                    data = []\n",
    "                    for i, time in enumerate(keys.TIME):\n",
    "                        if time <= flare_time and time >= flare_time - num_hours:\n",
    "                            data.append({'time': time, 'flux': keys.USFLUX[i],\n",
    "                                        'free_energy': keys.TOTPOT[i], 'area': keys.AREA_ACR[i],\n",
    "                                        'polarity_inversion_flux': keys.R_VALUE[i]})\n",
    "                    if not data or data[-1]['time'] - data[0]['time'] < num_hours - 1:\n",
    "                        # Insufficient data\n",
    "                        continue\n",
    "                    x.append(data)\n",
    "                    harp_list.append(harp_id)\n",
    "                    y.append(True) # True => flare is present\n",
    "            for _ in range(num_samples_per_datapoint):\n",
    "                if num_negative >= n: break\n",
    "                first_time = keys.TIME[0]\n",
    "                is_possible = False\n",
    "                for flare_time in flare_data:\n",
    "                    if flare_time - first_time > num_hours:\n",
    "                        is_possible = True\n",
    "                    first_time = flare_time\n",
    "                if not is_possible: break\n",
    "                is_valid = False\n",
    "                while not is_valid:\n",
    "                    end_time = keys.TIME[random.randrange(len(keys.TIME))]\n",
    "                    for flare_time in flare_data + [keys.TIME[0]]:\n",
    "                        if end_time - flare_time > num_hours: is_valid = True\n",
    "                data = []\n",
    "                for i, time in enumerate(keys.TIME):\n",
    "                    if time <= end_time and time >= end_time - num_hours:\n",
    "                        data.append({'time': time, 'flux': keys.USFLUX[i],\n",
    "                                    'free_energy': keys.TOTPOT[i], 'area': keys.AREA_ACR[i],\n",
    "                                    'polarity_inversion_flux': keys.R_VALUE[i]})\n",
    "                if not data or data[-1]['time'] - data[0]['time'] < num_hours - 1:\n",
    "                    # Insufficient data\n",
    "                    continue\n",
    "                x.append(data)\n",
    "                harp_list.append(harp_id)\n",
    "                y.append(False) # False => flare is not present\n",
    "                num_negative += 1\n",
    "    if return_harp_ids:\n",
    "        return x, y, harp_list\n",
    "    else:\n",
    "        return x, y"
   ]
  },
  {
   "cell_type": "code",
   "execution_count": 37,
   "metadata": {
    "scrolled": true
   },
   "outputs": [
    {
     "name": "stdout",
     "output_type": "stream",
     "text": [
      "# Positive: 410 --- # Negative: 432\n"
     ]
    }
   ],
   "source": [
    "seg_x, seg_y, harp_list = get_segmented_data(harp_ids, flare_time_dict,\n",
    "                                             return_harp_ids=True, num_hours=24)\n",
    "positive_count, negative_count = 0, 0\n",
    "for has_flare in seg_y:\n",
    "    if has_flare: positive_count += 1\n",
    "    else: negative_count += 1\n",
    "print('# Positive:', positive_count, '--- # Negative:', negative_count)"
   ]
  },
  {
   "cell_type": "code",
   "execution_count": 38,
   "metadata": {},
   "outputs": [],
   "source": [
    "def plot_segmented_graphs(seg_x, seg_y, variables=['flux'], flare=True, n=5,\n",
    "                          color=None, delta=True, scale=False):\n",
    "    '''This method plots n random graphs that correspond to flaring active \n",
    "    regions if flare is True, and non-flaring active regions if flare is False.\n",
    "    If delta is True, it normalizes the graph (variables at time=0 are set to 0).\n",
    "    If scale is True, it normalizes the graph to be in the range [-1, 1].\n",
    "    '''\n",
    "    for _ in range(n):\n",
    "        i = random.randrange(len(seg_y))\n",
    "        while seg_y[i] != flare:\n",
    "            i = random.randrange(len(seg_y))\n",
    "        data = seg_x[i]\n",
    "        for variable in variables:\n",
    "            x, y = [], []\n",
    "            start_data = data[0][variable]\n",
    "            var_data = []\n",
    "            for data_pt in data:\n",
    "                var_data.append(data_pt[variable])\n",
    "            if delta:\n",
    "                max_data = max(max(var_data - start_data), abs(min(var_data - start_data))) / 1e22\n",
    "            else:\n",
    "                max_data = max(max(var_data), abs(min(var_data))) / 1e22\n",
    "            for data_pt in data:\n",
    "                x.append(data_pt['time'])\n",
    "                y_pt = data_pt[variable] / 1e22\n",
    "                if delta:\n",
    "                    y_pt -= start_data / 1e22\n",
    "                if scale:\n",
    "                    y_pt /= max_data\n",
    "                y.append(y_pt)\n",
    "            variable_names = map(lambda x : x.title().replace('_', ' '), variables)\n",
    "            fea.plot_graph(x, y, 'Hours Since Active Region Detected',\n",
    "                        'Units',\n",
    "                        ', '.join(variable_names) + ' vs. Time for Active Region',\n",
    "                        clr=color, label=variable)\n",
    "        plt.show()"
   ]
  },
  {
   "cell_type": "code",
   "execution_count": 59,
   "metadata": {},
   "outputs": [
    {
     "data": {
      "image/png": "[encoded data removed]",
      "text/plain": [
       "<Figure size 432x288 with 1 Axes>"
      ]
     },
     "metadata": {
      "needs_background": "light"
     },
     "output_type": "display_data"
    },
    {
     "data": {
      "image/png": "[encoded data removed]",
      "text/plain": [
       "<Figure size 432x288 with 1 Axes>"
      ]
     },
     "metadata": {
      "needs_background": "light"
     },
     "output_type": "display_data"
    }
   ],
   "source": [
    "num_graphs = 2\n",
    "plot_segmented_graphs(seg_x, seg_y, variables=['flux', 'free_energy', 'area',\n",
    "                                               'polarity_inversion_flux'],\n",
    "                      scale=True, flare=True, n=num_graphs)"
   ]
  },
  {
   "cell_type": "markdown",
   "metadata": {},
   "source": [
    "## Spearman Coefficient\n",
    "(from Wikipedia): Spearman's correlation assesses monotonic relationships (whether linear or not). If there are no repeated data values, a perfect Spearman correlation of +1 or −1 occurs when each of the variables is a perfect monotone function of the other."
   ]
  },
  {
   "cell_type": "code",
   "execution_count": 7,
   "metadata": {},
   "outputs": [],
   "source": [
    "def calculate_spearman(seg_x, first_var, second_var):\n",
    "    '''Calculate the Spearman coefficient between two variables. This method calculates\n",
    "    the coefficient between the two variables for every time series data series, then\n",
    "    returns the mean and standard deviation of the coefficients.\n",
    "    '''\n",
    "    s_coeff_list = []\n",
    "    for data in seg_x:\n",
    "        first_var_data = []\n",
    "        second_var_data = []\n",
    "        for data_pt in data:\n",
    "            first_var_data.append(data_pt[first_var])\n",
    "            second_var_data.append(data_pt[second_var])\n",
    "        s_coeff = scipy.stats.spearmanr(first_var_data, second_var_data).correlation\n",
    "        if not math.isnan(s_coeff): s_coeff_list.append(s_coeff)\n",
    "    return np.mean(s_coeff_list), np.std(s_coeff_list)"
   ]
  },
  {
   "cell_type": "code",
   "execution_count": 8,
   "metadata": {},
   "outputs": [
    {
     "name": "stdout",
     "output_type": "stream",
     "text": [
      "S_coefficient for flux vs. free_energy. mean: 0.4914401047921906 std: 0.5263774007889348\n",
      "S_coefficient for flux vs. area. mean: 0.14574092934029026 std: 0.6340789438541087\n"
     ]
    },
    {
     "name": "stderr",
     "output_type": "stream",
     "text": [
      "/Users/lucaspauker/anaconda3/envs/solar_physics/lib/python3.7/site-packages/numpy/lib/function_base.py:2530: RuntimeWarning: invalid value encountered in true_divide\n",
      "  c /= stddev[:, None]\n",
      "/Users/lucaspauker/anaconda3/envs/solar_physics/lib/python3.7/site-packages/numpy/lib/function_base.py:2531: RuntimeWarning: invalid value encountered in true_divide\n",
      "  c /= stddev[None, :]\n",
      "/Users/lucaspauker/anaconda3/envs/solar_physics/lib/python3.7/site-packages/scipy/stats/_distn_infrastructure.py:901: RuntimeWarning: invalid value encountered in greater\n",
      "  return (a < x) & (x < b)\n",
      "/Users/lucaspauker/anaconda3/envs/solar_physics/lib/python3.7/site-packages/scipy/stats/_distn_infrastructure.py:901: RuntimeWarning: invalid value encountered in less\n",
      "  return (a < x) & (x < b)\n",
      "/Users/lucaspauker/anaconda3/envs/solar_physics/lib/python3.7/site-packages/scipy/stats/_distn_infrastructure.py:1892: RuntimeWarning: invalid value encountered in less_equal\n",
      "  cond2 = cond0 & (x <= _a)\n"
     ]
    },
    {
     "name": "stdout",
     "output_type": "stream",
     "text": [
      "S_coefficient for flux vs. polarity_inversion_flux. mean: 0.1622368417505543 std: 0.46408004450206713\n"
     ]
    }
   ],
   "source": [
    "for var in ['free_energy', 'area', 'polarity_inversion_flux']:\n",
    "    s_coeff, s_dev = calculate_spearman(seg_x, 'flux', var)\n",
    "    print('S_coefficient for flux vs.', var + '. mean:', s_coeff, 'std:', s_dev)"
   ]
  },
  {
   "cell_type": "code",
   "execution_count": 9,
   "metadata": {},
   "outputs": [],
   "source": [
    "def create_learning_dataset(seg_x, seg_y, variable, features):\n",
    "    '''Creates learning dataset with time series data.\n",
    "    '''\n",
    "    x, y = [], []\n",
    "    for i, data in enumerate(seg_x):\n",
    "        if len(data) < 4: continue\n",
    "        time_data, variable_data = [], []\n",
    "        for data_pt in data:\n",
    "            time_data.append(data_pt['time'])\n",
    "            if variable in ['flux', 'free_energy']:\n",
    "                variable_data.append(data_pt[variable] / 1e22)\n",
    "            else:\n",
    "                variable_data.append(data_pt[variable])\n",
    "        #print(seg_y[i])\n",
    "        time_data = np.array(time_data)\n",
    "        variable_data = np.array(variable_data)\n",
    "        if not any(variable_data): continue\n",
    "        #print(variable_data)\n",
    "        data, names = fea.extract_time_series_features(time_data, variable_data, features)\n",
    "        if not any(data): continue\n",
    "        x.append(data)\n",
    "        y.append(seg_y[i])\n",
    "    return x, y, names"
   ]
  },
  {
   "cell_type": "code",
   "execution_count": 10,
   "metadata": {},
   "outputs": [
    {
     "name": "stdout",
     "output_type": "stream",
     "text": [
      "Features used: ['quad_1', 'quad_2', 'quad_3', 'r^2_quad'] for flux and free_energy\n"
     ]
    }
   ],
   "source": [
    "features = [fea.quadratic_features]\n",
    "raw_x_data = np.array([])\n",
    "y_data = []\n",
    "variables = ['flux', 'free_energy']\n",
    "for variable in variables:\n",
    "    x, y, feature_names = create_learning_dataset(seg_x, seg_y, variable, features)\n",
    "    if raw_x_data.size == 0: raw_x_data = np.array(x)\n",
    "    else: raw_x_data = np.hstack((raw_x_data, np.array(x)))\n",
    "    y_data = y\n",
    "print('Features used:', feature_names, 'for', ' and '.join(variables))"
   ]
  },
  {
   "cell_type": "code",
   "execution_count": 11,
   "metadata": {},
   "outputs": [
    {
     "name": "stdout",
     "output_type": "stream",
     "text": [
      "9364 9364\n"
     ]
    }
   ],
   "source": [
    "x_data = fea.scale_x_data(raw_x_data)\n",
    "print(len(x_data), len(y_data))"
   ]
  },
  {
   "cell_type": "code",
   "execution_count": 12,
   "metadata": {},
   "outputs": [
    {
     "name": "stdout",
     "output_type": "stream",
     "text": [
      "[[0.61301095 0.30332906 0.63695989 ... 0.49148191 0.51224274 0.97054013]\n",
      " [0.51755418 0.32774278 0.63320869 ... 0.50334276 0.51027289 0.9890788 ]\n",
      " [0.53738927 0.32152272 0.63437656 ... 0.50187887 0.51055416 0.98859589]\n",
      " ...\n",
      " [0.52444703 0.32568321 0.63395788 ... 0.50693067 0.51019992 0.83661283]\n",
      " [0.55355282 0.31242808 0.63743215 ... 0.48633044 0.51728007 0.97073039]\n",
      " [0.5522464  0.31505743 0.63528998 ... 0.48374245 0.52290139 0.94457829]]\n"
     ]
    }
   ],
   "source": [
    "print(x_data)"
   ]
  },
  {
   "cell_type": "code",
   "execution_count": 13,
   "metadata": {
    "scrolled": true
   },
   "outputs": [
    {
     "name": "stdout",
     "output_type": "stream",
     "text": [
      "Stochastic Gradient Descent:\n",
      "> Train accuracy: 0.519253880108216\n",
      "> Test accuracy: 0.5174967962409227\n",
      "> Precision: 0.49282905389775616\n",
      "> Recall: 0.9360720562390158\n",
      "> TSS Score: 0.024808548342091452\n",
      "> [[ 0.37866131  0.8144637   2.42381864  0.2397331  -0.17884469  4.36248471\n",
      "   2.23582814  1.42753173]] \n",
      "\n",
      "AdaBoost:\n",
      "> Train accuracy: 0.6895457781574824\n",
      "> Test accuracy: 0.6783853054250322\n",
      "> Precision: 0.6931191560776793\n",
      "> Recall: 0.6351054481546573\n",
      "> TSS Score: 0.3691037856442666\n",
      "> [0.08 0.04 0.16 0.08 0.24 0.24 0.08 0.08] \n",
      "\n",
      "Random Forest:\n",
      "> Train accuracy: 0.6689790687740281\n",
      "> Test accuracy: 0.6611106364801366\n",
      "> Precision: 0.6953846153846154\n",
      "> Recall: 0.5461335676625659\n",
      "> TSS Score: 0.3198243407298976\n",
      "> [0.09951482 0.09745544 0.08517135 0.         0.30470983 0.21938697\n",
      " 0.16027993 0.03348165] \n",
      "\n",
      "The best algorithm is AdaBoost with a test accuracy of 0.6783853054250322\n"
     ]
    }
   ],
   "source": [
    "fea.run_learning_algorithms(x_data, y_data)"
   ]
  },
  {
   "cell_type": "markdown",
   "metadata": {},
   "source": [
    "# Data Analysis\n",
    "Let's understand the relationship between accuracy and lag time, as well as accuracy vs. prediction time."
   ]
  },
  {
   "cell_type": "code",
   "execution_count": 51,
   "metadata": {},
   "outputs": [],
   "source": [
    "def lag_vs_accuracy_graph(harp_ids, flare_time_dict, hour_range=range(1, 25, 5),\n",
    "                         accuracy_data=True, flux_coefs=False):\n",
    "    #seg_x, seg_y, harp_list = get_segmented_data(harp_ids, flare_time_dict,\n",
    "    #                                             return_harp_ids=True, num_hours=hour_range[-1])\n",
    "    flux_coef_data = []\n",
    "    time_data = []\n",
    "    data_dict = {}\n",
    "    variables = ['flux', 'free_energy', 'area', 'polarity_inversion_flux']\n",
    "    for variable in variables: data_dict[variable] = [] # List of (time, accuracy, error)\n",
    "    for lag in hour_range:\n",
    "        modified_seg_x = []\n",
    "        # Take time off of the start\n",
    "        for data in seg_x:\n",
    "            end_time = data[-1]['time']\n",
    "            for i, point in enumerate(data):\n",
    "                if end_time - point['time'] < lag:\n",
    "                    modified_seg_x.append(data[i:])\n",
    "                    break\n",
    "        print('Time:', modified_seg_x[0][-1]['time'] - modified_seg_x[0][0]['time'])\n",
    "        lag_time = modified_seg_x[0][-1]['time'] - modified_seg_x[0][0]['time']\n",
    "        time_data.append(lag_time)\n",
    "        features = [fea.spline_features]\n",
    "        raw_x_data = np.array([])\n",
    "        y_data = []\n",
    "        if flux_coefs: variables = variables[:1]\n",
    "        for variable in variables:\n",
    "            x, y, feature_names = create_learning_dataset(modified_seg_x, seg_y, variable, features)\n",
    "            raw_x_data = np.array(x)\n",
    "            x_data = fea.scale_x_data(raw_x_data)\n",
    "            y_data = y\n",
    "\n",
    "            clf = AdaBoostClassifier(n_estimators=25, random_state=0)\n",
    "            #clf = SGDClassifier(loss='hinge', penalty='l2')\n",
    "            accuracies = []\n",
    "            coefs = []\n",
    "            for _ in range(10):\n",
    "                _, test_accuracy = fea.fit_algorithm(clf, x_data, y_data, 50)\n",
    "                accuracies.append(test_accuracy)\n",
    "                if variable == 'flux':\n",
    "                    #coefs.append(clf.coef_[0])\n",
    "                    coefs.append(clf.feature_importances_)\n",
    "            if variable == 'flux': flux_coef_data.append(sum(coefs) / len(coefs)) # Average coefficients\n",
    "            accuracy = np.mean(accuracies)\n",
    "            accuracy_error = np.std(accuracies)\n",
    "            data_dict[variable].append((lag_time, accuracy, accuracy_error))\n",
    "            result_vals_dict = {'TP': 0, 'FP': 0, 'TN': 0, 'FN':0}\n",
    "            for i, data_pt in enumerate(x):\n",
    "                prediction = clf.predict([data_pt])\n",
    "                if prediction == y[i]:\n",
    "                    if prediction == 1:\n",
    "                        result_vals_dict['TP'] += 1\n",
    "                    else:\n",
    "                        result_vals_dict['TN'] += 1\n",
    "                else:\n",
    "                    if prediction == 1:\n",
    "                        result_vals_dict['FP'] += 1\n",
    "                    else:\n",
    "                        result_vals_dict['FN'] += 1\n",
    "            precision = result_vals_dict['TP'] / (result_vals_dict['TP'] + result_vals_dict['FP'])\n",
    "            recall = result_vals_dict['TP'] / (result_vals_dict['TP'] + result_vals_dict['FN'])\n",
    "            f1 = 2 * (precision * recall) / (precision + recall)\n",
    "    if accuracy_data:\n",
    "        return data_dict\n",
    "    elif flux_coefs:\n",
    "        return flux_coef_data, time_data"
   ]
  },
  {
   "cell_type": "code",
   "execution_count": 52,
   "metadata": {
    "scrolled": true
   },
   "outputs": [
    {
     "name": "stdout",
     "output_type": "stream",
     "text": [
      "Time: 0.7999999999999972\n",
      "Time: 5.799999999999997\n",
      "Time: 10.799999999999997\n",
      "Time: 15.999999999999993\n",
      "Time: 20.999999999999993\n"
     ]
    }
   ],
   "source": [
    "#coef_data, time_data = lag_vs_accuracy_graph(harp_ids, flare_time_dict,\n",
    "#                                             accuracy_data=False, flux_coefs=True)\n",
    "data_dict = lag_vs_accuracy_graph(harp_ids, flare_time_dict, accuracy_data=True)"
   ]
  },
  {
   "cell_type": "code",
   "execution_count": 53,
   "metadata": {},
   "outputs": [
    {
     "data": {
      "text/plain": [
       "{'flux': [(0.7999999999999972, 0.579, 0.015077577170531537),\n",
       "  (5.799999999999997, 0.6188, 0.0029268326235624524),\n",
       "  (10.799999999999997, 0.6136208530805688, 0.00449673880865892),\n",
       "  (15.999999999999993, 0.596654028436019, 0.002802242665898356),\n",
       "  (20.999999999999993, 0.6100379146919431, 0.004391081580703723)],\n",
       " 'free_energy': [(0.7999999999999972,\n",
       "   0.6281666666666668,\n",
       "   0.019096974745871173),\n",
       "  (5.799999999999997, 0.6767238095238095, 0.004601725004373196),\n",
       "  (10.799999999999997, 0.6752796208530807, 0.002868391159193873),\n",
       "  (15.999999999999993, 0.6766540284360191, 0.003930633229628332),\n",
       "  (20.999999999999993, 0.688, 0.0039774752691698265)],\n",
       " 'area': [(0.7999999999999972, 0.5871666666666666, 0.018515008926693936),\n",
       "  (5.799999999999997, 0.6470095238095239, 0.005657848280533306),\n",
       "  (10.799999999999997, 0.6410805687203791, 0.0025381613821100894),\n",
       "  (15.999999999999993, 0.652436018957346, 0.003623234372414441),\n",
       "  (20.999999999999993, 0.6586255924170616, 0.004820024044726167)],\n",
       " 'polarity_inversion_flux': [(0.7999999999999972,\n",
       "   0.5976363636363636,\n",
       "   0.020409850157976972),\n",
       "  (5.799999999999997, 0.6824019138755981, 0.0036635723443506217),\n",
       "  (10.799999999999997, 0.6873904761904762, 0.0036940105963185685),\n",
       "  (15.999999999999993, 0.6922654028436018, 0.004274913041991346),\n",
       "  (20.999999999999993, 0.7039715639810427, 0.0034323922680857292)]}"
      ]
     },
     "execution_count": 53,
     "metadata": {},
     "output_type": "execute_result"
    }
   ],
   "source": [
    "data_dict"
   ]
  },
  {
   "cell_type": "code",
   "execution_count": 42,
   "metadata": {},
   "outputs": [
    {
     "data": {
      "text/plain": [
       "[array([0.196, 0.136, 0.12 , 0.132, 0.088, 0.172, 0.156]),\n",
       " array([0.088, 0.12 , 0.276, 0.196, 0.072, 0.104, 0.144]),\n",
       " array([0.096, 0.14 , 0.16 , 0.188, 0.14 , 0.072, 0.204]),\n",
       " array([0.164, 0.196, 0.136, 0.136, 0.132, 0.084, 0.152]),\n",
       " array([0.144, 0.144, 0.132, 0.12 , 0.112, 0.164, 0.184])]"
      ]
     },
     "execution_count": 42,
     "metadata": {},
     "output_type": "execute_result"
    }
   ],
   "source": [
    "coef_data"
   ]
  },
  {
   "cell_type": "markdown",
   "metadata": {},
   "source": [
    "fig = InteractiveTimeSeriesFigure(title='Radial Velocity Curve', time_mode='relative')\n",
    "fig.xlabel = 'Lag time (hours)'\n",
    "fig.ylabel = 'Percent accuracy'\n",
    "for var in data_dict:\n",
    "    time_data = []\n",
    "    accuracy_data = []\n",
    "    error_data = []\n",
    "    for tup in data_dict[var]:\n",
    "        time_data.append(tup[0])\n",
    "        accuracy_data.append(tup[1])\n",
    "        error_data.append(tup[2])\n",
    "    ts = TimeSeries(time_start='2016-03-22T12:30:31', time_delta=3*units.s, n_samples=len(time_data))\n",
    "    ts['relative'] = time_data * units.s\n",
    "    ts['accuracy'] = accuracy_data\n",
    "    markers = fig.add_line(time_series=ts, time_column='relative', column='accuracy', size=50, label='Test')\n",
    "    markers.tooltip = ['accuracy']\n",
    "    #fea.plot_graph(time_data, accuracy_data, 'Lag time (hours)', 'Accuracy (%)', 'Lag time vs. accuracy')\n",
    "fig.preview_interactive()"
   ]
  },
  {
   "cell_type": "code",
   "execution_count": 46,
   "metadata": {},
   "outputs": [],
   "source": [
    "def plot_accuracy_data(data_dict):\n",
    "    accuracy_data = {}\n",
    "    error_data = {}\n",
    "    for var in data_dict:\n",
    "        time_data = []\n",
    "        accuracy_subset = []\n",
    "        error_subset = []\n",
    "        for tup in data_dict[var]:\n",
    "            time_data.append(tup[0])\n",
    "            accuracy_subset.append(tup[1])\n",
    "            error_subset.append(tup[2])\n",
    "        accuracy_data[var] = accuracy_subset\n",
    "        error_data[var] = error_subset\n",
    "\n",
    "    # Basic plot setup\n",
    "    plot = figure(plot_width=600, plot_height=300, tools=\"\",\n",
    "                  toolbar_location=None, title=\"Lag time vs. accuracy\",\n",
    "                  x_axis_label='x', y_axis_label='y')\n",
    "\n",
    "    cr = []\n",
    "    colors = [\"orange\", \"green\", \"red\", \"blue\"]\n",
    "    for i, var in enumerate(accuracy_data):\n",
    "        source = ColumnDataSource(data=dict(\n",
    "            x_data = time_data,\n",
    "            y_data = accuracy_data[var],\n",
    "        ))\n",
    "        plot.line(\"x_data\", \"y_data\", line_width=1, color=colors[i],\n",
    "                  legend=var.capitalize().replace(\"_\", \" \"), source=source)\n",
    "        cr.append(plot.circle(\"x_data\", \"y_data\", size=10, source=source,\n",
    "                        fill_color=\"grey\", hover_fill_color=colors[i],\n",
    "                        fill_alpha=0.25, hover_alpha=0.5,\n",
    "                        line_color=None, hover_line_color=\"white\"))\n",
    "\n",
    "    for var in accuracy_data:\n",
    "        err_xs = []\n",
    "        err_ys = []\n",
    "\n",
    "        for x, y, yerr in zip(time_data, accuracy_data[var], error_data[var]):\n",
    "            err_xs.append((x, x))\n",
    "            err_ys.append((y - yerr / 2, y + yerr / 2))\n",
    "\n",
    "        # plot them\n",
    "        plot.multi_line(err_xs, err_ys, color='red')\n",
    "\n",
    "    plot.add_tools(HoverTool(tooltips=[(\"Accuracy\", \"@y_data %\")], renderers=cr, mode='vline'))\n",
    "    plot.legend.location = \"bottom_right\"\n",
    "\n",
    "    show(column(plot))"
   ]
  },
  {
   "cell_type": "code",
   "execution_count": 60,
   "metadata": {},
   "outputs": [],
   "source": [
    "def plot_coef_data(coef_data, time_data):\n",
    "    coef_data = np.array(coef_data)\n",
    "    transposed_data = coef_data.transpose()\n",
    "\n",
    "    # Basic plot setup\n",
    "    plot = figure(plot_width=600, plot_height=300, tools=\"\",\n",
    "                  toolbar_location=None, title=\"Lag time vs. flux feature importances\",\n",
    "                  x_axis_label='Lag time (hr)', y_axis_label=\"Importance\")\n",
    "\n",
    "    cr = []\n",
    "    colors = [\"orange\", \"green\", \"red\", \"blue\", \"purple\", \"pink\", \"black\"]\n",
    "    items = []\n",
    "    for i, var in enumerate(transposed_data):\n",
    "        source = ColumnDataSource(data=dict(\n",
    "            x_data = time_data,\n",
    "            y_data = var,\n",
    "        ))\n",
    "        item = plot.line(\"x_data\", \"y_data\", line_width=1, color=colors[i], source=source)\n",
    "        items.append((\"coef \" + str(i + 1), [item]))\n",
    "        cr.append(plot.circle(\"x_data\", \"y_data\", size=10, source=source,\n",
    "                        fill_color=\"grey\", hover_fill_color=colors[i],\n",
    "                        fill_alpha=0.25, hover_alpha=0.5,\n",
    "                        line_color=None, hover_line_color=\"white\"))\n",
    "\n",
    "    plot.add_tools(HoverTool(tooltips=[(\"Importance\", \"@y_data\")], renderers=cr, mode='vline'))\n",
    "    legend = Legend(items=items)\n",
    "\n",
    "    plot.add_layout(legend, 'right')\n",
    "    #plot.legend.location = (550, -30)\n",
    "    #plot.legend.click_policy=\"hide\"\n",
    "\n",
    "    show(column(plot))"
   ]
  },
  {
   "cell_type": "code",
   "execution_count": 61,
   "metadata": {},
   "outputs": [
    {
     "data": {
      "text/html": [
       "\n",
       "\n",
       "\n",
       "\n",
       "\n",
       "\n",
       "  <div class=\"bk-root\" id=\"f78c1aaf-310d-4812-a450-fc3a2a892788\" data-root-id=\"3735\"></div>\n"
      ]
     },
     "metadata": {},
     "output_type": "display_data"
    },
    {
     "data": {
      "application/javascript": [
       "(function(root) {\n",
       "  function embed_document(root) {\n",
       "    \n",
       "  var docs_json = {\"5230fdbd-c3e1-4c03-ab13-88d079d50929\":{\"roots\":{\"references\":[{\"attributes\":{\"children\":[{\"id\":\"3619\",\"subtype\":\"Figure\",\"type\":\"Plot\"}]},\"id\":\"3735\",\"type\":\"Column\"},{\"attributes\":{\"fill_alpha\":{\"value\":0.1},\"fill_color\":{\"value\":\"#1f77b4\"},\"line_alpha\":{\"value\":0.1},\"line_color\":{\"value\":\"#1f77b4\"},\"size\":{\"units\":\"screen\",\"value\":10},\"x\":{\"field\":\"x_data\"},\"y\":{\"field\":\"y_data\"}},\"id\":\"3697\",\"type\":\"Circle\"},{\"attributes\":{},\"id\":\"3883\",\"type\":\"UnionRenderers\"},{\"attributes\":{\"fill_alpha\":{\"value\":0.5},\"fill_color\":{\"value\":\"pink\"},\"line_alpha\":{\"value\":0.5},\"line_color\":{\"value\":\"white\"},\"size\":{\"units\":\"screen\",\"value\":10},\"x\":{\"field\":\"x_data\"},\"y\":{\"field\":\"y_data\"}},\"id\":\"3710\",\"type\":\"Circle\"},{\"attributes\":{},\"id\":\"3890\",\"type\":\"Selection\"},{\"attributes\":{},\"id\":\"3875\",\"type\":\"BasicTickFormatter\"},{\"attributes\":{\"label\":{\"value\":\"coef 6\"},\"renderers\":[{\"id\":\"3705\",\"type\":\"GlyphRenderer\"}]},\"id\":\"3733\",\"type\":\"LegendItem\"},{\"attributes\":{\"fill_alpha\":{\"value\":0.1},\"fill_color\":{\"value\":\"#1f77b4\"},\"line_alpha\":{\"value\":0.1},\"line_color\":{\"value\":\"#1f77b4\"},\"size\":{\"units\":\"screen\",\"value\":10},\"x\":{\"field\":\"x_data\"},\"y\":{\"field\":\"y_data\"}},\"id\":\"3709\",\"type\":\"Circle\"},{\"attributes\":{\"fill_alpha\":{\"value\":0.5},\"fill_color\":{\"value\":\"purple\"},\"line_alpha\":{\"value\":0.5},\"line_color\":{\"value\":\"white\"},\"size\":{\"units\":\"screen\",\"value\":10},\"x\":{\"field\":\"x_data\"},\"y\":{\"field\":\"y_data\"}},\"id\":\"3698\",\"type\":\"Circle\"},{\"attributes\":{},\"id\":\"3891\",\"type\":\"UnionRenderers\"},{\"attributes\":{\"source\":{\"id\":\"3677\",\"type\":\"ColumnDataSource\"}},\"id\":\"3688\",\"type\":\"CDSView\"},{\"attributes\":{\"callback\":null,\"data\":{\"x_data\":[0.7999999999999972,5.799999999999997,10.799999999999997,15.999999999999993,20.999999999999993],\"y_data\":{\"__ndarray__\":\"K4cW2c73wz8730+Nl27CP+omMQisHMo/2/l+arx0wz9aZDvfT43HPw==\",\"dtype\":\"float64\",\"shape\":[5]}},\"selected\":{\"id\":\"3890\",\"type\":\"Selection\"},\"selection_policy\":{\"id\":\"3891\",\"type\":\"UnionRenderers\"}},\"id\":\"3713\",\"type\":\"ColumnDataSource\"},{\"attributes\":{\"callback\":null,\"data\":{\"x_data\":[0.7999999999999972,5.799999999999997,10.799999999999997,15.999999999999993,20.999999999999993],\"y_data\":{\"__ndarray__\":\"ukkMAiuHtj8830+Nl26yP+xRuB6F68E/TTeJQWDlwD946SYxCKy8Pw==\",\"dtype\":\"float64\",\"shape\":[5]}},\"selected\":{\"id\":\"3886\",\"type\":\"Selection\"},\"selection_policy\":{\"id\":\"3887\",\"type\":\"UnionRenderers\"}},\"id\":\"3689\",\"type\":\"ColumnDataSource\"},{\"attributes\":{},\"id\":\"3887\",\"type\":\"UnionRenderers\"},{\"attributes\":{\"line_alpha\":0.1,\"line_color\":\"#1f77b4\",\"x\":{\"field\":\"x_data\"},\"y\":{\"field\":\"y_data\"}},\"id\":\"3692\",\"type\":\"Line\"},{\"attributes\":{},\"id\":\"3882\",\"type\":\"Selection\"},{\"attributes\":{\"data_source\":{\"id\":\"3677\",\"type\":\"ColumnDataSource\"},\"glyph\":{\"id\":\"3679\",\"type\":\"Line\"},\"hover_glyph\":null,\"muted_glyph\":null,\"nonselection_glyph\":{\"id\":\"3680\",\"type\":\"Line\"},\"selection_glyph\":null,\"view\":{\"id\":\"3682\",\"type\":\"CDSView\"}},\"id\":\"3681\",\"type\":\"GlyphRenderer\"},{\"attributes\":{\"line_alpha\":0.1,\"line_color\":\"#1f77b4\",\"x\":{\"field\":\"x_data\"},\"y\":{\"field\":\"y_data\"}},\"id\":\"3716\",\"type\":\"Line\"},{\"attributes\":{},\"id\":\"3885\",\"type\":\"UnionRenderers\"},{\"attributes\":{\"line_alpha\":0.1,\"line_color\":\"#1f77b4\",\"x\":{\"field\":\"x_data\"},\"y\":{\"field\":\"y_data\"}},\"id\":\"3680\",\"type\":\"Line\"},{\"attributes\":{\"callback\":null,\"data\":{\"x_data\":[0.7999999999999972,5.799999999999997,10.799999999999997,15.999999999999993,20.999999999999993],\"y_data\":{\"__ndarray__\":\"TDeJQWDlwD9KDAIrhxbJP6rx0k1iEMg/ncQgsHJowT+6HoXrUbi+Pw==\",\"dtype\":\"float64\",\"shape\":[5]}},\"selected\":{\"id\":\"3884\",\"type\":\"Selection\"},\"selection_policy\":{\"id\":\"3885\",\"type\":\"UnionRenderers\"}},\"id\":\"3677\",\"type\":\"ColumnDataSource\"},{\"attributes\":{},\"id\":\"3877\",\"type\":\"BasicTickFormatter\"},{\"attributes\":{},\"id\":\"3886\",\"type\":\"Selection\"},{\"attributes\":{},\"id\":\"3881\",\"type\":\"UnionRenderers\"},{\"attributes\":{\"fill_alpha\":{\"value\":0.5},\"fill_color\":{\"value\":\"green\"},\"line_alpha\":{\"value\":0.5},\"line_color\":{\"value\":\"white\"},\"size\":{\"units\":\"screen\",\"value\":10},\"x\":{\"field\":\"x_data\"},\"y\":{\"field\":\"y_data\"}},\"id\":\"3662\",\"type\":\"Circle\"},{\"attributes\":{\"line_color\":\"blue\",\"x\":{\"field\":\"x_data\"},\"y\":{\"field\":\"y_data\"}},\"id\":\"3679\",\"type\":\"Line\"},{\"attributes\":{\"source\":{\"id\":\"3701\",\"type\":\"ColumnDataSource\"}},\"id\":\"3712\",\"type\":\"CDSView\"},{\"attributes\":{},\"id\":\"3884\",\"type\":\"Selection\"},{\"attributes\":{\"data_source\":{\"id\":\"3653\",\"type\":\"ColumnDataSource\"},\"glyph\":{\"id\":\"3660\",\"type\":\"Circle\"},\"hover_glyph\":{\"id\":\"3662\",\"type\":\"Circle\"},\"muted_glyph\":null,\"nonselection_glyph\":{\"id\":\"3661\",\"type\":\"Circle\"},\"selection_glyph\":null,\"view\":{\"id\":\"3664\",\"type\":\"CDSView\"}},\"id\":\"3663\",\"type\":\"GlyphRenderer\"},{\"attributes\":{\"data_source\":{\"id\":\"3701\",\"type\":\"ColumnDataSource\"},\"glyph\":{\"id\":\"3708\",\"type\":\"Circle\"},\"hover_glyph\":{\"id\":\"3710\",\"type\":\"Circle\"},\"muted_glyph\":null,\"nonselection_glyph\":{\"id\":\"3709\",\"type\":\"Circle\"},\"selection_glyph\":null,\"view\":{\"id\":\"3712\",\"type\":\"CDSView\"}},\"id\":\"3711\",\"type\":\"GlyphRenderer\"},{\"attributes\":{},\"id\":\"3878\",\"type\":\"Selection\"},{\"attributes\":{\"fill_alpha\":{\"value\":0.25},\"fill_color\":{\"value\":\"grey\"},\"line_color\":{\"value\":null},\"size\":{\"units\":\"screen\",\"value\":10},\"x\":{\"field\":\"x_data\"},\"y\":{\"field\":\"y_data\"}},\"id\":\"3684\",\"type\":\"Circle\"},{\"attributes\":{\"source\":{\"id\":\"3701\",\"type\":\"ColumnDataSource\"}},\"id\":\"3706\",\"type\":\"CDSView\"},{\"attributes\":{},\"id\":\"3889\",\"type\":\"UnionRenderers\"},{\"attributes\":{\"fill_alpha\":{\"value\":0.5},\"fill_color\":{\"value\":\"black\"},\"line_alpha\":{\"value\":0.5},\"line_color\":{\"value\":\"white\"},\"size\":{\"units\":\"screen\",\"value\":10},\"x\":{\"field\":\"x_data\"},\"y\":{\"field\":\"y_data\"}},\"id\":\"3722\",\"type\":\"Circle\"},{\"attributes\":{\"source\":{\"id\":\"3665\",\"type\":\"ColumnDataSource\"}},\"id\":\"3670\",\"type\":\"CDSView\"},{\"attributes\":{\"source\":{\"id\":\"3653\",\"type\":\"ColumnDataSource\"}},\"id\":\"3664\",\"type\":\"CDSView\"},{\"attributes\":{},\"id\":\"3880\",\"type\":\"Selection\"},{\"attributes\":{\"fill_alpha\":{\"value\":0.5},\"fill_color\":{\"value\":\"blue\"},\"line_alpha\":{\"value\":0.5},\"line_color\":{\"value\":\"white\"},\"size\":{\"units\":\"screen\",\"value\":10},\"x\":{\"field\":\"x_data\"},\"y\":{\"field\":\"y_data\"}},\"id\":\"3686\",\"type\":\"Circle\"},{\"attributes\":{\"label\":{\"value\":\"coef 7\"},\"renderers\":[{\"id\":\"3717\",\"type\":\"GlyphRenderer\"}]},\"id\":\"3734\",\"type\":\"LegendItem\"},{\"attributes\":{\"fill_alpha\":{\"value\":0.5},\"fill_color\":{\"value\":\"red\"},\"line_alpha\":{\"value\":0.5},\"line_color\":{\"value\":\"white\"},\"size\":{\"units\":\"screen\",\"value\":10},\"x\":{\"field\":\"x_data\"},\"y\":{\"field\":\"y_data\"}},\"id\":\"3674\",\"type\":\"Circle\"},{\"attributes\":{\"x\":{\"field\":\"x_data\"},\"y\":{\"field\":\"y_data\"}},\"id\":\"3715\",\"type\":\"Line\"},{\"attributes\":{\"source\":{\"id\":\"3641\",\"type\":\"ColumnDataSource\"}},\"id\":\"3652\",\"type\":\"CDSView\"},{\"attributes\":{\"data_source\":{\"id\":\"3701\",\"type\":\"ColumnDataSource\"},\"glyph\":{\"id\":\"3703\",\"type\":\"Line\"},\"hover_glyph\":null,\"muted_glyph\":null,\"nonselection_glyph\":{\"id\":\"3704\",\"type\":\"Line\"},\"selection_glyph\":null,\"view\":{\"id\":\"3706\",\"type\":\"CDSView\"}},\"id\":\"3705\",\"type\":\"GlyphRenderer\"},{\"attributes\":{\"fill_alpha\":{\"value\":0.25},\"fill_color\":{\"value\":\"grey\"},\"line_color\":{\"value\":null},\"size\":{\"units\":\"screen\",\"value\":10},\"x\":{\"field\":\"x_data\"},\"y\":{\"field\":\"y_data\"}},\"id\":\"3672\",\"type\":\"Circle\"},{\"attributes\":{\"data_source\":{\"id\":\"3677\",\"type\":\"ColumnDataSource\"},\"glyph\":{\"id\":\"3684\",\"type\":\"Circle\"},\"hover_glyph\":{\"id\":\"3686\",\"type\":\"Circle\"},\"muted_glyph\":null,\"nonselection_glyph\":{\"id\":\"3685\",\"type\":\"Circle\"},\"selection_glyph\":null,\"view\":{\"id\":\"3688\",\"type\":\"CDSView\"}},\"id\":\"3687\",\"type\":\"GlyphRenderer\"},{\"attributes\":{\"line_color\":\"green\",\"x\":{\"field\":\"x_data\"},\"y\":{\"field\":\"y_data\"}},\"id\":\"3655\",\"type\":\"Line\"},{\"attributes\":{\"fill_alpha\":{\"value\":0.1},\"fill_color\":{\"value\":\"#1f77b4\"},\"line_alpha\":{\"value\":0.1},\"line_color\":{\"value\":\"#1f77b4\"},\"size\":{\"units\":\"screen\",\"value\":10},\"x\":{\"field\":\"x_data\"},\"y\":{\"field\":\"y_data\"}},\"id\":\"3649\",\"type\":\"Circle\"},{\"attributes\":{\"fill_alpha\":{\"value\":0.5},\"fill_color\":{\"value\":\"orange\"},\"line_alpha\":{\"value\":0.5},\"line_color\":{\"value\":\"white\"},\"size\":{\"units\":\"screen\",\"value\":10},\"x\":{\"field\":\"x_data\"},\"y\":{\"field\":\"y_data\"}},\"id\":\"3650\",\"type\":\"Circle\"},{\"attributes\":{\"line_color\":\"purple\",\"x\":{\"field\":\"x_data\"},\"y\":{\"field\":\"y_data\"}},\"id\":\"3691\",\"type\":\"Line\"},{\"attributes\":{},\"id\":\"3879\",\"type\":\"UnionRenderers\"},{\"attributes\":{\"data_source\":{\"id\":\"3689\",\"type\":\"ColumnDataSource\"},\"glyph\":{\"id\":\"3691\",\"type\":\"Line\"},\"hover_glyph\":null,\"muted_glyph\":null,\"nonselection_glyph\":{\"id\":\"3692\",\"type\":\"Line\"},\"selection_glyph\":null,\"view\":{\"id\":\"3694\",\"type\":\"CDSView\"}},\"id\":\"3693\",\"type\":\"GlyphRenderer\"},{\"attributes\":{\"label\":{\"value\":\"coef 4\"},\"renderers\":[{\"id\":\"3681\",\"type\":\"GlyphRenderer\"}]},\"id\":\"3731\",\"type\":\"LegendItem\"},{\"attributes\":{\"data_source\":{\"id\":\"3641\",\"type\":\"ColumnDataSource\"},\"glyph\":{\"id\":\"3648\",\"type\":\"Circle\"},\"hover_glyph\":{\"id\":\"3650\",\"type\":\"Circle\"},\"muted_glyph\":null,\"nonselection_glyph\":{\"id\":\"3649\",\"type\":\"Circle\"},\"selection_glyph\":null,\"view\":{\"id\":\"3652\",\"type\":\"CDSView\"}},\"id\":\"3651\",\"type\":\"GlyphRenderer\"},{\"attributes\":{\"fill_alpha\":{\"value\":0.25},\"fill_color\":{\"value\":\"grey\"},\"line_color\":{\"value\":null},\"size\":{\"units\":\"screen\",\"value\":10},\"x\":{\"field\":\"x_data\"},\"y\":{\"field\":\"y_data\"}},\"id\":\"3660\",\"type\":\"Circle\"},{\"attributes\":{\"label\":{\"value\":\"coef 5\"},\"renderers\":[{\"id\":\"3693\",\"type\":\"GlyphRenderer\"}]},\"id\":\"3732\",\"type\":\"LegendItem\"},{\"attributes\":{\"callback\":null,\"data\":{\"x_data\":[0.7999999999999972,5.799999999999997,10.799999999999997,15.999999999999993,20.999999999999993],\"y_data\":{\"__ndarray__\":\"arx0kxgExj86tMh2vp+6PzvfT42XbrI/GS/dJAaBtT/KoUW28/3EPw==\",\"dtype\":\"float64\",\"shape\":[5]}},\"selected\":{\"id\":\"3888\",\"type\":\"Selection\"},\"selection_policy\":{\"id\":\"3889\",\"type\":\"UnionRenderers\"}},\"id\":\"3701\",\"type\":\"ColumnDataSource\"},{\"attributes\":{\"label\":{\"value\":\"coef 3\"},\"renderers\":[{\"id\":\"3669\",\"type\":\"GlyphRenderer\"}]},\"id\":\"3730\",\"type\":\"LegendItem\"},{\"attributes\":{\"fill_alpha\":{\"value\":0.1},\"fill_color\":{\"value\":\"#1f77b4\"},\"line_alpha\":{\"value\":0.1},\"line_color\":{\"value\":\"#1f77b4\"},\"size\":{\"units\":\"screen\",\"value\":10},\"x\":{\"field\":\"x_data\"},\"y\":{\"field\":\"y_data\"}},\"id\":\"3685\",\"type\":\"Circle\"},{\"attributes\":{\"callback\":null,\"data\":{\"x_data\":[0.7999999999999972,5.799999999999997,10.799999999999997,15.999999999999993,20.999999999999993],\"y_data\":{\"__ndarray__\":\"uB6F61G4vj9Di2zn+6nRP3oUrkfhesQ/nMQgsHJowT9LN4lBYOXAPw==\",\"dtype\":\"float64\",\"shape\":[5]}},\"selected\":{\"id\":\"3882\",\"type\":\"Selection\"},\"selection_policy\":{\"id\":\"3883\",\"type\":\"UnionRenderers\"}},\"id\":\"3665\",\"type\":\"ColumnDataSource\"},{\"attributes\":{\"label\":{\"value\":\"coef 2\"},\"renderers\":[{\"id\":\"3657\",\"type\":\"GlyphRenderer\"}]},\"id\":\"3729\",\"type\":\"LegendItem\"},{\"attributes\":{\"data_source\":{\"id\":\"3665\",\"type\":\"ColumnDataSource\"},\"glyph\":{\"id\":\"3672\",\"type\":\"Circle\"},\"hover_glyph\":{\"id\":\"3674\",\"type\":\"Circle\"},\"muted_glyph\":null,\"nonselection_glyph\":{\"id\":\"3673\",\"type\":\"Circle\"},\"selection_glyph\":null,\"view\":{\"id\":\"3676\",\"type\":\"CDSView\"}},\"id\":\"3675\",\"type\":\"GlyphRenderer\"},{\"attributes\":{\"data_source\":{\"id\":\"3653\",\"type\":\"ColumnDataSource\"},\"glyph\":{\"id\":\"3655\",\"type\":\"Line\"},\"hover_glyph\":null,\"muted_glyph\":null,\"nonselection_glyph\":{\"id\":\"3656\",\"type\":\"Line\"},\"selection_glyph\":null,\"view\":{\"id\":\"3658\",\"type\":\"CDSView\"}},\"id\":\"3657\",\"type\":\"GlyphRenderer\"},{\"attributes\":{\"fill_alpha\":{\"value\":0.25},\"fill_color\":{\"value\":\"grey\"},\"line_color\":{\"value\":null},\"size\":{\"units\":\"screen\",\"value\":10},\"x\":{\"field\":\"x_data\"},\"y\":{\"field\":\"y_data\"}},\"id\":\"3648\",\"type\":\"Circle\"},{\"attributes\":{\"fill_alpha\":{\"value\":0.1},\"fill_color\":{\"value\":\"#1f77b4\"},\"line_alpha\":{\"value\":0.1},\"line_color\":{\"value\":\"#1f77b4\"},\"size\":{\"units\":\"screen\",\"value\":10},\"x\":{\"field\":\"x_data\"},\"y\":{\"field\":\"y_data\"}},\"id\":\"3673\",\"type\":\"Circle\"},{\"attributes\":{\"callback\":null,\"data\":{\"x_data\":[0.7999999999999972,5.799999999999997,10.799999999999997,15.999999999999993,20.999999999999993],\"y_data\":{\"__ndarray__\":\"nMQgsHJowT+6HoXrUbi+P+tRuB6F68E/SgwCK4cWyT8730+Nl27CPw==\",\"dtype\":\"float64\",\"shape\":[5]}},\"selected\":{\"id\":\"3880\",\"type\":\"Selection\"},\"selection_policy\":{\"id\":\"3881\",\"type\":\"UnionRenderers\"}},\"id\":\"3653\",\"type\":\"ColumnDataSource\"},{\"attributes\":{\"line_color\":\"pink\",\"x\":{\"field\":\"x_data\"},\"y\":{\"field\":\"y_data\"}},\"id\":\"3703\",\"type\":\"Line\"},{\"attributes\":{\"label\":{\"value\":\"coef 1\"},\"renderers\":[{\"id\":\"3645\",\"type\":\"GlyphRenderer\"}]},\"id\":\"3728\",\"type\":\"LegendItem\"},{\"attributes\":{\"source\":{\"id\":\"3653\",\"type\":\"ColumnDataSource\"}},\"id\":\"3658\",\"type\":\"CDSView\"},{\"attributes\":{\"source\":{\"id\":\"3689\",\"type\":\"ColumnDataSource\"}},\"id\":\"3694\",\"type\":\"CDSView\"},{\"attributes\":{\"items\":[{\"id\":\"3728\",\"type\":\"LegendItem\"},{\"id\":\"3729\",\"type\":\"LegendItem\"},{\"id\":\"3730\",\"type\":\"LegendItem\"},{\"id\":\"3731\",\"type\":\"LegendItem\"},{\"id\":\"3732\",\"type\":\"LegendItem\"},{\"id\":\"3733\",\"type\":\"LegendItem\"},{\"id\":\"3734\",\"type\":\"LegendItem\"}]},\"id\":\"3727\",\"type\":\"Legend\"},{\"attributes\":{\"source\":{\"id\":\"3677\",\"type\":\"ColumnDataSource\"}},\"id\":\"3682\",\"type\":\"CDSView\"},{\"attributes\":{\"source\":{\"id\":\"3665\",\"type\":\"ColumnDataSource\"}},\"id\":\"3676\",\"type\":\"CDSView\"},{\"attributes\":{\"source\":{\"id\":\"3713\",\"type\":\"ColumnDataSource\"}},\"id\":\"3724\",\"type\":\"CDSView\"},{\"attributes\":{\"fill_alpha\":{\"value\":0.1},\"fill_color\":{\"value\":\"#1f77b4\"},\"line_alpha\":{\"value\":0.1},\"line_color\":{\"value\":\"#1f77b4\"},\"size\":{\"units\":\"screen\",\"value\":10},\"x\":{\"field\":\"x_data\"},\"y\":{\"field\":\"y_data\"}},\"id\":\"3661\",\"type\":\"Circle\"},{\"attributes\":{\"source\":{\"id\":\"3689\",\"type\":\"ColumnDataSource\"}},\"id\":\"3700\",\"type\":\"CDSView\"},{\"attributes\":{\"source\":{\"id\":\"3713\",\"type\":\"ColumnDataSource\"}},\"id\":\"3718\",\"type\":\"CDSView\"},{\"attributes\":{\"data_source\":{\"id\":\"3713\",\"type\":\"ColumnDataSource\"},\"glyph\":{\"id\":\"3720\",\"type\":\"Circle\"},\"hover_glyph\":{\"id\":\"3722\",\"type\":\"Circle\"},\"muted_glyph\":null,\"nonselection_glyph\":{\"id\":\"3721\",\"type\":\"Circle\"},\"selection_glyph\":null,\"view\":{\"id\":\"3724\",\"type\":\"CDSView\"}},\"id\":\"3723\",\"type\":\"GlyphRenderer\"},{\"attributes\":{\"fill_alpha\":{\"value\":0.25},\"fill_color\":{\"value\":\"grey\"},\"line_color\":{\"value\":null},\"size\":{\"units\":\"screen\",\"value\":10},\"x\":{\"field\":\"x_data\"},\"y\":{\"field\":\"y_data\"}},\"id\":\"3696\",\"type\":\"Circle\"},{\"attributes\":{\"line_alpha\":0.1,\"line_color\":\"#1f77b4\",\"x\":{\"field\":\"x_data\"},\"y\":{\"field\":\"y_data\"}},\"id\":\"3704\",\"type\":\"Line\"},{\"attributes\":{\"line_alpha\":0.1,\"line_color\":\"#1f77b4\",\"x\":{\"field\":\"x_data\"},\"y\":{\"field\":\"y_data\"}},\"id\":\"3656\",\"type\":\"Line\"},{\"attributes\":{\"fill_alpha\":{\"value\":0.25},\"fill_color\":{\"value\":\"grey\"},\"line_color\":{\"value\":null},\"size\":{\"units\":\"screen\",\"value\":10},\"x\":{\"field\":\"x_data\"},\"y\":{\"field\":\"y_data\"}},\"id\":\"3720\",\"type\":\"Circle\"},{\"attributes\":{\"source\":{\"id\":\"3641\",\"type\":\"ColumnDataSource\"}},\"id\":\"3646\",\"type\":\"CDSView\"},{\"attributes\":{\"line_color\":\"red\",\"x\":{\"field\":\"x_data\"},\"y\":{\"field\":\"y_data\"}},\"id\":\"3667\",\"type\":\"Line\"},{\"attributes\":{\"data_source\":{\"id\":\"3641\",\"type\":\"ColumnDataSource\"},\"glyph\":{\"id\":\"3643\",\"type\":\"Line\"},\"hover_glyph\":null,\"muted_glyph\":null,\"nonselection_glyph\":{\"id\":\"3644\",\"type\":\"Line\"},\"selection_glyph\":null,\"view\":{\"id\":\"3646\",\"type\":\"CDSView\"}},\"id\":\"3645\",\"type\":\"GlyphRenderer\"},{\"attributes\":{\"fill_alpha\":{\"value\":0.1},\"fill_color\":{\"value\":\"#1f77b4\"},\"line_alpha\":{\"value\":0.1},\"line_color\":{\"value\":\"#1f77b4\"},\"size\":{\"units\":\"screen\",\"value\":10},\"x\":{\"field\":\"x_data\"},\"y\":{\"field\":\"y_data\"}},\"id\":\"3721\",\"type\":\"Circle\"},{\"attributes\":{\"line_alpha\":0.1,\"line_color\":\"#1f77b4\",\"x\":{\"field\":\"x_data\"},\"y\":{\"field\":\"y_data\"}},\"id\":\"3644\",\"type\":\"Line\"},{\"attributes\":{\"data_source\":{\"id\":\"3689\",\"type\":\"ColumnDataSource\"},\"glyph\":{\"id\":\"3696\",\"type\":\"Circle\"},\"hover_glyph\":{\"id\":\"3698\",\"type\":\"Circle\"},\"muted_glyph\":null,\"nonselection_glyph\":{\"id\":\"3697\",\"type\":\"Circle\"},\"selection_glyph\":null,\"view\":{\"id\":\"3700\",\"type\":\"CDSView\"}},\"id\":\"3699\",\"type\":\"GlyphRenderer\"},{\"attributes\":{},\"id\":\"3888\",\"type\":\"Selection\"},{\"attributes\":{},\"id\":\"3628\",\"type\":\"LinearScale\"},{\"attributes\":{\"axis_label\":\"Lag time (hr)\",\"formatter\":{\"id\":\"3877\",\"type\":\"BasicTickFormatter\"},\"ticker\":{\"id\":\"3631\",\"type\":\"BasicTicker\"}},\"id\":\"3630\",\"type\":\"LinearAxis\"},{\"attributes\":{},\"id\":\"3636\",\"type\":\"BasicTicker\"},{\"attributes\":{\"axis_label\":\"Importance\",\"formatter\":{\"id\":\"3875\",\"type\":\"BasicTickFormatter\"},\"ticker\":{\"id\":\"3636\",\"type\":\"BasicTicker\"}},\"id\":\"3635\",\"type\":\"LinearAxis\"},{\"attributes\":{\"callback\":null,\"mode\":\"vline\",\"renderers\":[{\"id\":\"3651\",\"type\":\"GlyphRenderer\"},{\"id\":\"3663\",\"type\":\"GlyphRenderer\"},{\"id\":\"3675\",\"type\":\"GlyphRenderer\"},{\"id\":\"3687\",\"type\":\"GlyphRenderer\"},{\"id\":\"3699\",\"type\":\"GlyphRenderer\"},{\"id\":\"3711\",\"type\":\"GlyphRenderer\"},{\"id\":\"3723\",\"type\":\"GlyphRenderer\"}],\"tooltips\":[[\"Importance\",\"@y_data\"]]},\"id\":\"3725\",\"type\":\"HoverTool\"},{\"attributes\":{\"text\":\"Lag time vs. flux feature importances\"},\"id\":\"3620\",\"type\":\"Title\"},{\"attributes\":{},\"id\":\"3626\",\"type\":\"LinearScale\"},{\"attributes\":{\"callback\":null,\"data\":{\"x_data\":[0.7999999999999972,5.799999999999997,10.799999999999997,15.999999999999993,20.999999999999993],\"y_data\":{\"__ndarray__\":\"SgwCK4cWyT+6SQwCK4e2P/p+arx0k7g/y6FFtvP9xD8730+Nl27CPw==\",\"dtype\":\"float64\",\"shape\":[5]}},\"selected\":{\"id\":\"3878\",\"type\":\"Selection\"},\"selection_policy\":{\"id\":\"3879\",\"type\":\"UnionRenderers\"}},\"id\":\"3641\",\"type\":\"ColumnDataSource\"},{\"attributes\":{\"dimension\":1,\"ticker\":{\"id\":\"3636\",\"type\":\"BasicTicker\"}},\"id\":\"3639\",\"type\":\"Grid\"},{\"attributes\":{\"callback\":null},\"id\":\"3622\",\"type\":\"DataRange1d\"},{\"attributes\":{\"callback\":null},\"id\":\"3624\",\"type\":\"DataRange1d\"},{\"attributes\":{\"line_color\":\"orange\",\"x\":{\"field\":\"x_data\"},\"y\":{\"field\":\"y_data\"}},\"id\":\"3643\",\"type\":\"Line\"},{\"attributes\":{\"below\":[{\"id\":\"3630\",\"type\":\"LinearAxis\"}],\"center\":[{\"id\":\"3634\",\"type\":\"Grid\"},{\"id\":\"3639\",\"type\":\"Grid\"}],\"left\":[{\"id\":\"3635\",\"type\":\"LinearAxis\"}],\"plot_height\":300,\"renderers\":[{\"id\":\"3645\",\"type\":\"GlyphRenderer\"},{\"id\":\"3651\",\"type\":\"GlyphRenderer\"},{\"id\":\"3657\",\"type\":\"GlyphRenderer\"},{\"id\":\"3663\",\"type\":\"GlyphRenderer\"},{\"id\":\"3669\",\"type\":\"GlyphRenderer\"},{\"id\":\"3675\",\"type\":\"GlyphRenderer\"},{\"id\":\"3681\",\"type\":\"GlyphRenderer\"},{\"id\":\"3687\",\"type\":\"GlyphRenderer\"},{\"id\":\"3693\",\"type\":\"GlyphRenderer\"},{\"id\":\"3699\",\"type\":\"GlyphRenderer\"},{\"id\":\"3705\",\"type\":\"GlyphRenderer\"},{\"id\":\"3711\",\"type\":\"GlyphRenderer\"},{\"id\":\"3717\",\"type\":\"GlyphRenderer\"},{\"id\":\"3723\",\"type\":\"GlyphRenderer\"}],\"right\":[{\"id\":\"3727\",\"type\":\"Legend\"}],\"title\":{\"id\":\"3620\",\"type\":\"Title\"},\"toolbar\":{\"id\":\"3640\",\"type\":\"Toolbar\"},\"toolbar_location\":null,\"x_range\":{\"id\":\"3622\",\"type\":\"DataRange1d\"},\"x_scale\":{\"id\":\"3626\",\"type\":\"LinearScale\"},\"y_range\":{\"id\":\"3624\",\"type\":\"DataRange1d\"},\"y_scale\":{\"id\":\"3628\",\"type\":\"LinearScale\"}},\"id\":\"3619\",\"subtype\":\"Figure\",\"type\":\"Plot\"},{\"attributes\":{\"ticker\":{\"id\":\"3631\",\"type\":\"BasicTicker\"}},\"id\":\"3634\",\"type\":\"Grid\"},{\"attributes\":{\"active_drag\":\"auto\",\"active_inspect\":\"auto\",\"active_multi\":null,\"active_scroll\":\"auto\",\"active_tap\":\"auto\",\"tools\":[{\"id\":\"3725\",\"type\":\"HoverTool\"}]},\"id\":\"3640\",\"type\":\"Toolbar\"},{\"attributes\":{\"data_source\":{\"id\":\"3713\",\"type\":\"ColumnDataSource\"},\"glyph\":{\"id\":\"3715\",\"type\":\"Line\"},\"hover_glyph\":null,\"muted_glyph\":null,\"nonselection_glyph\":{\"id\":\"3716\",\"type\":\"Line\"},\"selection_glyph\":null,\"view\":{\"id\":\"3718\",\"type\":\"CDSView\"}},\"id\":\"3717\",\"type\":\"GlyphRenderer\"},{\"attributes\":{\"fill_alpha\":{\"value\":0.25},\"fill_color\":{\"value\":\"grey\"},\"line_color\":{\"value\":null},\"size\":{\"units\":\"screen\",\"value\":10},\"x\":{\"field\":\"x_data\"},\"y\":{\"field\":\"y_data\"}},\"id\":\"3708\",\"type\":\"Circle\"},{\"attributes\":{},\"id\":\"3631\",\"type\":\"BasicTicker\"},{\"attributes\":{\"line_alpha\":0.1,\"line_color\":\"#1f77b4\",\"x\":{\"field\":\"x_data\"},\"y\":{\"field\":\"y_data\"}},\"id\":\"3668\",\"type\":\"Line\"},{\"attributes\":{\"data_source\":{\"id\":\"3665\",\"type\":\"ColumnDataSource\"},\"glyph\":{\"id\":\"3667\",\"type\":\"Line\"},\"hover_glyph\":null,\"muted_glyph\":null,\"nonselection_glyph\":{\"id\":\"3668\",\"type\":\"Line\"},\"selection_glyph\":null,\"view\":{\"id\":\"3670\",\"type\":\"CDSView\"}},\"id\":\"3669\",\"type\":\"GlyphRenderer\"}],\"root_ids\":[\"3735\"]},\"title\":\"Bokeh Application\",\"version\":\"1.3.2\"}};\n",
       "  var render_items = [{\"docid\":\"5230fdbd-c3e1-4c03-ab13-88d079d50929\",\"roots\":{\"3735\":\"f78c1aaf-310d-4812-a450-fc3a2a892788\"}}];\n",
       "  root.Bokeh.embed.embed_items_notebook(docs_json, render_items);\n",
       "\n",
       "  }\n",
       "  if (root.Bokeh !== undefined) {\n",
       "    embed_document(root);\n",
       "  } else {\n",
       "    var attempts = 0;\n",
       "    var timer = setInterval(function(root) {\n",
       "      if (root.Bokeh !== undefined) {\n",
       "        embed_document(root);\n",
       "        clearInterval(timer);\n",
       "      }\n",
       "      attempts++;\n",
       "      if (attempts > 100) {\n",
       "        console.log(\"Bokeh: ERROR: Unable to run BokehJS code because BokehJS library is missing\");\n",
       "        clearInterval(timer);\n",
       "      }\n",
       "    }, 10, root)\n",
       "  }\n",
       "})(window);"
      ],
      "application/vnd.bokehjs_exec.v0+json": ""
     },
     "metadata": {
      "application/vnd.bokehjs_exec.v0+json": {
       "id": "3735"
      }
     },
     "output_type": "display_data"
    }
   ],
   "source": [
    "plot_coef_data(coef_data, time_data)"
   ]
  },
  {
   "cell_type": "code",
   "execution_count": 55,
   "metadata": {},
   "outputs": [
    {
     "data": {
      "text/html": [
       "\n",
       "\n",
       "\n",
       "\n",
       "\n",
       "\n",
       "  <div class=\"bk-root\" id=\"47b618ad-daae-4a74-ba3a-66d744541b07\" data-root-id=\"3355\"></div>\n"
      ]
     },
     "metadata": {},
     "output_type": "display_data"
    },
    {
     "data": {
      "application/javascript": [
       "(function(root) {\n",
       "  function embed_document(root) {\n",
       "    \n",
       "  var docs_json = {\"929b50fe-e7fb-4df9-a391-b6263e1ad1d5\":{\"roots\":{\"references\":[{\"attributes\":{\"children\":[{\"id\":\"3226\",\"subtype\":\"Figure\",\"type\":\"Plot\"}]},\"id\":\"3355\",\"type\":\"Column\"},{\"attributes\":{\"data_source\":{\"id\":\"3267\",\"type\":\"ColumnDataSource\"},\"glyph\":{\"id\":\"3269\",\"type\":\"Line\"},\"hover_glyph\":null,\"muted_glyph\":null,\"nonselection_glyph\":{\"id\":\"3270\",\"type\":\"Line\"},\"selection_glyph\":null,\"view\":{\"id\":\"3272\",\"type\":\"CDSView\"}},\"id\":\"3271\",\"type\":\"GlyphRenderer\"},{\"attributes\":{\"line_color\":\"blue\",\"x\":{\"field\":\"x_data\"},\"y\":{\"field\":\"y_data\"}},\"id\":\"3311\",\"type\":\"Line\"},{\"attributes\":{\"text\":\"Lag time vs. accuracy\"},\"id\":\"3227\",\"type\":\"Title\"},{\"attributes\":{\"source\":{\"id\":\"3287\",\"type\":\"ColumnDataSource\"}},\"id\":\"3308\",\"type\":\"CDSView\"},{\"attributes\":{\"callback\":null,\"data\":{\"x_data\":[0.7999999999999972,5.799999999999997,10.799999999999997,15.999999999999993,20.999999999999993],\"y_data\":[0.579,0.6188,0.6136208530805688,0.596654028436019,0.6100379146919431]},\"selected\":{\"id\":\"3278\",\"type\":\"Selection\"},\"selection_policy\":{\"id\":\"3279\",\"type\":\"UnionRenderers\"}},\"id\":\"3248\",\"type\":\"ColumnDataSource\"},{\"attributes\":{\"callback\":null},\"id\":\"3229\",\"type\":\"DataRange1d\"},{\"attributes\":{\"fill_alpha\":{\"value\":0.1},\"fill_color\":{\"value\":\"#1f77b4\"},\"line_alpha\":{\"value\":0.1},\"line_color\":{\"value\":\"#1f77b4\"},\"size\":{\"units\":\"screen\",\"value\":10},\"x\":{\"field\":\"x_data\"},\"y\":{\"field\":\"y_data\"}},\"id\":\"3263\",\"type\":\"Circle\"},{\"attributes\":{\"label\":{\"value\":\"Free energy\"},\"renderers\":[{\"id\":\"3271\",\"type\":\"GlyphRenderer\"}]},\"id\":\"3280\",\"type\":\"LegendItem\"},{\"attributes\":{},\"id\":\"3256\",\"type\":\"BasicTickFormatter\"},{\"attributes\":{},\"id\":\"3258\",\"type\":\"BasicTickFormatter\"},{\"attributes\":{},\"id\":\"3278\",\"type\":\"Selection\"},{\"attributes\":{\"line_color\":\"red\",\"x\":{\"field\":\"x_data\"},\"y\":{\"field\":\"y_data\"}},\"id\":\"3289\",\"type\":\"Line\"},{\"attributes\":{\"callback\":null,\"data\":{\"x_data\":[0.7999999999999972,5.799999999999997,10.799999999999997,15.999999999999993,20.999999999999993],\"y_data\":[0.6281666666666668,0.6767238095238095,0.6752796208530807,0.6766540284360191,0.688]},\"selected\":{\"id\":\"3300\",\"type\":\"Selection\"},\"selection_policy\":{\"id\":\"3301\",\"type\":\"UnionRenderers\"}},\"id\":\"3267\",\"type\":\"ColumnDataSource\"},{\"attributes\":{\"source\":{\"id\":\"3248\",\"type\":\"ColumnDataSource\"}},\"id\":\"3266\",\"type\":\"CDSView\"},{\"attributes\":{\"fill_alpha\":{\"value\":0.5},\"fill_color\":{\"value\":\"orange\"},\"line_alpha\":{\"value\":0.5},\"line_color\":{\"value\":\"white\"},\"size\":{\"units\":\"screen\",\"value\":10},\"x\":{\"field\":\"x_data\"},\"y\":{\"field\":\"y_data\"}},\"id\":\"3264\",\"type\":\"Circle\"},{\"attributes\":{},\"id\":\"3492\",\"type\":\"UnionRenderers\"},{\"attributes\":{\"ticker\":{\"id\":\"3238\",\"type\":\"BasicTicker\"}},\"id\":\"3241\",\"type\":\"Grid\"},{\"attributes\":{\"source\":{\"id\":\"3267\",\"type\":\"ColumnDataSource\"}},\"id\":\"3272\",\"type\":\"CDSView\"},{\"attributes\":{\"fill_alpha\":{\"value\":0.5},\"fill_color\":{\"value\":\"red\"},\"line_alpha\":{\"value\":0.5},\"line_color\":{\"value\":\"white\"},\"size\":{\"units\":\"screen\",\"value\":10},\"x\":{\"field\":\"x_data\"},\"y\":{\"field\":\"y_data\"}},\"id\":\"3306\",\"type\":\"Circle\"},{\"attributes\":{\"fill_alpha\":{\"value\":0.25},\"fill_color\":{\"value\":\"grey\"},\"line_color\":{\"value\":null},\"size\":{\"units\":\"screen\",\"value\":10},\"x\":{\"field\":\"x_data\"},\"y\":{\"field\":\"y_data\"}},\"id\":\"3304\",\"type\":\"Circle\"},{\"attributes\":{\"line_alpha\":0.1,\"line_color\":\"#1f77b4\",\"x\":{\"field\":\"x_data\"},\"y\":{\"field\":\"y_data\"}},\"id\":\"3312\",\"type\":\"Line\"},{\"attributes\":{\"line_alpha\":0.1,\"line_color\":\"#1f77b4\",\"x\":{\"field\":\"x_data\"},\"y\":{\"field\":\"y_data\"}},\"id\":\"3270\",\"type\":\"Line\"},{\"attributes\":{\"callback\":null,\"data\":{\"x_data\":[0.7999999999999972,5.799999999999997,10.799999999999997,15.999999999999993,20.999999999999993],\"y_data\":[0.5976363636363636,0.6824019138755981,0.6873904761904762,0.6922654028436018,0.7039715639810427]},\"selected\":{\"id\":\"3483\",\"type\":\"Selection\"},\"selection_policy\":{\"id\":\"3484\",\"type\":\"UnionRenderers\"}},\"id\":\"3309\",\"type\":\"ColumnDataSource\"},{\"attributes\":{\"data_source\":{\"id\":\"3248\",\"type\":\"ColumnDataSource\"},\"glyph\":{\"id\":\"3262\",\"type\":\"Circle\"},\"hover_glyph\":{\"id\":\"3264\",\"type\":\"Circle\"},\"muted_glyph\":null,\"nonselection_glyph\":{\"id\":\"3263\",\"type\":\"Circle\"},\"selection_glyph\":null,\"view\":{\"id\":\"3266\",\"type\":\"CDSView\"}},\"id\":\"3265\",\"type\":\"GlyphRenderer\"},{\"attributes\":{\"fill_alpha\":{\"value\":0.25},\"fill_color\":{\"value\":\"grey\"},\"line_color\":{\"value\":null},\"size\":{\"units\":\"screen\",\"value\":10},\"x\":{\"field\":\"x_data\"},\"y\":{\"field\":\"y_data\"}},\"id\":\"3262\",\"type\":\"Circle\"},{\"attributes\":{\"source\":{\"id\":\"3287\",\"type\":\"ColumnDataSource\"}},\"id\":\"3292\",\"type\":\"CDSView\"},{\"attributes\":{},\"id\":\"3279\",\"type\":\"UnionRenderers\"},{\"attributes\":{},\"id\":\"3483\",\"type\":\"Selection\"},{\"attributes\":{\"source\":{\"id\":\"3248\",\"type\":\"ColumnDataSource\"}},\"id\":\"3253\",\"type\":\"CDSView\"},{\"attributes\":{\"fill_alpha\":{\"value\":0.1},\"fill_color\":{\"value\":\"#1f77b4\"},\"line_alpha\":{\"value\":0.1},\"line_color\":{\"value\":\"#1f77b4\"},\"size\":{\"units\":\"screen\",\"value\":10},\"x\":{\"field\":\"x_data\"},\"y\":{\"field\":\"y_data\"}},\"id\":\"3305\",\"type\":\"Circle\"},{\"attributes\":{\"fill_alpha\":{\"value\":0.25},\"fill_color\":{\"value\":\"grey\"},\"line_color\":{\"value\":null},\"size\":{\"units\":\"screen\",\"value\":10},\"x\":{\"field\":\"x_data\"},\"y\":{\"field\":\"y_data\"}},\"id\":\"3282\",\"type\":\"Circle\"},{\"attributes\":{\"fill_alpha\":{\"value\":0.5},\"fill_color\":{\"value\":\"green\"},\"line_alpha\":{\"value\":0.5},\"line_color\":{\"value\":\"white\"},\"size\":{\"units\":\"screen\",\"value\":10},\"x\":{\"field\":\"x_data\"},\"y\":{\"field\":\"y_data\"}},\"id\":\"3284\",\"type\":\"Circle\"},{\"attributes\":{},\"id\":\"3300\",\"type\":\"Selection\"},{\"attributes\":{\"line_color\":\"green\",\"x\":{\"field\":\"x_data\"},\"y\":{\"field\":\"y_data\"}},\"id\":\"3269\",\"type\":\"Line\"},{\"attributes\":{\"below\":[{\"id\":\"3237\",\"type\":\"LinearAxis\"}],\"center\":[{\"id\":\"3241\",\"type\":\"Grid\"},{\"id\":\"3246\",\"type\":\"Grid\"},{\"id\":\"3259\",\"type\":\"Legend\"}],\"left\":[{\"id\":\"3242\",\"type\":\"LinearAxis\"}],\"plot_height\":300,\"renderers\":[{\"id\":\"3252\",\"type\":\"GlyphRenderer\"},{\"id\":\"3265\",\"type\":\"GlyphRenderer\"},{\"id\":\"3271\",\"type\":\"GlyphRenderer\"},{\"id\":\"3285\",\"type\":\"GlyphRenderer\"},{\"id\":\"3291\",\"type\":\"GlyphRenderer\"},{\"id\":\"3307\",\"type\":\"GlyphRenderer\"},{\"id\":\"3313\",\"type\":\"GlyphRenderer\"},{\"id\":\"3331\",\"type\":\"GlyphRenderer\"},{\"id\":\"3336\",\"type\":\"GlyphRenderer\"},{\"id\":\"3341\",\"type\":\"GlyphRenderer\"},{\"id\":\"3346\",\"type\":\"GlyphRenderer\"},{\"id\":\"3351\",\"type\":\"GlyphRenderer\"}],\"title\":{\"id\":\"3227\",\"type\":\"Title\"},\"toolbar\":{\"id\":\"3247\",\"type\":\"Toolbar\"},\"toolbar_location\":null,\"x_range\":{\"id\":\"3229\",\"type\":\"DataRange1d\"},\"x_scale\":{\"id\":\"3233\",\"type\":\"LinearScale\"},\"y_range\":{\"id\":\"3231\",\"type\":\"DataRange1d\"},\"y_scale\":{\"id\":\"3235\",\"type\":\"LinearScale\"}},\"id\":\"3226\",\"subtype\":\"Figure\",\"type\":\"Plot\"},{\"attributes\":{\"line_alpha\":0.1,\"line_color\":\"#1f77b4\",\"x\":{\"field\":\"x_data\"},\"y\":{\"field\":\"y_data\"}},\"id\":\"3290\",\"type\":\"Line\"},{\"attributes\":{\"fill_alpha\":{\"value\":0.1},\"fill_color\":{\"value\":\"#1f77b4\"},\"line_alpha\":{\"value\":0.1},\"line_color\":{\"value\":\"#1f77b4\"},\"size\":{\"units\":\"screen\",\"value\":10},\"x\":{\"field\":\"x_data\"},\"y\":{\"field\":\"y_data\"}},\"id\":\"3283\",\"type\":\"Circle\"},{\"attributes\":{\"source\":{\"id\":\"3343\",\"type\":\"ColumnDataSource\"}},\"id\":\"3347\",\"type\":\"CDSView\"},{\"attributes\":{\"callback\":null,\"data\":{\"xs\":[[0.7999999999999972,0.7999999999999972],[5.799999999999997,5.799999999999997],[10.799999999999997,10.799999999999997],[15.999999999999993,15.999999999999993],[20.999999999999993,20.999999999999993]],\"ys\":[[0.5874314385573751,0.6078412887153521],[0.6805701277034228,0.6842337000477734],[0.6855434708923169,0.6892374814886355],[0.6901279463226062,0.6944028593645974],[0.7022553678469998,0.7056877601150855]]},\"selected\":{\"id\":\"3491\",\"type\":\"Selection\"},\"selection_policy\":{\"id\":\"3492\",\"type\":\"UnionRenderers\"}},\"id\":\"3348\",\"type\":\"ColumnDataSource\"},{\"attributes\":{},\"id\":\"3238\",\"type\":\"BasicTicker\"},{\"attributes\":{\"source\":{\"id\":\"3333\",\"type\":\"ColumnDataSource\"}},\"id\":\"3337\",\"type\":\"CDSView\"},{\"attributes\":{\"label\":{\"value\":\"Area\"},\"renderers\":[{\"id\":\"3291\",\"type\":\"GlyphRenderer\"}]},\"id\":\"3302\",\"type\":\"LegendItem\"},{\"attributes\":{\"callback\":null,\"data\":{\"xs\":[[0.7999999999999972,0.7999999999999972],[5.799999999999997,5.799999999999997],[10.799999999999997,10.799999999999997],[15.999999999999993,15.999999999999993],[20.999999999999993,20.999999999999993]],\"ys\":[[0.5779091622033197,0.5964241711300136],[0.6441805996692572,0.6498384479497906],[0.6398114880293241,0.6423496494114341],[0.6506244017711388,0.6542476361435533],[0.6562155803946985,0.6610356044394248]]},\"selected\":{\"id\":\"3489\",\"type\":\"Selection\"},\"selection_policy\":{\"id\":\"3490\",\"type\":\"UnionRenderers\"}},\"id\":\"3343\",\"type\":\"ColumnDataSource\"},{\"attributes\":{\"data_source\":{\"id\":\"3333\",\"type\":\"ColumnDataSource\"},\"glyph\":{\"id\":\"3334\",\"type\":\"MultiLine\"},\"hover_glyph\":null,\"muted_glyph\":null,\"nonselection_glyph\":{\"id\":\"3335\",\"type\":\"MultiLine\"},\"selection_glyph\":null,\"view\":{\"id\":\"3337\",\"type\":\"CDSView\"}},\"id\":\"3336\",\"type\":\"GlyphRenderer\"},{\"attributes\":{\"data_source\":{\"id\":\"3287\",\"type\":\"ColumnDataSource\"},\"glyph\":{\"id\":\"3304\",\"type\":\"Circle\"},\"hover_glyph\":{\"id\":\"3306\",\"type\":\"Circle\"},\"muted_glyph\":null,\"nonselection_glyph\":{\"id\":\"3305\",\"type\":\"Circle\"},\"selection_glyph\":null,\"view\":{\"id\":\"3308\",\"type\":\"CDSView\"}},\"id\":\"3307\",\"type\":\"GlyphRenderer\"},{\"attributes\":{\"data_source\":{\"id\":\"3248\",\"type\":\"ColumnDataSource\"},\"glyph\":{\"id\":\"3250\",\"type\":\"Line\"},\"hover_glyph\":null,\"muted_glyph\":null,\"nonselection_glyph\":{\"id\":\"3251\",\"type\":\"Line\"},\"selection_glyph\":null,\"view\":{\"id\":\"3253\",\"type\":\"CDSView\"}},\"id\":\"3252\",\"type\":\"GlyphRenderer\"},{\"attributes\":{\"source\":{\"id\":\"3267\",\"type\":\"ColumnDataSource\"}},\"id\":\"3286\",\"type\":\"CDSView\"},{\"attributes\":{\"line_alpha\":{\"value\":0.1},\"line_color\":{\"value\":\"#1f77b4\"},\"xs\":{\"field\":\"xs\"},\"ys\":{\"field\":\"ys\"}},\"id\":\"3340\",\"type\":\"MultiLine\"},{\"attributes\":{},\"id\":\"3301\",\"type\":\"UnionRenderers\"},{\"attributes\":{\"line_alpha\":0.1,\"line_color\":\"#1f77b4\",\"x\":{\"field\":\"x_data\"},\"y\":{\"field\":\"y_data\"}},\"id\":\"3251\",\"type\":\"Line\"},{\"attributes\":{\"data_source\":{\"id\":\"3343\",\"type\":\"ColumnDataSource\"},\"glyph\":{\"id\":\"3344\",\"type\":\"MultiLine\"},\"hover_glyph\":null,\"muted_glyph\":null,\"nonselection_glyph\":{\"id\":\"3345\",\"type\":\"MultiLine\"},\"selection_glyph\":null,\"view\":{\"id\":\"3347\",\"type\":\"CDSView\"}},\"id\":\"3346\",\"type\":\"GlyphRenderer\"},{\"attributes\":{\"line_color\":\"orange\",\"x\":{\"field\":\"x_data\"},\"y\":{\"field\":\"y_data\"}},\"id\":\"3250\",\"type\":\"Line\"},{\"attributes\":{},\"id\":\"3490\",\"type\":\"UnionRenderers\"},{\"attributes\":{\"axis_label\":\"y\",\"formatter\":{\"id\":\"3256\",\"type\":\"BasicTickFormatter\"},\"ticker\":{\"id\":\"3243\",\"type\":\"BasicTicker\"}},\"id\":\"3242\",\"type\":\"LinearAxis\"},{\"attributes\":{},\"id\":\"3243\",\"type\":\"BasicTicker\"},{\"attributes\":{\"data_source\":{\"id\":\"3338\",\"type\":\"ColumnDataSource\"},\"glyph\":{\"id\":\"3339\",\"type\":\"MultiLine\"},\"hover_glyph\":null,\"muted_glyph\":null,\"nonselection_glyph\":{\"id\":\"3340\",\"type\":\"MultiLine\"},\"selection_glyph\":null,\"view\":{\"id\":\"3342\",\"type\":\"CDSView\"}},\"id\":\"3341\",\"type\":\"GlyphRenderer\"},{\"attributes\":{\"fill_alpha\":{\"value\":0.25},\"fill_color\":{\"value\":\"grey\"},\"line_color\":{\"value\":null},\"size\":{\"units\":\"screen\",\"value\":10},\"x\":{\"field\":\"x_data\"},\"y\":{\"field\":\"y_data\"}},\"id\":\"3328\",\"type\":\"Circle\"},{\"attributes\":{},\"id\":\"3488\",\"type\":\"UnionRenderers\"},{\"attributes\":{},\"id\":\"3489\",\"type\":\"Selection\"},{\"attributes\":{\"data_source\":{\"id\":\"3309\",\"type\":\"ColumnDataSource\"},\"glyph\":{\"id\":\"3328\",\"type\":\"Circle\"},\"hover_glyph\":{\"id\":\"3330\",\"type\":\"Circle\"},\"muted_glyph\":null,\"nonselection_glyph\":{\"id\":\"3329\",\"type\":\"Circle\"},\"selection_glyph\":null,\"view\":{\"id\":\"3332\",\"type\":\"CDSView\"}},\"id\":\"3331\",\"type\":\"GlyphRenderer\"},{\"attributes\":{\"data_source\":{\"id\":\"3267\",\"type\":\"ColumnDataSource\"},\"glyph\":{\"id\":\"3282\",\"type\":\"Circle\"},\"hover_glyph\":{\"id\":\"3284\",\"type\":\"Circle\"},\"muted_glyph\":null,\"nonselection_glyph\":{\"id\":\"3283\",\"type\":\"Circle\"},\"selection_glyph\":null,\"view\":{\"id\":\"3286\",\"type\":\"CDSView\"}},\"id\":\"3285\",\"type\":\"GlyphRenderer\"},{\"attributes\":{\"callback\":null,\"data\":{\"xs\":[[0.7999999999999972,0.7999999999999972],[5.799999999999997,5.799999999999997],[10.799999999999997,10.799999999999997],[15.999999999999993,15.999999999999993],[20.999999999999993,20.999999999999993]],\"ys\":[[0.6186181792937312,0.6377151540396023],[0.6744229470216229,0.6790246720259961],[0.6738454252734838,0.6767138164326776],[0.6746887118212049,0.6786193450508332],[0.686011262365415,0.6899887376345849]]},\"selected\":{\"id\":\"3487\",\"type\":\"Selection\"},\"selection_policy\":{\"id\":\"3488\",\"type\":\"UnionRenderers\"}},\"id\":\"3338\",\"type\":\"ColumnDataSource\"},{\"attributes\":{\"source\":{\"id\":\"3338\",\"type\":\"ColumnDataSource\"}},\"id\":\"3342\",\"type\":\"CDSView\"},{\"attributes\":{},\"id\":\"3491\",\"type\":\"Selection\"},{\"attributes\":{\"callback\":null,\"data\":{\"xs\":[[0.7999999999999972,0.7999999999999972],[5.799999999999997,5.799999999999997],[10.799999999999997,10.799999999999997],[15.999999999999993,15.999999999999993],[20.999999999999993,20.999999999999993]],\"ys\":[[0.5714612114147342,0.5865387885852658],[0.6173365836882188,0.6202634163117813],[0.6113724836762393,0.6158692224848983],[0.5952529071030698,0.5980551497689682],[0.6078423739015912,0.612233455482295]]},\"selected\":{\"id\":\"3485\",\"type\":\"Selection\"},\"selection_policy\":{\"id\":\"3486\",\"type\":\"UnionRenderers\"}},\"id\":\"3333\",\"type\":\"ColumnDataSource\"},{\"attributes\":{\"line_alpha\":{\"value\":0.1},\"line_color\":{\"value\":\"#1f77b4\"},\"xs\":{\"field\":\"xs\"},\"ys\":{\"field\":\"ys\"}},\"id\":\"3345\",\"type\":\"MultiLine\"},{\"attributes\":{\"label\":{\"value\":\"Flux\"},\"renderers\":[{\"id\":\"3252\",\"type\":\"GlyphRenderer\"}]},\"id\":\"3260\",\"type\":\"LegendItem\"},{\"attributes\":{},\"id\":\"3484\",\"type\":\"UnionRenderers\"},{\"attributes\":{\"line_color\":{\"value\":\"red\"},\"xs\":{\"field\":\"xs\"},\"ys\":{\"field\":\"ys\"}},\"id\":\"3334\",\"type\":\"MultiLine\"},{\"attributes\":{\"line_alpha\":{\"value\":0.1},\"line_color\":{\"value\":\"#1f77b4\"},\"xs\":{\"field\":\"xs\"},\"ys\":{\"field\":\"ys\"}},\"id\":\"3335\",\"type\":\"MultiLine\"},{\"attributes\":{\"label\":{\"value\":\"Polarity inversion flux\"},\"renderers\":[{\"id\":\"3313\",\"type\":\"GlyphRenderer\"}]},\"id\":\"3326\",\"type\":\"LegendItem\"},{\"attributes\":{\"axis_label\":\"x\",\"formatter\":{\"id\":\"3258\",\"type\":\"BasicTickFormatter\"},\"ticker\":{\"id\":\"3238\",\"type\":\"BasicTicker\"}},\"id\":\"3237\",\"type\":\"LinearAxis\"},{\"attributes\":{},\"id\":\"3325\",\"type\":\"UnionRenderers\"},{\"attributes\":{},\"id\":\"3487\",\"type\":\"Selection\"},{\"attributes\":{\"fill_alpha\":{\"value\":0.1},\"fill_color\":{\"value\":\"#1f77b4\"},\"line_alpha\":{\"value\":0.1},\"line_color\":{\"value\":\"#1f77b4\"},\"size\":{\"units\":\"screen\",\"value\":10},\"x\":{\"field\":\"x_data\"},\"y\":{\"field\":\"y_data\"}},\"id\":\"3329\",\"type\":\"Circle\"},{\"attributes\":{},\"id\":\"3486\",\"type\":\"UnionRenderers\"},{\"attributes\":{},\"id\":\"3485\",\"type\":\"Selection\"},{\"attributes\":{\"callback\":null,\"data\":{\"x_data\":[0.7999999999999972,5.799999999999997,10.799999999999997,15.999999999999993,20.999999999999993],\"y_data\":[0.5871666666666666,0.6470095238095239,0.6410805687203791,0.652436018957346,0.6586255924170616]},\"selected\":{\"id\":\"3324\",\"type\":\"Selection\"},\"selection_policy\":{\"id\":\"3325\",\"type\":\"UnionRenderers\"}},\"id\":\"3287\",\"type\":\"ColumnDataSource\"},{\"attributes\":{\"line_color\":{\"value\":\"red\"},\"xs\":{\"field\":\"xs\"},\"ys\":{\"field\":\"ys\"}},\"id\":\"3339\",\"type\":\"MultiLine\"},{\"attributes\":{},\"id\":\"3233\",\"type\":\"LinearScale\"},{\"attributes\":{\"callback\":null},\"id\":\"3231\",\"type\":\"DataRange1d\"},{\"attributes\":{\"items\":[{\"id\":\"3260\",\"type\":\"LegendItem\"},{\"id\":\"3280\",\"type\":\"LegendItem\"},{\"id\":\"3302\",\"type\":\"LegendItem\"},{\"id\":\"3326\",\"type\":\"LegendItem\"}],\"location\":\"bottom_right\"},\"id\":\"3259\",\"type\":\"Legend\"},{\"attributes\":{\"line_color\":{\"value\":\"red\"},\"xs\":{\"field\":\"xs\"},\"ys\":{\"field\":\"ys\"}},\"id\":\"3344\",\"type\":\"MultiLine\"},{\"attributes\":{\"line_alpha\":{\"value\":0.1},\"line_color\":{\"value\":\"#1f77b4\"},\"xs\":{\"field\":\"xs\"},\"ys\":{\"field\":\"ys\"}},\"id\":\"3350\",\"type\":\"MultiLine\"},{\"attributes\":{\"data_source\":{\"id\":\"3309\",\"type\":\"ColumnDataSource\"},\"glyph\":{\"id\":\"3311\",\"type\":\"Line\"},\"hover_glyph\":null,\"muted_glyph\":null,\"nonselection_glyph\":{\"id\":\"3312\",\"type\":\"Line\"},\"selection_glyph\":null,\"view\":{\"id\":\"3314\",\"type\":\"CDSView\"}},\"id\":\"3313\",\"type\":\"GlyphRenderer\"},{\"attributes\":{\"data_source\":{\"id\":\"3348\",\"type\":\"ColumnDataSource\"},\"glyph\":{\"id\":\"3349\",\"type\":\"MultiLine\"},\"hover_glyph\":null,\"muted_glyph\":null,\"nonselection_glyph\":{\"id\":\"3350\",\"type\":\"MultiLine\"},\"selection_glyph\":null,\"view\":{\"id\":\"3352\",\"type\":\"CDSView\"}},\"id\":\"3351\",\"type\":\"GlyphRenderer\"},{\"attributes\":{\"line_color\":{\"value\":\"red\"},\"xs\":{\"field\":\"xs\"},\"ys\":{\"field\":\"ys\"}},\"id\":\"3349\",\"type\":\"MultiLine\"},{\"attributes\":{\"dimension\":1,\"ticker\":{\"id\":\"3243\",\"type\":\"BasicTicker\"}},\"id\":\"3246\",\"type\":\"Grid\"},{\"attributes\":{},\"id\":\"3324\",\"type\":\"Selection\"},{\"attributes\":{},\"id\":\"3235\",\"type\":\"LinearScale\"},{\"attributes\":{\"active_drag\":\"auto\",\"active_inspect\":\"auto\",\"active_multi\":null,\"active_scroll\":\"auto\",\"active_tap\":\"auto\",\"tools\":[{\"id\":\"3353\",\"type\":\"HoverTool\"}]},\"id\":\"3247\",\"type\":\"Toolbar\"},{\"attributes\":{\"source\":{\"id\":\"3309\",\"type\":\"ColumnDataSource\"}},\"id\":\"3332\",\"type\":\"CDSView\"},{\"attributes\":{\"data_source\":{\"id\":\"3287\",\"type\":\"ColumnDataSource\"},\"glyph\":{\"id\":\"3289\",\"type\":\"Line\"},\"hover_glyph\":null,\"muted_glyph\":null,\"nonselection_glyph\":{\"id\":\"3290\",\"type\":\"Line\"},\"selection_glyph\":null,\"view\":{\"id\":\"3292\",\"type\":\"CDSView\"}},\"id\":\"3291\",\"type\":\"GlyphRenderer\"},{\"attributes\":{\"fill_alpha\":{\"value\":0.5},\"fill_color\":{\"value\":\"blue\"},\"line_alpha\":{\"value\":0.5},\"line_color\":{\"value\":\"white\"},\"size\":{\"units\":\"screen\",\"value\":10},\"x\":{\"field\":\"x_data\"},\"y\":{\"field\":\"y_data\"}},\"id\":\"3330\",\"type\":\"Circle\"},{\"attributes\":{\"callback\":null,\"mode\":\"vline\",\"renderers\":[{\"id\":\"3265\",\"type\":\"GlyphRenderer\"},{\"id\":\"3285\",\"type\":\"GlyphRenderer\"},{\"id\":\"3307\",\"type\":\"GlyphRenderer\"},{\"id\":\"3331\",\"type\":\"GlyphRenderer\"}],\"tooltips\":[[\"Accuracy\",\"@y_data %\"]]},\"id\":\"3353\",\"type\":\"HoverTool\"},{\"attributes\":{\"source\":{\"id\":\"3309\",\"type\":\"ColumnDataSource\"}},\"id\":\"3314\",\"type\":\"CDSView\"},{\"attributes\":{\"source\":{\"id\":\"3348\",\"type\":\"ColumnDataSource\"}},\"id\":\"3352\",\"type\":\"CDSView\"}],\"root_ids\":[\"3355\"]},\"title\":\"Bokeh Application\",\"version\":\"1.3.2\"}};\n",
       "  var render_items = [{\"docid\":\"929b50fe-e7fb-4df9-a391-b6263e1ad1d5\",\"roots\":{\"3355\":\"47b618ad-daae-4a74-ba3a-66d744541b07\"}}];\n",
       "  root.Bokeh.embed.embed_items_notebook(docs_json, render_items);\n",
       "\n",
       "  }\n",
       "  if (root.Bokeh !== undefined) {\n",
       "    embed_document(root);\n",
       "  } else {\n",
       "    var attempts = 0;\n",
       "    var timer = setInterval(function(root) {\n",
       "      if (root.Bokeh !== undefined) {\n",
       "        embed_document(root);\n",
       "        clearInterval(timer);\n",
       "      }\n",
       "      attempts++;\n",
       "      if (attempts > 100) {\n",
       "        console.log(\"Bokeh: ERROR: Unable to run BokehJS code because BokehJS library is missing\");\n",
       "        clearInterval(timer);\n",
       "      }\n",
       "    }, 10, root)\n",
       "  }\n",
       "})(window);"
      ],
      "application/vnd.bokehjs_exec.v0+json": ""
     },
     "metadata": {
      "application/vnd.bokehjs_exec.v0+json": {
       "id": "3355"
      }
     },
     "output_type": "display_data"
    }
   ],
   "source": [
    "plot_accuracy_data(data_dict)"
   ]
  }
 ],
 "metadata": {
  "kernelspec": {
   "display_name": "Python 3",
   "language": "python",
   "name": "python3"
  },
  "language_info": {
   "codemirror_mode": {
    "name": "ipython",
    "version": 3
   },
   "file_extension": ".py",
   "mimetype": "text/x-python",
   "name": "python",
   "nbconvert_exporter": "python",
   "pygments_lexer": "ipython3",
   "version": "3.7.3"
  }
 },
 "nbformat": 4,
 "nbformat_minor": 2
}
