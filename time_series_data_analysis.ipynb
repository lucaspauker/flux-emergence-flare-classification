{
 "cells": [
  {
   "cell_type": "markdown",
   "metadata": {},
   "source": [
    "# SHARP Time Series Data Analysis\n",
    "Lucas Pauker"
   ]
  },
  {
   "cell_type": "markdown",
   "metadata": {},
   "source": [
    "## Background\n",
    "Over the summer, I have been working on analyzing SHARP time series data to understand what conditions lead to solar flares, and why this occurs on a physical level. There is much previous literature about flare prediction, but much of this literature fails to interpret the results in a physically meaningful manner. Furthermore, a time series approach has not been taken before to study this problem.\n",
    "\n",
    "The magnetic time series data used in this notebook is taken from Helioseismic and Magnetic Imager (HMI) instrument on NASA's Solar Dynamics Observatory (SDO) satellite, which takes magnetic images of the sun at a 12 minute cadence. From these data, [SHARP variables](http://jsoc.stanford.edu/doc/data/hmi/sharp/sharp.htm) are extracted that describe magnetic conditions on the sun. \n",
    "\n",
    "Flaring data for the sun is provided by the [NOAA GOES](https://www.swpc.noaa.gov/products/goes-x-ray-flux) database, which keeps track of soft x-ray flux on the sun, which is the metric used to determine whether an active region has flared."
   ]
  },
  {
   "cell_type": "markdown",
   "metadata": {},
   "source": [
    "---\n",
    "First let's import the general utility modules that we will need:"
   ]
  },
  {
   "cell_type": "code",
   "execution_count": 1,
   "metadata": {},
   "outputs": [],
   "source": [
    "import csv\n",
    "import json\n",
    "import requests\n",
    "import math\n",
    "import random\n",
    "from datetime import datetime"
   ]
  },
  {
   "cell_type": "markdown",
   "metadata": {},
   "source": [
    "And load scientific packages [scipy](http://www.scipy.org), [sunpy](https://sunpy.org), and [numpy](https://www.numpy.org)."
   ]
  },
  {
   "cell_type": "code",
   "execution_count": 2,
   "metadata": {},
   "outputs": [],
   "source": [
    "import scipy.stats\n",
    "import sunpy\n",
    "import sunpy.instr.goes\n",
    "import numpy as np"
   ]
  },
  {
   "cell_type": "markdown",
   "metadata": {},
   "source": [
    "---\n",
    "## Downloading Data\n",
    "\n",
    "JSOC (Joint Science Operations Center) keeps an up-to-date catalog of all the active regions observed on the sun. This can be found here: `http://jsoc.stanford.edu/doc/data/hmi/harpnum_to_noaa/all_harps_with_noaa_ars.txt`. The code block below takes a file `./data/all_harps_with_noaa_ars.txt` (which is a downloaded version of the aforementioned link) and extracts the harp_ids, as well as a dictionary of harp_ids corresponding to noaa_ids.\n",
    "\n",
    "To download the newest version of the file, one could use a tool such as `wget`: `wget http://jsoc.stanford.edu/doc/data/hmi/harpnum_to_noaa/all_harps_with_noaa_ars.txt`\n",
    "\n",
    "I will first list the functions for downloading data, then have a cell that runs the functions and saves the relevant data output to variables that are accessible in other methods. Here are the functions:"
   ]
  },
  {
   "cell_type": "code",
   "execution_count": 3,
   "metadata": {},
   "outputs": [],
   "source": [
    "def get_harp_ids_and_harp_noaa_dict(filename='./data/all_harps_with_noaa_ars.txt'):\n",
    "    '''This method requires there to be a file filename with two columns: HARP IDs\n",
    "    and NOAA IDs. This method returns a list of HARP IDs and a dictionary of HARP\n",
    "    IDs corresponding to a list of NOAA IDs.\n",
    "    '''\n",
    "    harp_ids = []\n",
    "    harp_noaa_dict = {}\n",
    "    with open(filename) as f:\n",
    "        content = f.readlines()[1:] # Disregard the header line\n",
    "        for line in content:\n",
    "            harp_id = line.split()[0]\n",
    "            noaa_ids = line.split()[1].split(',')\n",
    "            harp_ids.append(int(harp_id))\n",
    "            harp_noaa_dict[int(harp_id)] = noaa_ids\n",
    "    return harp_ids, harp_noaa_dict"
   ]
  },
  {
   "cell_type": "code",
   "execution_count": 4,
   "metadata": {},
   "outputs": [],
   "source": [
    "def query_data(harp_id):\n",
    "    '''This method grabs data from the JSOC database. It queries four variables: time,\n",
    "    unsigned flux, polarity inversion line flux, and area. This method also makes sure\n",
    "    that the data received is high-quality and accurate.\n",
    "    '''\n",
    "    url_base = 'http://jsoc.stanford.edu/cgi-bin/ajax/jsoc_info?ds=hmi.sharp_cea_720s'\n",
    "    harp_id_string = '[' + str(harp_id) + ']'\n",
    "    param_string = '[? (abs(OBS_VR)< 3500) and (QUALITY<65536) ?]'\n",
    "    # May change to all SHARP variables\n",
    "    keys_string = '&op=rs_list&key=T_REC,USFLUX,TOTPOT,R_VALUE,AREA_ACR,CRVAL1,CRLN_OBS'\n",
    "    url = url_base + harp_id_string + param_string + keys_string\n",
    "    r = requests.get(url)\n",
    "    assert r.status_code == 200\n",
    "    data = json.loads(r.text)\n",
    "    keys = pd.DataFrame()\n",
    "    for keyword_data in data['keywords']:\n",
    "        keyword = keyword_data['name']\n",
    "        vals = keyword_data['values']\n",
    "        keys[keyword] = vals\n",
    "    return keys"
   ]
  },
  {
   "cell_type": "code",
   "execution_count": 5,
   "metadata": {},
   "outputs": [],
   "source": [
    "def convert_tai_to_datetime(t_str):\n",
    "    '''Helper method to convert a JSOC T_REC object into a python datetime object.'''\n",
    "    year   = int(t_str[:4])\n",
    "    month  = int(t_str[5:7])\n",
    "    day    = int(t_str[8:10])\n",
    "    hour   = int(t_str[11:13])\n",
    "    minute = int(t_str[14:16])\n",
    "    return datetime(year, month, day, hour, minute)"
   ]
  },
  {
   "cell_type": "code",
   "execution_count": 6,
   "metadata": {},
   "outputs": [],
   "source": [
    "def convert_datetime_to_tai(t_obj):\n",
    "    '''Helper method to convert a datetime object into a JSOC T_REC object.'''\n",
    "    return str(t_obj.year) + '.' + str(t_obj.month) + '.' + str(t_obj.day) + '_' \\\n",
    "            + str(t_obj.hour) + ':' + str(t_obj.minute) + '_TAI'"
   ]
  },
  {
   "cell_type": "code",
   "execution_count": 7,
   "metadata": {},
   "outputs": [],
   "source": [
    "def get_time_delta(start_time, end_time):\n",
    "    '''This method returns the time difference between two given datetime objects in\n",
    "    hours.\n",
    "    '''\n",
    "    return (end_time - start_time).total_seconds() / (60 * 60) # Convert to hours"
   ]
  },
  {
   "cell_type": "code",
   "execution_count": 8,
   "metadata": {},
   "outputs": [],
   "source": [
    "def get_time_data(keys):\n",
    "    '''This method takes a keys object returned from query_data and converts and returns\n",
    "    the time data from keys.T_REC into a list of relative times, such that the first time\n",
    "    is zero and the last time is the range of keys.T_REC in hours.\n",
    "    '''\n",
    "    start_time = convert_tai_to_datetime(keys.T_REC[0])\n",
    "    time_data = []\n",
    "    for i in range(keys.T_REC.size):\n",
    "        time = convert_tai_to_datetime(keys.T_REC[i])\n",
    "        time_data.append(get_time_delta(start_time, time))\n",
    "    return time_data"
   ]
  },
  {
   "cell_type": "code",
   "execution_count": 9,
   "metadata": {},
   "outputs": [],
   "source": [
    "def create_csv(keys, time_data, harp_id):\n",
    "    '''Given a keys object from query_data, a time_data list, and a harp_id, this method\n",
    "    creates a csv file in ./data/[harp_id].csv with six columns: true time (keys.T_REC),\n",
    "    relative time, unsigned flux, free energy, polarity inversion line flux, and area.\n",
    "    This method will not write any data that occurs outside the range of +/- 70 degrees\n",
    "    longitude from the meridian.\n",
    "    \n",
    "    The purpose of this method is to write local data so that it is easy and fast to\n",
    "    access data in the future, since GOES and SHARP data access take a long time, and\n",
    "    querying every test would be inefficient.\n",
    "    '''\n",
    "    data_dir = './data/'\n",
    "    filename = data_dir + str(harp_id) + '.csv'\n",
    "    with open(filename, 'w') as csv_file:\n",
    "        writer = csv.writer(csv_file, delimiter=',', quoting=csv.QUOTE_MINIMAL)\n",
    "        writer.writerow(['true_time', 'time', 'unsigned flux', 'free energy',\n",
    "                        'polarity inversion line flux', 'area'])\n",
    "        for i in range(len(keys.USFLUX)):\n",
    "            if abs(float(keys.CRVAL1[i]) - float(keys.CRLN_OBS[i])) < 70.0:\n",
    "                writer.writerow([keys.T_REC[i], time_data[i], keys.USFLUX[i],\n",
    "                                 keys.TOTPOT[i], keys.R_VALUE[i], keys.AREA_ACR[i]])"
   ]
  },
  {
   "cell_type": "code",
   "execution_count": 10,
   "metadata": {},
   "outputs": [],
   "source": [
    "def create_all_csvs(harp_ids):\n",
    "    '''This method creates a csv file with time and unsigned flux for all the HARP IDs\n",
    "    in the inputted harp_ids.\n",
    "    '''\n",
    "    count = 0\n",
    "    for harp_id in harp_ids:\n",
    "        count += 1\n",
    "        print(count, harp_id)\n",
    "        if count % 100 == 0: print(count)\n",
    "        keys = query_data(harp_id)\n",
    "        time_data = get_time_data(keys)\n",
    "        create_csv(keys, time_data, harp_id)"
   ]
  },
  {
   "cell_type": "code",
   "execution_count": 11,
   "metadata": {},
   "outputs": [],
   "source": [
    "import pandas\n",
    "\n",
    "def read_data(harp_id):\n",
    "    '''This method reads the data from ./data/[harp_id].csv, and returns a pandas\n",
    "    DataFrame with two columns: time since the beginning of the active region data,\n",
    "    and unsigned flux.\n",
    "    '''\n",
    "    filename = './data/' + str(harp_id) + '.csv'\n",
    "    variables = ('T_REC,USFLUX,MEANGAM,MEANGBT,MEANGBZ,MEANGBH,MEANJZD,TOTUSJZ,MEANJZH,'\n",
    "                 'TOTUSJH,ABSNJZH,SAVNCPP,MEANPOT,TOTPOT,MEANSHR,SHRGT45,R_VALUE,AREA_ACR'\n",
    "                )\n",
    "    key_dict = {'TIME': []}\n",
    "    for var in variables.split(','):\n",
    "        if var == 'T_REC': var = 'TRUE_TIME'\n",
    "        key_dict[var] = []\n",
    "    with open(filename, 'r') as csv_file:\n",
    "        reader = csv.reader(csv_file, delimiter=',')\n",
    "        next(reader)  # Skip header\n",
    "        for row in reader:\n",
    "            if 'MISSING' in row: continue\n",
    "            key_dict['TRUE_TIME'].append(convert_tai_to_datetime(row[0]))\n",
    "            key_dict['TIME'].append(float(row[1]))\n",
    "            key_dict['USFLUX'].append(float(row[2]))\n",
    "            key_dict['MEANGAM'].append(float(row[3]))\n",
    "            key_dict['MEANGBT'].append(float(row[4]))\n",
    "            key_dict['MEANGBZ'].append(float(row[5]))\n",
    "            key_dict['MEANGBH'].append(float(row[6]))\n",
    "            key_dict['MEANJZD'].append(float(row[7]))\n",
    "            key_dict['TOTUSJZ'].append(float(row[8]))\n",
    "            key_dict['MEANJZH'].append(float(row[9]))\n",
    "            key_dict['TOTUSJH'].append(float(row[10]))\n",
    "            key_dict['ABSNJZH'].append(float(row[11]))\n",
    "            key_dict['SAVNCPP'].append(float(row[12]))\n",
    "            key_dict['MEANPOT'].append(float(row[13]))\n",
    "            key_dict['TOTPOT'].append(float(row[14]))\n",
    "            key_dict['MEANSHR'].append(float(row[15]))\n",
    "            key_dict['SHRGT45'].append(float(row[16]))\n",
    "            key_dict['R_VALUE'].append(float(row[17]))\n",
    "            key_dict['AREA_ACR'].append(float(row[18]))\n",
    "    keys = pandas.DataFrame(key_dict)\n",
    "    return keys"
   ]
  },
  {
   "cell_type": "code",
   "execution_count": 12,
   "metadata": {},
   "outputs": [],
   "source": [
    "def get_flare_data_from_database(t_start, t_end, min_event):\n",
    "    '''This helper method accesses data from the GOES database. It returns\n",
    "    the metadata associated with each flaring active region greater in event\n",
    "    size than min_event and between time t_start and t_end.\n",
    "    '''\n",
    "    time_range = sunpy.time.TimeRange(t_start, t_end)\n",
    "    results = sunpy.instr.goes.get_goes_event_list(time_range, min_event)\n",
    "    return results"
   ]
  },
  {
   "cell_type": "code",
   "execution_count": 13,
   "metadata": {},
   "outputs": [],
   "source": [
    "def get_flare_data(harp_ids, min_event):\n",
    "    '''This method accesses the GOES database to get the flare data for the maximum \n",
    "    time range of the inputted harp ids.\n",
    "    '''\n",
    "    first_keys = query_data(harp_ids[0])\n",
    "    t_start = first_keys.T_REC[0]\n",
    "    last_keys = query_data(harp_ids[-1])\n",
    "    t_end = last_keys.T_REC[len(last_keys.T_REC) - 1]\n",
    "    print('Time range:', t_start, 'to', t_end)\n",
    "\n",
    "    return get_flare_data_from_database(t_start, t_end, min_event)"
   ]
  },
  {
   "cell_type": "code",
   "execution_count": 14,
   "metadata": {},
   "outputs": [],
   "source": [
    "def write_noaa_data_to_csv(flare_data):\n",
    "    '''This method writes the NOAA flare data to \"./data/noaa_data.csv\". This makes\n",
    "    loading the flaring data fast for future runs.\n",
    "    '''\n",
    "    with open('./data/noaa_data.csv', 'w') as csv_file:\n",
    "        field_names = flare_data[0].keys()\n",
    "        writer = csv.DictWriter(csv_file, fieldnames=field_names)\n",
    "        writer.writeheader()\n",
    "        for flare in flare_data:\n",
    "            writer.writerow(flare)"
   ]
  },
  {
   "cell_type": "code",
   "execution_count": 15,
   "metadata": {},
   "outputs": [],
   "source": [
    "def get_noaa_data_from_csv():\n",
    "    '''This method loads the NOAA data from \"./data/noaa_data.csv\".'''\n",
    "    noaa_flare_set = []\n",
    "    with open('./data/noaa_data.csv', 'r') as csv_file:\n",
    "        reader = csv.DictReader(csv_file)\n",
    "        for row in reader:\n",
    "            noaa_flare_set.append(dict(row))\n",
    "    return noaa_flare_set"
   ]
  },
  {
   "cell_type": "markdown",
   "metadata": {},
   "source": [
    "Now we will run the code from the functions above to create `harp_ids`, `harp_noaa_dict`, and `flare_data`:\n",
    "- `harp_ids`: a list of all HARP IDs\n",
    "- `harp_noaa_dict`: a dictionary mapping the HARP IDs to the NOAA IDs\n",
    "- `flare_data`: the flare data downloaded from GOES"
   ]
  },
  {
   "cell_type": "code",
   "execution_count": 16,
   "metadata": {},
   "outputs": [
    {
     "name": "stdout",
     "output_type": "stream",
     "text": [
      "Number of active regions: 1335\n",
      "Number of flares: 8029\n"
     ]
    }
   ],
   "source": [
    "# Set recreate_data to True if you want to redownload all the data (takes 30+ minutes)\n",
    "recreate_data = False\n",
    "\n",
    "harp_ids, harp_noaa_dict = get_harp_ids_and_harp_noaa_dict()\n",
    "\n",
    "if recreate_data:\n",
    "    create_all_csvs(harp_ids)\n",
    "    flare_data = get_flare_data(harp_ids, 'C1.0')\n",
    "    write_noaa_data_to_csv(flare_data)\n",
    "else:\n",
    "    flare_data = get_noaa_data_from_csv()\n",
    "\n",
    "print('Number of active regions:', len(harp_ids))\n",
    "print('Number of flares:', len(flare_data))"
   ]
  },
  {
   "cell_type": "markdown",
   "metadata": {},
   "source": [
    "---\n",
    "## Data Processing\n",
    "\n",
    "In the next blocks of code, we will process the data in various ways to extract information and relate the data described above to each other."
   ]
  },
  {
   "cell_type": "code",
   "execution_count": 17,
   "metadata": {},
   "outputs": [],
   "source": [
    "def get_flared_noaa_id_set(flare_data):\n",
    "    '''This method returns a list of all the NOAA IDs that have flared, based\n",
    "    on the data passed in from flare_data.\n",
    "    '''\n",
    "    noaa_flare_set = set()\n",
    "    for flare in flare_data:\n",
    "        noaa_flare_set.add(int(flare['noaa_active_region']))\n",
    "    return noaa_flare_set"
   ]
  },
  {
   "cell_type": "code",
   "execution_count": 18,
   "metadata": {},
   "outputs": [],
   "source": [
    "def has_flared(harp_id, harp_noaa_dict, noaa_flare_set):\n",
    "    '''This method returns a boolean corresponding to whether the active region\n",
    "    corresponding to the harp_id has flared or not within its lifespan.\n",
    "    '''\n",
    "    for noaa_id in harp_noaa_dict[harp_id]:\n",
    "        if int(noaa_id) in noaa_flare_set:\n",
    "            return True\n",
    "    return False"
   ]
  },
  {
   "cell_type": "code",
   "execution_count": 19,
   "metadata": {},
   "outputs": [],
   "source": [
    "def get_harp_id_to_flaring_times_dict(harp_ids, harp_noaa_dict, flare_data):\n",
    "    '''This method returns a dictionary where the keys are HARP IDs and\n",
    "    the values are a list of peak times where the given active region flared.\n",
    "    Times are given in units of hours after the first time in the harp_id data.\n",
    "    If the active region corresponding to the HARP IDs did not flare, then\n",
    "    the list will be empty.\n",
    "    '''\n",
    "    # Make a dictionary of NOAA ids as keys and flare times as values\n",
    "    noaa_id_flare_time_dict = {}\n",
    "    for flare in flare_data:\n",
    "        time = flare['peak_time']\n",
    "        noaa_id = int(flare['noaa_active_region'])\n",
    "        if noaa_id in noaa_id_flare_time_dict.keys():\n",
    "            noaa_id_flare_time_dict[noaa_id] += [time]\n",
    "        else:\n",
    "            noaa_id_flare_time_dict[noaa_id] = [time]\n",
    "\n",
    "    # Make a dictionary with HARP ids as keys and flare times as values\n",
    "    flare_time_dict = {}\n",
    "    noaa_ids = noaa_id_flare_time_dict.keys()\n",
    "    for harp_id in harp_ids:\n",
    "        keys = read_data(harp_id)\n",
    "        if len(keys.TRUE_TIME) == 0:\n",
    "            flare_time_dict[harp_id] = []\n",
    "            continue\n",
    "\n",
    "        flare_time_dict[harp_id] = []\n",
    "        datetime_start = keys.TRUE_TIME[0]\n",
    "        hour_start = keys.TIME[0]\n",
    "        for noaa_id in harp_noaa_dict[harp_id]:\n",
    "            if int(noaa_id) not in noaa_ids: continue\n",
    "            time_array = []\n",
    "            for time in noaa_id_flare_time_dict[int(noaa_id)]:\n",
    "                time_array.append(hour_start +\n",
    "                                  get_time_delta(datetime_start,\n",
    "                                                 convert_tai_to_datetime(str(time))))\n",
    "            flare_time_dict[int(harp_id)] += time_array\n",
    "    return flare_time_dict"
   ]
  },
  {
   "cell_type": "code",
   "execution_count": 20,
   "metadata": {},
   "outputs": [],
   "source": [
    "def find_unlabeled_flares_above_minimum(flare_data, min_class='M5.0'):\n",
    "    '''While looking at the NOAA data, I noticed that the NOAA ID of some flares\n",
    "    were labeled as 0. This method finds and returns flare_data entries that have\n",
    "    an NOAA ID of 0, and have a GOES class above min_class. This is used to see\n",
    "    if any of the unlabeled flares interfere with the learning algorithm.\n",
    "    '''\n",
    "    unlabeled_flare_list = []\n",
    "    for flare in flare_data:\n",
    "        if flare['noaa_active_region'] == '0':\n",
    "            goes_class = flare['goes_class']\n",
    "            classes = ['c', 'm', 'x']\n",
    "            if (\n",
    "                classes.index(goes_class[0].lower()) > classes.index(min_class[0].lower()) or\n",
    "                (classes.index(goes_class[0].lower()) == classes.index(min_class[0].lower()) and\n",
    "                float(goes_class[1:]) > float(min_class[1:]))\n",
    "            ):\n",
    "                unlabeled_flare_list.append(flare)\n",
    "    return unlabeled_flare_list"
   ]
  },
  {
   "cell_type": "code",
   "execution_count": 21,
   "metadata": {},
   "outputs": [],
   "source": [
    "def count_flared_num(harp_ids, harp_noaa_dict, noaa_flare_set):\n",
    "    '''This method returns the number of active regions in the inputted\n",
    "    harp_ids that have flared.\n",
    "    '''\n",
    "    number_flared = 0\n",
    "    for harp_id in harp_ids:\n",
    "        if has_flared(harp_id, harp_noaa_dict, noaa_flare_set): number_flared += 1\n",
    "    return number_flared"
   ]
  },
  {
   "cell_type": "code",
   "execution_count": 22,
   "metadata": {},
   "outputs": [],
   "source": [
    "def get_segmented_data(harp_ids, flare_data, flare_time_dict, n=None,\n",
    "                       return_harp_ids=False, num_hours=24):\n",
    "    '''This method returns two arrays: x and y. The x array includes time series\n",
    "    data, while y represents whether the corresponding active region in x flared.\n",
    "    \n",
    "    The x and y arrays are built according to the following rule:\n",
    "        - If a flare occurs within num_hours hours after sample time t, it is \n",
    "        considered to belong to the positive case (i.e. the corresponding y entry\n",
    "        will be True).\n",
    "        - If no flare occurs within num_hours hours, it is considered to belong to \n",
    "        the snegative case.\n",
    "    \n",
    "    The x array is an array of arrays, where each array represents a num_hours-hour\n",
    "    set of data corresponding to an active region. Each of these num_hours-hour \n",
    "    arrays are arrays of dictionaries representing the data at each recorded interval \n",
    "    within the num_hours hours.\n",
    "    \n",
    "    The n parameter refers to how many negative data points. If n is set to \n",
    "    None (default), then the number of negative data points = the number of positive\n",
    "    data points.\n",
    "    '''\n",
    "    num_flares = len(flare_data)\n",
    "    if n:\n",
    "        num_samples_per_datapoint = int(20 * n / num_flares)\n",
    "    else:\n",
    "        n = len(flare_data) * 5  # Pick a large number\n",
    "        num_samples_per_datapoint = 10 # Number of negative samples from each region\n",
    "    \n",
    "    def get_data_point(time_data, flare_time):\n",
    "        '''Given a harp_id, returns a dictionary with following keys: time, flux, \n",
    "        free energy, area, and polarity_inversion_line, mapping each to the values\n",
    "        corresponding to the harp_id.\n",
    "        '''\n",
    "        data_point = []\n",
    "        for i, time in enumerate(time_data):\n",
    "            if time <= flare_time and time >= flare_time - num_hours:\n",
    "                data_point.append({'time': time,\n",
    "                                   'flux': keys.USFLUX[i],\n",
    "                                   'free_energy': keys.TOTPOT[i],\n",
    "                                   'area': keys.AREA_ACR[i],\n",
    "                                   'polarity_inversion_flux': keys.R_VALUE[i]})\n",
    "        if not data_point or data_point[-1]['time'] - data_point[0]['time'] < num_hours - 1: # Insufficient data\n",
    "            return None\n",
    "        return data_point\n",
    "\n",
    "    def contains_nonflaring_24hrs(time_data, flare_data):\n",
    "        '''Given flaring data flare_data for an active region, returns True if the\n",
    "        flare_data contains a 24 hour period without flares, and False otherwise.\n",
    "        '''\n",
    "        previous_flare_time = time_data[0]\n",
    "        for flare_time in flare_data:\n",
    "            if flare_time - previous_flare_time > num_hours:\n",
    "                return True\n",
    "            previous_flare_time = flare_time\n",
    "        return False\n",
    "\n",
    "    def get_random_flare_time(time_data, flare_data):\n",
    "        '''Returns a random valid flare time for the given time_data and flare_data.'''\n",
    "        is_valid = False\n",
    "        while not is_valid:\n",
    "            end_time = time_data[random.randrange(len(time_data))]\n",
    "            for flare_time in flare_data + [time_data[0]]:\n",
    "                if end_time - flare_time > num_hours: is_valid = True\n",
    "        return end_time\n",
    "\n",
    "    x_data = []\n",
    "    y_data = []\n",
    "    harp_list = []\n",
    "    num_negative = 0\n",
    "\n",
    "    for harp_id in harp_ids:\n",
    "        keys = read_data(harp_id)\n",
    "        flare_data = flare_time_dict[harp_id]\n",
    "        if not flare_data: continue\n",
    "\n",
    "        # Positive samples\n",
    "        for flare_time in flare_data:\n",
    "            # Throw out flare data with less than num_hours hours of preceding data or\n",
    "            # data that has flare outside of the dataset since the data was cleaned in\n",
    "            # the downloading data section.\n",
    "            if flare_time - keys.TIME[0] < num_hours or flare_time > keys.TIME.iloc[-1]: continue\n",
    "            data_point = get_data_point(keys.TIME, flare_time)\n",
    "            if data_point:\n",
    "                harp_list.append(harp_id)\n",
    "                x_data.append(data_point)\n",
    "                y_data.append(True) # True => flare is present\n",
    "\n",
    "        # Negative samples\n",
    "        for _ in range(num_samples_per_datapoint):\n",
    "            if not contains_nonflaring_24hrs(keys.TIME, flare_data): break\n",
    "            flare_time = get_random_flare_time(keys.TIME, flare_data)\n",
    "            data_point = get_data_point(keys.TIME, flare_time)\n",
    "            if not data_point: break\n",
    "\n",
    "            harp_list.append(harp_id)\n",
    "            x_data.append(data_point)\n",
    "            y_data.append(False) # False => flare is not present\n",
    "            num_negative += 1\n",
    "        if num_negative >= n: break\n",
    "    if return_harp_ids:\n",
    "        return x_data, y_data, harp_list\n",
    "    else:\n",
    "        return x_data, y_data"
   ]
  },
  {
   "cell_type": "code",
   "execution_count": 23,
   "metadata": {},
   "outputs": [
    {
     "name": "stdout",
     "output_type": "stream",
     "text": [
      "# Positive: 4218 --- # Negative: 4500\n"
     ]
    }
   ],
   "source": [
    "flare_time_dict = get_harp_id_to_flaring_times_dict(harp_ids, harp_noaa_dict, flare_data)\n",
    "seg_x, seg_y, harp_list = get_segmented_data(harp_ids, flare_data, flare_time_dict,\n",
    "                                             n=4500, return_harp_ids=True)\n",
    "positive_count, negative_count = 0, 0\n",
    "for has_flare in seg_y:\n",
    "    if has_flare: positive_count += 1\n",
    "    else: negative_count += 1\n",
    "print('# Positive:', positive_count, '--- # Negative:', negative_count)"
   ]
  },
  {
   "cell_type": "markdown",
   "metadata": {},
   "source": [
    "---\n",
    "## Plotting Variables over Time\n",
    "\n",
    "It is useful to create graphs in order to visually understand the relationship between variables over time.\n",
    "\n",
    "Below are many methods for creating different types of graphs. Many of the functions are flexible, allowing one to manipulate the graphs.\n",
    "\n",
    "First, let's import `matplotlib` methods useful for graphing:"
   ]
  },
  {
   "cell_type": "code",
   "execution_count": 24,
   "metadata": {},
   "outputs": [],
   "source": [
    "import matplotlib\n",
    "import matplotlib.pyplot as plt"
   ]
  },
  {
   "cell_type": "code",
   "execution_count": 25,
   "metadata": {},
   "outputs": [],
   "source": [
    "def plot_graph(x, y, x_label, y_label, title, clr=None, scatter=False,\n",
    "               line=None, vertical_lines=None, formula=None, label=None):\n",
    "    '''This method uses matplotlib to create a graph of x vs. y with many different\n",
    "    parameters to customize the graph. This method is a base method for many of the\n",
    "    other graphing methods.\n",
    "    '''\n",
    "    # Style elements\n",
    "    text_style = dict(fontsize=12, fontdict={'family': 'monospace'})\n",
    "\n",
    "    # Add data to graph\n",
    "    if scatter:\n",
    "        plt.scatter(x, y, color=clr, label=label, alpha=0.8, s=5)\n",
    "    else:\n",
    "        plot = plt.plot(x, y, '.', color=clr, linestyle=line, label=label)\n",
    "    \n",
    "    if vertical_lines:\n",
    "        for x_val in vertical_lines:\n",
    "            plt.axvline(x=x_val, color=clr)\n",
    "    plt.axhline(y=0, color='black', linewidth=1)\n",
    "    \n",
    "    if formula:\n",
    "        x_vals = np.array(x)\n",
    "        y_vals = formula(x_vals)\n",
    "        plt.plot(x, y_vals, color=clr)\n",
    "\n",
    "    # Label the axes and the plot\n",
    "    ax = plt.gca()\n",
    "    ax.tick_params(labelsize=12)\n",
    "    ax.set_xlabel(x_label, **text_style)\n",
    "    ax.set_ylabel(y_label, **text_style)\n",
    "    ax.set_title(title, **text_style)\n",
    "    if label: plt.legend()"
   ]
  },
  {
   "cell_type": "code",
   "execution_count": 26,
   "metadata": {},
   "outputs": [],
   "source": [
    "def plot_segmented_graphs(seg_x, seg_y, variables=['flux'], flare=True, n=5,\n",
    "                          color=None, delta=True, scale=False):\n",
    "    '''This method plots n random graphs that correspond to flaring active regions\n",
    "    if flare is True, and non-flaring active regions if flare is False.\n",
    "    If delta is True, it normalizes the graph (variables at time=0 are set to 0).\n",
    "    If scale is True, it normalizes the graph to be in the range [-1, 1].\n",
    "    '''\n",
    "    for _ in range(n):\n",
    "        i = random.randrange(len(seg_y))\n",
    "        while seg_y[i] != flare:\n",
    "            i = random.randrange(len(seg_y))\n",
    "        seg_data = seg_x[i]\n",
    "        for variable in variables:\n",
    "            x_data, y_data = [], []\n",
    "            start_data = seg_data[0][variable]\n",
    "            var_data = []\n",
    "            for data_pt in seg_data:\n",
    "                var_data.append(data_pt[variable])\n",
    "            if delta:\n",
    "                max_data = max(max(var_data - start_data),\n",
    "                                abs(min(var_data - start_data))) / 1e22\n",
    "            else:\n",
    "                max_data = max(max(var_data), abs(min(var_data))) / 1e22\n",
    "            for data_pt in seg_data:\n",
    "                x_data.append(data_pt['time'])\n",
    "                y_pt = data_pt[variable] / 1e22\n",
    "                if delta:\n",
    "                    y_pt -= start_data / 1e22\n",
    "                if scale:\n",
    "                    y_pt /= max_data\n",
    "                y_data.append(y_pt)\n",
    "            variable_names = map(lambda x : x.title().replace('_', ' '), variables)\n",
    "            plot_graph(x_data, y_data, 'Hours Since Active Region Detected',\n",
    "                        'Units relative to maximum value',\n",
    "                        ', '.join(variable_names) + ' vs. Time for Active Region',\n",
    "                        clr=color, label=variable)\n",
    "        plt.show()"
   ]
  },
  {
   "cell_type": "code",
   "execution_count": 27,
   "metadata": {},
   "outputs": [
    {
     "data": {
      "image/png": "[encoded data removed]",
      "text/plain": [
       "<Figure size 432x288 with 1 Axes>"
      ]
     },
     "metadata": {
      "needs_background": "light"
     },
     "output_type": "display_data"
    },
    {
     "data": {
      "image/png": "[encoded data removed]",
      "text/plain": [
       "<Figure size 432x288 with 1 Axes>"
      ]
     },
     "metadata": {
      "needs_background": "light"
     },
     "output_type": "display_data"
    }
   ],
   "source": [
    "num_graphs = 2\n",
    "plot_segmented_graphs(seg_x, seg_y, scale=True, flare=True, n=num_graphs,\n",
    "                      variables=['flux', 'free_energy', 'area', 'polarity_inversion_flux'])"
   ]
  },
  {
   "cell_type": "markdown",
   "metadata": {},
   "source": [
    "---\n",
    "## Machine Learning"
   ]
  },
  {
   "cell_type": "markdown",
   "metadata": {},
   "source": [
    "(from [Wikipedia](https://en.wikipedia.org/wiki/Spearman%27s_rank_correlation_coefficient)): Spearman's correlation assesses monotonic relationships (whether linear or not). If there are no repeated data values, a perfect Spearman correlation of +1 or −1 occurs when each of the variables is a perfect monotone function of the other."
   ]
  },
  {
   "cell_type": "code",
   "execution_count": 28,
   "metadata": {},
   "outputs": [],
   "source": [
    "def calculate_spearman(seg_x, first_var, second_var):\n",
    "    '''Calculate the Spearman coefficient between two variables. This method calculates\n",
    "    the coefficient between the two variables for every time series data series, then\n",
    "    returns the mean and standard deviation of the coefficients.\n",
    "    '''\n",
    "    s_coeff_list = []\n",
    "    for data in seg_x:\n",
    "        first_var_data = []\n",
    "        second_var_data = []\n",
    "        for data_pt in data:\n",
    "            if not data_pt[first_var] or not data_pt[second_var]: continue\n",
    "            first_var_data.append(data_pt[first_var])\n",
    "            second_var_data.append(data_pt[second_var])\n",
    "        s_coeff = scipy.stats.spearmanr(first_var_data, second_var_data).correlation\n",
    "        if not math.isnan(s_coeff): s_coeff_list.append(s_coeff)\n",
    "    return np.mean(s_coeff_list), np.std(s_coeff_list)"
   ]
  },
  {
   "cell_type": "code",
   "execution_count": 29,
   "metadata": {},
   "outputs": [
    {
     "name": "stdout",
     "output_type": "stream",
     "text": [
      "S_coefficient for flux vs. free_energy. mean: 0.4962321258583314  std: 0.5194315387722125\n",
      "S_coefficient for flux vs. area. mean: 0.14212229305568824  std: 0.6317008047205964\n",
      "S_coefficient for flux vs. polarity_inversion_flux. mean: 0.16790397390800682  std: 0.4658001946221718\n"
     ]
    }
   ],
   "source": [
    "for var in ['free_energy', 'area', 'polarity_inversion_flux']:\n",
    "    s_coeff, s_dev = calculate_spearman(seg_x, 'flux', var)\n",
    "    print('S_coefficient for flux vs.', var + '. mean:', s_coeff, ' std:', s_dev)"
   ]
  },
  {
   "cell_type": "code",
   "execution_count": 30,
   "metadata": {},
   "outputs": [],
   "source": [
    "def regression_helper(function, time_data, variable_data):\n",
    "    popt, _ = scipy.optimize.curve_fit(function, time_data, variable_data)\n",
    "    residuals = variable_data - function(time_data, *popt)\n",
    "    ss_res = np.sum(residuals ** 2)\n",
    "    ss_tot = np.sum((variable_data - np.mean(variable_data)) ** 2)\n",
    "    r_squared = 1 - (ss_res / ss_tot)\n",
    "    return popt, r_squared"
   ]
  },
  {
   "cell_type": "markdown",
   "metadata": {},
   "source": [
    "The following methods take `time_data` and some `variable_data`, then return different kinds of features based on the data."
   ]
  },
  {
   "cell_type": "code",
   "execution_count": 31,
   "metadata": {},
   "outputs": [],
   "source": [
    "def linear_features(time_data, variable_data, feature_names=False):\n",
    "    def f_linear(x, a, b):\n",
    "        return a * x + b\n",
    "    popt, r_squared = regression_helper(f_linear, time_data, variable_data)\n",
    "    if feature_names:\n",
    "        return np.array([*popt, r_squared]), ['slope', 'intercept', 'r^2_linear']\n",
    "    return np.array([*popt, r_squared])"
   ]
  },
  {
   "cell_type": "code",
   "execution_count": 32,
   "metadata": {},
   "outputs": [],
   "source": [
    "def exponential_features(time_data, variable_data, feature_names=False):\n",
    "    def f_exponential(x, a, b):\n",
    "        return a * b ** x\n",
    "    popt, r_squared = regression_helper(f_exponential, time_data, variable_data)\n",
    "    if feature_names:\n",
    "        return np.array([popt[1], r_squared]), ['exp_val', 'r^2_exp']\n",
    "    return np.array([popt[1], r_squared])"
   ]
  },
  {
   "cell_type": "code",
   "execution_count": 33,
   "metadata": {},
   "outputs": [],
   "source": [
    "def quadratic_features(time_data, variable_data, feature_names=False):\n",
    "    def f_quad(x, a, b, c):\n",
    "        return a * x ** 2 + b * x + c\n",
    "    popt, r_squared = regression_helper(f_quad, time_data, variable_data)\n",
    "    if feature_names:\n",
    "        return np.array([*popt, r_squared]), ['quad_1', 'quad_2', 'quad_3', 'r^2_quad']\n",
    "    return np.array([*popt, r_squared])"
   ]
  },
  {
   "cell_type": "code",
   "execution_count": 34,
   "metadata": {},
   "outputs": [],
   "source": [
    "def cubic_features(time_data, variable_data, feature_names=False):\n",
    "    def f_cubic(x, a, b, c, d):\n",
    "        return a * x ** 3 + b * x ** 2 + c * x + d\n",
    "    popt, r_squared = regression_helper(f_cubic, time_data, variable_data)\n",
    "    if feature_names:\n",
    "        return np.array([*popt, r_squared]), ['cube_1', 'cube_2', 'cube_3', 'cube_4', 'r^2_cube']\n",
    "    return np.array([*popt, r_squared])"
   ]
  },
  {
   "cell_type": "code",
   "execution_count": 35,
   "metadata": {},
   "outputs": [],
   "source": [
    "from scipy.interpolate import make_lsq_spline\n",
    "\n",
    "def spline_features(time_data, variable_data, feature_names=False):\n",
    "    elapsed_time = time_data[-1] - time_data[0]\n",
    "    t = [time_data[0] + elapsed_time / 4, time_data[0] + elapsed_time * 2 / 4,\n",
    "         time_data[0] + elapsed_time * 3 / 4]\n",
    "    k = 3\n",
    "    t = np.r_[(time_data[0],)*(k+1), t, (time_data[-1],)*(k+1)]\n",
    "    try:\n",
    "        formula = make_lsq_spline(time_data, variable_data, t, k)\n",
    "    except np.linalg.LinAlgError: # Not enough time data in each quadrant of the data\n",
    "        if feature_names: return None, None\n",
    "        return None\n",
    "    if feature_names:\n",
    "        return np.array(formula.c), ['spline_1', 'spline_2', 'spline_3', 'spline_4',\n",
    "                                    'spline_5', 'spline_6', 'spline_7']\n",
    "    return np.array(formula.c)"
   ]
  },
  {
   "cell_type": "code",
   "execution_count": 36,
   "metadata": {},
   "outputs": [],
   "source": [
    "def discrete_features(time_data, variable_data, feature_names=False):\n",
    "    features = []\n",
    "    features.append(np.mean(variable_data))\n",
    "    features.append(np.std(variable_data))\n",
    "    if feature_names:\n",
    "        return features, ['mean', 'std']"
   ]
  },
  {
   "cell_type": "code",
   "execution_count": 37,
   "metadata": {},
   "outputs": [],
   "source": [
    "def extract_time_series_features(time_data, variable_data, features):\n",
    "    feature_list = np.array([])\n",
    "    feature_names = []\n",
    "    for feature in features:\n",
    "        # Each feature is a function\n",
    "        data, names = feature(time_data, variable_data, feature_names=True)\n",
    "        if data is None or not any(data): return [], []\n",
    "        feature_list = np.append(feature_list, data)\n",
    "        feature_names += names\n",
    "    return feature_list, feature_names"
   ]
  },
  {
   "cell_type": "code",
   "execution_count": 38,
   "metadata": {},
   "outputs": [],
   "source": [
    "def create_learning_dataset(seg_x, seg_y, variable, features):\n",
    "    '''Creates learning dataset with time series data.\n",
    "    '''\n",
    "    x_data, y_data = [], []\n",
    "    for i, data in enumerate(seg_x):\n",
    "        if len(data) < 4: continue\n",
    "        time_data, variable_data = [], []\n",
    "        for data_pt in data:\n",
    "            time_data.append(data_pt['time'])\n",
    "            if variable in ['flux', 'free_energy']:\n",
    "                variable_data.append(data_pt[variable] / 1e22)\n",
    "            else:\n",
    "                variable_data.append(data_pt[variable])\n",
    "        time_data = np.array(time_data)\n",
    "        variable_data = np.array(variable_data)\n",
    "        if not any(variable_data): continue\n",
    "        series_data, names = extract_time_series_features(time_data, variable_data, features)\n",
    "        if not any(series_data): continue\n",
    "        x_data.append(series_data)\n",
    "        y_data.append(seg_y[i])\n",
    "    names = list(map(lambda x : variable + ' ' + x, names))\n",
    "    return x_data, y_data, names"
   ]
  },
  {
   "cell_type": "code",
   "execution_count": 39,
   "metadata": {},
   "outputs": [
    {
     "name": "stdout",
     "output_type": "stream",
     "text": [
      "Features used: ['flux slope', 'flux intercept', 'flux r^2_linear']\n"
     ]
    }
   ],
   "source": [
    "features = [linear_features]\n",
    "raw_x_data = np.array([])\n",
    "y_data = []\n",
    "feature_names = []\n",
    "variables = ['flux']\n",
    "for variable in variables:\n",
    "    x, y, names = create_learning_dataset(seg_x, seg_y, variable, features)\n",
    "    feature_names += names\n",
    "    if raw_x_data.size == 0: raw_x_data = np.array(x)\n",
    "    else: raw_x_data = np.hstack((raw_x_data, np.array(x)))\n",
    "    y_data = y\n",
    "print('Features used:', feature_names)"
   ]
  },
  {
   "cell_type": "code",
   "execution_count": 40,
   "metadata": {},
   "outputs": [],
   "source": [
    "from sklearn.preprocessing import MinMaxScaler\n",
    "\n",
    "def scale_x_data(x):\n",
    "    '''Method to scale each feature in the inputted x data to a range of 0 to 1.\n",
    "    Returns the scaled data.\n",
    "    '''\n",
    "    scaler = MinMaxScaler()\n",
    "    return scaler.fit_transform(x)"
   ]
  },
  {
   "cell_type": "code",
   "execution_count": 41,
   "metadata": {},
   "outputs": [
    {
     "name": "stdout",
     "output_type": "stream",
     "text": [
      "8718 8718\n"
     ]
    }
   ],
   "source": [
    "x_data = scale_x_data(raw_x_data)\n",
    "print(len(x_data), len(y_data))"
   ]
  },
  {
   "cell_type": "markdown",
   "metadata": {},
   "source": [
    "The following two methods are helper functions to help run machine learning algorithms."
   ]
  },
  {
   "cell_type": "code",
   "execution_count": 42,
   "metadata": {},
   "outputs": [],
   "source": [
    "from sklearn.model_selection import train_test_split\n",
    "\n",
    "def fit_algorithm(clf, x, y, n=1):\n",
    "    '''This method will fit the given classifier clf to the input x, y data\n",
    "    and will return the training and test accuracy of the model.\n",
    "    This method will randomize the train/test split n number of times and will\n",
    "    return the average train/test accuracy.\n",
    "    '''\n",
    "    avg_train, avg_test = 0, 0\n",
    "    for _ in range(n):\n",
    "        x_train, x_test, y_train, y_test = train_test_split(x, y, test_size=0.25)\n",
    "        clf.fit(x_train, y_train)\n",
    "        avg_train += clf.score(x_train, y_train)\n",
    "        avg_test += clf.score(x_test, y_test)\n",
    "    return avg_train / n, avg_test / n"
   ]
  },
  {
   "cell_type": "code",
   "execution_count": 43,
   "metadata": {},
   "outputs": [],
   "source": [
    "def print_info(clf, x, y, algorithm_name, best_accuracy=0, best_algorithm=None):\n",
    "    '''This method streamlines the code required to fit the given clf to the \n",
    "    model, as well as print out important statistics. This method returns the new\n",
    "    best algorithm and best accuracy, based on the test accuracy.\n",
    "    '''\n",
    "    print(algorithm_name + ':')\n",
    "    train_accuracy, test_accuracy = fit_algorithm(clf, x, y, 50)\n",
    "    print('> Train accuracy:', train_accuracy)\n",
    "    print('> Test accuracy:', test_accuracy)\n",
    "    result_vals_dict = {'TP': 0, 'FP': 0, 'TN': 0, 'FN':0}\n",
    "    for i, data_pt in enumerate(x):\n",
    "        prediction = clf.predict([data_pt])\n",
    "        if prediction == y[i]:\n",
    "            if prediction == 1:\n",
    "                result_vals_dict['TP'] += 1\n",
    "            else:\n",
    "                result_vals_dict['TN'] += 1\n",
    "        else:\n",
    "            if prediction == 1:\n",
    "                result_vals_dict['FP'] += 1\n",
    "            else:\n",
    "                result_vals_dict['FN'] += 1\n",
    "    precision = result_vals_dict['TP'] / (result_vals_dict['TP'] + result_vals_dict['FP'] + 1)\n",
    "    recall = result_vals_dict['TP'] / (result_vals_dict['TP'] + result_vals_dict['FN'] + 1)\n",
    "    tss_score = recall - result_vals_dict['FP'] / (result_vals_dict['FP'] + result_vals_dict['TN'])\n",
    "    print('> Precision:', precision)\n",
    "    print('> Recall:', recall)\n",
    "    print('> TSS Score:', tss_score)\n",
    "    if test_accuracy > best_accuracy:\n",
    "        best_accuracy = test_accuracy\n",
    "        best_algorithm = algorithm_name\n",
    "    return best_algorithm, best_accuracy"
   ]
  },
  {
   "cell_type": "markdown",
   "metadata": {},
   "source": [
    "## Different Classification Algorithms and Their Pros and Cons\n",
    "\n",
    "1. Suppport Vector Machines (SVMs)\n",
    "  * SVMs work by constructing hyper-planes in higher dimensional space. This can be used for classification by maximizing the distance between the hyper-plane and the training data of any class.\n",
    "  * This is a good choice because it is a versatile classification algorithm.\n",
    "2. Stochastic Gradient Descent\n",
    "  * Creates a linear classifier to minimize loss.\n",
    "  * Less versatile than SVMs (this should not be an issue for the binary classification, however).\n",
    "  * Scikitlearn has the following built-in loss functions: hinge loss, modified Huber, and logistic.\n",
    "3. Multi-layer Perceptron\n",
    "  * Can learn non-linear models.\n",
    "  * Doesn't necessarily find global optimum: different initial weights can alter validation accuracy.\n",
    "  * Needs tweaking of hyperparameters such as the number of hidden neurons, layers, and iterations to work well.\n",
    "4. AdaBoost (Boosting algorithm)\n",
    "  * Principle is to combine many weak learners to create one strong model.\n",
    "  * Each weak learner concentrates on the examples that are missed by the previous learners.\n",
    "5. Random Forest\n",
    "  * Each tree is built from a random sample of the total data (with replacement).\n",
    "  * This tends to reduce the overall bias."
   ]
  },
  {
   "cell_type": "markdown",
   "metadata": {},
   "source": [
    "Let's import all the learning algorithms we need from the scikit learn library:"
   ]
  },
  {
   "cell_type": "code",
   "execution_count": 44,
   "metadata": {},
   "outputs": [],
   "source": [
    "from sklearn.svm import SVC\n",
    "from sklearn.linear_model import SGDClassifier\n",
    "from sklearn.ensemble import AdaBoostClassifier\n",
    "from sklearn.neural_network import MLPClassifier\n",
    "from sklearn.ensemble import RandomForestClassifier"
   ]
  },
  {
   "cell_type": "code",
   "execution_count": 45,
   "metadata": {},
   "outputs": [],
   "source": [
    "def run_learning_algorithms(x, y):\n",
    "    '''This method runs different machine learning (ML) algorithms and prints \n",
    "    statements indicated the accuracy, finally printing the best overall algorithm \n",
    "    in terms of test accuracy.\n",
    "    \n",
    "    Current ML algorithms:\n",
    "        Support Vector Machine\n",
    "        Stochastic Gradient Descent\n",
    "        Multi-layer Perceptron\n",
    "        AdaBoost\n",
    "        Random Forest\n",
    "    '''\n",
    "    best_accuracy = 0\n",
    "    best_algorithm = None\n",
    "\n",
    "    #algorithm_name = 'Support Vector Machine'\n",
    "    #clf = SVC(gamma='scale')\n",
    "    #best_algorithm, best_accuracy = print_info(clf, x, y, algorithm_name, best_accuracy, best_algorithm)\n",
    "    #print('>', clf.support_vectors_, '\\n')\n",
    "\n",
    "    algorithm_name = 'Stochastic Gradient Descent'\n",
    "    clf = SGDClassifier(loss='hinge', penalty='l2')\n",
    "    best_algorithm, best_accuracy = print_info(clf, x, y, algorithm_name, best_accuracy, best_algorithm)\n",
    "    print('>', clf.coef_, '\\n')\n",
    "\n",
    "    #algorithm_name = 'Multi-layer Perceptron'\n",
    "    #clf = MLPClassifier(max_iter=500)\n",
    "    #best_algorithm, best_accuracy = print_info(clf, x, y, algorithm_name, best_accuracy, best_algorithm)\n",
    "    #print('>', clf.loss_, '\\n')\n",
    "\n",
    "    algorithm_name = 'AdaBoost'\n",
    "    clf = AdaBoostClassifier(n_estimators=25, random_state=0)\n",
    "    best_algorithm, best_accuracy = print_info(clf, x, y, algorithm_name, best_accuracy, best_algorithm)\n",
    "    print('>', clf.feature_importances_, '\\n')\n",
    "\n",
    "    algorithm_name = 'Random Forest'\n",
    "    clf = RandomForestClassifier(n_estimators=25, max_depth=2, random_state=0)\n",
    "    best_algorithm, best_accuracy = print_info(clf, x, y, algorithm_name, best_accuracy, best_algorithm)\n",
    "    print('>', clf.feature_importances_, '\\n')\n",
    "\n",
    "    print('The best algorithm is', best_algorithm, 'with a test accuracy of', best_accuracy)"
   ]
  },
  {
   "cell_type": "code",
   "execution_count": 46,
   "metadata": {
    "scrolled": true
   },
   "outputs": [
    {
     "name": "stdout",
     "output_type": "stream",
     "text": [
      "Stochastic Gradient Descent:\n",
      "> Train accuracy: 0.6265616396451515\n",
      "> Test accuracy: 0.6254770642201833\n",
      "> Precision: 0.7527047913446677\n",
      "> Recall: 0.23086039345816545\n",
      "> TSS Score: 0.15997150456927656\n",
      "> [[18.52324032 22.12133775  0.34183494]] \n",
      "\n",
      "AdaBoost:\n",
      "> Train accuracy: 0.7110003059039464\n",
      "> Test accuracy: 0.7024220183486238\n",
      "> Precision: 0.7087898709520332\n",
      "> Recall: 0.6899739274709646\n",
      "> TSS Score: 0.4244183719154091\n",
      "> [0.48 0.4  0.12] \n",
      "\n",
      "Random Forest:\n",
      "> Train accuracy: 0.6802508412358518\n",
      "> Test accuracy: 0.6746880733944955\n",
      "> Precision: 0.690533015115354\n",
      "> Recall: 0.6172078691633088\n",
      "> TSS Score: 0.3580967580521977\n",
      "> [0.49492907 0.39079494 0.11427599] \n",
      "\n",
      "The best algorithm is AdaBoost with a test accuracy of 0.7024220183486238\n"
     ]
    }
   ],
   "source": [
    "run_learning_algorithms(x_data, y_data)"
   ]
  },
  {
   "cell_type": "code",
   "execution_count": 47,
   "metadata": {},
   "outputs": [],
   "source": [
    "def graph_features(x, y, feature_names, max_num_graphs=float('inf')):\n",
    "    '''Given the feature data as x, this function will graph features versus each other.\n",
    "    Different outputs in y will be displayed in different colors. The function will graph\n",
    "    every combination of features, and print them.\n",
    "    '''\n",
    "    single_feature_vectors = [[] for _ in range(len(x[0]))]\n",
    "    colors = []\n",
    "    color_map = {True: 'r', False: 'b'}\n",
    "    for i, data_pt in enumerate(x):\n",
    "        colors.append(color_map[y[i]])\n",
    "        for j in range(len(data_pt)):\n",
    "            single_feature_vectors[j].append(data_pt[j])\n",
    "    count = 0\n",
    "    for i in range(len(x[0])):\n",
    "        for j in range(i + 1, len(x[0])):\n",
    "            count += 1\n",
    "            plot_graph(single_feature_vectors[i], single_feature_vectors[j],\n",
    "                       feature_names[i], feature_names[j],\n",
    "                       feature_names[i].title() + ' vs. ' + feature_names[j].title(),\n",
    "                       clr=colors, scatter=True)\n",
    "            plt.show()\n",
    "            if count >= max_num_graphs: break\n",
    "        if count >= max_num_graphs: break"
   ]
  },
  {
   "cell_type": "code",
   "execution_count": 48,
   "metadata": {},
   "outputs": [
    {
     "data": {
      "image/png": "[encoded data removed]",
      "text/plain": [
       "<Figure size 432x288 with 1 Axes>"
      ]
     },
     "metadata": {
      "needs_background": "light"
     },
     "output_type": "display_data"
    },
    {
     "data": {
      "image/png": "[encoded data removed]",
      "text/plain": [
       "<Figure size 432x288 with 1 Axes>"
      ]
     },
     "metadata": {
      "needs_background": "light"
     },
     "output_type": "display_data"
    },
    {
     "data": {
      "image/png": "[encoded data removed]",
      "text/plain": [
       "<Figure size 432x288 with 1 Axes>"
      ]
     },
     "metadata": {
      "needs_background": "light"
     },
     "output_type": "display_data"
    }
   ],
   "source": [
    "graph_features(x_data, y_data, feature_names)"
   ]
  },
  {
   "cell_type": "markdown",
   "metadata": {},
   "source": [
    "---\n",
    "## Plotting Metadata"
   ]
  },
  {
   "cell_type": "markdown",
   "metadata": {},
   "source": [
    "In this section, I will include a few functions for graphing the results outputted from the machine learning modeling. Specifically, there is a method to understand the relationship between lag time and accuracy and a method to understand the importance of the coefficients in the models as lag time changes.\n",
    "\n",
    "The following two functions are used to get run the algorithms to get the data ready to be plotted and analyzed:"
   ]
  },
  {
   "cell_type": "code",
   "execution_count": 49,
   "metadata": {},
   "outputs": [],
   "source": [
    "def lag_vs_accuracy_data(harp_ids, flare_time_dict, seg_x, seg_y, hour_range=range(2, 25),\n",
    "                         ada=False, features=[spline_features],\n",
    "                         variables=['flux', 'free_energy', 'area', 'polarity_inversion_flux']):\n",
    "    '''This function outputs lag time vs coefficient data in the form of a dictionary.\n",
    "    The dictionary keys are the variables in the variables parameter, and the values are\n",
    "    a list of three-tuples (lag time, accuracy, accuracy error) for all lag times in the\n",
    "    hour_range parameter. Note: the model is trained on a single variable with the learning\n",
    "    algorithm, so there will be len(variables) separate data series.\n",
    "\n",
    "    The default model used is stochastic gradient descent. If the ada parameter is set to\n",
    "    True, then an AdaBoost model will be used instead.\n",
    "\n",
    "    This function takes harp_ids, flare_time_dict, seg_x, and seg_y as inputs.\n",
    "\n",
    "    Note: The default range does not include hour 1. This is by design: for many of the\n",
    "    fitting features such as spline_features and cubic_features, it does not make sense to\n",
    "    fit on one hour (i.e. 5 data points) of data.\n",
    "    '''\n",
    "    data_dict = {}\n",
    "    for variable in variables: data_dict[variable] = [] # List of (time, accuracy, error)\n",
    "    for lag in hour_range:\n",
    "        modified_seg_x = []\n",
    "        # Take time off of the start\n",
    "        for data in seg_x:\n",
    "            end_time = data[-1]['time']\n",
    "            for i, point in enumerate(data):\n",
    "                if end_time - point['time'] < lag:\n",
    "                    modified_seg_x.append(data[i:])\n",
    "                    break\n",
    "        lag_time = round(modified_seg_x[0][-1]['time'] - modified_seg_x[0][0]['time'])\n",
    "        for variable in variables:\n",
    "            # Get data ready for model\n",
    "            x, y_data, feature_names = create_learning_dataset(modified_seg_x, seg_y, variable, features)\n",
    "            raw_x_data = np.array(x)\n",
    "            x_data = scale_x_data(raw_x_data)\n",
    "            assert(len(x_data) == len(y_data))\n",
    "\n",
    "            # Run model n times, and take the standard deviation to determine the error\n",
    "            n = 10\n",
    "            if ada: clf = AdaBoostClassifier(n_estimators=25, random_state=0)\n",
    "            else: clf = SGDClassifier(loss='hinge', penalty='l2')\n",
    "            accuracies = []\n",
    "            for _ in range(n):\n",
    "                _, test_accuracy = fit_algorithm(clf, x_data, y_data, 1)\n",
    "                accuracies.append(test_accuracy)\n",
    "            accuracy = np.mean(accuracies)\n",
    "            accuracy_error = np.std(accuracies)\n",
    "            data_dict[variable].append((lag_time, accuracy, accuracy_error))\n",
    "    return data_dict"
   ]
  },
  {
   "cell_type": "code",
   "execution_count": 50,
   "metadata": {},
   "outputs": [],
   "source": [
    "data_dict = lag_vs_accuracy_data(harp_ids, flare_time_dict, seg_x, seg_y,\n",
    "                                 variables=['flux', 'polarity_inversion_flux'])"
   ]
  },
  {
   "cell_type": "code",
   "execution_count": 51,
   "metadata": {},
   "outputs": [],
   "source": [
    "def lag_vs_coefficient_data(harp_ids, flare_time_dict, seg_x, seg_y, hour_range=range(2, 25),\n",
    "                            ada=False, features=[spline_features],\n",
    "                            f_score=False, variable='flux'):\n",
    "    '''This function outputs data of lag time vs. coefficient values for a machine learning\n",
    "    fit. This allows one to see how the relative importance of coefficients changes over time.\n",
    "    The function returns two lists: coef_data, which is the values of the coefficients at each\n",
    "    timestep, and time_data, which specifies the timesteps.\n",
    "\n",
    "    This function, unlike lag_vs_accuracy_data, takes only a single variable and thus runs the\n",
    "    model on that variable.\n",
    "\n",
    "    This function also has a f_score parameter. When this is set to true, the coefficient data\n",
    "    will be the ANOVA F-value computed for each feature for the data. By default this is false,\n",
    "    and the function returns the parameters of the machine learning fit.\n",
    "\n",
    "    (The paragraphs below are identical to lag_vs_accuracy_data)\n",
    "    The default model used is stochastic gradient descent. If the ada parameter is set to\n",
    "    True, then an AdaBoost model will be used instead.\n",
    "\n",
    "    This function takes harp_ids, flare_time_dict, seg_x, and seg_y as inputs.\n",
    "\n",
    "    Note: The default range does not include hour 1. This is by design: for many of the\n",
    "    fitting features such as spline_features and cubic_features, it does not make sense to\n",
    "    fit on one hour (i.e. 5 data points) of data.\n",
    "    '''\n",
    "    coef_data = []\n",
    "    time_data = []\n",
    "    for lag in hour_range:\n",
    "        modified_seg_x = []\n",
    "        # Take time off of the start\n",
    "        for data in seg_x:\n",
    "            end_time = data[-1]['time']\n",
    "            for i, point in enumerate(data):\n",
    "                if end_time - point['time'] < lag:\n",
    "                    modified_seg_x.append(data[i:])\n",
    "                    break\n",
    "        lag_time = round(modified_seg_x[0][-1]['time'] - modified_seg_x[0][0]['time'])\n",
    "        time_data.append(lag_time)\n",
    "        ada = True\n",
    "        x, y_data, feature_names = create_learning_dataset(modified_seg_x, seg_y, variable, features)\n",
    "        raw_x_data = np.array(x)\n",
    "        x_data = scale_x_data(raw_x_data)\n",
    "        assert(len(x_data) == len(y_data))\n",
    "\n",
    "        # ANOVA F-value does not depend on a machine learning algorithm, so we can save\n",
    "        # time by not running the ML fit if f_score is True\n",
    "        if f_score:\n",
    "            selector = SelectKBest(f_classif, k='all')\n",
    "            selector.fit(x_data, y_data)\n",
    "            scores = selector.scores_\n",
    "            order = np.argsort(selector.scores_)\n",
    "            ordered_scores = list(map(lambda x : scores[x], order))\n",
    "            coef_data.append(ordered_scores)\n",
    "            continue\n",
    "\n",
    "        # Run model n times, and take the standard deviation to determine the error\n",
    "        n = 10\n",
    "        if ada: clf = AdaBoostClassifier(n_estimators=25, random_state=0)\n",
    "        else: clf = SGDClassifier(loss='hinge', penalty='l2')\n",
    "        coefs = []\n",
    "        for _ in range(n):\n",
    "            _, test_accuracy = fit_algorithm(clf, x_data, y_data, 1)\n",
    "            if ada: coefs.append(clf.feature_importances_)\n",
    "            else: coefs.append(clf.coef_[0])\n",
    "        coef_data.append(sum(coefs) / len(coefs)) # Average coefficients\n",
    "    return coef_data, time_data"
   ]
  },
  {
   "cell_type": "code",
   "execution_count": 52,
   "metadata": {},
   "outputs": [],
   "source": [
    "coef_data, time_data = lag_vs_coefficient_data(harp_ids, flare_time_dict, seg_x,\n",
    "                                               seg_y, variable='flux')"
   ]
  },
  {
   "cell_type": "markdown",
   "metadata": {},
   "source": [
    "First, let's import methods from the `bokeh` graphing module that we will use to plot data."
   ]
  },
  {
   "cell_type": "code",
   "execution_count": 53,
   "metadata": {},
   "outputs": [
    {
     "data": {
      "text/html": [
       "\n",
       "    <div class=\"bk-root\">\n",
       "        <a href=\"https://bokeh.pydata.org\" target=\"_blank\" class=\"bk-logo bk-logo-small bk-logo-notebook\"></a>\n",
       "        <span id=\"1001\">Loading BokehJS ...</span>\n",
       "    </div>"
      ]
     },
     "metadata": {},
     "output_type": "display_data"
    },
    {
     "data": {
      "application/javascript": [
       "\n",
       "(function(root) {\n",
       "  function now() {\n",
       "    return new Date();\n",
       "  }\n",
       "\n",
       "  var force = true;\n",
       "\n",
       "  if (typeof root._bokeh_onload_callbacks === \"undefined\" || force === true) {\n",
       "    root._bokeh_onload_callbacks = [];\n",
       "    root._bokeh_is_loading = undefined;\n",
       "  }\n",
       "\n",
       "  var JS_MIME_TYPE = 'application/javascript';\n",
       "  var HTML_MIME_TYPE = 'text/html';\n",
       "  var EXEC_MIME_TYPE = 'application/vnd.bokehjs_exec.v0+json';\n",
       "  var CLASS_NAME = 'output_bokeh rendered_html';\n",
       "\n",
       "  /**\n",
       "   * Render data to the DOM node\n",
       "   */\n",
       "  function render(props, node) {\n",
       "    var script = document.createElement(\"script\");\n",
       "    node.appendChild(script);\n",
       "  }\n",
       "\n",
       "  /**\n",
       "   * Handle when an output is cleared or removed\n",
       "   */\n",
       "  function handleClearOutput(event, handle) {\n",
       "    var cell = handle.cell;\n",
       "\n",
       "    var id = cell.output_area._bokeh_element_id;\n",
       "    var server_id = cell.output_area._bokeh_server_id;\n",
       "    // Clean up Bokeh references\n",
       "    if (id != null && id in Bokeh.index) {\n",
       "      Bokeh.index[id].model.document.clear();\n",
       "      delete Bokeh.index[id];\n",
       "    }\n",
       "\n",
       "    if (server_id !== undefined) {\n",
       "      // Clean up Bokeh references\n",
       "      var cmd = \"from bokeh.io.state import curstate; print(curstate().uuid_to_server['\" + server_id + \"'].get_sessions()[0].document.roots[0]._id)\";\n",
       "      cell.notebook.kernel.execute(cmd, {\n",
       "        iopub: {\n",
       "          output: function(msg) {\n",
       "            var id = msg.content.text.trim();\n",
       "            if (id in Bokeh.index) {\n",
       "              Bokeh.index[id].model.document.clear();\n",
       "              delete Bokeh.index[id];\n",
       "            }\n",
       "          }\n",
       "        }\n",
       "      });\n",
       "      // Destroy server and session\n",
       "      var cmd = \"import bokeh.io.notebook as ion; ion.destroy_server('\" + server_id + \"')\";\n",
       "      cell.notebook.kernel.execute(cmd);\n",
       "    }\n",
       "  }\n",
       "\n",
       "  /**\n",
       "   * Handle when a new output is added\n",
       "   */\n",
       "  function handleAddOutput(event, handle) {\n",
       "    var output_area = handle.output_area;\n",
       "    var output = handle.output;\n",
       "\n",
       "    // limit handleAddOutput to display_data with EXEC_MIME_TYPE content only\n",
       "    if ((output.output_type != \"display_data\") || (!output.data.hasOwnProperty(EXEC_MIME_TYPE))) {\n",
       "      return\n",
       "    }\n",
       "\n",
       "    var toinsert = output_area.element.find(\".\" + CLASS_NAME.split(' ')[0]);\n",
       "\n",
       "    if (output.metadata[EXEC_MIME_TYPE][\"id\"] !== undefined) {\n",
       "      toinsert[toinsert.length - 1].firstChild.textContent = output.data[JS_MIME_TYPE];\n",
       "      // store reference to embed id on output_area\n",
       "      output_area._bokeh_element_id = output.metadata[EXEC_MIME_TYPE][\"id\"];\n",
       "    }\n",
       "    if (output.metadata[EXEC_MIME_TYPE][\"server_id\"] !== undefined) {\n",
       "      var bk_div = document.createElement(\"div\");\n",
       "      bk_div.innerHTML = output.data[HTML_MIME_TYPE];\n",
       "      var script_attrs = bk_div.children[0].attributes;\n",
       "      for (var i = 0; i < script_attrs.length; i++) {\n",
       "        toinsert[toinsert.length - 1].firstChild.setAttribute(script_attrs[i].name, script_attrs[i].value);\n",
       "      }\n",
       "      // store reference to server id on output_area\n",
       "      output_area._bokeh_server_id = output.metadata[EXEC_MIME_TYPE][\"server_id\"];\n",
       "    }\n",
       "  }\n",
       "\n",
       "  function register_renderer(events, OutputArea) {\n",
       "\n",
       "    function append_mime(data, metadata, element) {\n",
       "      // create a DOM node to render to\n",
       "      var toinsert = this.create_output_subarea(\n",
       "        metadata,\n",
       "        CLASS_NAME,\n",
       "        EXEC_MIME_TYPE\n",
       "      );\n",
       "      this.keyboard_manager.register_events(toinsert);\n",
       "      // Render to node\n",
       "      var props = {data: data, metadata: metadata[EXEC_MIME_TYPE]};\n",
       "      render(props, toinsert[toinsert.length - 1]);\n",
       "      element.append(toinsert);\n",
       "      return toinsert\n",
       "    }\n",
       "\n",
       "    /* Handle when an output is cleared or removed */\n",
       "    events.on('clear_output.CodeCell', handleClearOutput);\n",
       "    events.on('delete.Cell', handleClearOutput);\n",
       "\n",
       "    /* Handle when a new output is added */\n",
       "    events.on('output_added.OutputArea', handleAddOutput);\n",
       "\n",
       "    /**\n",
       "     * Register the mime type and append_mime function with output_area\n",
       "     */\n",
       "    OutputArea.prototype.register_mime_type(EXEC_MIME_TYPE, append_mime, {\n",
       "      /* Is output safe? */\n",
       "      safe: true,\n",
       "      /* Index of renderer in `output_area.display_order` */\n",
       "      index: 0\n",
       "    });\n",
       "  }\n",
       "\n",
       "  // register the mime type if in Jupyter Notebook environment and previously unregistered\n",
       "  if (root.Jupyter !== undefined) {\n",
       "    var events = require('base/js/events');\n",
       "    var OutputArea = require('notebook/js/outputarea').OutputArea;\n",
       "\n",
       "    if (OutputArea.prototype.mime_types().indexOf(EXEC_MIME_TYPE) == -1) {\n",
       "      register_renderer(events, OutputArea);\n",
       "    }\n",
       "  }\n",
       "\n",
       "  \n",
       "  if (typeof (root._bokeh_timeout) === \"undefined\" || force === true) {\n",
       "    root._bokeh_timeout = Date.now() + 5000;\n",
       "    root._bokeh_failed_load = false;\n",
       "  }\n",
       "\n",
       "  var NB_LOAD_WARNING = {'data': {'text/html':\n",
       "     \"<div style='background-color: #fdd'>\\n\"+\n",
       "     \"<p>\\n\"+\n",
       "     \"BokehJS does not appear to have successfully loaded. If loading BokehJS from CDN, this \\n\"+\n",
       "     \"may be due to a slow or bad network connection. Possible fixes:\\n\"+\n",
       "     \"</p>\\n\"+\n",
       "     \"<ul>\\n\"+\n",
       "     \"<li>re-rerun `output_notebook()` to attempt to load from CDN again, or</li>\\n\"+\n",
       "     \"<li>use INLINE resources instead, as so:</li>\\n\"+\n",
       "     \"</ul>\\n\"+\n",
       "     \"<code>\\n\"+\n",
       "     \"from bokeh.resources import INLINE\\n\"+\n",
       "     \"output_notebook(resources=INLINE)\\n\"+\n",
       "     \"</code>\\n\"+\n",
       "     \"</div>\"}};\n",
       "\n",
       "  function display_loaded() {\n",
       "    var el = document.getElementById(\"1001\");\n",
       "    if (el != null) {\n",
       "      el.textContent = \"BokehJS is loading...\";\n",
       "    }\n",
       "    if (root.Bokeh !== undefined) {\n",
       "      if (el != null) {\n",
       "        el.textContent = \"BokehJS \" + root.Bokeh.version + \" successfully loaded.\";\n",
       "      }\n",
       "    } else if (Date.now() < root._bokeh_timeout) {\n",
       "      setTimeout(display_loaded, 100)\n",
       "    }\n",
       "  }\n",
       "\n",
       "\n",
       "  function run_callbacks() {\n",
       "    try {\n",
       "      root._bokeh_onload_callbacks.forEach(function(callback) {\n",
       "        if (callback != null)\n",
       "          callback();\n",
       "      });\n",
       "    } finally {\n",
       "      delete root._bokeh_onload_callbacks\n",
       "    }\n",
       "    console.debug(\"Bokeh: all callbacks have finished\");\n",
       "  }\n",
       "\n",
       "  function load_libs(css_urls, js_urls, callback) {\n",
       "    if (css_urls == null) css_urls = [];\n",
       "    if (js_urls == null) js_urls = [];\n",
       "\n",
       "    root._bokeh_onload_callbacks.push(callback);\n",
       "    if (root._bokeh_is_loading > 0) {\n",
       "      console.debug(\"Bokeh: BokehJS is being loaded, scheduling callback at\", now());\n",
       "      return null;\n",
       "    }\n",
       "    if (js_urls == null || js_urls.length === 0) {\n",
       "      run_callbacks();\n",
       "      return null;\n",
       "    }\n",
       "    console.debug(\"Bokeh: BokehJS not loaded, scheduling load and callback at\", now());\n",
       "    root._bokeh_is_loading = css_urls.length + js_urls.length;\n",
       "\n",
       "    function on_load() {\n",
       "      root._bokeh_is_loading--;\n",
       "      if (root._bokeh_is_loading === 0) {\n",
       "        console.debug(\"Bokeh: all BokehJS libraries/stylesheets loaded\");\n",
       "        run_callbacks()\n",
       "      }\n",
       "    }\n",
       "\n",
       "    function on_error() {\n",
       "      console.error(\"failed to load \" + url);\n",
       "    }\n",
       "\n",
       "    for (var i = 0; i < css_urls.length; i++) {\n",
       "      var url = css_urls[i];\n",
       "      const element = document.createElement(\"link\");\n",
       "      element.onload = on_load;\n",
       "      element.onerror = on_error;\n",
       "      element.rel = \"stylesheet\";\n",
       "      element.type = \"text/css\";\n",
       "      element.href = url;\n",
       "      console.debug(\"Bokeh: injecting link tag for BokehJS stylesheet: \", url);\n",
       "      document.body.appendChild(element);\n",
       "    }\n",
       "\n",
       "    for (var i = 0; i < js_urls.length; i++) {\n",
       "      var url = js_urls[i];\n",
       "      var element = document.createElement('script');\n",
       "      element.onload = on_load;\n",
       "      element.onerror = on_error;\n",
       "      element.async = false;\n",
       "      element.src = url;\n",
       "      console.debug(\"Bokeh: injecting script tag for BokehJS library: \", url);\n",
       "      document.head.appendChild(element);\n",
       "    }\n",
       "  };var element = document.getElementById(\"1001\");\n",
       "  if (element == null) {\n",
       "    console.error(\"Bokeh: ERROR: autoload.js configured with elementid '1001' but no matching script tag was found. \")\n",
       "    return false;\n",
       "  }\n",
       "\n",
       "  function inject_raw_css(css) {\n",
       "    const element = document.createElement(\"style\");\n",
       "    element.appendChild(document.createTextNode(css));\n",
       "    document.body.appendChild(element);\n",
       "  }\n",
       "\n",
       "  var js_urls = [\"https://cdn.pydata.org/bokeh/release/bokeh-1.3.2.min.js\", \"https://cdn.pydata.org/bokeh/release/bokeh-widgets-1.3.2.min.js\", \"https://cdn.pydata.org/bokeh/release/bokeh-tables-1.3.2.min.js\", \"https://cdn.pydata.org/bokeh/release/bokeh-gl-1.3.2.min.js\"];\n",
       "  var css_urls = [];\n",
       "\n",
       "  var inline_js = [\n",
       "    function(Bokeh) {\n",
       "      Bokeh.set_log_level(\"info\");\n",
       "    },\n",
       "    \n",
       "    function(Bokeh) {\n",
       "      \n",
       "    },\n",
       "    function(Bokeh) {} // ensure no trailing comma for IE\n",
       "  ];\n",
       "\n",
       "  function run_inline_js() {\n",
       "    \n",
       "    if ((root.Bokeh !== undefined) || (force === true)) {\n",
       "      for (var i = 0; i < inline_js.length; i++) {\n",
       "        inline_js[i].call(root, root.Bokeh);\n",
       "      }if (force === true) {\n",
       "        display_loaded();\n",
       "      }} else if (Date.now() < root._bokeh_timeout) {\n",
       "      setTimeout(run_inline_js, 100);\n",
       "    } else if (!root._bokeh_failed_load) {\n",
       "      console.log(\"Bokeh: BokehJS failed to load within specified timeout.\");\n",
       "      root._bokeh_failed_load = true;\n",
       "    } else if (force !== true) {\n",
       "      var cell = $(document.getElementById(\"1001\")).parents('.cell').data().cell;\n",
       "      cell.output_area.append_execute_result(NB_LOAD_WARNING)\n",
       "    }\n",
       "\n",
       "  }\n",
       "\n",
       "  if (root._bokeh_is_loading === 0) {\n",
       "    console.debug(\"Bokeh: BokehJS loaded, going straight to plotting\");\n",
       "    run_inline_js();\n",
       "  } else {\n",
       "    load_libs(css_urls, js_urls, function() {\n",
       "      console.debug(\"Bokeh: BokehJS plotting callback run at\", now());\n",
       "      run_inline_js();\n",
       "    });\n",
       "  }\n",
       "}(window));"
      ],
      "application/vnd.bokehjs_load.v0+json": "\n(function(root) {\n  function now() {\n    return new Date();\n  }\n\n  var force = true;\n\n  if (typeof root._bokeh_onload_callbacks === \"undefined\" || force === true) {\n    root._bokeh_onload_callbacks = [];\n    root._bokeh_is_loading = undefined;\n  }\n\n  \n\n  \n  if (typeof (root._bokeh_timeout) === \"undefined\" || force === true) {\n    root._bokeh_timeout = Date.now() + 5000;\n    root._bokeh_failed_load = false;\n  }\n\n  var NB_LOAD_WARNING = {'data': {'text/html':\n     \"<div style='background-color: #fdd'>\\n\"+\n     \"<p>\\n\"+\n     \"BokehJS does not appear to have successfully loaded. If loading BokehJS from CDN, this \\n\"+\n     \"may be due to a slow or bad network connection. Possible fixes:\\n\"+\n     \"</p>\\n\"+\n     \"<ul>\\n\"+\n     \"<li>re-rerun `output_notebook()` to attempt to load from CDN again, or</li>\\n\"+\n     \"<li>use INLINE resources instead, as so:</li>\\n\"+\n     \"</ul>\\n\"+\n     \"<code>\\n\"+\n     \"from bokeh.resources import INLINE\\n\"+\n     \"output_notebook(resources=INLINE)\\n\"+\n     \"</code>\\n\"+\n     \"</div>\"}};\n\n  function display_loaded() {\n    var el = document.getElementById(\"1001\");\n    if (el != null) {\n      el.textContent = \"BokehJS is loading...\";\n    }\n    if (root.Bokeh !== undefined) {\n      if (el != null) {\n        el.textContent = \"BokehJS \" + root.Bokeh.version + \" successfully loaded.\";\n      }\n    } else if (Date.now() < root._bokeh_timeout) {\n      setTimeout(display_loaded, 100)\n    }\n  }\n\n\n  function run_callbacks() {\n    try {\n      root._bokeh_onload_callbacks.forEach(function(callback) {\n        if (callback != null)\n          callback();\n      });\n    } finally {\n      delete root._bokeh_onload_callbacks\n    }\n    console.debug(\"Bokeh: all callbacks have finished\");\n  }\n\n  function load_libs(css_urls, js_urls, callback) {\n    if (css_urls == null) css_urls = [];\n    if (js_urls == null) js_urls = [];\n\n    root._bokeh_onload_callbacks.push(callback);\n    if (root._bokeh_is_loading > 0) {\n      console.debug(\"Bokeh: BokehJS is being loaded, scheduling callback at\", now());\n      return null;\n    }\n    if (js_urls == null || js_urls.length === 0) {\n      run_callbacks();\n      return null;\n    }\n    console.debug(\"Bokeh: BokehJS not loaded, scheduling load and callback at\", now());\n    root._bokeh_is_loading = css_urls.length + js_urls.length;\n\n    function on_load() {\n      root._bokeh_is_loading--;\n      if (root._bokeh_is_loading === 0) {\n        console.debug(\"Bokeh: all BokehJS libraries/stylesheets loaded\");\n        run_callbacks()\n      }\n    }\n\n    function on_error() {\n      console.error(\"failed to load \" + url);\n    }\n\n    for (var i = 0; i < css_urls.length; i++) {\n      var url = css_urls[i];\n      const element = document.createElement(\"link\");\n      element.onload = on_load;\n      element.onerror = on_error;\n      element.rel = \"stylesheet\";\n      element.type = \"text/css\";\n      element.href = url;\n      console.debug(\"Bokeh: injecting link tag for BokehJS stylesheet: \", url);\n      document.body.appendChild(element);\n    }\n\n    for (var i = 0; i < js_urls.length; i++) {\n      var url = js_urls[i];\n      var element = document.createElement('script');\n      element.onload = on_load;\n      element.onerror = on_error;\n      element.async = false;\n      element.src = url;\n      console.debug(\"Bokeh: injecting script tag for BokehJS library: \", url);\n      document.head.appendChild(element);\n    }\n  };var element = document.getElementById(\"1001\");\n  if (element == null) {\n    console.error(\"Bokeh: ERROR: autoload.js configured with elementid '1001' but no matching script tag was found. \")\n    return false;\n  }\n\n  function inject_raw_css(css) {\n    const element = document.createElement(\"style\");\n    element.appendChild(document.createTextNode(css));\n    document.body.appendChild(element);\n  }\n\n  var js_urls = [\"https://cdn.pydata.org/bokeh/release/bokeh-1.3.2.min.js\", \"https://cdn.pydata.org/bokeh/release/bokeh-widgets-1.3.2.min.js\", \"https://cdn.pydata.org/bokeh/release/bokeh-tables-1.3.2.min.js\", \"https://cdn.pydata.org/bokeh/release/bokeh-gl-1.3.2.min.js\"];\n  var css_urls = [];\n\n  var inline_js = [\n    function(Bokeh) {\n      Bokeh.set_log_level(\"info\");\n    },\n    \n    function(Bokeh) {\n      \n    },\n    function(Bokeh) {} // ensure no trailing comma for IE\n  ];\n\n  function run_inline_js() {\n    \n    if ((root.Bokeh !== undefined) || (force === true)) {\n      for (var i = 0; i < inline_js.length; i++) {\n        inline_js[i].call(root, root.Bokeh);\n      }if (force === true) {\n        display_loaded();\n      }} else if (Date.now() < root._bokeh_timeout) {\n      setTimeout(run_inline_js, 100);\n    } else if (!root._bokeh_failed_load) {\n      console.log(\"Bokeh: BokehJS failed to load within specified timeout.\");\n      root._bokeh_failed_load = true;\n    } else if (force !== true) {\n      var cell = $(document.getElementById(\"1001\")).parents('.cell').data().cell;\n      cell.output_area.append_execute_result(NB_LOAD_WARNING)\n    }\n\n  }\n\n  if (root._bokeh_is_loading === 0) {\n    console.debug(\"Bokeh: BokehJS loaded, going straight to plotting\");\n    run_inline_js();\n  } else {\n    load_libs(css_urls, js_urls, function() {\n      console.debug(\"Bokeh: BokehJS plotting callback run at\", now());\n      run_inline_js();\n    });\n  }\n}(window));"
     },
     "metadata": {},
     "output_type": "display_data"
    }
   ],
   "source": [
    "from bokeh.plotting import figure, show, ColumnDataSource\n",
    "from bokeh.models import HoverTool, Legend, Band, Range1d\n",
    "from bokeh.io import output_notebook\n",
    "output_notebook()"
   ]
  },
  {
   "cell_type": "markdown",
   "metadata": {},
   "source": [
    "The next functions are used to plot the data:"
   ]
  },
  {
   "cell_type": "code",
   "execution_count": 54,
   "metadata": {},
   "outputs": [],
   "source": [
    "def plot_accuracy_data(data_dict):\n",
    "    '''This function plots the accuracy vs. lag time data of the given input data_dict\n",
    "    using the bokeh plotting library.\n",
    "    '''\n",
    "    accuracy_data, error_data = {}, {}\n",
    "    time_data, items = [], []\n",
    "    for var in data_dict:\n",
    "        # Parse tuples in data_dict\n",
    "        time_data, accuracy_subset, error_subset= [], [], []\n",
    "        for tup in data_dict[var]:\n",
    "            time_data.append(tup[0])\n",
    "            accuracy_subset.append(tup[1])\n",
    "            error_subset.append(tup[2])\n",
    "        accuracy_data[var] = accuracy_subset\n",
    "        error_data[var] = error_subset\n",
    "\n",
    "    # Basic plot setup\n",
    "    plot = figure(plot_width=800, plot_height=300, tools=\"\",\n",
    "                  toolbar_location=None, title=\"Lag time vs. accuracy\",\n",
    "                  x_axis_label='Lag time (hr)', y_axis_label='Accuracy')\n",
    "\n",
    "    circles = []\n",
    "    colors = [\"orange\", \"green\", \"red\", \"blue\"]\n",
    "    min_val = 1\n",
    "    max_val = 0\n",
    "    for i, var in enumerate(accuracy_data):\n",
    "        source = ColumnDataSource(data=dict(\n",
    "            x_data = time_data,\n",
    "            y_data = accuracy_data[var],\n",
    "        ))\n",
    "        item = plot.line(\"x_data\", \"y_data\", line_width=1, line_alpha=0.5,\n",
    "                         color=colors[i], source=source)\n",
    "        items.append((var.capitalize().replace(\"_\", \" \"), [item]))\n",
    "        circles.append(plot.circle(\"x_data\", \"y_data\", size=10, source=source,\n",
    "                       fill_color=colors[i], hover_fill_color=colors[i],\n",
    "                       fill_alpha=0.25, hover_alpha=0.5,\n",
    "                       line_color=None, hover_line_color=\"white\"))\n",
    "\n",
    "        # Used for creating error bands\n",
    "        err_xs, err_ys = [], []\n",
    "        for x, y, y_err in zip(time_data, accuracy_data[var], error_data[var]):\n",
    "            if y + y_err / 2 > max_val: max_val = y + y_err / 2\n",
    "            if y - y_err / 2 < min_val: min_val = y - y_err / 2\n",
    "            err_xs.append((x, x))\n",
    "            err_ys.append((y - y_err / 2, y + y_err / 2))\n",
    "\n",
    "        source = ColumnDataSource({\n",
    "            'base': time_data,\n",
    "            'lower': list(map(lambda x : x[0], err_ys)),\n",
    "            'upper': list(map(lambda x : x[1], err_ys))\n",
    "        })\n",
    "\n",
    "        band = Band(base='base', lower='lower', upper='upper', source=source, \n",
    "                    level='underlay', fill_alpha=.5, line_width=1,\n",
    "                    line_color='black', fill_color=colors[i])\n",
    "        plot.add_layout(band)\n",
    "\n",
    "    plot.add_tools(HoverTool(tooltips=[(\"Accuracy\", \"@y_data %\")], renderers=circles,\n",
    "                             mode='vline'))\n",
    "    plot.y_range = Range1d(min_val - (max_val - min_val) / 10,\n",
    "                           max_val  + (max_val - min_val) / 10)\n",
    "    plot.x_range = Range1d(0, 25)\n",
    "    legend = Legend(items=items)\n",
    "    legend.click_policy=\"hide\"\n",
    "    plot.add_layout(legend, 'right')\n",
    "\n",
    "    show(plot)"
   ]
  },
  {
   "cell_type": "code",
   "execution_count": 55,
   "metadata": {
    "scrolled": false
   },
   "outputs": [
    {
     "data": {
      "text/html": [
       "\n",
       "\n",
       "\n",
       "\n",
       "\n",
       "\n",
       "  <div class=\"bk-root\" id=\"40f45ac0-e4db-4da9-8f62-752f6b2cd86b\" data-root-id=\"1002\"></div>\n"
      ]
     },
     "metadata": {},
     "output_type": "display_data"
    },
    {
     "data": {
      "application/javascript": [
       "(function(root) {\n",
       "  function embed_document(root) {\n",
       "    \n",
       "  var docs_json = {\"e5a2d5e0-b2ee-41b4-af60-f375534e7d18\":{\"roots\":{\"references\":[{\"attributes\":{\"below\":[{\"id\":\"1013\",\"type\":\"LinearAxis\"}],\"center\":[{\"id\":\"1017\",\"type\":\"Grid\"},{\"id\":\"1022\",\"type\":\"Grid\"},{\"id\":\"1037\",\"type\":\"Band\"},{\"id\":\"1052\",\"type\":\"Band\"}],\"left\":[{\"id\":\"1018\",\"type\":\"LinearAxis\"}],\"plot_height\":300,\"plot_width\":800,\"renderers\":[{\"id\":\"1028\",\"type\":\"GlyphRenderer\"},{\"id\":\"1034\",\"type\":\"GlyphRenderer\"},{\"id\":\"1043\",\"type\":\"GlyphRenderer\"},{\"id\":\"1049\",\"type\":\"GlyphRenderer\"}],\"right\":[{\"id\":\"1058\",\"type\":\"Legend\"}],\"title\":{\"id\":\"1003\",\"type\":\"Title\"},\"toolbar\":{\"id\":\"1023\",\"type\":\"Toolbar\"},\"toolbar_location\":null,\"x_range\":{\"id\":\"1057\",\"type\":\"Range1d\"},\"x_scale\":{\"id\":\"1009\",\"type\":\"LinearScale\"},\"y_range\":{\"id\":\"1056\",\"type\":\"Range1d\"},\"y_scale\":{\"id\":\"1011\",\"type\":\"LinearScale\"}},\"id\":\"1002\",\"subtype\":\"Figure\",\"type\":\"Plot\"},{\"attributes\":{\"source\":{\"id\":\"1024\",\"type\":\"ColumnDataSource\"}},\"id\":\"1035\",\"type\":\"CDSView\"},{\"attributes\":{\"ticker\":{\"id\":\"1014\",\"type\":\"BasicTicker\"}},\"id\":\"1017\",\"type\":\"Grid\"},{\"attributes\":{\"callback\":null,\"data\":{\"base\":[2,3,4,5,6,7,8,9,10,11,12,13,14,15,16,17,18,19,20,21,22,23,24],\"lower\":[0.7333574400202223,0.734293130134547,0.7348560441603383,0.7330104584512733,0.7368479437596996,0.7167233009142637,0.745283352007554,0.7327341852316328,0.73674394584499,0.7385971266478485,0.7223581077361313,0.7453391958468503,0.7378178101061618,0.720325466972175,0.7312398167198066,0.7419658940320117,0.7463142985272972,0.7397843357693614,0.7284330010911075,0.7497205306687368,0.7343350584799534,0.7255227793370079,0.7345883797115154],\"upper\":[0.7516009137279402,0.7460914852500684,0.7542131682501628,0.7496044160158037,0.7522189742421853,0.7388218118676912,0.7549978101292784,0.7481825593895085,0.7487301316888726,0.7529567697590577,0.7451779891432354,0.7565686682759973,0.7497693586525552,0.7442356105940116,0.7529365173869218,0.7510767775820886,0.75526269590684,0.7503408380832117,0.7478986339251037,0.7588403207889219,0.7564142477180115,0.7513504861579042,0.7522354760443792]},\"selected\":{\"id\":\"1068\",\"type\":\"Selection\"},\"selection_policy\":{\"id\":\"1069\",\"type\":\"UnionRenderers\"}},\"id\":\"1051\",\"type\":\"ColumnDataSource\"},{\"attributes\":{\"callback\":null,\"end\":25},\"id\":\"1057\",\"type\":\"Range1d\"},{\"attributes\":{\"base\":{\"field\":\"base\",\"units\":\"data\"},\"fill_alpha\":{\"value\":0.5},\"fill_color\":{\"value\":\"green\"},\"level\":\"underlay\",\"line_color\":{\"value\":\"black\"},\"lower\":{\"field\":\"lower\",\"units\":\"data\"},\"source\":{\"id\":\"1051\",\"type\":\"ColumnDataSource\"},\"upper\":{\"field\":\"upper\",\"units\":\"data\"}},\"id\":\"1052\",\"type\":\"Band\"},{\"attributes\":{\"axis_label\":\"Accuracy\",\"formatter\":{\"id\":\"1064\",\"type\":\"BasicTickFormatter\"},\"ticker\":{\"id\":\"1019\",\"type\":\"BasicTicker\"}},\"id\":\"1018\",\"type\":\"LinearAxis\"},{\"attributes\":{},\"id\":\"1064\",\"type\":\"BasicTickFormatter\"},{\"attributes\":{},\"id\":\"1068\",\"type\":\"Selection\"},{\"attributes\":{},\"id\":\"1019\",\"type\":\"BasicTicker\"},{\"attributes\":{\"callback\":null,\"mode\":\"vline\",\"renderers\":[{\"id\":\"1034\",\"type\":\"GlyphRenderer\"},{\"id\":\"1049\",\"type\":\"GlyphRenderer\"}],\"tooltips\":[[\"Accuracy\",\"@y_data %\"]]},\"id\":\"1054\",\"type\":\"HoverTool\"},{\"attributes\":{},\"id\":\"1009\",\"type\":\"LinearScale\"},{\"attributes\":{\"fill_alpha\":{\"value\":0.25},\"fill_color\":{\"value\":\"orange\"},\"line_color\":{\"value\":null},\"size\":{\"units\":\"screen\",\"value\":10},\"x\":{\"field\":\"x_data\"},\"y\":{\"field\":\"y_data\"}},\"id\":\"1031\",\"type\":\"Circle\"},{\"attributes\":{\"fill_alpha\":{\"value\":0.5},\"fill_color\":{\"value\":\"orange\"},\"line_alpha\":{\"value\":0.5},\"line_color\":{\"value\":\"white\"},\"size\":{\"units\":\"screen\",\"value\":10},\"x\":{\"field\":\"x_data\"},\"y\":{\"field\":\"y_data\"}},\"id\":\"1033\",\"type\":\"Circle\"},{\"attributes\":{\"fill_alpha\":{\"value\":0.1},\"fill_color\":{\"value\":\"#1f77b4\"},\"line_alpha\":{\"value\":0.1},\"line_color\":{\"value\":\"#1f77b4\"},\"size\":{\"units\":\"screen\",\"value\":10},\"x\":{\"field\":\"x_data\"},\"y\":{\"field\":\"y_data\"}},\"id\":\"1032\",\"type\":\"Circle\"},{\"attributes\":{\"dimension\":1,\"ticker\":{\"id\":\"1019\",\"type\":\"BasicTicker\"}},\"id\":\"1022\",\"type\":\"Grid\"},{\"attributes\":{\"callback\":null,\"end\":0.765770469809795,\"start\":0.6826086815593176},\"id\":\"1056\",\"type\":\"Range1d\"},{\"attributes\":{\"text\":\"Lag time vs. accuracy\"},\"id\":\"1003\",\"type\":\"Title\"},{\"attributes\":{\"data_source\":{\"id\":\"1024\",\"type\":\"ColumnDataSource\"},\"glyph\":{\"id\":\"1031\",\"type\":\"Circle\"},\"hover_glyph\":{\"id\":\"1033\",\"type\":\"Circle\"},\"muted_glyph\":null,\"nonselection_glyph\":{\"id\":\"1032\",\"type\":\"Circle\"},\"selection_glyph\":null,\"view\":{\"id\":\"1035\",\"type\":\"CDSView\"}},\"id\":\"1034\",\"type\":\"GlyphRenderer\"},{\"attributes\":{},\"id\":\"1011\",\"type\":\"LinearScale\"},{\"attributes\":{\"base\":{\"field\":\"base\",\"units\":\"data\"},\"fill_alpha\":{\"value\":0.5},\"fill_color\":{\"value\":\"orange\"},\"level\":\"underlay\",\"line_color\":{\"value\":\"black\"},\"lower\":{\"field\":\"lower\",\"units\":\"data\"},\"source\":{\"id\":\"1036\",\"type\":\"ColumnDataSource\"},\"upper\":{\"field\":\"upper\",\"units\":\"data\"}},\"id\":\"1037\",\"type\":\"Band\"},{\"attributes\":{\"source\":{\"id\":\"1039\",\"type\":\"ColumnDataSource\"}},\"id\":\"1050\",\"type\":\"CDSView\"},{\"attributes\":{},\"id\":\"1071\",\"type\":\"UnionRenderers\"},{\"attributes\":{},\"id\":\"1072\",\"type\":\"Selection\"},{\"attributes\":{\"fill_alpha\":{\"value\":0.5},\"fill_color\":{\"value\":\"green\"},\"line_alpha\":{\"value\":0.5},\"line_color\":{\"value\":\"white\"},\"size\":{\"units\":\"screen\",\"value\":10},\"x\":{\"field\":\"x_data\"},\"y\":{\"field\":\"y_data\"}},\"id\":\"1048\",\"type\":\"Circle\"},{\"attributes\":{\"data_source\":{\"id\":\"1039\",\"type\":\"ColumnDataSource\"},\"glyph\":{\"id\":\"1041\",\"type\":\"Line\"},\"hover_glyph\":null,\"muted_glyph\":null,\"nonselection_glyph\":{\"id\":\"1042\",\"type\":\"Line\"},\"selection_glyph\":null,\"view\":{\"id\":\"1044\",\"type\":\"CDSView\"}},\"id\":\"1043\",\"type\":\"GlyphRenderer\"},{\"attributes\":{},\"id\":\"1067\",\"type\":\"UnionRenderers\"},{\"attributes\":{\"data_source\":{\"id\":\"1039\",\"type\":\"ColumnDataSource\"},\"glyph\":{\"id\":\"1046\",\"type\":\"Circle\"},\"hover_glyph\":{\"id\":\"1048\",\"type\":\"Circle\"},\"muted_glyph\":null,\"nonselection_glyph\":{\"id\":\"1047\",\"type\":\"Circle\"},\"selection_glyph\":null,\"view\":{\"id\":\"1050\",\"type\":\"CDSView\"}},\"id\":\"1049\",\"type\":\"GlyphRenderer\"},{\"attributes\":{},\"id\":\"1073\",\"type\":\"UnionRenderers\"},{\"attributes\":{\"callback\":null,\"data\":{\"x_data\":[2,3,4,5,6,7,8,9,10,11,12,13,14,15,16,17,18,19,20,21,22,23,24],\"y_data\":[0.7424791768740813,0.7401923076923077,0.7445346062052506,0.7413074372335385,0.7445334590009425,0.7277725563909775,0.7501405810684162,0.7404583723105707,0.7427370387669313,0.7457769482034531,0.7337680484396834,0.7509539320614238,0.7437935843793585,0.7322805387830933,0.7420881670533642,0.7465213358070502,0.7507884972170686,0.7450625869262866,0.7381658175081056,0.7542804257288294,0.7453746530989824,0.7384366327474561,0.7434119278779473]},\"selected\":{\"id\":\"1072\",\"type\":\"Selection\"},\"selection_policy\":{\"id\":\"1073\",\"type\":\"UnionRenderers\"}},\"id\":\"1039\",\"type\":\"ColumnDataSource\"},{\"attributes\":{\"data_source\":{\"id\":\"1024\",\"type\":\"ColumnDataSource\"},\"glyph\":{\"id\":\"1026\",\"type\":\"Line\"},\"hover_glyph\":null,\"muted_glyph\":null,\"nonselection_glyph\":{\"id\":\"1027\",\"type\":\"Line\"},\"selection_glyph\":null,\"view\":{\"id\":\"1029\",\"type\":\"CDSView\"}},\"id\":\"1028\",\"type\":\"GlyphRenderer\"},{\"attributes\":{},\"id\":\"1066\",\"type\":\"Selection\"},{\"attributes\":{\"label\":{\"value\":\"Polarity inversion flux\"},\"renderers\":[{\"id\":\"1043\",\"type\":\"GlyphRenderer\"}]},\"id\":\"1060\",\"type\":\"LegendItem\"},{\"attributes\":{\"callback\":null,\"data\":{\"x_data\":[2,3,4,5,6,7,8,9,10,11,12,13,14,15,16,17,18,19,20,21,22,23,24],\"y_data\":[0.7021545667447308,0.7046824292999536,0.7090698750578437,0.7127247579529736,0.718131615278417,0.7139246323529411,0.7123564538355535,0.720615243342516,0.7047750229568412,0.7141873278236914,0.7117026158788435,0.7088113813675998,0.7057798165137614,0.7163377696190913,0.7114272602111061,0.7140825688073394,0.7097751262046811,0.7148233134465352,0.7148165137614679,0.7128440366972477,0.7163302752293579,0.708673703533731,0.7194036697247708]},\"selected\":{\"id\":\"1070\",\"type\":\"Selection\"},\"selection_policy\":{\"id\":\"1071\",\"type\":\"UnionRenderers\"}},\"id\":\"1024\",\"type\":\"ColumnDataSource\"},{\"attributes\":{\"line_alpha\":0.5,\"line_color\":\"green\",\"x\":{\"field\":\"x_data\"},\"y\":{\"field\":\"y_data\"}},\"id\":\"1041\",\"type\":\"Line\"},{\"attributes\":{\"active_drag\":\"auto\",\"active_inspect\":\"auto\",\"active_multi\":null,\"active_scroll\":\"auto\",\"active_tap\":\"auto\",\"tools\":[{\"id\":\"1054\",\"type\":\"HoverTool\"}]},\"id\":\"1023\",\"type\":\"Toolbar\"},{\"attributes\":{},\"id\":\"1070\",\"type\":\"Selection\"},{\"attributes\":{},\"id\":\"1062\",\"type\":\"BasicTickFormatter\"},{\"attributes\":{\"line_alpha\":0.1,\"line_color\":\"#1f77b4\",\"x\":{\"field\":\"x_data\"},\"y\":{\"field\":\"y_data\"}},\"id\":\"1027\",\"type\":\"Line\"},{\"attributes\":{\"line_alpha\":0.1,\"line_color\":\"#1f77b4\",\"x\":{\"field\":\"x_data\"},\"y\":{\"field\":\"y_data\"}},\"id\":\"1042\",\"type\":\"Line\"},{\"attributes\":{\"axis_label\":\"Lag time (hr)\",\"formatter\":{\"id\":\"1062\",\"type\":\"BasicTickFormatter\"},\"ticker\":{\"id\":\"1014\",\"type\":\"BasicTicker\"}},\"id\":\"1013\",\"type\":\"LinearAxis\"},{\"attributes\":{},\"id\":\"1014\",\"type\":\"BasicTicker\"},{\"attributes\":{\"source\":{\"id\":\"1039\",\"type\":\"ColumnDataSource\"}},\"id\":\"1044\",\"type\":\"CDSView\"},{\"attributes\":{\"click_policy\":\"hide\",\"items\":[{\"id\":\"1059\",\"type\":\"LegendItem\"},{\"id\":\"1060\",\"type\":\"LegendItem\"}]},\"id\":\"1058\",\"type\":\"Legend\"},{\"attributes\":{\"line_alpha\":0.5,\"line_color\":\"orange\",\"x\":{\"field\":\"x_data\"},\"y\":{\"field\":\"y_data\"}},\"id\":\"1026\",\"type\":\"Line\"},{\"attributes\":{\"fill_alpha\":{\"value\":0.1},\"fill_color\":{\"value\":\"#1f77b4\"},\"line_alpha\":{\"value\":0.1},\"line_color\":{\"value\":\"#1f77b4\"},\"size\":{\"units\":\"screen\",\"value\":10},\"x\":{\"field\":\"x_data\"},\"y\":{\"field\":\"y_data\"}},\"id\":\"1047\",\"type\":\"Circle\"},{\"attributes\":{},\"id\":\"1069\",\"type\":\"UnionRenderers\"},{\"attributes\":{\"source\":{\"id\":\"1024\",\"type\":\"ColumnDataSource\"}},\"id\":\"1029\",\"type\":\"CDSView\"},{\"attributes\":{\"fill_alpha\":{\"value\":0.25},\"fill_color\":{\"value\":\"green\"},\"line_color\":{\"value\":null},\"size\":{\"units\":\"screen\",\"value\":10},\"x\":{\"field\":\"x_data\"},\"y\":{\"field\":\"y_data\"}},\"id\":\"1046\",\"type\":\"Circle\"},{\"attributes\":{\"callback\":null,\"data\":{\"base\":[2,3,4,5,6,7,8,9,10,11,12,13,14,15,16,17,18,19,20,21,22,23,24],\"lower\":[0.6895388305801907,0.6987408411599554,0.7010188118358672,0.7047283377807425,0.7099018397295177,0.7082038632947403,0.7060249490081799,0.7165443668307512,0.6961908832370278,0.7068467006248285,0.7029403714415327,0.7037514738248738,0.6989565087508403,0.7109991647772061,0.7056070348370859,0.7074580977568381,0.7017661094599822,0.7104802136156693,0.7046649759358196,0.7027689879535469,0.709186083547181,0.7018885775671937,0.7131627348798613],\"upper\":[0.7147703029092708,0.7106240174399518,0.7171209382798202,0.7207211781252048,0.7263613908273162,0.719645401411142,0.718687958662927,0.7246861198542809,0.7133591626766547,0.7215279550225544,0.7204648603161544,0.7138712889103258,0.7126031242766826,0.7216763744609765,0.7172474855851264,0.7207070398578408,0.71778414294938,0.719166413277401,0.7249680515871163,0.7229190854409485,0.7234744669115347,0.7154588295002684,0.7256446045696803]},\"selected\":{\"id\":\"1066\",\"type\":\"Selection\"},\"selection_policy\":{\"id\":\"1067\",\"type\":\"UnionRenderers\"}},\"id\":\"1036\",\"type\":\"ColumnDataSource\"},{\"attributes\":{\"label\":{\"value\":\"Flux\"},\"renderers\":[{\"id\":\"1028\",\"type\":\"GlyphRenderer\"}]},\"id\":\"1059\",\"type\":\"LegendItem\"}],\"root_ids\":[\"1002\"]},\"title\":\"Bokeh Application\",\"version\":\"1.3.2\"}};\n",
       "  var render_items = [{\"docid\":\"e5a2d5e0-b2ee-41b4-af60-f375534e7d18\",\"roots\":{\"1002\":\"40f45ac0-e4db-4da9-8f62-752f6b2cd86b\"}}];\n",
       "  root.Bokeh.embed.embed_items_notebook(docs_json, render_items);\n",
       "\n",
       "  }\n",
       "  if (root.Bokeh !== undefined) {\n",
       "    embed_document(root);\n",
       "  } else {\n",
       "    var attempts = 0;\n",
       "    var timer = setInterval(function(root) {\n",
       "      if (root.Bokeh !== undefined) {\n",
       "        embed_document(root);\n",
       "        clearInterval(timer);\n",
       "      }\n",
       "      attempts++;\n",
       "      if (attempts > 100) {\n",
       "        console.log(\"Bokeh: ERROR: Unable to run BokehJS code because BokehJS library is missing\");\n",
       "        clearInterval(timer);\n",
       "      }\n",
       "    }, 10, root)\n",
       "  }\n",
       "})(window);"
      ],
      "application/vnd.bokehjs_exec.v0+json": ""
     },
     "metadata": {
      "application/vnd.bokehjs_exec.v0+json": {
       "id": "1002"
      }
     },
     "output_type": "display_data"
    }
   ],
   "source": [
    "plot_accuracy_data(data_dict)"
   ]
  },
  {
   "cell_type": "code",
   "execution_count": 56,
   "metadata": {},
   "outputs": [],
   "source": [
    "def plot_coef_data(coef_data, time_data):\n",
    "    '''This function plots the coefficient data vs. lag time with the bokeh plotting\n",
    "    library. Each coefficient is displayed as a separate color.\n",
    "    '''\n",
    "    coef_data = np.array(coef_data)\n",
    "    transposed_data = coef_data.transpose()\n",
    "\n",
    "    sums = []\n",
    "    for var in coef_data:\n",
    "        sums.append(sum(list(map(lambda x : abs(x), var))) + 0.01)\n",
    "    normalized_data = []\n",
    "    for var in transposed_data:\n",
    "        normalized_data.append([abs(x) / sums[i] for i, x in enumerate(var)])\n",
    "\n",
    "    # Basic plot setup\n",
    "    plot = figure(plot_width=600, plot_height=300, tools=\"\",\n",
    "                  toolbar_location=None, title=\"Lag time vs. feature importances\",\n",
    "                  x_axis_label='Lag time (hr)', y_axis_label=\"Importance\")\n",
    "\n",
    "    circles = []\n",
    "    colors = [\"orange\", \"green\", \"red\", \"blue\", \"purple\", \"pink\", \"black\"]\n",
    "    items = []\n",
    "    for i, var in enumerate(normalized_data):\n",
    "        source = ColumnDataSource(data=dict(\n",
    "            x_data = time_data,\n",
    "            y_data = var\n",
    "        ))\n",
    "        item = plot.line(\"x_data\", \"y_data\", line_width=1, color=colors[i], source=source)\n",
    "        items.append((\"coef \" + str(i + 1), [item]))\n",
    "        circles.append(plot.circle(\"x_data\", \"y_data\", size=10, source=source,\n",
    "                       fill_color=colors[i], hover_fill_color=colors[i],\n",
    "                       fill_alpha=0.25, hover_alpha=0.5,\n",
    "                       line_color=None, hover_line_color=\"white\"))\n",
    "\n",
    "    plot.add_tools(HoverTool(tooltips=[(\"Importance\", \"@y_data\")], renderers=circles,\n",
    "                             mode='vline'))\n",
    "    plot.x_range = Range1d(0, 25)\n",
    "    legend = Legend(items=items)\n",
    "\n",
    "    plot.add_layout(legend, 'right')\n",
    "    plot.legend.click_policy=\"hide\"\n",
    "    \n",
    "    show(plot)"
   ]
  },
  {
   "cell_type": "code",
   "execution_count": 57,
   "metadata": {
    "scrolled": true
   },
   "outputs": [
    {
     "data": {
      "text/html": [
       "\n",
       "\n",
       "\n",
       "\n",
       "\n",
       "\n",
       "  <div class=\"bk-root\" id=\"326425ef-a995-47bb-b07b-7d7cddb966bb\" data-root-id=\"1152\"></div>\n"
      ]
     },
     "metadata": {},
     "output_type": "display_data"
    },
    {
     "data": {
      "application/javascript": [
       "(function(root) {\n",
       "  function embed_document(root) {\n",
       "    \n",
       "  var docs_json = {\"b54dd01e-794d-401f-83ce-2499617ee9a7\":{\"roots\":{\"references\":[{\"attributes\":{\"below\":[{\"id\":\"1163\",\"type\":\"LinearAxis\"}],\"center\":[{\"id\":\"1167\",\"type\":\"Grid\"},{\"id\":\"1172\",\"type\":\"Grid\"}],\"left\":[{\"id\":\"1168\",\"type\":\"LinearAxis\"}],\"plot_height\":300,\"renderers\":[{\"id\":\"1178\",\"type\":\"GlyphRenderer\"},{\"id\":\"1184\",\"type\":\"GlyphRenderer\"},{\"id\":\"1190\",\"type\":\"GlyphRenderer\"},{\"id\":\"1196\",\"type\":\"GlyphRenderer\"},{\"id\":\"1202\",\"type\":\"GlyphRenderer\"},{\"id\":\"1208\",\"type\":\"GlyphRenderer\"},{\"id\":\"1214\",\"type\":\"GlyphRenderer\"},{\"id\":\"1220\",\"type\":\"GlyphRenderer\"},{\"id\":\"1226\",\"type\":\"GlyphRenderer\"},{\"id\":\"1232\",\"type\":\"GlyphRenderer\"},{\"id\":\"1238\",\"type\":\"GlyphRenderer\"},{\"id\":\"1244\",\"type\":\"GlyphRenderer\"},{\"id\":\"1250\",\"type\":\"GlyphRenderer\"},{\"id\":\"1256\",\"type\":\"GlyphRenderer\"}],\"right\":[{\"id\":\"1261\",\"type\":\"Legend\"}],\"title\":{\"id\":\"1153\",\"type\":\"Title\"},\"toolbar\":{\"id\":\"1173\",\"type\":\"Toolbar\"},\"toolbar_location\":null,\"x_range\":{\"id\":\"1260\",\"type\":\"Range1d\"},\"x_scale\":{\"id\":\"1159\",\"type\":\"LinearScale\"},\"y_range\":{\"id\":\"1157\",\"type\":\"DataRange1d\"},\"y_scale\":{\"id\":\"1161\",\"type\":\"LinearScale\"}},\"id\":\"1152\",\"subtype\":\"Figure\",\"type\":\"Plot\"},{\"attributes\":{\"data_source\":{\"id\":\"1234\",\"type\":\"ColumnDataSource\"},\"glyph\":{\"id\":\"1241\",\"type\":\"Circle\"},\"hover_glyph\":{\"id\":\"1243\",\"type\":\"Circle\"},\"muted_glyph\":null,\"nonselection_glyph\":{\"id\":\"1242\",\"type\":\"Circle\"},\"selection_glyph\":null,\"view\":{\"id\":\"1245\",\"type\":\"CDSView\"}},\"id\":\"1244\",\"type\":\"GlyphRenderer\"},{\"attributes\":{\"line_color\":\"orange\",\"x\":{\"field\":\"x_data\"},\"y\":{\"field\":\"y_data\"}},\"id\":\"1176\",\"type\":\"Line\"},{\"attributes\":{\"fill_alpha\":{\"value\":0.1},\"fill_color\":{\"value\":\"#1f77b4\"},\"line_alpha\":{\"value\":0.1},\"line_color\":{\"value\":\"#1f77b4\"},\"size\":{\"units\":\"screen\",\"value\":10},\"x\":{\"field\":\"x_data\"},\"y\":{\"field\":\"y_data\"}},\"id\":\"1206\",\"type\":\"Circle\"},{\"attributes\":{\"source\":{\"id\":\"1234\",\"type\":\"ColumnDataSource\"}},\"id\":\"1245\",\"type\":\"CDSView\"},{\"attributes\":{\"source\":{\"id\":\"1174\",\"type\":\"ColumnDataSource\"}},\"id\":\"1179\",\"type\":\"CDSView\"},{\"attributes\":{\"data_source\":{\"id\":\"1174\",\"type\":\"ColumnDataSource\"},\"glyph\":{\"id\":\"1176\",\"type\":\"Line\"},\"hover_glyph\":null,\"muted_glyph\":null,\"nonselection_glyph\":{\"id\":\"1177\",\"type\":\"Line\"},\"selection_glyph\":null,\"view\":{\"id\":\"1179\",\"type\":\"CDSView\"}},\"id\":\"1178\",\"type\":\"GlyphRenderer\"},{\"attributes\":{\"callback\":null,\"data\":{\"x_data\":[2,3,4,5,6,7,8,9,10,11,12,13,14,15,16,17,18,19,20,21,22,23,24],\"y_data\":[0.30495049504950494,0.24950495049504956,0.28514851485148524,0.32475247524752476,0.2336633663366337,0.2455445544554456,0.3485148514851485,0.29702970297029707,0.2693069306930693,0.3564356435643565,0.31683168316831684,0.35247524752475246,0.41980198019801984,0.3881188118811881,0.43960396039603955,0.4118811881188119,0.4356435643564357,0.40792079207920795,0.4475247524752476,0.4594059405940595,0.3920792079207921,0.41980198019801984,0.4118811881188119]},\"selected\":{\"id\":\"1299\",\"type\":\"Selection\"},\"selection_policy\":{\"id\":\"1300\",\"type\":\"UnionRenderers\"}},\"id\":\"1246\",\"type\":\"ColumnDataSource\"},{\"attributes\":{},\"id\":\"1297\",\"type\":\"Selection\"},{\"attributes\":{\"line_alpha\":0.1,\"line_color\":\"#1f77b4\",\"x\":{\"field\":\"x_data\"},\"y\":{\"field\":\"y_data\"}},\"id\":\"1177\",\"type\":\"Line\"},{\"attributes\":{\"line_alpha\":0.1,\"line_color\":\"#1f77b4\",\"x\":{\"field\":\"x_data\"},\"y\":{\"field\":\"y_data\"}},\"id\":\"1249\",\"type\":\"Line\"},{\"attributes\":{\"x\":{\"field\":\"x_data\"},\"y\":{\"field\":\"y_data\"}},\"id\":\"1248\",\"type\":\"Line\"},{\"attributes\":{\"fill_alpha\":{\"value\":0.5},\"fill_color\":{\"value\":\"red\"},\"line_alpha\":{\"value\":0.5},\"line_color\":{\"value\":\"white\"},\"size\":{\"units\":\"screen\",\"value\":10},\"x\":{\"field\":\"x_data\"},\"y\":{\"field\":\"y_data\"}},\"id\":\"1207\",\"type\":\"Circle\"},{\"attributes\":{\"data_source\":{\"id\":\"1174\",\"type\":\"ColumnDataSource\"},\"glyph\":{\"id\":\"1181\",\"type\":\"Circle\"},\"hover_glyph\":{\"id\":\"1183\",\"type\":\"Circle\"},\"muted_glyph\":null,\"nonselection_glyph\":{\"id\":\"1182\",\"type\":\"Circle\"},\"selection_glyph\":null,\"view\":{\"id\":\"1185\",\"type\":\"CDSView\"}},\"id\":\"1184\",\"type\":\"GlyphRenderer\"},{\"attributes\":{\"data_source\":{\"id\":\"1246\",\"type\":\"ColumnDataSource\"},\"glyph\":{\"id\":\"1248\",\"type\":\"Line\"},\"hover_glyph\":null,\"muted_glyph\":null,\"nonselection_glyph\":{\"id\":\"1249\",\"type\":\"Line\"},\"selection_glyph\":null,\"view\":{\"id\":\"1251\",\"type\":\"CDSView\"}},\"id\":\"1250\",\"type\":\"GlyphRenderer\"},{\"attributes\":{\"fill_alpha\":{\"value\":0.25},\"fill_color\":{\"value\":\"red\"},\"line_color\":{\"value\":null},\"size\":{\"units\":\"screen\",\"value\":10},\"x\":{\"field\":\"x_data\"},\"y\":{\"field\":\"y_data\"}},\"id\":\"1205\",\"type\":\"Circle\"},{\"attributes\":{\"source\":{\"id\":\"1246\",\"type\":\"ColumnDataSource\"}},\"id\":\"1251\",\"type\":\"CDSView\"},{\"attributes\":{},\"id\":\"1296\",\"type\":\"UnionRenderers\"},{\"attributes\":{\"fill_alpha\":{\"value\":0.5},\"fill_color\":{\"value\":\"orange\"},\"line_alpha\":{\"value\":0.5},\"line_color\":{\"value\":\"white\"},\"size\":{\"units\":\"screen\",\"value\":10},\"x\":{\"field\":\"x_data\"},\"y\":{\"field\":\"y_data\"}},\"id\":\"1183\",\"type\":\"Circle\"},{\"attributes\":{\"fill_alpha\":{\"value\":0.25},\"fill_color\":{\"value\":\"black\"},\"line_color\":{\"value\":null},\"size\":{\"units\":\"screen\",\"value\":10},\"x\":{\"field\":\"x_data\"},\"y\":{\"field\":\"y_data\"}},\"id\":\"1253\",\"type\":\"Circle\"},{\"attributes\":{\"callback\":null,\"end\":25},\"id\":\"1260\",\"type\":\"Range1d\"},{\"attributes\":{\"data_source\":{\"id\":\"1222\",\"type\":\"ColumnDataSource\"},\"glyph\":{\"id\":\"1224\",\"type\":\"Line\"},\"hover_glyph\":null,\"muted_glyph\":null,\"nonselection_glyph\":{\"id\":\"1225\",\"type\":\"Line\"},\"selection_glyph\":null,\"view\":{\"id\":\"1227\",\"type\":\"CDSView\"}},\"id\":\"1226\",\"type\":\"GlyphRenderer\"},{\"attributes\":{},\"id\":\"1291\",\"type\":\"Selection\"},{\"attributes\":{\"fill_alpha\":{\"value\":0.1},\"fill_color\":{\"value\":\"#1f77b4\"},\"line_alpha\":{\"value\":0.1},\"line_color\":{\"value\":\"#1f77b4\"},\"size\":{\"units\":\"screen\",\"value\":10},\"x\":{\"field\":\"x_data\"},\"y\":{\"field\":\"y_data\"}},\"id\":\"1182\",\"type\":\"Circle\"},{\"attributes\":{\"text\":\"Lag time vs. feature importances\"},\"id\":\"1153\",\"type\":\"Title\"},{\"attributes\":{\"fill_alpha\":{\"value\":0.1},\"fill_color\":{\"value\":\"#1f77b4\"},\"line_alpha\":{\"value\":0.1},\"line_color\":{\"value\":\"#1f77b4\"},\"size\":{\"units\":\"screen\",\"value\":10},\"x\":{\"field\":\"x_data\"},\"y\":{\"field\":\"y_data\"}},\"id\":\"1254\",\"type\":\"Circle\"},{\"attributes\":{\"fill_alpha\":{\"value\":0.25},\"fill_color\":{\"value\":\"orange\"},\"line_color\":{\"value\":null},\"size\":{\"units\":\"screen\",\"value\":10},\"x\":{\"field\":\"x_data\"},\"y\":{\"field\":\"y_data\"}},\"id\":\"1181\",\"type\":\"Circle\"},{\"attributes\":{\"source\":{\"id\":\"1174\",\"type\":\"ColumnDataSource\"}},\"id\":\"1185\",\"type\":\"CDSView\"},{\"attributes\":{\"fill_alpha\":{\"value\":0.5},\"fill_color\":{\"value\":\"black\"},\"line_alpha\":{\"value\":0.5},\"line_color\":{\"value\":\"white\"},\"size\":{\"units\":\"screen\",\"value\":10},\"x\":{\"field\":\"x_data\"},\"y\":{\"field\":\"y_data\"}},\"id\":\"1255\",\"type\":\"Circle\"},{\"attributes\":{\"line_color\":\"purple\",\"x\":{\"field\":\"x_data\"},\"y\":{\"field\":\"y_data\"}},\"id\":\"1224\",\"type\":\"Line\"},{\"attributes\":{\"data_source\":{\"id\":\"1246\",\"type\":\"ColumnDataSource\"},\"glyph\":{\"id\":\"1253\",\"type\":\"Circle\"},\"hover_glyph\":{\"id\":\"1255\",\"type\":\"Circle\"},\"muted_glyph\":null,\"nonselection_glyph\":{\"id\":\"1254\",\"type\":\"Circle\"},\"selection_glyph\":null,\"view\":{\"id\":\"1257\",\"type\":\"CDSView\"}},\"id\":\"1256\",\"type\":\"GlyphRenderer\"},{\"attributes\":{\"callback\":null,\"data\":{\"x_data\":[2,3,4,5,6,7,8,9,10,11,12,13,14,15,16,17,18,19,20,21,22,23,24],\"y_data\":[0.039603960396039604,0.07128712871287128,0.09108910891089109,0.12673267326732673,0.1108910891089109,0.06336633663366337,0.0792079207920792,0.09900990099009899,0.15445544554455445,0.07920792079207922,0.06732673267326733,0.09900990099009901,0.07524752475247523,0.05940594059405939,0.0792079207920792,0.08712871287128712,0.08316831683168316,0.15445544554455443,0.06336633663366338,0.0594059405940594,0.0792079207920792,0.08316831683168316,0.09108910891089109]},\"selected\":{\"id\":\"1289\",\"type\":\"Selection\"},\"selection_policy\":{\"id\":\"1290\",\"type\":\"UnionRenderers\"}},\"id\":\"1186\",\"type\":\"ColumnDataSource\"},{\"attributes\":{\"source\":{\"id\":\"1246\",\"type\":\"ColumnDataSource\"}},\"id\":\"1257\",\"type\":\"CDSView\"},{\"attributes\":{\"data_source\":{\"id\":\"1186\",\"type\":\"ColumnDataSource\"},\"glyph\":{\"id\":\"1188\",\"type\":\"Line\"},\"hover_glyph\":null,\"muted_glyph\":null,\"nonselection_glyph\":{\"id\":\"1189\",\"type\":\"Line\"},\"selection_glyph\":null,\"view\":{\"id\":\"1191\",\"type\":\"CDSView\"}},\"id\":\"1190\",\"type\":\"GlyphRenderer\"},{\"attributes\":{\"source\":{\"id\":\"1186\",\"type\":\"ColumnDataSource\"}},\"id\":\"1191\",\"type\":\"CDSView\"},{\"attributes\":{\"line_color\":\"green\",\"x\":{\"field\":\"x_data\"},\"y\":{\"field\":\"y_data\"}},\"id\":\"1188\",\"type\":\"Line\"},{\"attributes\":{\"label\":{\"value\":\"coef 2\"},\"renderers\":[{\"id\":\"1190\",\"type\":\"GlyphRenderer\"}]},\"id\":\"1263\",\"type\":\"LegendItem\"},{\"attributes\":{},\"id\":\"1283\",\"type\":\"BasicTickFormatter\"},{\"attributes\":{\"line_alpha\":0.1,\"line_color\":\"#1f77b4\",\"x\":{\"field\":\"x_data\"},\"y\":{\"field\":\"y_data\"}},\"id\":\"1225\",\"type\":\"Line\"},{\"attributes\":{\"label\":{\"value\":\"coef 1\"},\"renderers\":[{\"id\":\"1178\",\"type\":\"GlyphRenderer\"}]},\"id\":\"1262\",\"type\":\"LegendItem\"},{\"attributes\":{\"fill_alpha\":{\"value\":0.25},\"fill_color\":{\"value\":\"green\"},\"line_color\":{\"value\":null},\"size\":{\"units\":\"screen\",\"value\":10},\"x\":{\"field\":\"x_data\"},\"y\":{\"field\":\"y_data\"}},\"id\":\"1193\",\"type\":\"Circle\"},{\"attributes\":{\"label\":{\"value\":\"coef 3\"},\"renderers\":[{\"id\":\"1202\",\"type\":\"GlyphRenderer\"}]},\"id\":\"1264\",\"type\":\"LegendItem\"},{\"attributes\":{\"callback\":null,\"data\":{\"x_data\":[2,3,4,5,6,7,8,9,10,11,12,13,14,15,16,17,18,19,20,21,22,23,24],\"y_data\":[0.12673267326732673,0.06336633663366337,0.10297029702970298,0.09108910891089109,0.14653465346534653,0.13069306930693073,0.05940594059405942,0.07920792079207918,0.1188118811881188,0.1346534653465347,0.08712871287128712,0.10297029702970298,0.07524752475247524,0.047524752475247525,0.05940594059405942,0.05544554455445545,0.05148514851485149,0.05544554455445545,0.039603960396039604,0.07524752475247524,0.05148514851485149,0.031683168316831684,0.031683168316831684]},\"selected\":{\"id\":\"1291\",\"type\":\"Selection\"},\"selection_policy\":{\"id\":\"1292\",\"type\":\"UnionRenderers\"}},\"id\":\"1198\",\"type\":\"ColumnDataSource\"},{\"attributes\":{\"label\":{\"value\":\"coef 5\"},\"renderers\":[{\"id\":\"1226\",\"type\":\"GlyphRenderer\"}]},\"id\":\"1266\",\"type\":\"LegendItem\"},{\"attributes\":{\"label\":{\"value\":\"coef 4\"},\"renderers\":[{\"id\":\"1214\",\"type\":\"GlyphRenderer\"}]},\"id\":\"1265\",\"type\":\"LegendItem\"},{\"attributes\":{\"line_alpha\":0.1,\"line_color\":\"#1f77b4\",\"x\":{\"field\":\"x_data\"},\"y\":{\"field\":\"y_data\"}},\"id\":\"1189\",\"type\":\"Line\"},{\"attributes\":{\"label\":{\"value\":\"coef 6\"},\"renderers\":[{\"id\":\"1238\",\"type\":\"GlyphRenderer\"}]},\"id\":\"1267\",\"type\":\"LegendItem\"},{\"attributes\":{\"source\":{\"id\":\"1234\",\"type\":\"ColumnDataSource\"}},\"id\":\"1239\",\"type\":\"CDSView\"},{\"attributes\":{\"data_source\":{\"id\":\"1186\",\"type\":\"ColumnDataSource\"},\"glyph\":{\"id\":\"1193\",\"type\":\"Circle\"},\"hover_glyph\":{\"id\":\"1195\",\"type\":\"Circle\"},\"muted_glyph\":null,\"nonselection_glyph\":{\"id\":\"1194\",\"type\":\"Circle\"},\"selection_glyph\":null,\"view\":{\"id\":\"1197\",\"type\":\"CDSView\"}},\"id\":\"1196\",\"type\":\"GlyphRenderer\"},{\"attributes\":{},\"id\":\"1285\",\"type\":\"BasicTickFormatter\"},{\"attributes\":{\"fill_alpha\":{\"value\":0.1},\"fill_color\":{\"value\":\"#1f77b4\"},\"line_alpha\":{\"value\":0.1},\"line_color\":{\"value\":\"#1f77b4\"},\"size\":{\"units\":\"screen\",\"value\":10},\"x\":{\"field\":\"x_data\"},\"y\":{\"field\":\"y_data\"}},\"id\":\"1194\",\"type\":\"Circle\"},{\"attributes\":{},\"id\":\"1169\",\"type\":\"BasicTicker\"},{\"attributes\":{\"click_policy\":\"hide\",\"items\":[{\"id\":\"1262\",\"type\":\"LegendItem\"},{\"id\":\"1263\",\"type\":\"LegendItem\"},{\"id\":\"1264\",\"type\":\"LegendItem\"},{\"id\":\"1265\",\"type\":\"LegendItem\"},{\"id\":\"1266\",\"type\":\"LegendItem\"},{\"id\":\"1267\",\"type\":\"LegendItem\"},{\"id\":\"1268\",\"type\":\"LegendItem\"}]},\"id\":\"1261\",\"type\":\"Legend\"},{\"attributes\":{\"label\":{\"value\":\"coef 7\"},\"renderers\":[{\"id\":\"1250\",\"type\":\"GlyphRenderer\"}]},\"id\":\"1268\",\"type\":\"LegendItem\"},{\"attributes\":{\"source\":{\"id\":\"1186\",\"type\":\"ColumnDataSource\"}},\"id\":\"1197\",\"type\":\"CDSView\"},{\"attributes\":{},\"id\":\"1287\",\"type\":\"Selection\"},{\"attributes\":{\"callback\":null},\"id\":\"1157\",\"type\":\"DataRange1d\"},{\"attributes\":{\"fill_alpha\":{\"value\":0.5},\"fill_color\":{\"value\":\"green\"},\"line_alpha\":{\"value\":0.5},\"line_color\":{\"value\":\"white\"},\"size\":{\"units\":\"screen\",\"value\":10},\"x\":{\"field\":\"x_data\"},\"y\":{\"field\":\"y_data\"}},\"id\":\"1195\",\"type\":\"Circle\"},{\"attributes\":{},\"id\":\"1288\",\"type\":\"UnionRenderers\"},{\"attributes\":{\"data_source\":{\"id\":\"1234\",\"type\":\"ColumnDataSource\"},\"glyph\":{\"id\":\"1236\",\"type\":\"Line\"},\"hover_glyph\":null,\"muted_glyph\":null,\"nonselection_glyph\":{\"id\":\"1237\",\"type\":\"Line\"},\"selection_glyph\":null,\"view\":{\"id\":\"1239\",\"type\":\"CDSView\"}},\"id\":\"1238\",\"type\":\"GlyphRenderer\"},{\"attributes\":{},\"id\":\"1159\",\"type\":\"LinearScale\"},{\"attributes\":{},\"id\":\"1289\",\"type\":\"Selection\"},{\"attributes\":{\"callback\":null,\"data\":{\"x_data\":[2,3,4,5,6,7,8,9,10,11,12,13,14,15,16,17,18,19,20,21,22,23,24],\"y_data\":[0.12673267326732676,0.15445544554455448,0.17425742574257425,0.1188118811881188,0.1306930693069307,0.1425742574257426,0.051485148514851475,0.1267326732673267,0.14653465346534653,0.09504950495049506,0.12277227722772277,0.08316831683168317,0.12673267326732676,0.1188118811881188,0.13069306930693073,0.13465346534653463,0.1386138613861386,0.1386138613861386,0.09108910891089109,0.10297029702970298,0.10693069306930694,0.09108910891089109,0.051485148514851475]},\"selected\":{\"id\":\"1295\",\"type\":\"Selection\"},\"selection_policy\":{\"id\":\"1296\",\"type\":\"UnionRenderers\"}},\"id\":\"1222\",\"type\":\"ColumnDataSource\"},{\"attributes\":{},\"id\":\"1161\",\"type\":\"LinearScale\"},{\"attributes\":{},\"id\":\"1290\",\"type\":\"UnionRenderers\"},{\"attributes\":{},\"id\":\"1295\",\"type\":\"Selection\"},{\"attributes\":{\"axis_label\":\"Lag time (hr)\",\"formatter\":{\"id\":\"1283\",\"type\":\"BasicTickFormatter\"},\"ticker\":{\"id\":\"1164\",\"type\":\"BasicTicker\"}},\"id\":\"1163\",\"type\":\"LinearAxis\"},{\"attributes\":{\"source\":{\"id\":\"1198\",\"type\":\"ColumnDataSource\"}},\"id\":\"1203\",\"type\":\"CDSView\"},{\"attributes\":{},\"id\":\"1164\",\"type\":\"BasicTicker\"},{\"attributes\":{\"line_color\":\"red\",\"x\":{\"field\":\"x_data\"},\"y\":{\"field\":\"y_data\"}},\"id\":\"1200\",\"type\":\"Line\"},{\"attributes\":{\"line_color\":\"pink\",\"x\":{\"field\":\"x_data\"},\"y\":{\"field\":\"y_data\"}},\"id\":\"1236\",\"type\":\"Line\"},{\"attributes\":{\"source\":{\"id\":\"1222\",\"type\":\"ColumnDataSource\"}},\"id\":\"1227\",\"type\":\"CDSView\"},{\"attributes\":{\"line_alpha\":0.1,\"line_color\":\"#1f77b4\",\"x\":{\"field\":\"x_data\"},\"y\":{\"field\":\"y_data\"}},\"id\":\"1237\",\"type\":\"Line\"},{\"attributes\":{\"ticker\":{\"id\":\"1164\",\"type\":\"BasicTicker\"}},\"id\":\"1167\",\"type\":\"Grid\"},{\"attributes\":{\"axis_label\":\"Importance\",\"formatter\":{\"id\":\"1285\",\"type\":\"BasicTickFormatter\"},\"ticker\":{\"id\":\"1169\",\"type\":\"BasicTicker\"}},\"id\":\"1168\",\"type\":\"LinearAxis\"},{\"attributes\":{\"callback\":null,\"data\":{\"x_data\":[2,3,4,5,6,7,8,9,10,11,12,13,14,15,16,17,18,19,20,21,22,23,24],\"y_data\":[0.1108910891089109,0.1861386138613861,0.11485148514851484,0.1386138613861386,0.1108910891089109,0.1504950495049505,0.14653465346534655,0.08712871287128711,0.051485148514851475,0.06336633663366338,0.06732673267326732,0.099009900990099,0.07920792079207921,0.10693069306930694,0.05940594059405942,0.0396039603960396,0.06732673267326732,0.03564356435643564,0.11089108910891088,0.1108910891089109,0.10297029702970298,0.10297029702970295,0.08316831683168316]},\"selected\":{\"id\":\"1287\",\"type\":\"Selection\"},\"selection_policy\":{\"id\":\"1288\",\"type\":\"UnionRenderers\"}},\"id\":\"1174\",\"type\":\"ColumnDataSource\"},{\"attributes\":{},\"id\":\"1298\",\"type\":\"UnionRenderers\"},{\"attributes\":{\"line_alpha\":0.1,\"line_color\":\"#1f77b4\",\"x\":{\"field\":\"x_data\"},\"y\":{\"field\":\"y_data\"}},\"id\":\"1201\",\"type\":\"Line\"},{\"attributes\":{\"fill_alpha\":{\"value\":0.5},\"fill_color\":{\"value\":\"pink\"},\"line_alpha\":{\"value\":0.5},\"line_color\":{\"value\":\"white\"},\"size\":{\"units\":\"screen\",\"value\":10},\"x\":{\"field\":\"x_data\"},\"y\":{\"field\":\"y_data\"}},\"id\":\"1243\",\"type\":\"Circle\"},{\"attributes\":{},\"id\":\"1299\",\"type\":\"Selection\"},{\"attributes\":{\"callback\":null,\"mode\":\"vline\",\"renderers\":[{\"id\":\"1184\",\"type\":\"GlyphRenderer\"},{\"id\":\"1196\",\"type\":\"GlyphRenderer\"},{\"id\":\"1208\",\"type\":\"GlyphRenderer\"},{\"id\":\"1220\",\"type\":\"GlyphRenderer\"},{\"id\":\"1232\",\"type\":\"GlyphRenderer\"},{\"id\":\"1244\",\"type\":\"GlyphRenderer\"},{\"id\":\"1256\",\"type\":\"GlyphRenderer\"}],\"tooltips\":[[\"Importance\",\"@y_data\"]]},\"id\":\"1258\",\"type\":\"HoverTool\"},{\"attributes\":{\"fill_alpha\":{\"value\":0.25},\"fill_color\":{\"value\":\"pink\"},\"line_color\":{\"value\":null},\"size\":{\"units\":\"screen\",\"value\":10},\"x\":{\"field\":\"x_data\"},\"y\":{\"field\":\"y_data\"}},\"id\":\"1241\",\"type\":\"Circle\"},{\"attributes\":{\"data_source\":{\"id\":\"1198\",\"type\":\"ColumnDataSource\"},\"glyph\":{\"id\":\"1200\",\"type\":\"Line\"},\"hover_glyph\":null,\"muted_glyph\":null,\"nonselection_glyph\":{\"id\":\"1201\",\"type\":\"Line\"},\"selection_glyph\":null,\"view\":{\"id\":\"1203\",\"type\":\"CDSView\"}},\"id\":\"1202\",\"type\":\"GlyphRenderer\"},{\"attributes\":{},\"id\":\"1300\",\"type\":\"UnionRenderers\"},{\"attributes\":{\"dimension\":1,\"ticker\":{\"id\":\"1169\",\"type\":\"BasicTicker\"}},\"id\":\"1172\",\"type\":\"Grid\"},{\"attributes\":{\"fill_alpha\":{\"value\":0.1},\"fill_color\":{\"value\":\"#1f77b4\"},\"line_alpha\":{\"value\":0.1},\"line_color\":{\"value\":\"#1f77b4\"},\"size\":{\"units\":\"screen\",\"value\":10},\"x\":{\"field\":\"x_data\"},\"y\":{\"field\":\"y_data\"}},\"id\":\"1242\",\"type\":\"Circle\"},{\"attributes\":{\"active_drag\":\"auto\",\"active_inspect\":\"auto\",\"active_multi\":null,\"active_scroll\":\"auto\",\"active_tap\":\"auto\",\"tools\":[{\"id\":\"1258\",\"type\":\"HoverTool\"}]},\"id\":\"1173\",\"type\":\"Toolbar\"},{\"attributes\":{\"fill_alpha\":{\"value\":0.5},\"fill_color\":{\"value\":\"blue\"},\"line_alpha\":{\"value\":0.5},\"line_color\":{\"value\":\"white\"},\"size\":{\"units\":\"screen\",\"value\":10},\"x\":{\"field\":\"x_data\"},\"y\":{\"field\":\"y_data\"}},\"id\":\"1219\",\"type\":\"Circle\"},{\"attributes\":{\"data_source\":{\"id\":\"1210\",\"type\":\"ColumnDataSource\"},\"glyph\":{\"id\":\"1212\",\"type\":\"Line\"},\"hover_glyph\":null,\"muted_glyph\":null,\"nonselection_glyph\":{\"id\":\"1213\",\"type\":\"Line\"},\"selection_glyph\":null,\"view\":{\"id\":\"1215\",\"type\":\"CDSView\"}},\"id\":\"1214\",\"type\":\"GlyphRenderer\"},{\"attributes\":{},\"id\":\"1294\",\"type\":\"UnionRenderers\"},{\"attributes\":{\"line_color\":\"blue\",\"x\":{\"field\":\"x_data\"},\"y\":{\"field\":\"y_data\"}},\"id\":\"1212\",\"type\":\"Line\"},{\"attributes\":{\"source\":{\"id\":\"1222\",\"type\":\"ColumnDataSource\"}},\"id\":\"1233\",\"type\":\"CDSView\"},{\"attributes\":{\"fill_alpha\":{\"value\":0.1},\"fill_color\":{\"value\":\"#1f77b4\"},\"line_alpha\":{\"value\":0.1},\"line_color\":{\"value\":\"#1f77b4\"},\"size\":{\"units\":\"screen\",\"value\":10},\"x\":{\"field\":\"x_data\"},\"y\":{\"field\":\"y_data\"}},\"id\":\"1230\",\"type\":\"Circle\"},{\"attributes\":{},\"id\":\"1293\",\"type\":\"Selection\"},{\"attributes\":{\"source\":{\"id\":\"1198\",\"type\":\"ColumnDataSource\"}},\"id\":\"1209\",\"type\":\"CDSView\"},{\"attributes\":{\"callback\":null,\"data\":{\"x_data\":[2,3,4,5,6,7,8,9,10,11,12,13,14,15,16,17,18,19,20,21,22,23,24],\"y_data\":[0.14257425742574256,0.1108910891089109,0.08712871287128711,0.0712871287128713,0.05148514851485149,0.08316831683168317,0.07524752475247524,0.08712871287128712,0.11089108910891088,0.09900990099009904,0.1227722772277228,0.12277227722772277,0.10297029702970298,0.12277227722772277,0.0792079207920792,0.12277227722772274,0.09900990099009903,0.06336633663366337,0.07524752475247524,0.031683168316831684,0.06336633663366337,0.06336633663366337,0.07128712871287128]},\"selected\":{\"id\":\"1293\",\"type\":\"Selection\"},\"selection_policy\":{\"id\":\"1294\",\"type\":\"UnionRenderers\"}},\"id\":\"1210\",\"type\":\"ColumnDataSource\"},{\"attributes\":{},\"id\":\"1292\",\"type\":\"UnionRenderers\"},{\"attributes\":{\"callback\":null,\"data\":{\"x_data\":[2,3,4,5,6,7,8,9,10,11,12,13,14,15,16,17,18,19,20,21,22,23,24],\"y_data\":[0.13861386138613863,0.15445544554455445,0.1346534653465347,0.11881188118811883,0.20594059405940596,0.17425742574257425,0.22970297029702974,0.21386138613861383,0.1386138613861386,0.16237623762376238,0.20594059405940596,0.13069306930693073,0.11089108910891088,0.14653465346534653,0.14257425742574253,0.13861386138613863,0.11485148514851487,0.13465346534653463,0.16237623762376235,0.15049504950495046,0.19405940594059407,0.198019801980198,0.2495049504950495]},\"selected\":{\"id\":\"1297\",\"type\":\"Selection\"},\"selection_policy\":{\"id\":\"1298\",\"type\":\"UnionRenderers\"}},\"id\":\"1234\",\"type\":\"ColumnDataSource\"},{\"attributes\":{\"data_source\":{\"id\":\"1198\",\"type\":\"ColumnDataSource\"},\"glyph\":{\"id\":\"1205\",\"type\":\"Circle\"},\"hover_glyph\":{\"id\":\"1207\",\"type\":\"Circle\"},\"muted_glyph\":null,\"nonselection_glyph\":{\"id\":\"1206\",\"type\":\"Circle\"},\"selection_glyph\":null,\"view\":{\"id\":\"1209\",\"type\":\"CDSView\"}},\"id\":\"1208\",\"type\":\"GlyphRenderer\"},{\"attributes\":{\"data_source\":{\"id\":\"1210\",\"type\":\"ColumnDataSource\"},\"glyph\":{\"id\":\"1217\",\"type\":\"Circle\"},\"hover_glyph\":{\"id\":\"1219\",\"type\":\"Circle\"},\"muted_glyph\":null,\"nonselection_glyph\":{\"id\":\"1218\",\"type\":\"Circle\"},\"selection_glyph\":null,\"view\":{\"id\":\"1221\",\"type\":\"CDSView\"}},\"id\":\"1220\",\"type\":\"GlyphRenderer\"},{\"attributes\":{\"line_alpha\":0.1,\"line_color\":\"#1f77b4\",\"x\":{\"field\":\"x_data\"},\"y\":{\"field\":\"y_data\"}},\"id\":\"1213\",\"type\":\"Line\"},{\"attributes\":{\"source\":{\"id\":\"1210\",\"type\":\"ColumnDataSource\"}},\"id\":\"1221\",\"type\":\"CDSView\"},{\"attributes\":{\"fill_alpha\":{\"value\":0.25},\"fill_color\":{\"value\":\"blue\"},\"line_color\":{\"value\":null},\"size\":{\"units\":\"screen\",\"value\":10},\"x\":{\"field\":\"x_data\"},\"y\":{\"field\":\"y_data\"}},\"id\":\"1217\",\"type\":\"Circle\"},{\"attributes\":{\"fill_alpha\":{\"value\":0.25},\"fill_color\":{\"value\":\"purple\"},\"line_color\":{\"value\":null},\"size\":{\"units\":\"screen\",\"value\":10},\"x\":{\"field\":\"x_data\"},\"y\":{\"field\":\"y_data\"}},\"id\":\"1229\",\"type\":\"Circle\"},{\"attributes\":{\"fill_alpha\":{\"value\":0.1},\"fill_color\":{\"value\":\"#1f77b4\"},\"line_alpha\":{\"value\":0.1},\"line_color\":{\"value\":\"#1f77b4\"},\"size\":{\"units\":\"screen\",\"value\":10},\"x\":{\"field\":\"x_data\"},\"y\":{\"field\":\"y_data\"}},\"id\":\"1218\",\"type\":\"Circle\"},{\"attributes\":{\"fill_alpha\":{\"value\":0.5},\"fill_color\":{\"value\":\"purple\"},\"line_alpha\":{\"value\":0.5},\"line_color\":{\"value\":\"white\"},\"size\":{\"units\":\"screen\",\"value\":10},\"x\":{\"field\":\"x_data\"},\"y\":{\"field\":\"y_data\"}},\"id\":\"1231\",\"type\":\"Circle\"},{\"attributes\":{\"data_source\":{\"id\":\"1222\",\"type\":\"ColumnDataSource\"},\"glyph\":{\"id\":\"1229\",\"type\":\"Circle\"},\"hover_glyph\":{\"id\":\"1231\",\"type\":\"Circle\"},\"muted_glyph\":null,\"nonselection_glyph\":{\"id\":\"1230\",\"type\":\"Circle\"},\"selection_glyph\":null,\"view\":{\"id\":\"1233\",\"type\":\"CDSView\"}},\"id\":\"1232\",\"type\":\"GlyphRenderer\"},{\"attributes\":{\"source\":{\"id\":\"1210\",\"type\":\"ColumnDataSource\"}},\"id\":\"1215\",\"type\":\"CDSView\"}],\"root_ids\":[\"1152\"]},\"title\":\"Bokeh Application\",\"version\":\"1.3.2\"}};\n",
       "  var render_items = [{\"docid\":\"b54dd01e-794d-401f-83ce-2499617ee9a7\",\"roots\":{\"1152\":\"326425ef-a995-47bb-b07b-7d7cddb966bb\"}}];\n",
       "  root.Bokeh.embed.embed_items_notebook(docs_json, render_items);\n",
       "\n",
       "  }\n",
       "  if (root.Bokeh !== undefined) {\n",
       "    embed_document(root);\n",
       "  } else {\n",
       "    var attempts = 0;\n",
       "    var timer = setInterval(function(root) {\n",
       "      if (root.Bokeh !== undefined) {\n",
       "        embed_document(root);\n",
       "        clearInterval(timer);\n",
       "      }\n",
       "      attempts++;\n",
       "      if (attempts > 100) {\n",
       "        console.log(\"Bokeh: ERROR: Unable to run BokehJS code because BokehJS library is missing\");\n",
       "        clearInterval(timer);\n",
       "      }\n",
       "    }, 10, root)\n",
       "  }\n",
       "})(window);"
      ],
      "application/vnd.bokehjs_exec.v0+json": ""
     },
     "metadata": {
      "application/vnd.bokehjs_exec.v0+json": {
       "id": "1152"
      }
     },
     "output_type": "display_data"
    }
   ],
   "source": [
    "plot_coef_data(coef_data, time_data)"
   ]
  },
  {
   "cell_type": "markdown",
   "metadata": {},
   "source": [
    "The plot above is confusing. If we want to plot only specific features, we can manipulate the `coef_data` before passing it into `plot_coef_data`.\n",
    "\n",
    "We will splice the data such that we only plot `coef 2` and `coef 6`. These specific variables are meaningful because `coef 2` corresponds to the first half of the lag time and `coef 6` corresponds to the last half of the lag time. This is due to the properties of B-splines. Note: this is only true if we are plotting coefficients for `spline_features`."
   ]
  },
  {
   "cell_type": "code",
   "execution_count": 58,
   "metadata": {
    "scrolled": true
   },
   "outputs": [
    {
     "data": {
      "text/html": [
       "\n",
       "\n",
       "\n",
       "\n",
       "\n",
       "\n",
       "  <div class=\"bk-root\" id=\"f2ad97a9-22a4-4f5e-8f7e-00c1061a7d68\" data-root-id=\"1415\"></div>\n"
      ]
     },
     "metadata": {},
     "output_type": "display_data"
    },
    {
     "data": {
      "application/javascript": [
       "(function(root) {\n",
       "  function embed_document(root) {\n",
       "    \n",
       "  var docs_json = {\"c8f17638-a222-4b0d-8f57-adea1499cf12\":{\"roots\":{\"references\":[{\"attributes\":{\"below\":[{\"id\":\"1426\",\"type\":\"LinearAxis\"}],\"center\":[{\"id\":\"1430\",\"type\":\"Grid\"},{\"id\":\"1435\",\"type\":\"Grid\"}],\"left\":[{\"id\":\"1431\",\"type\":\"LinearAxis\"}],\"plot_height\":300,\"renderers\":[{\"id\":\"1441\",\"type\":\"GlyphRenderer\"},{\"id\":\"1447\",\"type\":\"GlyphRenderer\"},{\"id\":\"1453\",\"type\":\"GlyphRenderer\"},{\"id\":\"1459\",\"type\":\"GlyphRenderer\"}],\"right\":[{\"id\":\"1464\",\"type\":\"Legend\"}],\"title\":{\"id\":\"1416\",\"type\":\"Title\"},\"toolbar\":{\"id\":\"1436\",\"type\":\"Toolbar\"},\"toolbar_location\":null,\"x_range\":{\"id\":\"1463\",\"type\":\"Range1d\"},\"x_scale\":{\"id\":\"1422\",\"type\":\"LinearScale\"},\"y_range\":{\"id\":\"1420\",\"type\":\"DataRange1d\"},\"y_scale\":{\"id\":\"1424\",\"type\":\"LinearScale\"}},\"id\":\"1415\",\"subtype\":\"Figure\",\"type\":\"Plot\"},{\"attributes\":{},\"id\":\"1500\",\"type\":\"BasicTickFormatter\"},{\"attributes\":{\"data_source\":{\"id\":\"1437\",\"type\":\"ColumnDataSource\"},\"glyph\":{\"id\":\"1439\",\"type\":\"Line\"},\"hover_glyph\":null,\"muted_glyph\":null,\"nonselection_glyph\":{\"id\":\"1440\",\"type\":\"Line\"},\"selection_glyph\":null,\"view\":{\"id\":\"1442\",\"type\":\"CDSView\"}},\"id\":\"1441\",\"type\":\"GlyphRenderer\"},{\"attributes\":{},\"id\":\"1502\",\"type\":\"BasicTickFormatter\"},{\"attributes\":{\"fill_alpha\":{\"value\":0.1},\"fill_color\":{\"value\":\"#1f77b4\"},\"line_alpha\":{\"value\":0.1},\"line_color\":{\"value\":\"#1f77b4\"},\"size\":{\"units\":\"screen\",\"value\":10},\"x\":{\"field\":\"x_data\"},\"y\":{\"field\":\"y_data\"}},\"id\":\"1445\",\"type\":\"Circle\"},{\"attributes\":{},\"id\":\"1507\",\"type\":\"UnionRenderers\"},{\"attributes\":{\"line_color\":\"orange\",\"x\":{\"field\":\"x_data\"},\"y\":{\"field\":\"y_data\"}},\"id\":\"1439\",\"type\":\"Line\"},{\"attributes\":{\"label\":{\"value\":\"coef 1\"},\"renderers\":[{\"id\":\"1441\",\"type\":\"GlyphRenderer\"}]},\"id\":\"1465\",\"type\":\"LegendItem\"},{\"attributes\":{\"fill_alpha\":{\"value\":0.5},\"fill_color\":{\"value\":\"orange\"},\"line_alpha\":{\"value\":0.5},\"line_color\":{\"value\":\"white\"},\"size\":{\"units\":\"screen\",\"value\":10},\"x\":{\"field\":\"x_data\"},\"y\":{\"field\":\"y_data\"}},\"id\":\"1446\",\"type\":\"Circle\"},{\"attributes\":{},\"id\":\"1422\",\"type\":\"LinearScale\"},{\"attributes\":{\"data_source\":{\"id\":\"1437\",\"type\":\"ColumnDataSource\"},\"glyph\":{\"id\":\"1444\",\"type\":\"Circle\"},\"hover_glyph\":{\"id\":\"1446\",\"type\":\"Circle\"},\"muted_glyph\":null,\"nonselection_glyph\":{\"id\":\"1445\",\"type\":\"Circle\"},\"selection_glyph\":null,\"view\":{\"id\":\"1448\",\"type\":\"CDSView\"}},\"id\":\"1447\",\"type\":\"GlyphRenderer\"},{\"attributes\":{\"label\":{\"value\":\"coef 2\"},\"renderers\":[{\"id\":\"1453\",\"type\":\"GlyphRenderer\"}]},\"id\":\"1466\",\"type\":\"LegendItem\"},{\"attributes\":{\"source\":{\"id\":\"1437\",\"type\":\"ColumnDataSource\"}},\"id\":\"1448\",\"type\":\"CDSView\"},{\"attributes\":{\"callback\":null},\"id\":\"1420\",\"type\":\"DataRange1d\"},{\"attributes\":{\"callback\":null,\"data\":{\"x_data\":[2,3,4,5,6,7,8,9,10,11,12,13,14,15,16,17,18,19,20,21,22,23,24],\"y_data\":[0.7368421052631579,0.6554621848739496,0.5714285714285715,0.46511627906976755,0.6303030303030303,0.704,0.7204968944099379,0.6625766871165644,0.45751633986928103,0.6456692913385826,0.7272727272727273,0.5454545454545455,0.5656565656565656,0.6788990825688074,0.6153846153846153,0.5882352941176471,0.5523809523809524,0.4503311258278146,0.6890756302521008,0.6846846846846846,0.6853146853146853,0.6802721088435374,0.711864406779661]},\"selected\":{\"id\":\"1506\",\"type\":\"Selection\"},\"selection_policy\":{\"id\":\"1507\",\"type\":\"UnionRenderers\"}},\"id\":\"1449\",\"type\":\"ColumnDataSource\"},{\"attributes\":{},\"id\":\"1504\",\"type\":\"Selection\"},{\"attributes\":{\"click_policy\":\"hide\",\"items\":[{\"id\":\"1465\",\"type\":\"LegendItem\"},{\"id\":\"1466\",\"type\":\"LegendItem\"}]},\"id\":\"1464\",\"type\":\"Legend\"},{\"attributes\":{\"line_color\":\"green\",\"x\":{\"field\":\"x_data\"},\"y\":{\"field\":\"y_data\"}},\"id\":\"1451\",\"type\":\"Line\"},{\"attributes\":{},\"id\":\"1505\",\"type\":\"UnionRenderers\"},{\"attributes\":{},\"id\":\"1432\",\"type\":\"BasicTicker\"},{\"attributes\":{\"line_alpha\":0.1,\"line_color\":\"#1f77b4\",\"x\":{\"field\":\"x_data\"},\"y\":{\"field\":\"y_data\"}},\"id\":\"1452\",\"type\":\"Line\"},{\"attributes\":{},\"id\":\"1506\",\"type\":\"Selection\"},{\"attributes\":{\"data_source\":{\"id\":\"1449\",\"type\":\"ColumnDataSource\"},\"glyph\":{\"id\":\"1451\",\"type\":\"Line\"},\"hover_glyph\":null,\"muted_glyph\":null,\"nonselection_glyph\":{\"id\":\"1452\",\"type\":\"Line\"},\"selection_glyph\":null,\"view\":{\"id\":\"1454\",\"type\":\"CDSView\"}},\"id\":\"1453\",\"type\":\"GlyphRenderer\"},{\"attributes\":{\"axis_label\":\"Importance\",\"formatter\":{\"id\":\"1502\",\"type\":\"BasicTickFormatter\"},\"ticker\":{\"id\":\"1432\",\"type\":\"BasicTicker\"}},\"id\":\"1431\",\"type\":\"LinearAxis\"},{\"attributes\":{\"source\":{\"id\":\"1449\",\"type\":\"ColumnDataSource\"}},\"id\":\"1454\",\"type\":\"CDSView\"},{\"attributes\":{\"ticker\":{\"id\":\"1427\",\"type\":\"BasicTicker\"}},\"id\":\"1430\",\"type\":\"Grid\"},{\"attributes\":{\"callback\":null,\"mode\":\"vline\",\"renderers\":[{\"id\":\"1447\",\"type\":\"GlyphRenderer\"},{\"id\":\"1459\",\"type\":\"GlyphRenderer\"}],\"tooltips\":[[\"Importance\",\"@y_data\"]]},\"id\":\"1461\",\"type\":\"HoverTool\"},{\"attributes\":{},\"id\":\"1427\",\"type\":\"BasicTicker\"},{\"attributes\":{\"axis_label\":\"Lag time (hr)\",\"formatter\":{\"id\":\"1500\",\"type\":\"BasicTickFormatter\"},\"ticker\":{\"id\":\"1427\",\"type\":\"BasicTicker\"}},\"id\":\"1426\",\"type\":\"LinearAxis\"},{\"attributes\":{\"fill_alpha\":{\"value\":0.25},\"fill_color\":{\"value\":\"green\"},\"line_color\":{\"value\":null},\"size\":{\"units\":\"screen\",\"value\":10},\"x\":{\"field\":\"x_data\"},\"y\":{\"field\":\"y_data\"}},\"id\":\"1456\",\"type\":\"Circle\"},{\"attributes\":{},\"id\":\"1424\",\"type\":\"LinearScale\"},{\"attributes\":{\"fill_alpha\":{\"value\":0.1},\"fill_color\":{\"value\":\"#1f77b4\"},\"line_alpha\":{\"value\":0.1},\"line_color\":{\"value\":\"#1f77b4\"},\"size\":{\"units\":\"screen\",\"value\":10},\"x\":{\"field\":\"x_data\"},\"y\":{\"field\":\"y_data\"}},\"id\":\"1457\",\"type\":\"Circle\"},{\"attributes\":{\"dimension\":1,\"ticker\":{\"id\":\"1432\",\"type\":\"BasicTicker\"}},\"id\":\"1435\",\"type\":\"Grid\"},{\"attributes\":{\"fill_alpha\":{\"value\":0.5},\"fill_color\":{\"value\":\"green\"},\"line_alpha\":{\"value\":0.5},\"line_color\":{\"value\":\"white\"},\"size\":{\"units\":\"screen\",\"value\":10},\"x\":{\"field\":\"x_data\"},\"y\":{\"field\":\"y_data\"}},\"id\":\"1458\",\"type\":\"Circle\"},{\"attributes\":{\"active_drag\":\"auto\",\"active_inspect\":\"auto\",\"active_multi\":null,\"active_scroll\":\"auto\",\"active_tap\":\"auto\",\"tools\":[{\"id\":\"1461\",\"type\":\"HoverTool\"}]},\"id\":\"1436\",\"type\":\"Toolbar\"},{\"attributes\":{\"text\":\"Lag time vs. feature importances\"},\"id\":\"1416\",\"type\":\"Title\"},{\"attributes\":{\"fill_alpha\":{\"value\":0.25},\"fill_color\":{\"value\":\"orange\"},\"line_color\":{\"value\":null},\"size\":{\"units\":\"screen\",\"value\":10},\"x\":{\"field\":\"x_data\"},\"y\":{\"field\":\"y_data\"}},\"id\":\"1444\",\"type\":\"Circle\"},{\"attributes\":{\"data_source\":{\"id\":\"1449\",\"type\":\"ColumnDataSource\"},\"glyph\":{\"id\":\"1456\",\"type\":\"Circle\"},\"hover_glyph\":{\"id\":\"1458\",\"type\":\"Circle\"},\"muted_glyph\":null,\"nonselection_glyph\":{\"id\":\"1457\",\"type\":\"Circle\"},\"selection_glyph\":null,\"view\":{\"id\":\"1460\",\"type\":\"CDSView\"}},\"id\":\"1459\",\"type\":\"GlyphRenderer\"},{\"attributes\":{\"line_alpha\":0.1,\"line_color\":\"#1f77b4\",\"x\":{\"field\":\"x_data\"},\"y\":{\"field\":\"y_data\"}},\"id\":\"1440\",\"type\":\"Line\"},{\"attributes\":{\"source\":{\"id\":\"1449\",\"type\":\"ColumnDataSource\"}},\"id\":\"1460\",\"type\":\"CDSView\"},{\"attributes\":{\"callback\":null,\"data\":{\"x_data\":[2,3,4,5,6,7,8,9,10,11,12,13,14,15,16,17,18,19,20,21,22,23,24],\"y_data\":[0.21052631578947364,0.3025210084033613,0.3865546218487394,0.49612403100775193,0.33939393939393936,0.256,0.248447204968944,0.30674846625766866,0.5098039215686274,0.31496062992125984,0.23776223776223776,0.4132231404958677,0.3838383838383838,0.2752293577981651,0.3418803418803419,0.36974789915966383,0.3999999999999999,0.5165562913907285,0.2689075630252102,0.2702702702702703,0.27972027972027963,0.2857142857142857,0.2598870056497175]},\"selected\":{\"id\":\"1504\",\"type\":\"Selection\"},\"selection_policy\":{\"id\":\"1505\",\"type\":\"UnionRenderers\"}},\"id\":\"1437\",\"type\":\"ColumnDataSource\"},{\"attributes\":{\"source\":{\"id\":\"1437\",\"type\":\"ColumnDataSource\"}},\"id\":\"1442\",\"type\":\"CDSView\"},{\"attributes\":{\"callback\":null,\"end\":25},\"id\":\"1463\",\"type\":\"Range1d\"}],\"root_ids\":[\"1415\"]},\"title\":\"Bokeh Application\",\"version\":\"1.3.2\"}};\n",
       "  var render_items = [{\"docid\":\"c8f17638-a222-4b0d-8f57-adea1499cf12\",\"roots\":{\"1415\":\"f2ad97a9-22a4-4f5e-8f7e-00c1061a7d68\"}}];\n",
       "  root.Bokeh.embed.embed_items_notebook(docs_json, render_items);\n",
       "\n",
       "  }\n",
       "  if (root.Bokeh !== undefined) {\n",
       "    embed_document(root);\n",
       "  } else {\n",
       "    var attempts = 0;\n",
       "    var timer = setInterval(function(root) {\n",
       "      if (root.Bokeh !== undefined) {\n",
       "        embed_document(root);\n",
       "        clearInterval(timer);\n",
       "      }\n",
       "      attempts++;\n",
       "      if (attempts > 100) {\n",
       "        console.log(\"Bokeh: ERROR: Unable to run BokehJS code because BokehJS library is missing\");\n",
       "        clearInterval(timer);\n",
       "      }\n",
       "    }, 10, root)\n",
       "  }\n",
       "})(window);"
      ],
      "application/vnd.bokehjs_exec.v0+json": ""
     },
     "metadata": {
      "application/vnd.bokehjs_exec.v0+json": {
       "id": "1415"
      }
     },
     "output_type": "display_data"
    }
   ],
   "source": [
    "spliced_data = list(map(lambda x : [x[1], x[-2]], coef_data))\n",
    "plot_coef_data(spliced_data, time_data)"
   ]
  },
  {
   "cell_type": "markdown",
   "metadata": {},
   "source": [
    "Lastly, we have a function that plots the importance of the feature for spline fitting over time. This is built by using the ratios of the two variables above. Since the ratio between the two coefficients corresponds to the relative importance of the first and second half of the lag time, we can make a plot that reflects this."
   ]
  },
  {
   "cell_type": "code",
   "execution_count": 59,
   "metadata": {},
   "outputs": [],
   "source": [
    "from sklearn.linear_model import LinearRegression\n",
    "\n",
    "def plot_spline_feature_importance(coef_data, time_data):\n",
    "    '''This method takes coefficient data and time data, and creates a plot of the\n",
    "    importance of the time series data for the spline model over time.\n",
    "    '''\n",
    "    first_and_last = list(map(lambda x : [abs(x[1]), abs(x[-2])], coef_data))\n",
    "\n",
    "    def normalize_points(point):\n",
    "        '''This method takes a list of two values and returns the normalized list.\n",
    "        It is normalized such that both numbers sum to 1.\n",
    "        '''\n",
    "        if point[0] == 0 and point[1] == 0: return [0.5, 0.5] # Inconclusive\n",
    "        else:\n",
    "            point_sum = point[0] + point[1]\n",
    "            return [point[0] / point_sum, point[1] / point_sum]\n",
    "    normalized_data = list(map(normalize_points, first_and_last))\n",
    "\n",
    "    time_dict = {}\n",
    "    for i, t in enumerate(time_data):\n",
    "        contains_nan = False\n",
    "        for coef in normalized_data[i]:\n",
    "            if np.isnan(coef): contains_nan = True\n",
    "        if contains_nan: continue\n",
    "        time_dict[t] = normalized_data[i]\n",
    "\n",
    "    time_points, data_points, data_point_ranges = [], [], []\n",
    "    for i, lag_time in enumerate(time_dict.keys()):\n",
    "        if i == 0:\n",
    "            time_points += [24 - lag_time * 3/4, 24 - lag_time/4]\n",
    "            data_points += time_dict[lag_time]\n",
    "            data_point_ranges += [(24 - lag_time, 24 - lag_time/2),\n",
    "                                  (24 - lag_time/2, 24)]\n",
    "        else:\n",
    "            # Keep track of areas since many areas overlap\n",
    "            second_half_area, first_half_area = 0, 0\n",
    "            second_half_range = (24 - lag_time/2, 24)\n",
    "            first_half_range = (24 - lag_time, 24 - lag_time/2)\n",
    "            for j, d in enumerate(data_point_ranges):\n",
    "                second_overlap, first_overlap = 0, 0\n",
    "                if second_half_range[1] > d[0]:\n",
    "                    second_overlap = (min(second_half_range[1], d[1]) -\n",
    "                                      max(second_half_range[0], d[0]))\n",
    "                    if second_overlap < 0: second_overlap = 0\n",
    "                second_half_area += second_overlap * data_points[j]\n",
    "                if first_half_range[1] > d[0]:\n",
    "                    first_overlap = min(first_half_range[1], d[1]) -  d[0]\n",
    "                first_half_area += first_overlap * data_points[j]\n",
    "            width = 1\n",
    "            # Adding 0.1 smooths the ratios\n",
    "            ratio = (time_dict[lag_time][0] + 0.1) / (time_dict[lag_time][1] + 0.1)\n",
    "            if ratio * second_half_area - first_half_area < 0:\n",
    "                average_ratio = (first_half_area / second_half_area + ratio) / 2\n",
    "                factor = average_ratio / (first_half_area / second_half_area)\n",
    "                for k, d in enumerate(data_point_ranges):\n",
    "                    if first_half_range[1] > d[0]:\n",
    "                        data_points[k] *= factor\n",
    "                data_points.append(0)\n",
    "            else:\n",
    "                data_points.append((ratio * second_half_area - first_half_area) / width)\n",
    "            data_point_ranges.append((24 - lag_time, 24 - lag_time + width))\n",
    "            time_points.append(24 - lag_time * 3/4)\n",
    "\n",
    "        areas = ([x * (data_point_ranges[i][1] - data_point_ranges[i][0])\n",
    "                  for i, x in enumerate(data_points)])\n",
    "        total_area = sum(areas)\n",
    "        data_points = list(map(lambda x : x / total_area, data_points))\n",
    "\n",
    "    # Create plot\n",
    "    plot = figure(plot_width=600, plot_height=300, tools=\"\", x_range=[0,24],\n",
    "                  toolbar_location=None, title=\"Feature importance over time\",\n",
    "                  x_axis_label='Time', y_axis_label=\"Importance\")\n",
    "    source = ColumnDataSource(data=dict(\n",
    "        x_data = time_points,\n",
    "        y_data = data_points\n",
    "    ))\n",
    "    plot.circle(\"x_data\", \"y_data\", size=10, source=source,\n",
    "                fill_color=\"red\", fill_alpha=1, line_color=None)\n",
    "    # To avoid division by 0, replace all 0s with 0.001\n",
    "    data_points = list(map(lambda x : x + 0.01, data_points))\n",
    "    reg = LinearRegression().fit(np.array(time_points).reshape(-1, 1), data_points)\n",
    "    plot.line([time_data[0], time_data[-1]],\n",
    "              [reg.predict([[time_data[0]]])[0],\n",
    "               reg.predict([[time_data[-1]]])[0]], line_width=2)\n",
    "    show(plot)"
   ]
  },
  {
   "cell_type": "code",
   "execution_count": 60,
   "metadata": {},
   "outputs": [
    {
     "data": {
      "text/html": [
       "\n",
       "\n",
       "\n",
       "\n",
       "\n",
       "\n",
       "  <div class=\"bk-root\" id=\"86dd6145-57d6-4446-a9fd-c430155fd2b6\" data-root-id=\"1562\"></div>\n"
      ]
     },
     "metadata": {},
     "output_type": "display_data"
    },
    {
     "data": {
      "application/javascript": [
       "(function(root) {\n",
       "  function embed_document(root) {\n",
       "    \n",
       "  var docs_json = {\"6da05e18-fdcc-4167-82a0-5b78bf1a1ef2\":{\"roots\":{\"references\":[{\"attributes\":{\"below\":[{\"id\":\"1573\",\"type\":\"LinearAxis\"}],\"center\":[{\"id\":\"1577\",\"type\":\"Grid\"},{\"id\":\"1582\",\"type\":\"Grid\"}],\"left\":[{\"id\":\"1578\",\"type\":\"LinearAxis\"}],\"plot_height\":300,\"renderers\":[{\"id\":\"1588\",\"type\":\"GlyphRenderer\"},{\"id\":\"1593\",\"type\":\"GlyphRenderer\"}],\"title\":{\"id\":\"1563\",\"type\":\"Title\"},\"toolbar\":{\"id\":\"1583\",\"type\":\"Toolbar\"},\"toolbar_location\":null,\"x_range\":{\"id\":\"1565\",\"type\":\"Range1d\"},\"x_scale\":{\"id\":\"1569\",\"type\":\"LinearScale\"},\"y_range\":{\"id\":\"1567\",\"type\":\"DataRange1d\"},\"y_scale\":{\"id\":\"1571\",\"type\":\"LinearScale\"}},\"id\":\"1562\",\"subtype\":\"Figure\",\"type\":\"Plot\"},{\"attributes\":{\"axis_label\":\"Importance\",\"formatter\":{\"id\":\"1639\",\"type\":\"BasicTickFormatter\"},\"ticker\":{\"id\":\"1579\",\"type\":\"BasicTicker\"}},\"id\":\"1578\",\"type\":\"LinearAxis\"},{\"attributes\":{},\"id\":\"1637\",\"type\":\"BasicTickFormatter\"},{\"attributes\":{\"callback\":null},\"id\":\"1567\",\"type\":\"DataRange1d\"},{\"attributes\":{},\"id\":\"1579\",\"type\":\"BasicTicker\"},{\"attributes\":{},\"id\":\"1641\",\"type\":\"Selection\"},{\"attributes\":{\"dimension\":1,\"ticker\":{\"id\":\"1579\",\"type\":\"BasicTicker\"}},\"id\":\"1582\",\"type\":\"Grid\"},{\"attributes\":{\"ticker\":{\"id\":\"1574\",\"type\":\"BasicTicker\"}},\"id\":\"1577\",\"type\":\"Grid\"},{\"attributes\":{},\"id\":\"1642\",\"type\":\"UnionRenderers\"},{\"attributes\":{\"active_drag\":\"auto\",\"active_inspect\":\"auto\",\"active_multi\":null,\"active_scroll\":\"auto\",\"active_tap\":\"auto\"},\"id\":\"1583\",\"type\":\"Toolbar\"},{\"attributes\":{\"text\":\"Feature importance over time\"},\"id\":\"1563\",\"type\":\"Title\"},{\"attributes\":{},\"id\":\"1643\",\"type\":\"Selection\"},{\"attributes\":{},\"id\":\"1644\",\"type\":\"UnionRenderers\"},{\"attributes\":{\"fill_color\":{\"value\":\"red\"},\"line_color\":{\"value\":null},\"size\":{\"units\":\"screen\",\"value\":10},\"x\":{\"field\":\"x_data\"},\"y\":{\"field\":\"y_data\"}},\"id\":\"1586\",\"type\":\"Circle\"},{\"attributes\":{},\"id\":\"1569\",\"type\":\"LinearScale\"},{\"attributes\":{\"fill_alpha\":{\"value\":0.1},\"fill_color\":{\"value\":\"#1f77b4\"},\"line_alpha\":{\"value\":0.1},\"line_color\":{\"value\":\"#1f77b4\"},\"size\":{\"units\":\"screen\",\"value\":10},\"x\":{\"field\":\"x_data\"},\"y\":{\"field\":\"y_data\"}},\"id\":\"1587\",\"type\":\"Circle\"},{\"attributes\":{\"source\":{\"id\":\"1590\",\"type\":\"ColumnDataSource\"}},\"id\":\"1594\",\"type\":\"CDSView\"},{\"attributes\":{\"data_source\":{\"id\":\"1584\",\"type\":\"ColumnDataSource\"},\"glyph\":{\"id\":\"1586\",\"type\":\"Circle\"},\"hover_glyph\":null,\"muted_glyph\":null,\"nonselection_glyph\":{\"id\":\"1587\",\"type\":\"Circle\"},\"selection_glyph\":null,\"view\":{\"id\":\"1589\",\"type\":\"CDSView\"}},\"id\":\"1588\",\"type\":\"GlyphRenderer\"},{\"attributes\":{\"axis_label\":\"Time\",\"formatter\":{\"id\":\"1637\",\"type\":\"BasicTickFormatter\"},\"ticker\":{\"id\":\"1574\",\"type\":\"BasicTicker\"}},\"id\":\"1573\",\"type\":\"LinearAxis\"},{\"attributes\":{\"source\":{\"id\":\"1584\",\"type\":\"ColumnDataSource\"}},\"id\":\"1589\",\"type\":\"CDSView\"},{\"attributes\":{},\"id\":\"1571\",\"type\":\"LinearScale\"},{\"attributes\":{\"callback\":null,\"data\":{\"x\":[2,24],\"y\":[0.003035893046593915,0.08770876516991927]},\"selected\":{\"id\":\"1643\",\"type\":\"Selection\"},\"selection_policy\":{\"id\":\"1644\",\"type\":\"UnionRenderers\"}},\"id\":\"1590\",\"type\":\"ColumnDataSource\"},{\"attributes\":{},\"id\":\"1639\",\"type\":\"BasicTickFormatter\"},{\"attributes\":{\"callback\":null,\"data\":{\"x_data\":[22.5,23.5,21.75,21.0,20.25,19.5,18.75,18.0,17.25,16.5,15.75,15.0,14.25,13.5,12.75,12.0,11.25,10.5,9.75,9.0,8.25,7.5,6.75,6.0],\"y_data\":[0.04538190512216245,0.15883666792756862,0.07355523548323642,0.06074310837626585,0.11762964237318396,0.0,0.0,0.011278927134492089,0.0564039036966508,0.154055813387641,0.0,0.0,0.03480943430824722,0.0,0.0,0.006866965090099085,0.04204770839372003,0.04938230318532439,0.18900838552140814,0.0,0.0,0.0,0.0,0.0]},\"selected\":{\"id\":\"1641\",\"type\":\"Selection\"},\"selection_policy\":{\"id\":\"1642\",\"type\":\"UnionRenderers\"}},\"id\":\"1584\",\"type\":\"ColumnDataSource\"},{\"attributes\":{},\"id\":\"1574\",\"type\":\"BasicTicker\"},{\"attributes\":{\"line_color\":\"#1f77b4\",\"line_width\":2,\"x\":{\"field\":\"x\"},\"y\":{\"field\":\"y\"}},\"id\":\"1591\",\"type\":\"Line\"},{\"attributes\":{\"line_alpha\":0.1,\"line_color\":\"#1f77b4\",\"line_width\":2,\"x\":{\"field\":\"x\"},\"y\":{\"field\":\"y\"}},\"id\":\"1592\",\"type\":\"Line\"},{\"attributes\":{\"data_source\":{\"id\":\"1590\",\"type\":\"ColumnDataSource\"},\"glyph\":{\"id\":\"1591\",\"type\":\"Line\"},\"hover_glyph\":null,\"muted_glyph\":null,\"nonselection_glyph\":{\"id\":\"1592\",\"type\":\"Line\"},\"selection_glyph\":null,\"view\":{\"id\":\"1594\",\"type\":\"CDSView\"}},\"id\":\"1593\",\"type\":\"GlyphRenderer\"},{\"attributes\":{\"callback\":null,\"end\":24},\"id\":\"1565\",\"type\":\"Range1d\"}],\"root_ids\":[\"1562\"]},\"title\":\"Bokeh Application\",\"version\":\"1.3.2\"}};\n",
       "  var render_items = [{\"docid\":\"6da05e18-fdcc-4167-82a0-5b78bf1a1ef2\",\"roots\":{\"1562\":\"86dd6145-57d6-4446-a9fd-c430155fd2b6\"}}];\n",
       "  root.Bokeh.embed.embed_items_notebook(docs_json, render_items);\n",
       "\n",
       "  }\n",
       "  if (root.Bokeh !== undefined) {\n",
       "    embed_document(root);\n",
       "  } else {\n",
       "    var attempts = 0;\n",
       "    var timer = setInterval(function(root) {\n",
       "      if (root.Bokeh !== undefined) {\n",
       "        embed_document(root);\n",
       "        clearInterval(timer);\n",
       "      }\n",
       "      attempts++;\n",
       "      if (attempts > 100) {\n",
       "        console.log(\"Bokeh: ERROR: Unable to run BokehJS code because BokehJS library is missing\");\n",
       "        clearInterval(timer);\n",
       "      }\n",
       "    }, 10, root)\n",
       "  }\n",
       "})(window);"
      ],
      "application/vnd.bokehjs_exec.v0+json": ""
     },
     "metadata": {
      "application/vnd.bokehjs_exec.v0+json": {
       "id": "1562"
      }
     },
     "output_type": "display_data"
    }
   ],
   "source": [
    "plot_spline_feature_importance(coef_data, time_data)"
   ]
  }
 ],
 "metadata": {
  "kernelspec": {
   "display_name": "Python 3",
   "language": "python",
   "name": "python3"
  },
  "language_info": {
   "codemirror_mode": {
    "name": "ipython",
    "version": 3
   },
   "file_extension": ".py",
   "mimetype": "text/x-python",
   "name": "python",
   "nbconvert_exporter": "python",
   "pygments_lexer": "ipython3",
   "version": "3.7.3"
  }
 },
 "nbformat": 4,
 "nbformat_minor": 2
}
