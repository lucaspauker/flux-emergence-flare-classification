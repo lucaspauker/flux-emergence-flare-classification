{
 "cells": [
  {
   "cell_type": "markdown",
   "metadata": {},
   "source": [
    "# SHARP Time Series Data Analysis\n",
    "Lucas Pauker"
   ]
  },
  {
   "cell_type": "markdown",
   "metadata": {},
   "source": [
    "## Background\n",
    "Over the summer, I have been working on analyzing SHARP time series data to understand what conditions lead to solar flares, and why this occurs on a physical level. There is much previous literature about flare prediction, but much of this literature fails to interpret the results in a physically meaningful manner. Furthermore, a time series approach has not been taken before to study this problem.\n",
    "\n",
    "The magnetic time series data used in this notebook is taken from Helioseismic and Magnetic Imager (HMI) instrument on NASA's Solar Dynamics Observatory (SDO) satellite, which takes magnetic images of the sun at a 12 minute cadence. From these data, [SHARP variables](http://jsoc.stanford.edu/doc/data/hmi/sharp/sharp.htm) are extracted that describe magnetic conditions on the sun. \n",
    "\n",
    "Flaring data for the sun is provided by the [NOAA GOES](https://www.swpc.noaa.gov/products/goes-x-ray-flux) database, which keeps track of soft x-ray flux on the sun, which is the metric used to determine whether an active region has flared."
   ]
  },
  {
   "cell_type": "markdown",
   "metadata": {},
   "source": [
    "---\n",
    "First let's import the general utility modules that we will need:"
   ]
  },
  {
   "cell_type": "code",
   "execution_count": 1,
   "metadata": {},
   "outputs": [],
   "source": [
    "import csv\n",
    "import json\n",
    "import requests\n",
    "import math\n",
    "import random\n",
    "from datetime import datetime"
   ]
  },
  {
   "cell_type": "markdown",
   "metadata": {},
   "source": [
    "And load scientific packages [scipy](http://www.scipy.org), [sunpy](https://sunpy.org), and [numpy](https://www.numpy.org)."
   ]
  },
  {
   "cell_type": "code",
   "execution_count": 2,
   "metadata": {},
   "outputs": [],
   "source": [
    "import scipy.stats\n",
    "import sunpy\n",
    "import sunpy.instr.goes\n",
    "import numpy as np"
   ]
  },
  {
   "cell_type": "markdown",
   "metadata": {},
   "source": [
    "---\n",
    "## Downloading Data\n",
    "\n",
    "JSOC (Joint Science Operations Center) keeps an up-to-date catalog of all the active regions observed on the sun. This can be found here: `http://jsoc.stanford.edu/doc/data/hmi/harpnum_to_noaa/all_harps_with_noaa_ars.txt`. The code block below takes a file `./data/all_harps_with_noaa_ars.txt` (which is a downloaded version of the aforementioned link) and extracts the harp_ids, as well as a dictionary of harp_ids corresponding to noaa_ids.\n",
    "\n",
    "To download the newest version of the file, one could use a tool such as `wget`: `wget http://jsoc.stanford.edu/doc/data/hmi/harpnum_to_noaa/all_harps_with_noaa_ars.txt`\n",
    "\n",
    "I will first list the functions for downloading data, then have a cell that runs the functions and saves the relevant data output to variables that are accessible in other methods. Here are the functions:"
   ]
  },
  {
   "cell_type": "code",
   "execution_count": 3,
   "metadata": {},
   "outputs": [],
   "source": [
    "def get_harp_ids_and_harp_noaa_dict(filename='./data/all_harps_with_noaa_ars.txt'):\n",
    "    '''This method requires there to be a file filename with two columns: HARP IDs\n",
    "    and NOAA IDs. This method returns a list of HARP IDs and a dictionary of HARP\n",
    "    IDs corresponding to a list of NOAA IDs.\n",
    "    '''\n",
    "    harp_ids = []\n",
    "    harp_noaa_dict = {}\n",
    "    with open(filename) as f:\n",
    "        content = f.readlines()[1:] # Disregard the header line\n",
    "        for line in content:\n",
    "            harp_id = line.split()[0]\n",
    "            noaa_ids = line.split()[1].split(',')\n",
    "            harp_ids.append(int(harp_id))\n",
    "            harp_noaa_dict[int(harp_id)] = noaa_ids\n",
    "    return harp_ids, harp_noaa_dict"
   ]
  },
  {
   "cell_type": "markdown",
   "metadata": {},
   "source": [
    "These are the variables that we will query from the HMI database:"
   ]
  },
  {
   "cell_type": "code",
   "execution_count": 4,
   "metadata": {},
   "outputs": [],
   "source": [
    "QUERY_VARIABLES = ('T_REC,USFLUX,MEANGAM,MEANGBT,MEANGBZ,MEANGBH,MEANJZD,TOTUSJZ,MEANJZH,'\n",
    "                    'TOTUSJH,ABSNJZH,SAVNCPP,MEANPOT,TOTPOT,MEANSHR,SHRGT45,R_VALUE,AREA_ACR'\n",
    "                   )"
   ]
  },
  {
   "cell_type": "code",
   "execution_count": 5,
   "metadata": {},
   "outputs": [],
   "source": [
    "import pandas\n",
    "\n",
    "def query_data(harp_id):\n",
    "    '''This method grabs data from the JSOC database. It queries four variables: time,\n",
    "    unsigned flux, polarity inversion line flux, and area. This method also makes sure\n",
    "    that the data received is high-quality and accurate.\n",
    "    '''\n",
    "    url_base = 'http://jsoc.stanford.edu/cgi-bin/ajax/jsoc_info?ds=hmi.sharp_cea_720s'\n",
    "    harp_id_string = '[' + str(harp_id) + ']'\n",
    "    param_string = '[? (abs(OBS_VR)< 3500) and (QUALITY<65536) ?]'\n",
    "    # May change to all SHARP variables\n",
    "    keys_string = '&op=rs_list&key=' + QUERY_VARIABLES + ',CRVAL1,CRLN_OBS'\n",
    "    url = url_base + harp_id_string + param_string + keys_string\n",
    "    r = requests.get(url)\n",
    "    assert r.status_code == 200\n",
    "    data = json.loads(r.text)\n",
    "    keys = pandas.DataFrame()\n",
    "    for keyword_data in data['keywords']:\n",
    "        keyword = keyword_data['name']\n",
    "        vals = keyword_data['values']\n",
    "        keys[keyword] = vals\n",
    "    return keys"
   ]
  },
  {
   "cell_type": "code",
   "execution_count": 6,
   "metadata": {},
   "outputs": [],
   "source": [
    "def convert_tai_to_datetime(t_str):\n",
    "    '''Helper method to convert a JSOC T_REC object into a python datetime object.'''\n",
    "    year   = int(t_str[:4])\n",
    "    month  = int(t_str[5:7])\n",
    "    day    = int(t_str[8:10])\n",
    "    hour   = int(t_str[11:13])\n",
    "    minute = int(t_str[14:16])\n",
    "    return datetime(year, month, day, hour, minute)"
   ]
  },
  {
   "cell_type": "code",
   "execution_count": 7,
   "metadata": {},
   "outputs": [],
   "source": [
    "def convert_datetime_to_tai(t_obj):\n",
    "    '''Helper method to convert a datetime object into a JSOC T_REC object.'''\n",
    "    return str(t_obj.year) + '.' + str(t_obj.month) + '.' + str(t_obj.day) + '_' \\\n",
    "            + str(t_obj.hour) + ':' + str(t_obj.minute) + '_TAI'"
   ]
  },
  {
   "cell_type": "code",
   "execution_count": 8,
   "metadata": {},
   "outputs": [],
   "source": [
    "def get_time_delta(start_time, end_time):\n",
    "    '''This method returns the time difference between two given datetime objects in\n",
    "    hours.\n",
    "    '''\n",
    "    return (end_time - start_time).total_seconds() / (60 * 60) # Convert to hours"
   ]
  },
  {
   "cell_type": "code",
   "execution_count": 9,
   "metadata": {},
   "outputs": [],
   "source": [
    "def get_time_data(keys):\n",
    "    '''This method takes a keys object returned from query_data and converts and returns\n",
    "    the time data from keys.T_REC into a list of relative times, such that the first time\n",
    "    is zero and the last time is the range of keys.T_REC in hours.\n",
    "    '''\n",
    "    start_time = convert_tai_to_datetime(keys.T_REC[0])\n",
    "    time_data = []\n",
    "    for i in range(keys.T_REC.size):\n",
    "        time = convert_tai_to_datetime(keys.T_REC[i])\n",
    "        time_data.append(get_time_delta(start_time, time))\n",
    "    return time_data"
   ]
  },
  {
   "cell_type": "code",
   "execution_count": 10,
   "metadata": {},
   "outputs": [],
   "source": [
    "def create_csv(keys, time_data, harp_id):\n",
    "    '''Given a keys object from query_data, a time_data list, and a harp_id, this method\n",
    "    creates a csv file in ./data/[harp_id].csv with six columns: true time (keys.T_REC),\n",
    "    relative time, unsigned flux, free energy, polarity inversion line flux, and area.\n",
    "    This method will not write any data that occurs outside the range of +/- 70 degrees\n",
    "    longitude from the meridian.\n",
    "    \n",
    "    The purpose of this method is to write local data so that it is easy and fast to\n",
    "    access data in the future, since GOES and SHARP data access take a long time, and\n",
    "    querying every test would be inefficient.\n",
    "    '''\n",
    "    data_dir = './data/'\n",
    "    filename = data_dir + str(harp_id) + '.csv'\n",
    "    with open(filename, 'w') as csv_file:\n",
    "        writer = csv.writer(csv_file, delimiter=',', quoting=csv.QUOTE_MINIMAL)\n",
    "        writer.writerow(['TRUE_TIME', 'TIME'] + QUERY_VARIABLES.split(',')[1:])\n",
    "        for i in range(len(keys.USFLUX)):\n",
    "            if abs(float(keys.CRVAL1[i]) - float(keys.CRLN_OBS[i])) < 70.0:\n",
    "                writer.writerow([keys.T_REC[i], time_data[i], keys.USFLUX[i],\n",
    "                                 keys.MEANGAM[i], keys.MEANGBT[i], keys.MEANGBZ[i],\n",
    "                                 keys.MEANGBH[i], keys.MEANJZD[i], keys.TOTUSJZ[i],\n",
    "                                 keys.MEANJZH[i], keys.TOTUSJH[i], keys.ABSNJZH[i],\n",
    "                                 keys.SAVNCPP[i], keys.MEANPOT[i], keys.TOTPOT[i],\n",
    "                                 keys.MEANSHR[i], keys.SHRGT45[i], keys.R_VALUE[i],\n",
    "                                 keys.AREA_ACR[i]])"
   ]
  },
  {
   "cell_type": "code",
   "execution_count": 11,
   "metadata": {},
   "outputs": [],
   "source": [
    "def create_all_csvs(harp_ids):\n",
    "    '''This method creates a csv file with time and unsigned flux for all the HARP IDs\n",
    "    in the inputted harp_ids.\n",
    "    '''\n",
    "    count = 0\n",
    "    for harp_id in harp_ids:\n",
    "        count += 1\n",
    "        print(count, harp_id)\n",
    "        if count % 100 == 0: print(count)\n",
    "        keys = query_data(harp_id)\n",
    "        time_data = get_time_data(keys)\n",
    "        create_csv(keys, time_data, harp_id)"
   ]
  },
  {
   "cell_type": "code",
   "execution_count": 12,
   "metadata": {},
   "outputs": [],
   "source": [
    "def read_data(harp_id):\n",
    "    '''This method reads the data from ./data/[harp_id].csv, and returns a pandas\n",
    "    DataFrame with two columns: time since the beginning of the active region data,\n",
    "    and unsigned flux.\n",
    "    '''\n",
    "    filename = './data/' + str(harp_id) + '.csv'\n",
    "    df = pandas.read_csv(filename)\n",
    "    df.TRUE_TIME = df.TRUE_TIME.map(convert_tai_to_datetime)\n",
    "    for i, row in df.iterrows():\n",
    "        if 'MISSING' in row.values:\n",
    "            df = df.drop(i)\n",
    "    df = df.reset_index()\n",
    "    return df"
   ]
  },
  {
   "cell_type": "code",
   "execution_count": 13,
   "metadata": {},
   "outputs": [],
   "source": [
    "def get_flare_data_from_database(t_start, t_end, min_event):\n",
    "    '''This helper method accesses data from the GOES database. It returns\n",
    "    the metadata associated with each flaring active region greater in event\n",
    "    size than min_event and between time t_start and t_end.\n",
    "    '''\n",
    "    time_range = sunpy.time.TimeRange(t_start, t_end)\n",
    "    results = sunpy.instr.goes.get_goes_event_list(time_range, min_event)\n",
    "    return results"
   ]
  },
  {
   "cell_type": "code",
   "execution_count": 14,
   "metadata": {},
   "outputs": [],
   "source": [
    "def get_flare_data(harp_ids, min_event):\n",
    "    '''This method accesses the GOES database to get the flare data for the maximum \n",
    "    time range of the inputted harp ids.\n",
    "    '''\n",
    "    first_keys = query_data(harp_ids[0])\n",
    "    t_start = first_keys.T_REC[0]\n",
    "    last_keys = query_data(harp_ids[-1])\n",
    "    t_end = last_keys.T_REC[len(last_keys.T_REC) - 1]\n",
    "    print('Time range:', t_start, 'to', t_end)\n",
    "\n",
    "    return get_flare_data_from_database(t_start, t_end, min_event)"
   ]
  },
  {
   "cell_type": "code",
   "execution_count": 15,
   "metadata": {},
   "outputs": [],
   "source": [
    "def write_noaa_data_to_csv(flare_data):\n",
    "    '''This method writes the NOAA flare data to \"./data/noaa_data.csv\". This makes\n",
    "    loading the flaring data fast for future runs.\n",
    "    '''\n",
    "    with open('./data/noaa_data.csv', 'w') as csv_file:\n",
    "        field_names = flare_data[0].keys()\n",
    "        writer = csv.DictWriter(csv_file, fieldnames=field_names)\n",
    "        writer.writeheader()\n",
    "        for flare in flare_data:\n",
    "            writer.writerow(flare)"
   ]
  },
  {
   "cell_type": "code",
   "execution_count": 16,
   "metadata": {},
   "outputs": [],
   "source": [
    "def get_noaa_data_from_csv():\n",
    "    '''This method loads the NOAA data from \"./data/noaa_data.csv\".'''\n",
    "    noaa_flare_set = []\n",
    "    with open('./data/noaa_data.csv', 'r') as csv_file:\n",
    "        reader = csv.DictReader(csv_file)\n",
    "        for row in reader:\n",
    "            noaa_flare_set.append(dict(row))\n",
    "    return noaa_flare_set"
   ]
  },
  {
   "cell_type": "markdown",
   "metadata": {},
   "source": [
    "Now we will run the code from the functions above to create `harp_ids`, `harp_noaa_dict`, and `flare_data`:\n",
    "- `harp_ids`: a list of all HARP IDs\n",
    "- `harp_noaa_dict`: a dictionary mapping the HARP IDs to the NOAA IDs\n",
    "- `flare_data`: the flare data downloaded from GOES"
   ]
  },
  {
   "cell_type": "code",
   "execution_count": 17,
   "metadata": {},
   "outputs": [
    {
     "name": "stdout",
     "output_type": "stream",
     "text": [
      "Number of active regions: 1335\n",
      "Number of flares: 8029\n"
     ]
    }
   ],
   "source": [
    "# Set recreate_data to True if you want to redownload all the data (takes 30+ minutes)\n",
    "recreate_data = False\n",
    "\n",
    "harp_ids, harp_noaa_dict = get_harp_ids_and_harp_noaa_dict()\n",
    "\n",
    "if recreate_data:\n",
    "    create_all_csvs(harp_ids)\n",
    "    flare_data = get_flare_data(harp_ids, 'C1.0')\n",
    "    write_noaa_data_to_csv(flare_data)\n",
    "else:\n",
    "    flare_data = get_noaa_data_from_csv()\n",
    "\n",
    "print('Number of active regions:', len(harp_ids))\n",
    "print('Number of flares:', len(flare_data))"
   ]
  },
  {
   "cell_type": "markdown",
   "metadata": {},
   "source": [
    "---\n",
    "## Data Processing\n",
    "\n",
    "In the next blocks of code, we will process the data in various ways to extract information and relate the data described above to each other."
   ]
  },
  {
   "cell_type": "code",
   "execution_count": 18,
   "metadata": {},
   "outputs": [],
   "source": [
    "def get_flared_noaa_id_set(flare_data):\n",
    "    '''This method returns a list of all the NOAA IDs that have flared, based\n",
    "    on the data passed in from flare_data.\n",
    "    '''\n",
    "    noaa_flare_set = set()\n",
    "    for flare in flare_data:\n",
    "        noaa_flare_set.add(int(flare['noaa_active_region']))\n",
    "    return noaa_flare_set"
   ]
  },
  {
   "cell_type": "code",
   "execution_count": 19,
   "metadata": {},
   "outputs": [],
   "source": [
    "def has_flared(harp_id, harp_noaa_dict, noaa_flare_set):\n",
    "    '''This method returns a boolean corresponding to whether the active region\n",
    "    corresponding to the harp_id has flared or not within its lifespan.\n",
    "    '''\n",
    "    for noaa_id in harp_noaa_dict[harp_id]:\n",
    "        if int(noaa_id) in noaa_flare_set:\n",
    "            return True\n",
    "    return False"
   ]
  },
  {
   "cell_type": "code",
   "execution_count": 20,
   "metadata": {},
   "outputs": [],
   "source": [
    "def get_harp_id_to_flaring_times_dict(harp_ids, harp_noaa_dict, flare_data):\n",
    "    '''This method returns a dictionary where the keys are HARP IDs and\n",
    "    the values are a list of peak times where the given active region flared.\n",
    "    Times are given in units of hours after the first time in the harp_id data.\n",
    "    If the active region corresponding to the HARP IDs did not flare, then\n",
    "    the list will be empty.\n",
    "    '''\n",
    "    # Make a dictionary of NOAA ids as keys and flare times as values\n",
    "    noaa_id_flare_time_dict = {}\n",
    "    for flare in flare_data:\n",
    "        time = flare['peak_time']\n",
    "        noaa_id = int(flare['noaa_active_region'])\n",
    "        if noaa_id in noaa_id_flare_time_dict.keys():\n",
    "            noaa_id_flare_time_dict[noaa_id] += [time]\n",
    "        else:\n",
    "            noaa_id_flare_time_dict[noaa_id] = [time]\n",
    "\n",
    "    # Make a dictionary with HARP ids as keys and flare times as values\n",
    "    flare_time_dict = {}\n",
    "    noaa_ids = noaa_id_flare_time_dict.keys()\n",
    "    for harp_id in harp_ids:\n",
    "        keys = read_data(harp_id)\n",
    "        if len(keys.TRUE_TIME) == 0:\n",
    "            flare_time_dict[harp_id] = []\n",
    "            continue\n",
    "\n",
    "        flare_time_dict[harp_id] = []\n",
    "        datetime_start = keys.TRUE_TIME[0]\n",
    "        hour_start = keys.TIME[0]\n",
    "        for noaa_id in harp_noaa_dict[harp_id]:\n",
    "            if int(noaa_id) not in noaa_ids: continue\n",
    "            time_array = []\n",
    "            for time in noaa_id_flare_time_dict[int(noaa_id)]:\n",
    "                time_array.append(hour_start +\n",
    "                                  get_time_delta(datetime_start,\n",
    "                                                 convert_tai_to_datetime(str(time))))\n",
    "            flare_time_dict[int(harp_id)] += time_array\n",
    "    return flare_time_dict"
   ]
  },
  {
   "cell_type": "code",
   "execution_count": 21,
   "metadata": {},
   "outputs": [],
   "source": [
    "def find_unlabeled_flares_above_minimum(flare_data, min_class='M5.0'):\n",
    "    '''While looking at the NOAA data, I noticed that the NOAA ID of some flares\n",
    "    were labeled as 0. This method finds and returns flare_data entries that have\n",
    "    an NOAA ID of 0, and have a GOES class above min_class. This is used to see\n",
    "    if any of the unlabeled flares interfere with the learning algorithm.\n",
    "    '''\n",
    "    unlabeled_flare_list = []\n",
    "    for flare in flare_data:\n",
    "        if flare['noaa_active_region'] == '0':\n",
    "            goes_class = flare['goes_class']\n",
    "            classes = ['c', 'm', 'x']\n",
    "            if (\n",
    "                classes.index(goes_class[0].lower()) > classes.index(min_class[0].lower()) or\n",
    "                (classes.index(goes_class[0].lower()) == classes.index(min_class[0].lower()) and\n",
    "                float(goes_class[1:]) > float(min_class[1:]))\n",
    "            ):\n",
    "                unlabeled_flare_list.append(flare)\n",
    "    return unlabeled_flare_list"
   ]
  },
  {
   "cell_type": "code",
   "execution_count": 22,
   "metadata": {},
   "outputs": [],
   "source": [
    "def count_flared_num(harp_ids, harp_noaa_dict, noaa_flare_set):\n",
    "    '''This method returns the number of active regions in the inputted\n",
    "    harp_ids that have flared.\n",
    "    '''\n",
    "    number_flared = 0\n",
    "    for harp_id in harp_ids:\n",
    "        if has_flared(harp_id, harp_noaa_dict, noaa_flare_set): number_flared += 1\n",
    "    return number_flared"
   ]
  },
  {
   "cell_type": "code",
   "execution_count": 146,
   "metadata": {},
   "outputs": [],
   "source": [
    "def get_segmented_data(harp_ids, flare_data, flare_time_dict, n=None,\n",
    "                       return_harp_ids=False, num_hours=24):\n",
    "    '''This method returns two arrays: x and y. The x array includes time series\n",
    "    data, while y represents whether the corresponding active region in x flared.\n",
    "    \n",
    "    The x and y arrays are built according to the following rule:\n",
    "        - If a flare occurs within num_hours hours after sample time t, it is \n",
    "        considered to belong to the positive case (i.e. the corresponding y entry\n",
    "        will be True).\n",
    "        - If no flare occurs within num_hours hours, it is considered to belong to \n",
    "        the negative case.\n",
    "    \n",
    "    The x array is an array of arrays, where each array represents a num_hours-hour\n",
    "    set of data corresponding to an active region. Each of these num_hours-hour \n",
    "    arrays are arrays of dictionaries representing the data at each recorded interval \n",
    "    within the num_hours hours.\n",
    "    \n",
    "    The n parameter refers to how many negative data points. If n is set to \n",
    "    None (default), then the number of negative data points = the number of positive\n",
    "    data points.\n",
    "    '''\n",
    "    num_flares = len(flare_data)\n",
    "    if n:\n",
    "        num_samples_per_datapoint = int(20 * n / num_flares)\n",
    "    else:\n",
    "        n = len(flare_data) * 5  # Pick a large number\n",
    "        num_samples_per_datapoint = 10 # Number of negative samples from each region\n",
    "    \n",
    "    def get_data_point(keys, flare_time):\n",
    "        '''Given the keys data and a flare time, returns a dictionary with SHARP\n",
    "        variables as keys, mapping each to the values corresponding to the harp_id.\n",
    "        The data is given for all data points num_hours before the flare_time.\n",
    "        '''\n",
    "        data_point = []\n",
    "        #print(keys)\n",
    "        for i, time in enumerate(keys.TIME):\n",
    "            if time <= flare_time and time >= flare_time - num_hours:\n",
    "                data_point.append(keys.iloc[i])\n",
    "        #print(data_point[-1]['TIME'])\n",
    "        if not data_point or data_point[-1]['TIME'] - data_point[0]['TIME'] < num_hours - 1:\n",
    "            return None\n",
    "        return data_point\n",
    "\n",
    "    def contains_nonflaring_24hrs(time_data, flare_data):\n",
    "        '''Given flaring data flare_data for an active region, returns True if the\n",
    "        flare_data contains a 24 hour period without flares, and False otherwise.\n",
    "        '''\n",
    "        previous_flare_time = time_data[0]\n",
    "        for flare_time in flare_data + time_data[0]:\n",
    "            if flare_time - previous_flare_time > num_hours + 1:\n",
    "                return True\n",
    "            previous_flare_time = flare_time\n",
    "        return False\n",
    "\n",
    "    def get_random_flare_time(time_data, flare_data):\n",
    "        '''Returns a random valid flare time for the given time_data and flare_data.'''\n",
    "        c = 0\n",
    "        while True:\n",
    "            c += 1\n",
    "            is_valid, does_flare = False, False\n",
    "            end_time = time_data[random.randrange(len(time_data))]\n",
    "            for flare_time in flare_data + [time_data[0]]:\n",
    "                if end_time - flare_time > num_hours: is_valid = True\n",
    "                if abs(end_time - flare_time) < num_hours: does_flare = True\n",
    "            if is_valid and not does_flare: break\n",
    "            if c > 200: return None\n",
    "        if is_valid:\n",
    "            for flare_time in flare_data + [time_data[0]]:\n",
    "                if abs(end_time - flare_time) < num_hours: print('errror')\n",
    "        return end_time\n",
    "\n",
    "    x_data = []\n",
    "    y_data = []\n",
    "    harp_list = []\n",
    "    num_negative = 0\n",
    "\n",
    "    for harp_id in harp_ids:\n",
    "        keys = read_data(harp_id)\n",
    "        flare_data = flare_time_dict[harp_id]\n",
    "        if not flare_data: continue\n",
    "\n",
    "        # Positive samples\n",
    "        for flare_time in flare_data:\n",
    "            # Throw out flare data with less than num_hours hours of preceding data or\n",
    "            # data that has flare outside of the dataset since the data was cleaned in\n",
    "            # the downloading data section.\n",
    "            if flare_time - keys.TIME[0] < num_hours or flare_time > keys.TIME.iloc[-1]: continue\n",
    "            data_point = get_data_point(keys, flare_time)\n",
    "            if data_point:\n",
    "                harp_list.append(harp_id)\n",
    "                x_data.append(data_point)\n",
    "                y_data.append(True) # True => flare is present\n",
    "\n",
    "        # Negative samples\n",
    "        if num_negative >= n: continue\n",
    "        for _ in range(num_samples_per_datapoint):\n",
    "            if not contains_nonflaring_24hrs(keys.TIME, flare_data): break\n",
    "            flare_time = get_random_flare_time(keys.TIME, flare_data)\n",
    "            if not flare_time: break\n",
    "            data_point = get_data_point(keys, flare_time)\n",
    "            if not data_point: break\n",
    "\n",
    "            harp_list.append(harp_id)\n",
    "            x_data.append(data_point)\n",
    "            y_data.append(False) # False => flare is not present\n",
    "            num_negative += 1\n",
    "        #print(harp_id/harp_ids[-1], num_negative)\n",
    "    if return_harp_ids:\n",
    "        return x_data, y_data, harp_list\n",
    "    else:\n",
    "        return x_data, y_data"
   ]
  },
  {
   "cell_type": "code",
   "execution_count": 103,
   "metadata": {},
   "outputs": [],
   "source": [
    "flare_time_dict = get_harp_id_to_flaring_times_dict(harp_ids, harp_noaa_dict, flare_data)"
   ]
  },
  {
   "cell_type": "code",
   "execution_count": null,
   "metadata": {
    "scrolled": true
   },
   "outputs": [],
   "source": [
    "seg_x, seg_y, harp_list = get_segmented_data(harp_ids, flare_data, flare_time_dict,\n",
    "                                             n=4500, return_harp_ids=True)\n",
    "positive_count, negative_count = 0, 0\n",
    "for has_flare in seg_y:\n",
    "    if has_flare: positive_count += 1\n",
    "    else: negative_count += 1\n",
    "print('# Positive:', positive_count, '--- # Negative:', negative_count)"
   ]
  },
  {
   "cell_type": "markdown",
   "metadata": {},
   "source": [
    "Let's print the first couple terms of the first element of `seg_x` to get a good understanding of what the data looks like:"
   ]
  },
  {
   "cell_type": "code",
   "execution_count": 25,
   "metadata": {},
   "outputs": [
    {
     "name": "stdout",
     "output_type": "stream",
     "text": [
      "[index                        121\n",
      "TRUE_TIME    2010-05-03 16:36:00\n",
      "TIME                          26\n",
      "USFLUX                 5.217e+20\n",
      "MEANGAM                   30.896\n",
      "MEANGBT                  118.462\n",
      "MEANGBZ                  119.494\n",
      "MEANGBH                    45.12\n",
      "MEANJZD               -0.0636397\n",
      "TOTUSJZ              7.49646e+11\n",
      "MEANJZH              -0.00472015\n",
      "TOTUSJH                   33.182\n",
      "ABSNJZH                    3.861\n",
      "SAVNCPP              1.14898e+11\n",
      "MEANPOT                  2051.63\n",
      "TOTPOT               2.22877e+21\n",
      "MEANSHR                   24.309\n",
      "SHRGT45                    5.501\n",
      "R_VALUE                    2.358\n",
      "AREA_ACR                 19.6372\n",
      "Name: 121, dtype: object, index                        122\n",
      "TRUE_TIME    2010-05-03 16:48:00\n",
      "TIME                        26.2\n",
      "USFLUX               5.15725e+20\n",
      "MEANGAM                   34.583\n",
      "MEANGBT                  113.826\n",
      "MEANGBZ                  116.839\n",
      "MEANGBH                    45.51\n",
      "MEANJZD                -0.171338\n",
      "TOTUSJZ              7.10778e+11\n",
      "MEANJZH              -0.00544223\n",
      "TOTUSJH                   30.977\n",
      "ABSNJZH                    4.577\n",
      "SAVNCPP              1.76321e+11\n",
      "MEANPOT                  2167.05\n",
      "TOTPOT               2.42035e+21\n",
      "MEANSHR                    26.45\n",
      "SHRGT45                    7.729\n",
      "R_VALUE                    2.363\n",
      "AREA_ACR                 18.2257\n",
      "Name: 122, dtype: object]\n"
     ]
    }
   ],
   "source": [
    "print(seg_x[0][0:2])"
   ]
  },
  {
   "cell_type": "markdown",
   "metadata": {},
   "source": [
    "---\n",
    "## Plotting Variables over Time\n",
    "\n",
    "It is useful to create graphs in order to visually understand the relationship between variables over time.\n",
    "\n",
    "Below are many methods for creating different types of graphs. Many of the functions are flexible, allowing one to manipulate the graphs.\n",
    "\n",
    "First, let's import `matplotlib` methods useful for graphing:"
   ]
  },
  {
   "cell_type": "code",
   "execution_count": 26,
   "metadata": {},
   "outputs": [],
   "source": [
    "import matplotlib\n",
    "import matplotlib.pyplot as plt"
   ]
  },
  {
   "cell_type": "code",
   "execution_count": 27,
   "metadata": {},
   "outputs": [],
   "source": [
    "def plot_graph(x, y, x_label, y_label, title, clr=None, scatter=False,\n",
    "               line=None, vertical_lines=None, formula=None, label=None):\n",
    "    '''This method uses matplotlib to create a graph of x vs. y with many different\n",
    "    parameters to customize the graph. This method is a base method for many of the\n",
    "    other graphing methods.\n",
    "    '''\n",
    "    # Style elements\n",
    "    text_style = dict(fontsize=12, fontdict={'family': 'monospace'})\n",
    "\n",
    "    # Add data to graph\n",
    "    if scatter:\n",
    "        plt.scatter(x, y, color=clr, label=label, alpha=0.8, s=5)\n",
    "    else:\n",
    "        plot = plt.plot(x, y, '.', color=clr, linestyle=line, label=label)\n",
    "    \n",
    "    if vertical_lines:\n",
    "        for x_val in vertical_lines:\n",
    "            plt.axvline(x=x_val, color=clr)\n",
    "    plt.axhline(y=0, color='black', linewidth=1)\n",
    "    \n",
    "    if formula:\n",
    "        x_vals = np.array(x)\n",
    "        y_vals = formula(x_vals)\n",
    "        plt.plot(x, y_vals, color=clr)\n",
    "\n",
    "    # Label the axes and the plot\n",
    "    ax = plt.gca()\n",
    "    ax.tick_params(labelsize=12)\n",
    "    ax.set_xlabel(x_label, **text_style)\n",
    "    ax.set_ylabel(y_label, **text_style)\n",
    "    ax.set_title(title, **text_style)\n",
    "    if label: plt.legend()"
   ]
  },
  {
   "cell_type": "code",
   "execution_count": 28,
   "metadata": {},
   "outputs": [],
   "source": [
    "def plot_segmented_graphs(seg_x, seg_y, variables=['US_FLUX'], flare=True, n=5,\n",
    "                          color=None, delta=True, scale=False):\n",
    "    '''This method plots n random graphs that correspond to flaring active regions\n",
    "    if flare is True, and non-flaring active regions if flare is False.\n",
    "    If delta is True, it normalizes the graph (variables at time=0 are set to 0).\n",
    "    If scale is True, it normalizes the graph to be in the range [-1, 1].\n",
    "    '''\n",
    "    for _ in range(n):\n",
    "        i = random.randrange(len(seg_y))\n",
    "        while seg_y[i] != flare:\n",
    "            i = random.randrange(len(seg_y))\n",
    "        seg_data = seg_x[i]\n",
    "        for variable in variables:\n",
    "            x_data, y_data = [], []\n",
    "            start_data = seg_data[0][variable]\n",
    "            var_data = []\n",
    "            for data_pt in seg_data:\n",
    "                var_data.append(data_pt[variable])\n",
    "            if delta:\n",
    "                max_data = max(max(var_data - start_data),\n",
    "                                abs(min(var_data - start_data))) / 1e22\n",
    "            else:\n",
    "                max_data = max(max(var_data), abs(min(var_data))) / 1e22\n",
    "            for data_pt in seg_data:\n",
    "                x_data.append(data_pt['TIME'])\n",
    "                y_pt = data_pt[variable] / 1e22\n",
    "                if delta:\n",
    "                    y_pt -= start_data / 1e22\n",
    "                if scale:\n",
    "                    y_pt /= max_data\n",
    "                y_data.append(y_pt)\n",
    "            variable_names = map(lambda x : x.title().replace('_', ' '), variables)\n",
    "            plot_graph(x_data, y_data, 'Hours Since Active Region Detected',\n",
    "                        'Units relative to maximum value',\n",
    "                        ', '.join(variable_names) + ' vs. Time for Active Region',\n",
    "                        clr=color, label=variable)\n",
    "        plt.show()"
   ]
  },
  {
   "cell_type": "code",
   "execution_count": 145,
   "metadata": {},
   "outputs": [
    {
     "data": {
      "image/png": "[encoded data removed]",
      "text/plain": [
       "<Figure size 432x288 with 1 Axes>"
      ]
     },
     "metadata": {
      "needs_background": "light"
     },
     "output_type": "display_data"
    },
    {
     "data": {
      "image/png": "[encoded data removed]",
      "text/plain": [
       "<Figure size 432x288 with 1 Axes>"
      ]
     },
     "metadata": {
      "needs_background": "light"
     },
     "output_type": "display_data"
    }
   ],
   "source": [
    "num_graphs = 2\n",
    "plot_segmented_graphs(seg_x, seg_y, scale=True, flare=True, n=num_graphs,\n",
    "                      variables=['USFLUX', 'TOTPOT', 'AREA_ACR', 'R_VALUE'])"
   ]
  },
  {
   "cell_type": "markdown",
   "metadata": {},
   "source": [
    "---\n",
    "## Machine Learning"
   ]
  },
  {
   "cell_type": "markdown",
   "metadata": {},
   "source": [
    "(from [Wikipedia](https://en.wikipedia.org/wiki/Spearman%27s_rank_correlation_coefficient)): Spearman's correlation assesses monotonic relationships (whether linear or not). If there are no repeated data values, a perfect Spearman correlation of +1 or −1 occurs when each of the variables is a perfect monotone function of the other."
   ]
  },
  {
   "cell_type": "code",
   "execution_count": 30,
   "metadata": {},
   "outputs": [],
   "source": [
    "def calculate_spearman(seg_x, first_var, second_var):\n",
    "    '''Calculate the Spearman coefficient between two variables. This method calculates\n",
    "    the coefficient between the two variables for every time series data series, then\n",
    "    returns the mean and standard deviation of the coefficients.\n",
    "    '''\n",
    "    s_coeff_list = []\n",
    "    for data in seg_x:\n",
    "        first_var_data = []\n",
    "        second_var_data = []\n",
    "        for data_pt in data:\n",
    "            if not data_pt[first_var] or not data_pt[second_var]: continue\n",
    "            first_var_data.append(data_pt[first_var])\n",
    "            second_var_data.append(data_pt[second_var])\n",
    "        s_coeff = scipy.stats.spearmanr(first_var_data, second_var_data).correlation\n",
    "        if not math.isnan(s_coeff): s_coeff_list.append(s_coeff)\n",
    "    return np.mean(s_coeff_list), np.std(s_coeff_list)"
   ]
  },
  {
   "cell_type": "code",
   "execution_count": 31,
   "metadata": {},
   "outputs": [
    {
     "name": "stdout",
     "output_type": "stream",
     "text": [
      "S_coefficient for flux vs. TOTPOT. mean: 0.5053176303914982  std: 0.5138457680481834\n",
      "S_coefficient for flux vs. AREA_ACR. mean: 0.14301490487204768  std: 0.6348420482725762\n"
     ]
    }
   ],
   "source": [
    "for var in ['TOTPOT', 'AREA_ACR']:\n",
    "    s_coeff, s_dev = calculate_spearman(seg_x, 'USFLUX', var)\n",
    "    print('S_coefficient for flux vs.', var + '. mean:', s_coeff, ' std:', s_dev)"
   ]
  },
  {
   "cell_type": "code",
   "execution_count": 32,
   "metadata": {},
   "outputs": [],
   "source": [
    "def regression_helper(function, time_data, variable_data):\n",
    "    popt, _ = scipy.optimize.curve_fit(function, time_data, variable_data)\n",
    "    residuals = variable_data - function(time_data, *popt)\n",
    "    ss_res = np.sum(residuals ** 2)\n",
    "    ss_tot = np.sum((variable_data - np.mean(variable_data)) ** 2)\n",
    "    r_squared = 1 - (ss_res / ss_tot)\n",
    "    return popt, r_squared"
   ]
  },
  {
   "cell_type": "markdown",
   "metadata": {},
   "source": [
    "The following methods take `time_data` and some `variable_data`, then return different kinds of features based on the data."
   ]
  },
  {
   "cell_type": "code",
   "execution_count": 33,
   "metadata": {},
   "outputs": [],
   "source": [
    "def linear_features(time_data, variable_data, feature_names=False):\n",
    "    def f_linear(x, a, b):\n",
    "        return a * x + b\n",
    "    popt, r_squared = regression_helper(f_linear, time_data, variable_data)\n",
    "    if feature_names:\n",
    "        return np.array([*popt, r_squared]), ['slope', 'intercept', 'r^2_linear']\n",
    "    return np.array([*popt, r_squared])"
   ]
  },
  {
   "cell_type": "code",
   "execution_count": 34,
   "metadata": {},
   "outputs": [],
   "source": [
    "def exponential_features(time_data, variable_data, feature_names=False):\n",
    "    def f_exponential(x, a, b):\n",
    "        return a * b ** x\n",
    "    popt, r_squared = regression_helper(f_exponential, time_data, variable_data)\n",
    "    if feature_names:\n",
    "        return np.array([popt[1], r_squared]), ['exp_val', 'r^2_exp']\n",
    "    return np.array([popt[1], r_squared])"
   ]
  },
  {
   "cell_type": "code",
   "execution_count": 35,
   "metadata": {},
   "outputs": [],
   "source": [
    "def quadratic_features(time_data, variable_data, feature_names=False):\n",
    "    def f_quad(x, a, b, c):\n",
    "        return a * x ** 2 + b * x + c\n",
    "    popt, r_squared = regression_helper(f_quad, time_data, variable_data)\n",
    "    if feature_names:\n",
    "        return np.array([*popt, r_squared]), ['quad_1', 'quad_2', 'quad_3', 'r^2_quad']\n",
    "    return np.array([*popt, r_squared])"
   ]
  },
  {
   "cell_type": "code",
   "execution_count": 36,
   "metadata": {},
   "outputs": [],
   "source": [
    "def cubic_features(time_data, variable_data, feature_names=False):\n",
    "    def f_cubic(x, a, b, c, d):\n",
    "        return a * x ** 3 + b * x ** 2 + c * x + d\n",
    "    popt, r_squared = regression_helper(f_cubic, time_data, variable_data)\n",
    "    if feature_names:\n",
    "        return np.array([*popt, r_squared]), ['cube_1', 'cube_2', 'cube_3', 'cube_4', 'r^2_cube']\n",
    "    return np.array([*popt, r_squared])"
   ]
  },
  {
   "cell_type": "code",
   "execution_count": 37,
   "metadata": {},
   "outputs": [],
   "source": [
    "from scipy.interpolate import make_lsq_spline\n",
    "\n",
    "def spline_features(time_data, variable_data, feature_names=False):\n",
    "    elapsed_time = time_data[-1] - time_data[0]\n",
    "    t = [time_data[0] + elapsed_time / 4, time_data[0] + elapsed_time * 2 / 4,\n",
    "         time_data[0] + elapsed_time * 3 / 4]\n",
    "    k = 3\n",
    "    t = np.r_[(time_data[0],)*(k+1), t, (time_data[-1],)*(k+1)]\n",
    "    try:\n",
    "        formula = make_lsq_spline(time_data, variable_data, t, k)\n",
    "    except np.linalg.LinAlgError: # Not enough time data in each quadrant of the data\n",
    "        if feature_names: return None, None\n",
    "        return None\n",
    "    if feature_names:\n",
    "        return np.array(formula.c), ['spline_1', 'spline_2', 'spline_3', 'spline_4',\n",
    "                                    'spline_5', 'spline_6', 'spline_7']\n",
    "    return np.array(formula.c)"
   ]
  },
  {
   "cell_type": "code",
   "execution_count": 38,
   "metadata": {},
   "outputs": [],
   "source": [
    "def discrete_features(time_data, variable_data, feature_names=False):\n",
    "    features = []\n",
    "    features.append(np.mean(variable_data))\n",
    "    features.append(np.std(variable_data))\n",
    "    if feature_names:\n",
    "        return features, ['mean', 'std']"
   ]
  },
  {
   "cell_type": "code",
   "execution_count": 39,
   "metadata": {},
   "outputs": [],
   "source": [
    "def extract_time_series_features(time_data, variable_data, features):\n",
    "    feature_list = np.array([])\n",
    "    feature_names = []\n",
    "    for feature in features:\n",
    "        # Each feature is a function\n",
    "        data, names = feature(time_data, variable_data, feature_names=True)\n",
    "        if data is None or not any(data): return [], []\n",
    "        feature_list = np.append(feature_list, data)\n",
    "        feature_names += names\n",
    "    return feature_list, feature_names"
   ]
  },
  {
   "cell_type": "code",
   "execution_count": 40,
   "metadata": {},
   "outputs": [],
   "source": [
    "def create_learning_dataset(seg_x, seg_y, variable, features):\n",
    "    '''Creates learning dataset with time series data.\n",
    "    '''\n",
    "    x_data, y_data = [], []\n",
    "    for i, data in enumerate(seg_x):\n",
    "        if len(data) < 4: continue\n",
    "        time_data, variable_data = [], []\n",
    "        for data_pt in data:\n",
    "            time_data.append(data_pt['TIME'])\n",
    "            if variable in ['USFLUX', 'TOTPOT']:\n",
    "                variable_data.append(data_pt[variable] / 1e22)\n",
    "            else:\n",
    "                variable_data.append(data_pt[variable])\n",
    "        time_data = np.array(time_data)\n",
    "        variable_data = np.array(variable_data)\n",
    "        if not any(variable_data): continue\n",
    "        series_data, names = extract_time_series_features(time_data, variable_data, features)\n",
    "        if not any(series_data): continue\n",
    "        x_data.append(series_data)\n",
    "        y_data.append(seg_y[i])\n",
    "    names = list(map(lambda x : variable + ' ' + x, names))\n",
    "    return x_data, y_data, names"
   ]
  },
  {
   "cell_type": "code",
   "execution_count": 41,
   "metadata": {},
   "outputs": [
    {
     "name": "stdout",
     "output_type": "stream",
     "text": [
      "Features used: ['USFLUX slope', 'USFLUX intercept', 'USFLUX r^2_linear']\n"
     ]
    }
   ],
   "source": [
    "features = [linear_features]\n",
    "raw_x_data = np.array([])\n",
    "y_data = []\n",
    "feature_names = []\n",
    "variables = ['USFLUX']\n",
    "for variable in variables:\n",
    "    x, y, names = create_learning_dataset(seg_x, seg_y, variable, features)\n",
    "    feature_names += names\n",
    "    if raw_x_data.size == 0: raw_x_data = np.array(x)\n",
    "    else: raw_x_data = np.hstack((raw_x_data, np.array(x)))\n",
    "    y_data = y\n",
    "print('Features used:', feature_names)"
   ]
  },
  {
   "cell_type": "code",
   "execution_count": 42,
   "metadata": {},
   "outputs": [],
   "source": [
    "from sklearn.preprocessing import MinMaxScaler\n",
    "\n",
    "def scale_x_data(x):\n",
    "    '''Method to scale each feature in the inputted x data to a range of 0 to 1.\n",
    "    Returns the scaled data.\n",
    "    '''\n",
    "    scaler = MinMaxScaler()\n",
    "    return scaler.fit_transform(x)"
   ]
  },
  {
   "cell_type": "code",
   "execution_count": 43,
   "metadata": {},
   "outputs": [
    {
     "name": "stdout",
     "output_type": "stream",
     "text": [
      "8675 8675\n"
     ]
    }
   ],
   "source": [
    "x_data = scale_x_data(raw_x_data)\n",
    "print(len(x_data), len(y_data))"
   ]
  },
  {
   "cell_type": "markdown",
   "metadata": {},
   "source": [
    "The following two methods are helper functions to help run machine learning algorithms."
   ]
  },
  {
   "cell_type": "code",
   "execution_count": 44,
   "metadata": {},
   "outputs": [],
   "source": [
    "from sklearn.model_selection import train_test_split\n",
    "\n",
    "def fit_algorithm(clf, x, y, n=1):\n",
    "    '''This method will fit the given classifier clf to the input x, y data\n",
    "    and will return the training and test accuracy of the model.\n",
    "    This method will randomize the train/test split n number of times and will\n",
    "    return the average train/test accuracy.\n",
    "    '''\n",
    "    avg_train, avg_test = 0, 0\n",
    "    for _ in range(n):\n",
    "        x_train, x_test, y_train, y_test = train_test_split(x, y, test_size=0.25)\n",
    "        clf.fit(x_train, y_train)\n",
    "        avg_train += clf.score(x_train, y_train)\n",
    "        avg_test += clf.score(x_test, y_test)\n",
    "    return avg_train / n, avg_test / n"
   ]
  },
  {
   "cell_type": "code",
   "execution_count": 45,
   "metadata": {},
   "outputs": [],
   "source": [
    "def print_info(clf, x, y, algorithm_name, best_accuracy=0, best_algorithm=None):\n",
    "    '''This method streamlines the code required to fit the given clf to the \n",
    "    model, as well as print out important statistics. This method returns the new\n",
    "    best algorithm and best accuracy, based on the test accuracy.\n",
    "    '''\n",
    "    print(algorithm_name + ':')\n",
    "    train_accuracy, test_accuracy = fit_algorithm(clf, x, y, 50)\n",
    "    print('> Train accuracy:', train_accuracy)\n",
    "    print('> Test accuracy:', test_accuracy)\n",
    "    result_vals_dict = {'TP': 0, 'FP': 0, 'TN': 0, 'FN':0}\n",
    "    for i, data_pt in enumerate(x):\n",
    "        prediction = clf.predict([data_pt])\n",
    "        if prediction == y[i]:\n",
    "            if prediction == 1:\n",
    "                result_vals_dict['TP'] += 1\n",
    "            else:\n",
    "                result_vals_dict['TN'] += 1\n",
    "        else:\n",
    "            if prediction == 1:\n",
    "                result_vals_dict['FP'] += 1\n",
    "            else:\n",
    "                result_vals_dict['FN'] += 1\n",
    "    precision = result_vals_dict['TP'] / (result_vals_dict['TP'] + result_vals_dict['FP'] + 1)\n",
    "    recall = result_vals_dict['TP'] / (result_vals_dict['TP'] + result_vals_dict['FN'] + 1)\n",
    "    tss_score = recall - result_vals_dict['FP'] / (result_vals_dict['FP'] + result_vals_dict['TN'])\n",
    "    print('> Precision:', precision)\n",
    "    print('> Recall:', recall)\n",
    "    print('> TSS Score:', tss_score)\n",
    "    if test_accuracy > best_accuracy:\n",
    "        best_accuracy = test_accuracy\n",
    "        best_algorithm = algorithm_name\n",
    "    return best_algorithm, best_accuracy"
   ]
  },
  {
   "cell_type": "markdown",
   "metadata": {},
   "source": [
    "## Different Classification Algorithms and Their Pros and Cons\n",
    "\n",
    "1. Suppport Vector Machines (SVMs)\n",
    "  * SVMs work by constructing hyper-planes in higher dimensional space. This can be used for classification by maximizing the distance between the hyper-plane and the training data of any class.\n",
    "  * This is a good choice because it is a versatile classification algorithm.\n",
    "2. Stochastic Gradient Descent\n",
    "  * Creates a linear classifier to minimize loss.\n",
    "  * Less versatile than SVMs (this should not be an issue for the binary classification, however).\n",
    "  * Scikitlearn has the following built-in loss functions: hinge loss, modified Huber, and logistic.\n",
    "3. Multi-layer Perceptron\n",
    "  * Can learn non-linear models.\n",
    "  * Doesn't necessarily find global optimum: different initial weights can alter validation accuracy.\n",
    "  * Needs tweaking of hyperparameters such as the number of hidden neurons, layers, and iterations to work well.\n",
    "4. AdaBoost (Boosting algorithm)\n",
    "  * Principle is to combine many weak learners to create one strong model.\n",
    "  * Each weak learner concentrates on the examples that are missed by the previous learners.\n",
    "5. Random Forest\n",
    "  * Each tree is built from a random sample of the total data (with replacement).\n",
    "  * This tends to reduce the overall bias."
   ]
  },
  {
   "cell_type": "markdown",
   "metadata": {},
   "source": [
    "Let's import all the learning algorithms we need from the scikit learn library:"
   ]
  },
  {
   "cell_type": "code",
   "execution_count": 46,
   "metadata": {},
   "outputs": [],
   "source": [
    "from sklearn.svm import SVC\n",
    "from sklearn.linear_model import SGDClassifier\n",
    "from sklearn.ensemble import AdaBoostClassifier\n",
    "from sklearn.neural_network import MLPClassifier\n",
    "from sklearn.ensemble import RandomForestClassifier"
   ]
  },
  {
   "cell_type": "code",
   "execution_count": 47,
   "metadata": {},
   "outputs": [],
   "source": [
    "def run_learning_algorithms(x, y):\n",
    "    '''This method runs different machine learning (ML) algorithms and prints \n",
    "    statements indicated the accuracy, finally printing the best overall algorithm \n",
    "    in terms of test accuracy.\n",
    "    \n",
    "    Current ML algorithms:\n",
    "        Support Vector Machine\n",
    "        Stochastic Gradient Descent\n",
    "        Multi-layer Perceptron\n",
    "        AdaBoost\n",
    "        Random Forest\n",
    "    '''\n",
    "    best_accuracy = 0\n",
    "    best_algorithm = None\n",
    "\n",
    "    #algorithm_name = 'Support Vector Machine'\n",
    "    #clf = SVC(gamma='scale')\n",
    "    #best_algorithm, best_accuracy = print_info(clf, x, y, algorithm_name, best_accuracy, best_algorithm)\n",
    "    #print('>', clf.support_vectors_, '\\n')\n",
    "\n",
    "    algorithm_name = 'Stochastic Gradient Descent'\n",
    "    clf = SGDClassifier(loss='hinge', penalty='l2')\n",
    "    best_algorithm, best_accuracy = print_info(clf, x, y, algorithm_name, best_accuracy, best_algorithm)\n",
    "    print('>', clf.coef_, '\\n')\n",
    "\n",
    "    #algorithm_name = 'Multi-layer Perceptron'\n",
    "    #clf = MLPClassifier(max_iter=500)\n",
    "    #best_algorithm, best_accuracy = print_info(clf, x, y, algorithm_name, best_accuracy, best_algorithm)\n",
    "    #print('>', clf.loss_, '\\n')\n",
    "\n",
    "    algorithm_name = 'AdaBoost'\n",
    "    clf = AdaBoostClassifier(n_estimators=25, random_state=0)\n",
    "    best_algorithm, best_accuracy = print_info(clf, x, y, algorithm_name, best_accuracy, best_algorithm)\n",
    "    print('>', clf.feature_importances_, '\\n')\n",
    "\n",
    "    algorithm_name = 'Random Forest'\n",
    "    clf = RandomForestClassifier(n_estimators=25, max_depth=2, random_state=0)\n",
    "    best_algorithm, best_accuracy = print_info(clf, x, y, algorithm_name, best_accuracy, best_algorithm)\n",
    "    print('>', clf.feature_importances_, '\\n')\n",
    "\n",
    "    print('The best algorithm is', best_algorithm, 'with a test accuracy of', best_accuracy)"
   ]
  },
  {
   "cell_type": "code",
   "execution_count": 48,
   "metadata": {
    "scrolled": true
   },
   "outputs": [
    {
     "name": "stdout",
     "output_type": "stream",
     "text": [
      "Stochastic Gradient Descent:\n",
      "> Train accuracy: 0.6220903781125116\n",
      "> Test accuracy: 0.6220562471184883\n",
      "> Precision: 0.6531971580817052\n",
      "> Recall: 0.7045019157088123\n",
      "> TSS Score: 0.35761302681992335\n",
      "> [[18.33879013 22.65332639  0.31515265]] \n",
      "\n",
      "AdaBoost:\n",
      "> Train accuracy: 0.7155548724254536\n",
      "> Test accuracy: 0.7076256339326882\n",
      "> Precision: 0.705\n",
      "> Recall: 0.709051724137931\n",
      "> TSS Score: 0.43394061302681997\n",
      "> [0.44 0.4  0.16] \n",
      "\n",
      "Random Forest:\n",
      "> Train accuracy: 0.685382723639717\n",
      "> Test accuracy: 0.6834301521438455\n",
      "> Precision: 0.6915290356952584\n",
      "> Recall: 0.6216475095785441\n",
      "> TSS Score: 0.36453639846743296\n",
      "> [0.49585914 0.36070116 0.1434397 ] \n",
      "\n",
      "The best algorithm is AdaBoost with a test accuracy of 0.7076256339326882\n"
     ]
    }
   ],
   "source": [
    "run_learning_algorithms(x_data, y_data)"
   ]
  },
  {
   "cell_type": "code",
   "execution_count": 49,
   "metadata": {},
   "outputs": [],
   "source": [
    "def graph_features(x, y, feature_names, max_num_graphs=float('inf')):\n",
    "    '''Given the feature data as x, this function will graph features versus each other.\n",
    "    Different outputs in y will be displayed in different colors. The function will graph\n",
    "    every combination of features, and print them.\n",
    "    '''\n",
    "    single_feature_vectors = [[] for _ in range(len(x[0]))]\n",
    "    colors = []\n",
    "    color_map = {True: 'r', False: 'b'}\n",
    "    for i, data_pt in enumerate(x):\n",
    "        colors.append(color_map[y[i]])\n",
    "        for j in range(len(data_pt)):\n",
    "            single_feature_vectors[j].append(data_pt[j])\n",
    "    count = 0\n",
    "    for i in range(len(x[0])):\n",
    "        for j in range(i + 1, len(x[0])):\n",
    "            count += 1\n",
    "            plot_graph(single_feature_vectors[i], single_feature_vectors[j],\n",
    "                       feature_names[i], feature_names[j],\n",
    "                       feature_names[i].title() + ' vs. ' + feature_names[j].title(),\n",
    "                       clr=colors, scatter=True)\n",
    "            plt.show()\n",
    "            if count >= max_num_graphs: break\n",
    "        if count >= max_num_graphs: break"
   ]
  },
  {
   "cell_type": "code",
   "execution_count": 50,
   "metadata": {},
   "outputs": [
    {
     "data": {
      "image/png": "[encoded data removed]",
      "text/plain": [
       "<Figure size 432x288 with 1 Axes>"
      ]
     },
     "metadata": {
      "needs_background": "light"
     },
     "output_type": "display_data"
    },
    {
     "data": {
      "image/png": "[encoded data removed]",
      "text/plain": [
       "<Figure size 432x288 with 1 Axes>"
      ]
     },
     "metadata": {
      "needs_background": "light"
     },
     "output_type": "display_data"
    },
    {
     "data": {
      "image/png": "[encoded data removed]",
      "text/plain": [
       "<Figure size 432x288 with 1 Axes>"
      ]
     },
     "metadata": {
      "needs_background": "light"
     },
     "output_type": "display_data"
    }
   ],
   "source": [
    "graph_features(x_data, y_data, feature_names)"
   ]
  },
  {
   "cell_type": "markdown",
   "metadata": {},
   "source": [
    "---\n",
    "## Plotting Metadata"
   ]
  },
  {
   "cell_type": "markdown",
   "metadata": {},
   "source": [
    "In this section, I will include a few functions for graphing the results outputted from the machine learning modeling. Specifically, there is a method to understand the relationship between lag time and accuracy and a method to understand the importance of the coefficients in the models as lag time changes.\n",
    "\n",
    "The following two functions are used to get run the algorithms to get the data ready to be plotted and analyzed:"
   ]
  },
  {
   "cell_type": "code",
   "execution_count": 76,
   "metadata": {},
   "outputs": [],
   "source": [
    "def lag_vs_accuracy_data(harp_ids, flare_time_dict, seg_x, seg_y, hour_range=range(2, 25),\n",
    "                         ada=False, tss=False, features=[spline_features],\n",
    "                         variables=['USFLUX', 'TOTPOT', 'AREA_ACR', 'R_VALUE']):\n",
    "    '''This function outputs lag time vs coefficient data in the form of a dictionary.\n",
    "    The dictionary keys are the variables in the variables parameter, and the values are\n",
    "    a list of three-tuples (lag time, accuracy, accuracy error) for all lag times in the\n",
    "    hour_range parameter. Note: the model is trained on a single variable with the learning\n",
    "    algorithm, so there will be len(variables) separate data series.\n",
    "\n",
    "    By default, the function will return accuracy data (i.e. accuracy over time). If tss is\n",
    "    set to true, it will return TSS data instead of accuracy data.\n",
    "\n",
    "    The default model used is stochastic gradient descent. If the ada parameter is set to\n",
    "    True, then an AdaBoost model will be used instead.\n",
    "\n",
    "    This function takes harp_ids, flare_time_dict, seg_x, and seg_y as inputs.\n",
    "\n",
    "    Note: The default range does not include hour 1. This is by design: for many of the\n",
    "    fitting features such as spline_features and cubic_features, it does not make sense to\n",
    "    fit on one hour (i.e. 5 data points) of data.\n",
    "    '''\n",
    "    data_dict = {}\n",
    "    for variable in variables: data_dict[variable] = [] # List of (time, accuracy, error)\n",
    "    for lag in hour_range:\n",
    "        modified_seg_x = []\n",
    "        # Take time off of the start\n",
    "        for data in seg_x:\n",
    "            end_time = data[-1]['TIME']\n",
    "            for i, point in enumerate(data):\n",
    "                if end_time - point['TIME'] < lag:\n",
    "                    modified_seg_x.append(data[i:])\n",
    "                    break\n",
    "        lag_time = round(modified_seg_x[0][-1]['TIME'] - modified_seg_x[0][0]['TIME'])\n",
    "        for variable in variables:\n",
    "            print(lag, variable)\n",
    "            # Get data ready for model\n",
    "            x, y_data, feature_names = create_learning_dataset(modified_seg_x, seg_y, variable, features)\n",
    "            raw_x_data = np.array(x)\n",
    "            x_data = scale_x_data(raw_x_data)\n",
    "            assert(len(x_data) == len(y_data))\n",
    "\n",
    "            # Run model n times, and take the standard deviation to determine the error\n",
    "            n = 10\n",
    "            if ada: clf = AdaBoostClassifier(n_estimators=25, random_state=0)\n",
    "            else: clf = SGDClassifier(loss='hinge', penalty='l2')\n",
    "            accuracies = []\n",
    "            for _ in range(n):\n",
    "                x_train, x_test, y_train, y_test = train_test_split(x_data, y_data, test_size=0.25)\n",
    "                clf.fit(x_train, y_train)\n",
    "                TP, TN, FP, FN = 0, 0, 0, 0\n",
    "                for i, data_pt in enumerate(x_data):\n",
    "                    prediction = clf.predict([data_pt])\n",
    "                    if prediction == y_data[i]:\n",
    "                        if prediction: TP += 1\n",
    "                        else: TN += 1\n",
    "                    else:\n",
    "                        if prediction: FP += 1\n",
    "                        else: FN += 1\n",
    "                if tss:\n",
    "                    accuracies.append(TP/(TP+FN) - FP/(FP+TN))\n",
    "                else:\n",
    "                    accuracies.append((TP + TN)/(TP + TN + FP + FN))\n",
    "            print(np.mean(accuracies))\n",
    "            mean_var = np.mean(accuracies)\n",
    "            var_error = np.std(accuracies)\n",
    "            data_dict[variable].append((lag_time, mean_var, var_error))\n",
    "    return data_dict"
   ]
  },
  {
   "cell_type": "code",
   "execution_count": null,
   "metadata": {},
   "outputs": [],
   "source": [
    "tss_data_dict = lag_vs_accuracy_data(harp_ids, flare_time_dict, seg_x, seg_y,\n",
    "                                     tss=True, variables=QUERY_VARIABLES.split(',')[1:])"
   ]
  },
  {
   "cell_type": "code",
   "execution_count": 77,
   "metadata": {
    "scrolled": true
   },
   "outputs": [
    {
     "name": "stdout",
     "output_type": "stream",
     "text": [
      "2 USFLUX\n",
      "0.9495276086500105 0.0011077813107934328\n",
      "3 USFLUX\n",
      "0.9491916859122401 0.0010622809691936753\n",
      "4 USFLUX\n",
      "0.7221846977989984 0.014741229444368488\n",
      "5 USFLUX\n",
      "0.7193548387096774 0.014378829479788444\n"
     ]
    },
    {
     "ename": "KeyboardInterrupt",
     "evalue": "",
     "output_type": "error",
     "traceback": [
      "\u001b[0;31m---------------------------------------------------------------------------\u001b[0m",
      "\u001b[0;31mKeyboardInterrupt\u001b[0m                         Traceback (most recent call last)",
      "\u001b[0;32m<ipython-input-77-d435e2a75ab0>\u001b[0m in \u001b[0;36m<module>\u001b[0;34m\u001b[0m\n\u001b[1;32m      1\u001b[0m accuracy_data_dict = lag_vs_accuracy_data(harp_ids, flare_time_dict, seg_x, seg_y,\n\u001b[0;32m----> 2\u001b[0;31m                                           variables=['USFLUX'])#QUERY_VARIABLES.split(',')[1:])\n\u001b[0m",
      "\u001b[0;32m<ipython-input-76-53d95fbd3aab>\u001b[0m in \u001b[0;36mlag_vs_accuracy_data\u001b[0;34m(harp_ids, flare_time_dict, seg_x, seg_y, hour_range, ada, tss, features, variables)\u001b[0m\n\u001b[1;32m     31\u001b[0m                 \u001b[0mend_time\u001b[0m \u001b[0;34m=\u001b[0m \u001b[0mdata\u001b[0m\u001b[0;34m[\u001b[0m\u001b[0mint\u001b[0m\u001b[0;34m(\u001b[0m\u001b[0mlag\u001b[0m \u001b[0;34m/\u001b[0m \u001b[0;36m2\u001b[0m\u001b[0;34m)\u001b[0m\u001b[0;34m]\u001b[0m\u001b[0;34m[\u001b[0m\u001b[0;34m'TIME'\u001b[0m\u001b[0;34m]\u001b[0m\u001b[0;34m\u001b[0m\u001b[0;34m\u001b[0m\u001b[0m\n\u001b[1;32m     32\u001b[0m             \u001b[0;32mfor\u001b[0m \u001b[0mj\u001b[0m\u001b[0;34m,\u001b[0m \u001b[0mpoint\u001b[0m \u001b[0;32min\u001b[0m \u001b[0menumerate\u001b[0m\u001b[0;34m(\u001b[0m\u001b[0mdata\u001b[0m\u001b[0;34m)\u001b[0m\u001b[0;34m:\u001b[0m\u001b[0;34m\u001b[0m\u001b[0;34m\u001b[0m\u001b[0m\n\u001b[0;32m---> 33\u001b[0;31m                 \u001b[0;32mif\u001b[0m \u001b[0mend_time\u001b[0m \u001b[0;34m-\u001b[0m \u001b[0mpoint\u001b[0m\u001b[0;34m[\u001b[0m\u001b[0;34m'TIME'\u001b[0m\u001b[0;34m]\u001b[0m \u001b[0;34m<\u001b[0m \u001b[0mint\u001b[0m\u001b[0;34m(\u001b[0m\u001b[0mlag\u001b[0m \u001b[0;34m/\u001b[0m \u001b[0;36m2\u001b[0m\u001b[0;34m)\u001b[0m\u001b[0;34m:\u001b[0m\u001b[0;34m\u001b[0m\u001b[0;34m\u001b[0m\u001b[0m\n\u001b[0m\u001b[1;32m     34\u001b[0m                     \u001b[0mmodified_seg_x\u001b[0m\u001b[0;34m.\u001b[0m\u001b[0mappend\u001b[0m\u001b[0;34m(\u001b[0m\u001b[0mdata\u001b[0m\u001b[0;34m[\u001b[0m\u001b[0mj\u001b[0m\u001b[0;34m:\u001b[0m\u001b[0;34m]\u001b[0m\u001b[0;34m)\u001b[0m\u001b[0;34m\u001b[0m\u001b[0;34m\u001b[0m\u001b[0m\n\u001b[1;32m     35\u001b[0m                     \u001b[0;32mbreak\u001b[0m\u001b[0;34m\u001b[0m\u001b[0;34m\u001b[0m\u001b[0m\n",
      "\u001b[0;31mKeyboardInterrupt\u001b[0m: "
     ]
    }
   ],
   "source": [
    "accuracy_data_dict = lag_vs_accuracy_data(harp_ids, flare_time_dict, seg_x, seg_y,\n",
    "                                          variables=['AREA_ACR'])#QUERY_VARIABLES.split(',')[1:])"
   ]
  },
  {
   "cell_type": "code",
   "execution_count": null,
   "metadata": {},
   "outputs": [],
   "source": [
    "def lag_vs_coefficient_data(harp_ids, flare_time_dict, seg_x, seg_y, hour_range=range(2, 25),\n",
    "                            ada=False, features=[spline_features],\n",
    "                            f_score=False, variables=['USFLUX']):\n",
    "    '''This function outputs data of lag time vs. coefficient values for a machine learning\n",
    "    fit. This allows one to see how the relative importance of coefficients changes over time.\n",
    "    The function returns two lists: coef_data, which is the values of the coefficients at each\n",
    "    timestep, and time_data, which specifies the timesteps.\n",
    "\n",
    "    This function also has a f_score parameter. When this is set to true, the coefficient data\n",
    "    will be the ANOVA F-value computed for each feature for the data. By default this is false,\n",
    "    and the function returns the parameters of the machine learning fit.\n",
    "\n",
    "    (The paragraphs below are identical to lag_vs_accuracy_data)\n",
    "    The default model used is stochastic gradient descent. If the ada parameter is set to\n",
    "    True, then an AdaBoost model will be used instead.\n",
    "\n",
    "    This function takes harp_ids, flare_time_dict, seg_x, and seg_y as inputs.\n",
    "\n",
    "    Note: The default range does not include hour 1. This is by design: for many of the\n",
    "    fitting features such as spline_features and cubic_features, it does not make sense to\n",
    "    fit on one hour (i.e. 5 data points) of data.\n",
    "    '''\n",
    "    coef_data = {}\n",
    "    time_data = []\n",
    "    for variable in variables: coef_data[variable] = []\n",
    "    for lag in hour_range:\n",
    "        modified_seg_x = []\n",
    "        # Take time off of the start\n",
    "        for data in seg_x:\n",
    "            end_time = data[-1]['TIME']\n",
    "            for i, point in enumerate(data):\n",
    "                if end_time - point['TIME'] < lag:\n",
    "                    modified_seg_x.append(data[i:])\n",
    "                    break\n",
    "        lag_time = round(modified_seg_x[0][-1]['TIME'] - modified_seg_x[0][0]['TIME'])\n",
    "        time_data.append(lag_time)\n",
    "        for variable in variables:\n",
    "            x, y_data, feature_names = create_learning_dataset(modified_seg_x, seg_y, variable, features)\n",
    "            raw_x_data = np.array(x)\n",
    "            x_data = scale_x_data(raw_x_data)\n",
    "            assert(len(x_data) == len(y_data))\n",
    "\n",
    "            # ANOVA F-value does not depend on a machine learning algorithm, so we can save\n",
    "            # time by not running the ML fit if f_score is True\n",
    "            if f_score:\n",
    "                selector = SelectKBest(f_classif, k='all')\n",
    "                selector.fit(x_data, y_data)\n",
    "                scores = selector.scores_\n",
    "                order = np.argsort(selector.scores_)\n",
    "                ordered_scores = list(map(lambda x : scores[x], order))\n",
    "                coef_data.append(ordered_scores)\n",
    "                continue\n",
    "\n",
    "            # Run model n times, and take the standard deviation to determine the error\n",
    "            n = 10\n",
    "            if ada: clf = AdaBoostClassifier(n_estimators=25, random_state=0)\n",
    "            else: clf = SGDClassifier(loss='hinge', penalty='l2')\n",
    "            coefs = []\n",
    "            for _ in range(n):\n",
    "                _, test_accuracy = fit_algorithm(clf, x_data, y_data, 1)\n",
    "                if ada: coefs.append(clf.feature_importances_)\n",
    "                else: coefs.append(clf.coef_[0])\n",
    "            coef_data[variable].append(sum(coefs) / len(coefs)) # Average coefficients\n",
    "    return coef_data, time_data"
   ]
  },
  {
   "cell_type": "code",
   "execution_count": null,
   "metadata": {},
   "outputs": [],
   "source": [
    "all_coef_data, time_data = lag_vs_coefficient_data(harp_ids, flare_time_dict, seg_x,\n",
    "                                                   seg_y, variables=QUERY_VARIABLES.split(',')[1:])"
   ]
  },
  {
   "cell_type": "markdown",
   "metadata": {},
   "source": [
    "First, let's import methods from the `bokeh` graphing module that we will use to plot data."
   ]
  },
  {
   "cell_type": "code",
   "execution_count": null,
   "metadata": {},
   "outputs": [],
   "source": [
    "from bokeh.plotting import figure, show, ColumnDataSource\n",
    "from bokeh.models import HoverTool, Legend, Band, Range1d\n",
    "from bokeh.io import output_notebook\n",
    "output_notebook()"
   ]
  },
  {
   "cell_type": "markdown",
   "metadata": {},
   "source": [
    "The next functions are used to plot the data:"
   ]
  },
  {
   "cell_type": "code",
   "execution_count": null,
   "metadata": {},
   "outputs": [],
   "source": [
    "COLORS = ['#a6cee3', '#1f78b4', '#b2df8a', '#33a02c', '#fb9a99', '#e31a1c', '#fdbf6f',\n",
    "          '#ff7f00', '#cab2d6', '#6a3d9a', '#ffff99', '#b15928', '#8dd3c7', '#fdb462',\n",
    "          '#d9d9d9', '#ffed6f', '#e31a1c']"
   ]
  },
  {
   "cell_type": "code",
   "execution_count": null,
   "metadata": {},
   "outputs": [],
   "source": [
    "def plot_variable_data(data_dict, variables=None, parameter='accuracy'):\n",
    "    '''This function plots the variable vs. lag time data of the given input data_dict\n",
    "    using the bokeh plotting library.\n",
    "\n",
    "    If variables is set to None, this function will plot all variables in data_dict. Else\n",
    "    it will plot all the variables in variables.\n",
    "\n",
    "    The parameter input is for labeling the graph. By default it is accuracy, and will\n",
    "    include this word in the title, y axis, and on the tooltips.\n",
    "    '''\n",
    "    variable_data, error_data = {}, {}\n",
    "    time_data, items = [], []\n",
    "    for var in data_dict:\n",
    "        # Parse tuples in data_dict\n",
    "        time_data, variable_subset, error_subset= [], [], []\n",
    "        for tup in data_dict[var]:\n",
    "            time_data.append(tup[0])\n",
    "            variable_subset.append(tup[1])\n",
    "            error_subset.append(tup[2])\n",
    "        variable_data[var] = variable_subset\n",
    "        error_data[var] = error_subset\n",
    "\n",
    "    # Basic plot setup\n",
    "    plot = figure(plot_width=800, plot_height=600, tools='',\n",
    "                  toolbar_location=None, title='Lag time vs. ' + parameter,\n",
    "                  x_axis_label='Lag time (hr)', y_axis_label=parameter.capitalize())\n",
    "\n",
    "    circles = []\n",
    "    min_val = 1\n",
    "    max_val = 0\n",
    "    for i, var in enumerate(variable_data):\n",
    "        if variables:\n",
    "            if var not in variables: continue\n",
    "        source = ColumnDataSource(data=dict(\n",
    "            x_data = time_data,\n",
    "            y_data = variable_data[var],\n",
    "        ))\n",
    "        item = plot.line('x_data', 'y_data', line_width=1, line_alpha=0.5,\n",
    "                         color=COLORS[i], source=source)\n",
    "        items.append((var, [item]))\n",
    "        circles.append(plot.circle('x_data', 'y_data', size=10, source=source,\n",
    "                       fill_color=COLORS[i], hover_fill_color=COLORS[i],\n",
    "                       fill_alpha=0.25, hover_alpha=0.5,\n",
    "                       line_color=None, hover_line_color='white'))\n",
    "\n",
    "        # Used for creating error bands\n",
    "        err_xs, err_ys = [], []\n",
    "        for x, y, y_err in zip(time_data, variable_data[var], error_data[var]):\n",
    "            if y + y_err / 2 > max_val: max_val = y + y_err / 2\n",
    "            if y - y_err / 2 < min_val: min_val = y - y_err / 2\n",
    "            err_xs.append((x, x))\n",
    "            err_ys.append((y - y_err / 2, y + y_err / 2))\n",
    "\n",
    "        source = ColumnDataSource({\n",
    "            'base': time_data,\n",
    "            'lower': list(map(lambda x : x[0], err_ys)),\n",
    "            'upper': list(map(lambda x : x[1], err_ys))\n",
    "        })\n",
    "\n",
    "        band = Band(base='base', lower='lower', upper='upper', source=source, \n",
    "                    level='underlay', fill_alpha=.5, line_width=1,\n",
    "                    line_color='black', fill_color=COLORS[i])\n",
    "        plot.add_layout(band)\n",
    "\n",
    "    plot.add_tools(HoverTool(tooltips=[(parameter.capitalize(), '@y_data %')], renderers=circles,\n",
    "                             mode='vline'))\n",
    "    plot.y_range = Range1d(min_val - (max_val - min_val) / 10,\n",
    "                           max_val  + (max_val - min_val) / 10)\n",
    "    plot.x_range = Range1d(0, 25)\n",
    "    legend = Legend(items=items)\n",
    "    legend.click_policy='hide'\n",
    "    plot.add_layout(legend, 'right')\n",
    "\n",
    "    show(plot)"
   ]
  },
  {
   "cell_type": "code",
   "execution_count": null,
   "metadata": {
    "scrolled": false
   },
   "outputs": [],
   "source": [
    "plot_variable_data(tss_data_dict, variables=['TOTUSJH', 'TOTUSJZ', 'MEANJZD', 'R_VALUE', 'USFLUX', 'TOTPOT'])"
   ]
  },
  {
   "cell_type": "code",
   "execution_count": null,
   "metadata": {
    "scrolled": true
   },
   "outputs": [],
   "source": [
    "plot_variable_data(accuracy_data_dict, parameter='accuracy')"
   ]
  },
  {
   "cell_type": "code",
   "execution_count": null,
   "metadata": {},
   "outputs": [],
   "source": [
    "def plot_coef_data(coef_data, time_data):\n",
    "    '''This function plots the coefficient data vs. lag time with the bokeh plotting\n",
    "    library. Each coefficient is displayed as a separate color.\n",
    "    '''\n",
    "    coef_data = np.array(coef_data)\n",
    "    transposed_data = coef_data.transpose()\n",
    "\n",
    "    sums = []\n",
    "    for var in coef_data:\n",
    "        sums.append(sum(list(map(lambda x : abs(x), var))) + 0.01)\n",
    "    normalized_data = []\n",
    "    for var in transposed_data:\n",
    "        normalized_data.append([abs(x) / sums[i] for i, x in enumerate(var)])\n",
    "\n",
    "    # Basic plot setup\n",
    "    plot = figure(plot_width=600, plot_height=300, tools='',\n",
    "                  toolbar_location=None, title='Lag time vs. feature importances',\n",
    "                  x_axis_label='Lag time (hr)', y_axis_label='Importance')\n",
    "\n",
    "    circles = []\n",
    "    items = []\n",
    "    for i, var in enumerate(normalized_data):\n",
    "        source = ColumnDataSource(data=dict(\n",
    "            x_data = time_data,\n",
    "            y_data = var\n",
    "        ))\n",
    "        item = plot.line('x_data', 'y_data', line_width=1, color=COLORS[i], source=source)\n",
    "        items.append(('coef ' + str(i + 1), [item]))\n",
    "        circles.append(plot.circle('x_data', 'y_data', size=10, source=source,\n",
    "                       fill_color=COLORS[i], hover_fill_color=COLORS[i],\n",
    "                       fill_alpha=0.25, hover_alpha=0.5,\n",
    "                       line_color=None, hover_line_color='white'))\n",
    "\n",
    "    plot.add_tools(HoverTool(tooltips=[('Importance', '@y_data')], renderers=circles,\n",
    "                             mode='vline'))\n",
    "    plot.x_range = Range1d(0, 25)\n",
    "    legend = Legend(items=items)\n",
    "\n",
    "    plot.add_layout(legend, 'right')\n",
    "    plot.legend.click_policy='hide'\n",
    "    \n",
    "    show(plot)"
   ]
  },
  {
   "cell_type": "code",
   "execution_count": null,
   "metadata": {
    "scrolled": true
   },
   "outputs": [],
   "source": [
    "plot_coef_data(coef_data['USFLUX'], time_data)"
   ]
  },
  {
   "cell_type": "markdown",
   "metadata": {},
   "source": [
    "The plot above is confusing. If we want to plot only specific features, we can manipulate the `coef_data` before passing it into `plot_coef_data`.\n",
    "\n",
    "We will splice the data such that we only plot `coef 2` and `coef 6`. These specific variables are meaningful because `coef 2` corresponds to the first half of the lag time and `coef 6` corresponds to the last half of the lag time. This is due to the properties of B-splines. Note: this is only true if we are plotting coefficients for `spline_features`."
   ]
  },
  {
   "cell_type": "code",
   "execution_count": null,
   "metadata": {
    "scrolled": true
   },
   "outputs": [],
   "source": [
    "spliced_data = list(map(lambda x : [x[1], x[-2]], coef_data['USFLUX']))\n",
    "plot_coef_data(spliced_data, time_data)"
   ]
  },
  {
   "cell_type": "markdown",
   "metadata": {},
   "source": [
    "Lastly, we have a function that plots the importance of the feature for spline fitting over time. This is built by using the ratios of the two variables above. Since the ratio between the two coefficients corresponds to the relative importance of the first and second half of the lag time, we can make a plot that reflects this."
   ]
  },
  {
   "cell_type": "code",
   "execution_count": null,
   "metadata": {},
   "outputs": [],
   "source": [
    "from sklearn.linear_model import LinearRegression\n",
    "\n",
    "def plot_spline_feature_importance(coef_data, time_data):\n",
    "    '''This method takes coefficient data and time data, and creates a plot of the\n",
    "    importance of the time series data for the spline model over time.\n",
    "    '''\n",
    "    first_and_last = list(map(lambda x : [abs(x[1]), abs(x[-2])], coef_data))\n",
    "\n",
    "    def normalize_points(point):\n",
    "        '''This method takes a list of two values and returns the normalized list.\n",
    "        It is normalized such that both numbers sum to 1.\n",
    "        '''\n",
    "        if point[0] == 0 and point[1] == 0: return [0.5, 0.5] # Inconclusive\n",
    "        else:\n",
    "            point_sum = point[0] + point[1]\n",
    "            return [point[0] / point_sum, point[1] / point_sum]\n",
    "    normalized_data = list(map(normalize_points, first_and_last))\n",
    "\n",
    "    time_dict = {}\n",
    "    for i, t in enumerate(time_data):\n",
    "        contains_nan = False\n",
    "        for coef in normalized_data[i]:\n",
    "            if np.isnan(coef): contains_nan = True\n",
    "        if contains_nan: continue\n",
    "        time_dict[t] = normalized_data[i]\n",
    "\n",
    "    time_points, data_points, data_point_ranges = [], [], []\n",
    "    for i, lag_time in enumerate(time_dict.keys()):\n",
    "        if i == 0:\n",
    "            time_points += [24 - lag_time * 3/4, 24 - lag_time/4]\n",
    "            data_points += time_dict[lag_time]\n",
    "            data_point_ranges += [(24 - lag_time, 24 - lag_time/2),\n",
    "                                  (24 - lag_time/2, 24)]\n",
    "        else:\n",
    "            # Keep track of areas since many areas overlap\n",
    "            second_half_area, first_half_area = 0, 0\n",
    "            second_half_range = (24 - lag_time/2, 24)\n",
    "            first_half_range = (24 - lag_time, 24 - lag_time/2)\n",
    "            for j, d in enumerate(data_point_ranges):\n",
    "                second_overlap, first_overlap = 0, 0\n",
    "                if second_half_range[1] > d[0]:\n",
    "                    second_overlap = (min(second_half_range[1], d[1]) -\n",
    "                                      max(second_half_range[0], d[0]))\n",
    "                    if second_overlap < 0: second_overlap = 0\n",
    "                second_half_area += second_overlap * data_points[j]\n",
    "                if first_half_range[1] > d[0]:\n",
    "                    first_overlap = min(first_half_range[1], d[1]) -  d[0]\n",
    "                first_half_area += first_overlap * data_points[j]\n",
    "            width = 1\n",
    "            # Adding 0.1 smooths the ratios\n",
    "            ratio = (time_dict[lag_time][0] + 0.1) / (time_dict[lag_time][1] + 0.1)\n",
    "            if ratio * second_half_area - first_half_area < 0:\n",
    "                average_ratio = (first_half_area / second_half_area + ratio) / 2\n",
    "                factor = average_ratio / (first_half_area / second_half_area)\n",
    "                for k, d in enumerate(data_point_ranges):\n",
    "                    if first_half_range[1] > d[0]:\n",
    "                        data_points[k] *= factor\n",
    "                data_points.append(0)\n",
    "            else:\n",
    "                data_points.append((ratio * second_half_area - first_half_area) / width)\n",
    "            data_point_ranges.append((24 - lag_time, 24 - lag_time + width))\n",
    "            time_points.append(24 - lag_time * 3/4)\n",
    "\n",
    "        areas = ([x * (data_point_ranges[i][1] - data_point_ranges[i][0])\n",
    "                  for i, x in enumerate(data_points)])\n",
    "        total_area = sum(areas)\n",
    "        data_points = list(map(lambda x : x / total_area, data_points))\n",
    "\n",
    "    # Create plot\n",
    "    plot = figure(plot_width=600, plot_height=300, tools='', x_range=[0,24],\n",
    "                  toolbar_location=None, title='Feature importance over time',\n",
    "                  x_axis_label='Time', y_axis_label='Importance')\n",
    "    source = ColumnDataSource(data=dict(\n",
    "        x_data = time_points,\n",
    "        y_data = data_points\n",
    "    ))\n",
    "    plot.circle('x_data', 'y_data', size=10, source=source,\n",
    "                fill_color='red', fill_alpha=1, line_color=None)\n",
    "    # To avoid division by 0, replace all 0s with 0.01\n",
    "    data_points = list(map(lambda x : x + 0.01, data_points))\n",
    "    reg = LinearRegression().fit(np.array(time_points).reshape(-1, 1), data_points)\n",
    "    plot.line([time_data[0], time_data[-1]],\n",
    "              [reg.predict([[time_data[0]]])[0],\n",
    "               reg.predict([[time_data[-1]]])[0]], line_width=2)\n",
    "    show(plot)"
   ]
  },
  {
   "cell_type": "code",
   "execution_count": null,
   "metadata": {},
   "outputs": [],
   "source": [
    "plot_spline_feature_importance(coef_data['USFLUX'], time_data)"
   ]
  },
  {
   "cell_type": "markdown",
   "metadata": {},
   "source": [
    "Lastly, we can plot the difference in the importance of the first half of the lag time (coefficient 2) versus the importance of the last half of the lag time (coefficient 6)"
   ]
  },
  {
   "cell_type": "code",
   "execution_count": null,
   "metadata": {},
   "outputs": [],
   "source": [
    "def plot_difference_data(coef_data, time_data):\n",
    "    '''\n",
    "    '''\n",
    "    normalized_coef_data = {}\n",
    "    def normalize_points(point):\n",
    "        '''This method takes a list of two values and returns the ratio of the\n",
    "        second data point to the first data point.\n",
    "        '''\n",
    "        if point[0] == 0 and point[1] == 0: return 1 # Inconclusive\n",
    "        else:\n",
    "            point_sum = point[0] + point[1]\n",
    "            return (point[1] - point[0]) / point_sum\n",
    "    for coef in coef_data:\n",
    "        normalized_coef_data[coef] = list(map(lambda x : [abs(x[1]), abs(x[-2])], coef_data[coef]))\n",
    "        normalized_coef_data[coef] = list(map(normalize_points, normalized_coef_data[coef]))\n",
    "\n",
    "    # Basic plot setup\n",
    "    plot = figure(plot_width=600, plot_height=600, tools='',\n",
    "                  toolbar_location=None, title='Lag time vs. ratios',\n",
    "                  x_axis_label='Lag time (hr)', y_axis_label='Difference')\n",
    "\n",
    "    circles = []\n",
    "    items = []\n",
    "    for i, var in enumerate(normalized_coef_data):\n",
    "        source = ColumnDataSource(data=dict(\n",
    "            x_data = time_data,\n",
    "            y_data = normalized_coef_data[var]\n",
    "        ))\n",
    "        item = plot.line('x_data', 'y_data', line_width=1, color=COLORS[i], source=source)\n",
    "        items.append((var + ' ratio', [item]))\n",
    "        circles.append(plot.circle('x_data', 'y_data', size=10, source=source,\n",
    "                       fill_color=COLORS[i], hover_fill_color=COLORS[i],\n",
    "                       fill_alpha=0.25, hover_alpha=0.5,\n",
    "                       line_color=None, hover_line_color='white'))\n",
    "\n",
    "    plot.add_tools(HoverTool(tooltips=[('Ratio', '@y_data')], renderers=circles,\n",
    "                             mode='vline'))\n",
    "    plot.x_range = Range1d(0, 25)\n",
    "    legend = Legend(items=items)\n",
    "\n",
    "    plot.add_layout(legend, 'right')\n",
    "    plot.legend.click_policy='hide'\n",
    "    \n",
    "    show(plot)"
   ]
  },
  {
   "cell_type": "code",
   "execution_count": null,
   "metadata": {},
   "outputs": [],
   "source": [
    "plot_difference_data(all_coef_data, time_data)"
   ]
  }
 ],
 "metadata": {
  "kernelspec": {
   "display_name": "Python 3",
   "language": "python",
   "name": "python3"
  },
  "language_info": {
   "codemirror_mode": {
    "name": "ipython",
    "version": 3
   },
   "file_extension": ".py",
   "mimetype": "text/x-python",
   "name": "python",
   "nbconvert_exporter": "python",
   "pygments_lexer": "ipython3",
   "version": "3.7.3"
  }
 },
 "nbformat": 4,
 "nbformat_minor": 2
}
