{
 "cells": [
  {
   "cell_type": "markdown",
   "metadata": {},
   "source": [
    "# SHARP Time Series Data Analysis"
   ]
  },
  {
   "cell_type": "markdown",
   "metadata": {},
   "source": [
    "## Background\n",
    "Over the summer, I have been working on analyzing SHARP time series data to understand what conditions lead to solar flares, and why this occurs on a physical level. There is much previous literature about flare prediction, but much of this literature fails to interpret the results in a physically meaningful manner. Furthermore, a time series approach has not been taken before to study this problem.\n",
    "\n",
    "The magnetic time series data used in this notebook is taken from Helioseismic and Magnetic Imager (HMI) instrument on NASA's Solar Dynamics Observatory (SDO) satellite, which takes magnetic images of the sun at a 12 minute cadence. From these data, [SHARP variables](http://jsoc.stanford.edu/doc/data/hmi/sharp/sharp.htm) are extracted that describe magnetic conditions on the sun. \n",
    "\n",
    "Flaring data for the sun is provided by the [NOAA GOES](https://www.swpc.noaa.gov/products/goes-x-ray-flux) database, which keeps track of soft x-ray flux on the sun, which is the metric used to determine whether an active region has flared."
   ]
  },
  {
   "cell_type": "markdown",
   "metadata": {},
   "source": [
    "---\n",
    "First let's import the general utility modules that we will need:"
   ]
  },
  {
   "cell_type": "code",
   "execution_count": 1,
   "metadata": {},
   "outputs": [],
   "source": [
    "import csv\n",
    "import json\n",
    "import requests\n",
    "import math\n",
    "import random\n",
    "from datetime import datetime"
   ]
  },
  {
   "cell_type": "markdown",
   "metadata": {},
   "source": [
    "And load scientific packages [scipy](http://www.scipy.org), [sunpy](https://sunpy.org), and [numpy](https://www.numpy.org)."
   ]
  },
  {
   "cell_type": "code",
   "execution_count": 2,
   "metadata": {},
   "outputs": [],
   "source": [
    "import scipy.stats\n",
    "import sunpy\n",
    "import sunpy.instr.goes\n",
    "import numpy as np"
   ]
  },
  {
   "cell_type": "markdown",
   "metadata": {},
   "source": [
    "---\n",
    "## Downloading Data\n",
    "\n",
    "JSOC (Joint Science Operations Center) keeps an up-to-date catalog of all the active regions observed on the sun. This can be found here: `http://jsoc.stanford.edu/doc/data/hmi/harpnum_to_noaa/all_harps_with_noaa_ars.txt`. The code block below takes a file `./data/all_harps_with_noaa_ars.txt` (which is a downloaded version of the aforementioned link) and extracts the harp_ids, as well as a dictionary of harp_ids corresponding to noaa_ids.\n",
    "\n",
    "To download the newest version of the file, one could use a tool such as `wget`: `wget http://jsoc.stanford.edu/doc/data/hmi/harpnum_to_noaa/all_harps_with_noaa_ars.txt`\n",
    "\n",
    "I will first list the functions for downloading data, then have a cell that runs the functions and saves the relevant data output to variables that are accessible in other methods. Here are the functions:"
   ]
  },
  {
   "cell_type": "code",
   "execution_count": 3,
   "metadata": {},
   "outputs": [],
   "source": [
    "def get_harp_ids_and_harp_noaa_dict(filename='./data/all_harps_with_noaa_ars.txt'):\n",
    "    '''This method requires there to be a file filename with two columns: HARP IDs\n",
    "    and NOAA IDs. This method returns a list of HARP IDs and a dictionary of HARP\n",
    "    IDs corresponding to a list of NOAA IDs.\n",
    "    '''\n",
    "    harp_ids = []\n",
    "    harp_noaa_dict = {}\n",
    "    with open(filename) as f:\n",
    "        content = f.readlines()[1:] # Disregard the header line\n",
    "        for line in content:\n",
    "            harp_id = line.split()[0]\n",
    "            noaa_ids = line.split()[1].split(',')\n",
    "            harp_ids.append(int(harp_id))\n",
    "            harp_noaa_dict[int(harp_id)] = noaa_ids\n",
    "    return harp_ids, harp_noaa_dict"
   ]
  },
  {
   "cell_type": "markdown",
   "metadata": {},
   "source": [
    "These are the variables that we will query from the HMI database:"
   ]
  },
  {
   "cell_type": "code",
   "execution_count": 4,
   "metadata": {},
   "outputs": [],
   "source": [
    "QUERY_VARIABLES = ('T_REC,USFLUX,MEANGAM,MEANGBT,MEANGBZ,MEANGBH,MEANJZD,TOTUSJZ,MEANJZH,'\n",
    "                    'TOTUSJH,ABSNJZH,SAVNCPP,MEANPOT,TOTPOT,MEANSHR,SHRGT45,R_VALUE,AREA_ACR'\n",
    "                   )"
   ]
  },
  {
   "cell_type": "code",
   "execution_count": 5,
   "metadata": {},
   "outputs": [],
   "source": [
    "import pandas\n",
    "\n",
    "def query_data(harp_id):\n",
    "    '''This method grabs data from the JSOC database. It queries four variables: time,\n",
    "    unsigned flux, polarity inversion line flux, and area. This method also makes sure\n",
    "    that the data received is high-quality and accurate.\n",
    "    '''\n",
    "    url_base = 'http://jsoc.stanford.edu/cgi-bin/ajax/jsoc_info?ds=hmi.sharp_cea_720s'\n",
    "    harp_id_string = '[' + str(harp_id) + ']'\n",
    "    param_string = '[? (abs(OBS_VR)< 3500) and (QUALITY<65536) ?]'\n",
    "    keys_string = '&op=rs_list&key=' + QUERY_VARIABLES + ',CRVAL1,CRLN_OBS'\n",
    "    url = url_base + harp_id_string + param_string + keys_string\n",
    "    r = requests.get(url)\n",
    "    assert r.status_code == 200\n",
    "    data = json.loads(r.text)\n",
    "    keys = pandas.DataFrame()\n",
    "    for keyword_data in data['keywords']:\n",
    "        keyword = keyword_data['name']\n",
    "        vals = keyword_data['values']\n",
    "        keys[keyword] = vals\n",
    "    return keys"
   ]
  },
  {
   "cell_type": "code",
   "execution_count": 6,
   "metadata": {},
   "outputs": [],
   "source": [
    "def convert_tai_to_datetime(t_str):\n",
    "    '''Helper method to convert a JSOC T_REC object into a python datetime object.'''\n",
    "    year   = int(t_str[:4])\n",
    "    month  = int(t_str[5:7])\n",
    "    day    = int(t_str[8:10])\n",
    "    hour   = int(t_str[11:13])\n",
    "    minute = int(t_str[14:16])\n",
    "    return datetime(year, month, day, hour, minute)"
   ]
  },
  {
   "cell_type": "code",
   "execution_count": 7,
   "metadata": {},
   "outputs": [],
   "source": [
    "def convert_datetime_to_tai(t_obj):\n",
    "    '''Helper method to convert a datetime object into a JSOC T_REC object.'''\n",
    "    return str(t_obj.year) + '.' + str(t_obj.month) + '.' + str(t_obj.day) + '_' \\\n",
    "            + str(t_obj.hour) + ':' + str(t_obj.minute) + '_TAI'"
   ]
  },
  {
   "cell_type": "code",
   "execution_count": 8,
   "metadata": {},
   "outputs": [],
   "source": [
    "def get_time_delta(start_time, end_time):\n",
    "    '''This method returns the time difference between two given datetime objects in\n",
    "    hours.\n",
    "    '''\n",
    "    return (end_time - start_time).total_seconds() / (60 * 60) # Convert to hours"
   ]
  },
  {
   "cell_type": "code",
   "execution_count": 9,
   "metadata": {},
   "outputs": [],
   "source": [
    "def get_time_data(keys):\n",
    "    '''This method takes a keys object returned from query_data and converts and returns\n",
    "    the time data from keys.T_REC into a list of relative times, such that the first time\n",
    "    is zero and the last time is the range of keys.T_REC in hours.\n",
    "    '''\n",
    "    start_time = convert_tai_to_datetime(keys.T_REC[0])\n",
    "    time_data = []\n",
    "    for i in range(keys.T_REC.size):\n",
    "        time = convert_tai_to_datetime(keys.T_REC[i])\n",
    "        time_data.append(get_time_delta(start_time, time))\n",
    "    return time_data"
   ]
  },
  {
   "cell_type": "code",
   "execution_count": 10,
   "metadata": {},
   "outputs": [],
   "source": [
    "def create_csv(keys, time_data, harp_id):\n",
    "    '''Given a keys object from query_data, a time_data list, and a harp_id, this method\n",
    "    creates a csv file in ./data/[harp_id].csv with six columns: true time (keys.T_REC),\n",
    "    relative time, unsigned flux, free energy, polarity inversion line flux, and area.\n",
    "    This method will not write any data that occurs outside the range of +/- 70 degrees\n",
    "    longitude from the meridian.\n",
    "    \n",
    "    The purpose of this method is to write local data so that it is easy and fast to\n",
    "    access data in the future, since GOES and SHARP data access take a long time, and\n",
    "    querying every test would be inefficient.\n",
    "    '''\n",
    "    data_dir = './data/'\n",
    "    filename = data_dir + str(harp_id) + '.csv'\n",
    "    with open(filename, 'w') as csv_file:\n",
    "        writer = csv.writer(csv_file, delimiter=',', quoting=csv.QUOTE_MINIMAL)\n",
    "        writer.writerow(['TRUE_TIME', 'TIME'] + QUERY_VARIABLES.split(',')[1:])\n",
    "        for i in range(len(keys.USFLUX)):\n",
    "            if abs(float(keys.CRVAL1[i]) - float(keys.CRLN_OBS[i])) < 70.0:\n",
    "                writer.writerow([keys.T_REC[i], time_data[i], keys.USFLUX[i],\n",
    "                                 keys.MEANGAM[i], keys.MEANGBT[i], keys.MEANGBZ[i],\n",
    "                                 keys.MEANGBH[i], keys.MEANJZD[i], keys.TOTUSJZ[i],\n",
    "                                 keys.MEANJZH[i], keys.TOTUSJH[i], keys.ABSNJZH[i],\n",
    "                                 keys.SAVNCPP[i], keys.MEANPOT[i], keys.TOTPOT[i],\n",
    "                                 keys.MEANSHR[i], keys.SHRGT45[i], keys.R_VALUE[i],\n",
    "                                 keys.AREA_ACR[i]])"
   ]
  },
  {
   "cell_type": "code",
   "execution_count": 11,
   "metadata": {},
   "outputs": [],
   "source": [
    "def create_all_csvs(harp_ids):\n",
    "    '''This method creates a csv file with time and unsigned flux for all the HARP IDs\n",
    "    in the inputted harp_ids.\n",
    "    '''\n",
    "    count = 0\n",
    "    for harp_id in harp_ids:\n",
    "        count += 1\n",
    "        print(count, harp_id)\n",
    "        if count % 100 == 0: print(count)\n",
    "        keys = query_data(harp_id)\n",
    "        time_data = get_time_data(keys)\n",
    "        create_csv(keys, time_data, harp_id)"
   ]
  },
  {
   "cell_type": "code",
   "execution_count": 12,
   "metadata": {},
   "outputs": [],
   "source": [
    "def read_data(harp_id):\n",
    "    '''This method reads the data from ./data/[harp_id].csv, and returns a pandas\n",
    "    DataFrame with two columns: time since the beginning of the active region data,\n",
    "    and unsigned flux.\n",
    "    '''\n",
    "    filename = './data/' + str(harp_id) + '.csv'\n",
    "    df = pandas.read_csv(filename)\n",
    "    df.TRUE_TIME = df.TRUE_TIME.map(convert_tai_to_datetime)\n",
    "    for i, row in df.iterrows():\n",
    "        if 'MISSING' in row.values:\n",
    "            df = df.drop(i)\n",
    "    df = df.reset_index()\n",
    "    return df"
   ]
  },
  {
   "cell_type": "code",
   "execution_count": 13,
   "metadata": {},
   "outputs": [],
   "source": [
    "def get_flare_data_from_database(t_start, t_end, min_event):\n",
    "    '''This helper method accesses data from the GOES database. It returns\n",
    "    the metadata associated with each flaring active region greater in event\n",
    "    size than min_event and between time t_start and t_end.\n",
    "    '''\n",
    "    time_range = sunpy.time.TimeRange(t_start, t_end)\n",
    "    results = sunpy.instr.goes.get_goes_event_list(time_range, min_event)\n",
    "    return results"
   ]
  },
  {
   "cell_type": "code",
   "execution_count": 14,
   "metadata": {},
   "outputs": [],
   "source": [
    "def get_flare_data(harp_ids, min_event):\n",
    "    '''This method accesses the GOES database to get the flare data for the maximum \n",
    "    time range of the inputted harp ids.\n",
    "    '''\n",
    "    first_keys = query_data(harp_ids[0])\n",
    "    t_start = first_keys.T_REC[0]\n",
    "    last_keys = query_data(harp_ids[-1])\n",
    "    t_end = last_keys.T_REC[len(last_keys.T_REC) - 1]\n",
    "    print('Time range:', t_start, 'to', t_end)\n",
    "\n",
    "    return get_flare_data_from_database(t_start, t_end, min_event)"
   ]
  },
  {
   "cell_type": "code",
   "execution_count": 15,
   "metadata": {},
   "outputs": [],
   "source": [
    "def write_noaa_data_to_csv(flare_data):\n",
    "    '''This method writes the NOAA flare data to \"./data/noaa_data.csv\". This makes\n",
    "    loading the flaring data fast for future runs.\n",
    "    '''\n",
    "    with open('./data/noaa_data.csv', 'w') as csv_file:\n",
    "        field_names = flare_data[0].keys()\n",
    "        writer = csv.DictWriter(csv_file, fieldnames=field_names)\n",
    "        writer.writeheader()\n",
    "        for flare in flare_data:\n",
    "            writer.writerow(flare)"
   ]
  },
  {
   "cell_type": "code",
   "execution_count": 16,
   "metadata": {},
   "outputs": [],
   "source": [
    "def get_noaa_data_from_csv():\n",
    "    '''This method loads the NOAA data from \"./data/noaa_data.csv\".'''\n",
    "    noaa_flare_set = []\n",
    "    with open('./data/noaa_data.csv', 'r') as csv_file:\n",
    "        reader = csv.DictReader(csv_file)\n",
    "        for row in reader:\n",
    "            noaa_flare_set.append(dict(row))\n",
    "    return noaa_flare_set"
   ]
  },
  {
   "cell_type": "markdown",
   "metadata": {},
   "source": [
    "Now we will run the code from the functions above to create `harp_ids`, `harp_noaa_dict`, and `flare_data`:\n",
    "- `harp_ids`: a list of all HARP IDs\n",
    "- `harp_noaa_dict`: a dictionary mapping the HARP IDs to the NOAA IDs\n",
    "- `flare_data`: the flare data downloaded from GOES"
   ]
  },
  {
   "cell_type": "code",
   "execution_count": 17,
   "metadata": {},
   "outputs": [
    {
     "name": "stdout",
     "output_type": "stream",
     "text": [
      "Number of active regions: 1335\n",
      "Number of flares: 8029\n"
     ]
    }
   ],
   "source": [
    "# Set recreate_data to True if you want to redownload all the data (takes 30+ minutes)\n",
    "recreate_data = False\n",
    "\n",
    "harp_ids, harp_noaa_dict = get_harp_ids_and_harp_noaa_dict()\n",
    "\n",
    "if recreate_data:\n",
    "    create_all_csvs(harp_ids)\n",
    "    flare_data = get_flare_data(harp_ids, 'C1.0')\n",
    "    write_noaa_data_to_csv(flare_data)\n",
    "else:\n",
    "    flare_data = get_noaa_data_from_csv()\n",
    "\n",
    "print('Number of active regions:', len(harp_ids))\n",
    "print('Number of flares:', len(flare_data))"
   ]
  },
  {
   "cell_type": "markdown",
   "metadata": {},
   "source": [
    "---\n",
    "## Data Processing\n",
    "\n",
    "In the next blocks of code, we will process the data in various ways to extract information and relate the data described above to each other."
   ]
  },
  {
   "cell_type": "code",
   "execution_count": 18,
   "metadata": {},
   "outputs": [],
   "source": [
    "def get_flared_noaa_id_set(flare_data):\n",
    "    '''This method returns a list of all the NOAA IDs that have flared, based\n",
    "    on the data passed in from flare_data.\n",
    "    '''\n",
    "    noaa_flare_set = set()\n",
    "    for flare in flare_data:\n",
    "        noaa_flare_set.add(int(flare['noaa_active_region']))\n",
    "    return noaa_flare_set"
   ]
  },
  {
   "cell_type": "code",
   "execution_count": 19,
   "metadata": {},
   "outputs": [],
   "source": [
    "def has_flared(harp_id, harp_noaa_dict, noaa_flare_set):\n",
    "    '''This method returns a boolean corresponding to whether the active region\n",
    "    corresponding to the harp_id has flared or not within its lifespan.\n",
    "    '''\n",
    "    for noaa_id in harp_noaa_dict[harp_id]:\n",
    "        if int(noaa_id) in noaa_flare_set:\n",
    "            return True\n",
    "    return False"
   ]
  },
  {
   "cell_type": "code",
   "execution_count": 20,
   "metadata": {},
   "outputs": [],
   "source": [
    "def get_harp_id_to_flaring_times_dict(harp_ids, harp_noaa_dict, flare_data):\n",
    "    '''This method returns a dictionary where the keys are HARP IDs and\n",
    "    the values are a list of peak times where the given active region flared.\n",
    "    Times are given in units of hours after the first time in the harp_id data.\n",
    "    If the active region corresponding to the HARP IDs did not flare, then\n",
    "    the list will be empty.\n",
    "    '''\n",
    "    # Make a dictionary of NOAA ids as keys and flare times as values\n",
    "    noaa_id_flare_time_dict = {}\n",
    "    for flare in flare_data:\n",
    "        time = flare['peak_time']\n",
    "        noaa_id = int(flare['noaa_active_region'])\n",
    "        if noaa_id in noaa_id_flare_time_dict.keys():\n",
    "            noaa_id_flare_time_dict[noaa_id] += [time]\n",
    "        else:\n",
    "            noaa_id_flare_time_dict[noaa_id] = [time]\n",
    "\n",
    "    # Make a dictionary with HARP ids as keys and flare times as values\n",
    "    flare_time_dict = {}\n",
    "    noaa_ids = noaa_id_flare_time_dict.keys()\n",
    "    for harp_id in harp_ids:\n",
    "        keys = read_data(harp_id)\n",
    "        if len(keys.TRUE_TIME) == 0:\n",
    "            flare_time_dict[harp_id] = []\n",
    "            continue\n",
    "\n",
    "        flare_time_dict[harp_id] = []\n",
    "        datetime_start = keys.TRUE_TIME[0]\n",
    "        hour_start = keys.TIME[0]\n",
    "        for noaa_id in harp_noaa_dict[harp_id]:\n",
    "            if int(noaa_id) not in noaa_ids: continue\n",
    "            time_array = []\n",
    "            for time in noaa_id_flare_time_dict[int(noaa_id)]:\n",
    "                time_array.append(hour_start +\n",
    "                                  get_time_delta(datetime_start,\n",
    "                                                 convert_tai_to_datetime(str(time))))\n",
    "            flare_time_dict[int(harp_id)] += time_array\n",
    "    return flare_time_dict"
   ]
  },
  {
   "cell_type": "code",
   "execution_count": 21,
   "metadata": {},
   "outputs": [],
   "source": [
    "def find_unlabeled_flares_above_minimum(flare_data, min_class='M5.0'):\n",
    "    '''While looking at the NOAA data, I noticed that the NOAA ID of some flares\n",
    "    were labeled as 0. This method finds and returns flare_data entries that have\n",
    "    an NOAA ID of 0, and have a GOES class above min_class. This is used to see\n",
    "    if any of the unlabeled flares interfere with the learning algorithm.\n",
    "    '''\n",
    "    unlabeled_flare_list = []\n",
    "    for flare in flare_data:\n",
    "        if flare['noaa_active_region'] == '0':\n",
    "            goes_class = flare['goes_class']\n",
    "            classes = ['c', 'm', 'x']\n",
    "            if (\n",
    "                classes.index(goes_class[0].lower()) > classes.index(min_class[0].lower()) or\n",
    "                (classes.index(goes_class[0].lower()) == classes.index(min_class[0].lower()) and\n",
    "                float(goes_class[1:]) > float(min_class[1:]))\n",
    "            ):\n",
    "                unlabeled_flare_list.append(flare)\n",
    "    return unlabeled_flare_list"
   ]
  },
  {
   "cell_type": "code",
   "execution_count": 22,
   "metadata": {},
   "outputs": [],
   "source": [
    "def count_flared_num(harp_ids, harp_noaa_dict, noaa_flare_set):\n",
    "    '''This method returns the number of active regions in the inputted\n",
    "    harp_ids that have flared.\n",
    "    '''\n",
    "    number_flared = 0\n",
    "    for harp_id in harp_ids:\n",
    "        if has_flared(harp_id, harp_noaa_dict, noaa_flare_set): number_flared += 1\n",
    "    return number_flared"
   ]
  },
  {
   "cell_type": "code",
   "execution_count": 602,
   "metadata": {},
   "outputs": [],
   "source": [
    "def get_segmented_data(harp_ids, flare_data, flare_time_dict, n=None,\n",
    "                       return_harp_ids=False, num_hours=24):\n",
    "    '''This method returns two arrays: x and y. The x array includes time series\n",
    "    data, while y represents whether the corresponding active region in x flared.\n",
    "    \n",
    "    The x and y arrays are built according to the following rule:\n",
    "        - If a flare occurs within num_hours hours after sample time t, it is \n",
    "        considered to belong to the positive case (i.e. the corresponding y entry\n",
    "        will be True).\n",
    "        - If no flare occurs within num_hours hours, it is considered to belong to \n",
    "        the negative case.\n",
    "    \n",
    "    The x array is an array of arrays, where each array represents a num_hours-hour\n",
    "    set of data corresponding to an active region. Each of these num_hours-hour \n",
    "    arrays are arrays of dictionaries representing the data at each recorded interval \n",
    "    within the num_hours hours.\n",
    "    \n",
    "    The n parameter refers to how many negative data points. If n is set to \n",
    "    None (default), then the number of negative data points = the number of positive\n",
    "    data points.\n",
    "    '''\n",
    "    num_flares = len(flare_data)\n",
    "    if n:\n",
    "        num_samples_per_datapoint = int(20 * n / num_flares)\n",
    "    else:\n",
    "        n = len(flare_data) * 5  # Pick a large number\n",
    "        num_samples_per_datapoint = 10 # Number of negative samples from each region\n",
    "    \n",
    "    def get_data_point(keys, flare_time):\n",
    "        '''Given the keys data and a flare time, returns a dictionary with SHARP\n",
    "        variables as keys, mapping each to the values corresponding to the harp_id.\n",
    "        The data is given for all data points num_hours before the flare_time.\n",
    "        '''\n",
    "        data_point = []\n",
    "        for i, time in enumerate(keys.TIME):\n",
    "            if time <= flare_time and time >= flare_time - num_hours:\n",
    "                data_point.append(keys.iloc[i])\n",
    "        if not data_point or data_point[-1]['TIME'] - data_point[0]['TIME'] < num_hours - 1:\n",
    "            return None\n",
    "        return data_point\n",
    "\n",
    "    def contains_nonflaring_24hrs(time_data, flare_data):\n",
    "        '''Given flaring data flare_data for an active region, returns True if the\n",
    "        flare_data contains a 24 hour period without flares, and False otherwise.\n",
    "        '''\n",
    "        previous_flare_time = time_data[0]\n",
    "        for flare_time in flare_data + time_data[0]:\n",
    "            if flare_time - previous_flare_time > num_hours:\n",
    "                return True\n",
    "            previous_flare_time = flare_time\n",
    "        return False\n",
    "\n",
    "    def get_random_flare_time(time_data, flare_data):\n",
    "        '''Returns a random valid flare time for the given time_data and flare_data.\n",
    "        This method ensures that there is no flaring in the num_hours before the\n",
    "        returned flare time.\n",
    "        '''\n",
    "        c = 0\n",
    "        while True:\n",
    "            c += 1\n",
    "            is_valid_before, does_flare = False, False\n",
    "            end_time = time_data[random.randrange(len(time_data))]\n",
    "            for flare_time in flare_data + [time_data[0]]:\n",
    "                if end_time - flare_time > num_hours: is_valid_before = True\n",
    "                if abs(end_time - flare_time) < num_hours: does_flare = True\n",
    "            if is_valid_before and not does_flare: break\n",
    "            if c > 200: return None\n",
    "        return end_time\n",
    "\n",
    "    x_data = []\n",
    "    y_data = []\n",
    "    harp_list = []\n",
    "    num_negative = 0\n",
    "\n",
    "    for harp_id in harp_ids:\n",
    "        keys = read_data(harp_id)\n",
    "        flare_data = flare_time_dict[harp_id]\n",
    "        if not flare_data: continue\n",
    "\n",
    "        # Positive samples\n",
    "        for flare_time in flare_data:\n",
    "            # Throw out flare data with less than num_hours hours of preceding data or\n",
    "            # data that has flare outside of the dataset since the data was cleaned in\n",
    "            # the downloading data section.\n",
    "            if flare_time - keys.TIME[0] < num_hours or flare_time > keys.TIME.iloc[-1]: continue\n",
    "            data_point = get_data_point(keys, flare_time)\n",
    "            if data_point:\n",
    "                harp_list.append(harp_id)\n",
    "                x_data.append(data_point)\n",
    "                y_data.append(True) # True => flare is present\n",
    "\n",
    "        # Negative samples\n",
    "        if num_negative >= n: continue\n",
    "        for _ in range(num_samples_per_datapoint):\n",
    "            if not contains_nonflaring_24hrs(keys.TIME, flare_data): break\n",
    "            flare_time = get_random_flare_time(keys.TIME, flare_data)\n",
    "            if not flare_time: break\n",
    "            data_point = get_data_point(keys, flare_time)\n",
    "            if not data_point: break\n",
    "\n",
    "            harp_list.append(harp_id)\n",
    "            x_data.append(data_point)\n",
    "            y_data.append(False) # False => flare is not present\n",
    "            num_negative += 1\n",
    "    if return_harp_ids:\n",
    "        return x_data, y_data, harp_list\n",
    "    else:\n",
    "        return x_data, y_data"
   ]
  },
  {
   "cell_type": "code",
   "execution_count": 103,
   "metadata": {},
   "outputs": [],
   "source": [
    "flare_time_dict = get_harp_id_to_flaring_times_dict(harp_ids, harp_noaa_dict, flare_data)"
   ]
  },
  {
   "cell_type": "code",
   "execution_count": null,
   "metadata": {},
   "outputs": [],
   "source": [
    "seg_x, seg_y, harp_list = get_segmented_data(harp_ids, flare_data, flare_time_dict,\n",
    "                                             n=4500, return_harp_ids=True)\n",
    "positive_count, negative_count = 0, 0\n",
    "for has_flare in seg_y:\n",
    "    if has_flare: positive_count += 1\n",
    "    else: negative_count += 1\n",
    "print('# Positive:', positive_count, '--- # Negative:', negative_count)"
   ]
  },
  {
   "cell_type": "markdown",
   "metadata": {},
   "source": [
    "Let's print the first couple terms of the first element of `seg_x` to get a good understanding of what the data looks like:"
   ]
  },
  {
   "cell_type": "code",
   "execution_count": 148,
   "metadata": {},
   "outputs": [
    {
     "name": "stdout",
     "output_type": "stream",
     "text": [
      "[index                        121\n",
      "TRUE_TIME    2010-05-03 16:36:00\n",
      "TIME                          26\n",
      "USFLUX                 5.217e+20\n",
      "MEANGAM                   30.896\n",
      "MEANGBT                  118.462\n",
      "MEANGBZ                  119.494\n",
      "MEANGBH                    45.12\n",
      "MEANJZD               -0.0636397\n",
      "TOTUSJZ              7.49646e+11\n",
      "MEANJZH              -0.00472015\n",
      "TOTUSJH                   33.182\n",
      "ABSNJZH                    3.861\n",
      "SAVNCPP              1.14898e+11\n",
      "MEANPOT                  2051.63\n",
      "TOTPOT               2.22877e+21\n",
      "MEANSHR                   24.309\n",
      "SHRGT45                    5.501\n",
      "R_VALUE                    2.358\n",
      "AREA_ACR                 19.6372\n",
      "Name: 121, dtype: object, index                        122\n",
      "TRUE_TIME    2010-05-03 16:48:00\n",
      "TIME                        26.2\n",
      "USFLUX               5.15725e+20\n",
      "MEANGAM                   34.583\n",
      "MEANGBT                  113.826\n",
      "MEANGBZ                  116.839\n",
      "MEANGBH                    45.51\n",
      "MEANJZD                -0.171338\n",
      "TOTUSJZ              7.10778e+11\n",
      "MEANJZH              -0.00544223\n",
      "TOTUSJH                   30.977\n",
      "ABSNJZH                    4.577\n",
      "SAVNCPP              1.76321e+11\n",
      "MEANPOT                  2167.05\n",
      "TOTPOT               2.42035e+21\n",
      "MEANSHR                    26.45\n",
      "SHRGT45                    7.729\n",
      "R_VALUE                    2.363\n",
      "AREA_ACR                 18.2257\n",
      "Name: 122, dtype: object]\n"
     ]
    }
   ],
   "source": [
    "print(seg_x[0][0:2])"
   ]
  },
  {
   "cell_type": "markdown",
   "metadata": {},
   "source": [
    "---\n",
    "## Plotting Variables over Time\n",
    "\n",
    "It is useful to create graphs in order to visually understand the relationship between variables over time.\n",
    "\n",
    "Below are many methods for creating different types of graphs. Many of the functions are flexible, allowing one to manipulate the graphs.\n",
    "\n",
    "First, let's import `matplotlib` methods useful for graphing:"
   ]
  },
  {
   "cell_type": "code",
   "execution_count": 26,
   "metadata": {},
   "outputs": [],
   "source": [
    "import matplotlib\n",
    "import matplotlib.pyplot as plt"
   ]
  },
  {
   "cell_type": "code",
   "execution_count": 27,
   "metadata": {},
   "outputs": [],
   "source": [
    "def plot_graph(x, y, x_label, y_label, title, clr=None, scatter=False,\n",
    "               line=None, vertical_lines=None, formula=None, label=None):\n",
    "    '''This method uses matplotlib to create a graph of x vs. y with many different\n",
    "    parameters to customize the graph. This method is a base method for many of the\n",
    "    other graphing methods.\n",
    "    '''\n",
    "    # Style elements\n",
    "    text_style = dict(fontsize=12, fontdict={'family': 'monospace'})\n",
    "\n",
    "    # Add data to graph\n",
    "    if scatter:\n",
    "        plt.scatter(x, y, color=clr, label=label, alpha=0.8, s=5)\n",
    "    else:\n",
    "        plot = plt.plot(x, y, '.', color=clr, linestyle=line, label=label)\n",
    "    \n",
    "    if vertical_lines:\n",
    "        for x_val in vertical_lines:\n",
    "            plt.axvline(x=x_val, color=clr)\n",
    "    plt.axhline(y=0, color='black', linewidth=1)\n",
    "    \n",
    "    if formula:\n",
    "        x_vals = np.array(x)\n",
    "        y_vals = formula(x_vals)\n",
    "        plt.plot(x, y_vals, color=clr)\n",
    "\n",
    "    # Label the axes and the plot\n",
    "    ax = plt.gca()\n",
    "    ax.tick_params(labelsize=12)\n",
    "    ax.set_xlabel(x_label, **text_style)\n",
    "    ax.set_ylabel(y_label, **text_style)\n",
    "    ax.set_title(title, **text_style)\n",
    "    if label: plt.legend()"
   ]
  },
  {
   "cell_type": "code",
   "execution_count": 28,
   "metadata": {},
   "outputs": [],
   "source": [
    "def plot_segmented_graphs(seg_x, seg_y, variables=['US_FLUX'], flare=True, n=5,\n",
    "                          color=None, delta=True, scale=False):\n",
    "    '''This method plots n random graphs that correspond to flaring active regions\n",
    "    if flare is True, and non-flaring active regions if flare is False.\n",
    "    If delta is True, it normalizes the graph (variables at time=0 are set to 0).\n",
    "    If scale is True, it normalizes the graph to be in the range [-1, 1].\n",
    "    '''\n",
    "    for _ in range(n):\n",
    "        i = random.randrange(len(seg_y))\n",
    "        while seg_y[i] != flare:\n",
    "            i = random.randrange(len(seg_y))\n",
    "        seg_data = seg_x[i]\n",
    "        for variable in variables:\n",
    "            x_data, y_data = [], []\n",
    "            start_data = seg_data[0][variable]\n",
    "            var_data = []\n",
    "            for data_pt in seg_data:\n",
    "                var_data.append(data_pt[variable])\n",
    "            if delta:\n",
    "                max_data = max(max(var_data - start_data),\n",
    "                                abs(min(var_data - start_data))) / 1e22\n",
    "            else:\n",
    "                max_data = max(max(var_data), abs(min(var_data))) / 1e22\n",
    "            for data_pt in seg_data:\n",
    "                x_data.append(data_pt['TIME'])\n",
    "                y_pt = data_pt[variable] / 1e22\n",
    "                if delta:\n",
    "                    y_pt -= start_data / 1e22\n",
    "                if scale:\n",
    "                    y_pt /= max_data\n",
    "                y_data.append(y_pt)\n",
    "            variable_names = map(lambda x : x.title().replace('_', ' '), variables)\n",
    "            plot_graph(x_data, y_data, 'Hours Since Active Region Detected',\n",
    "                        'Units relative to maximum value',\n",
    "                        ', '.join(variable_names) + ' vs. Time for Active Region',\n",
    "                        clr=color, label=variable)\n",
    "        plt.show()"
   ]
  },
  {
   "cell_type": "code",
   "execution_count": 251,
   "metadata": {},
   "outputs": [
    {
     "data": {
      "image/png": "[encoded data removed]",
      "text/plain": [
       "<Figure size 432x288 with 1 Axes>"
      ]
     },
     "metadata": {
      "needs_background": "light"
     },
     "output_type": "display_data"
    },
    {
     "data": {
      "image/png": "[encoded data removed]",
      "text/plain": [
       "<Figure size 432x288 with 1 Axes>"
      ]
     },
     "metadata": {
      "needs_background": "light"
     },
     "output_type": "display_data"
    }
   ],
   "source": [
    "num_graphs = 2\n",
    "plot_segmented_graphs(seg_x, seg_y, scale=True, flare=False, n=num_graphs,\n",
    "                      variables=['USFLUX', 'TOTPOT', 'AREA_ACR', 'R_VALUE'])"
   ]
  },
  {
   "cell_type": "markdown",
   "metadata": {},
   "source": [
    "---\n",
    "## Machine Learning"
   ]
  },
  {
   "cell_type": "markdown",
   "metadata": {},
   "source": [
    "(from [Wikipedia](https://en.wikipedia.org/wiki/Spearman%27s_rank_correlation_coefficient)): Spearman's correlation assesses monotonic relationships (whether linear or not). If there are no repeated data values, a perfect Spearman correlation of +1 or −1 occurs when each of the variables is a perfect monotone function of the other."
   ]
  },
  {
   "cell_type": "code",
   "execution_count": 30,
   "metadata": {},
   "outputs": [],
   "source": [
    "def calculate_spearman(seg_x, first_var, second_var):\n",
    "    '''Calculate the Spearman coefficient between two variables. This method calculates\n",
    "    the coefficient between the two variables for every time series data series, then\n",
    "    returns the mean and standard deviation of the coefficients.\n",
    "    '''\n",
    "    s_coeff_list = []\n",
    "    for data in seg_x:\n",
    "        first_var_data = []\n",
    "        second_var_data = []\n",
    "        for data_pt in data:\n",
    "            if not data_pt[first_var] or not data_pt[second_var]: continue\n",
    "            first_var_data.append(data_pt[first_var])\n",
    "            second_var_data.append(data_pt[second_var])\n",
    "        s_coeff = scipy.stats.spearmanr(first_var_data, second_var_data).correlation\n",
    "        if not math.isnan(s_coeff): s_coeff_list.append(s_coeff)\n",
    "    return np.mean(s_coeff_list), np.std(s_coeff_list)"
   ]
  },
  {
   "cell_type": "code",
   "execution_count": 31,
   "metadata": {},
   "outputs": [
    {
     "name": "stdout",
     "output_type": "stream",
     "text": [
      "S_coefficient for flux vs. TOTPOT. mean: 0.5053176303914982  std: 0.5138457680481834\n",
      "S_coefficient for flux vs. AREA_ACR. mean: 0.14301490487204768  std: 0.6348420482725762\n"
     ]
    }
   ],
   "source": [
    "for var in ['TOTPOT', 'AREA_ACR']:\n",
    "    s_coeff, s_dev = calculate_spearman(seg_x, 'USFLUX', var)\n",
    "    print('S_coefficient for flux vs.', var + '. mean:', s_coeff, ' std:', s_dev)"
   ]
  },
  {
   "cell_type": "code",
   "execution_count": 32,
   "metadata": {},
   "outputs": [],
   "source": [
    "def regression_helper(function, time_data, variable_data):\n",
    "    popt, _ = scipy.optimize.curve_fit(function, time_data, variable_data)\n",
    "    residuals = variable_data - function(time_data, *popt)\n",
    "    ss_res = np.sum(residuals ** 2)\n",
    "    ss_tot = np.sum((variable_data - np.mean(variable_data)) ** 2)\n",
    "    r_squared = 1 - (ss_res / ss_tot)\n",
    "    return popt, r_squared"
   ]
  },
  {
   "cell_type": "markdown",
   "metadata": {},
   "source": [
    "The following methods take `time_data` and some `variable_data`, then return different kinds of features based on the data."
   ]
  },
  {
   "cell_type": "code",
   "execution_count": 33,
   "metadata": {},
   "outputs": [],
   "source": [
    "def linear_features(time_data, variable_data, feature_names=False):\n",
    "    def f_linear(x, a, b):\n",
    "        return a * x + b\n",
    "    popt, r_squared = regression_helper(f_linear, time_data, variable_data)\n",
    "    if feature_names:\n",
    "        return np.array([*popt, r_squared]), ['slope', 'intercept', 'r^2_linear']\n",
    "    return np.array([*popt, r_squared])"
   ]
  },
  {
   "cell_type": "code",
   "execution_count": 34,
   "metadata": {},
   "outputs": [],
   "source": [
    "def exponential_features(time_data, variable_data, feature_names=False):\n",
    "    def f_exponential(x, a, b):\n",
    "        return a * b ** x\n",
    "    popt, r_squared = regression_helper(f_exponential, time_data, variable_data)\n",
    "    if feature_names:\n",
    "        return np.array([popt[1], r_squared]), ['exp_val', 'r^2_exp']\n",
    "    return np.array([popt[1], r_squared])"
   ]
  },
  {
   "cell_type": "code",
   "execution_count": 35,
   "metadata": {},
   "outputs": [],
   "source": [
    "def quadratic_features(time_data, variable_data, feature_names=False):\n",
    "    def f_quad(x, a, b, c):\n",
    "        return a * x ** 2 + b * x + c\n",
    "    popt, r_squared = regression_helper(f_quad, time_data, variable_data)\n",
    "    if feature_names:\n",
    "        return np.array([*popt, r_squared]), ['quad_1', 'quad_2', 'quad_3', 'r^2_quad']\n",
    "    return np.array([*popt, r_squared])"
   ]
  },
  {
   "cell_type": "code",
   "execution_count": 36,
   "metadata": {},
   "outputs": [],
   "source": [
    "def cubic_features(time_data, variable_data, feature_names=False):\n",
    "    def f_cubic(x, a, b, c, d):\n",
    "        return a * x ** 3 + b * x ** 2 + c * x + d\n",
    "    popt, r_squared = regression_helper(f_cubic, time_data, variable_data)\n",
    "    if feature_names:\n",
    "        return np.array([*popt, r_squared]), ['cube_1', 'cube_2', 'cube_3', 'cube_4', 'r^2_cube']\n",
    "    return np.array([*popt, r_squared])"
   ]
  },
  {
   "cell_type": "code",
   "execution_count": 406,
   "metadata": {},
   "outputs": [],
   "source": [
    "from scipy.interpolate import make_lsq_spline\n",
    "from scipy.interpolate import CubicSpline\n",
    "\n",
    "def spline_features(time_data, variable_data, feature_names=False):\n",
    "    elapsed_time = time_data[-1] - time_data[0]\n",
    "    t = [time_data[0] + elapsed_time / 4, time_data[0] + elapsed_time * 2 / 4,\n",
    "         time_data[0] + elapsed_time * 3 / 4]\n",
    "    k = 3\n",
    "    t = np.r_[(time_data[0],)*(k+1), t, (time_data[-1],)*(k+1)]\n",
    "    try:\n",
    "        formula = make_lsq_spline(time_data, variable_data, t, k)\n",
    "    except np.linalg.LinAlgError: # Not enough time data in each quadrant of the data\n",
    "        if feature_names: return None, None\n",
    "        return None\n",
    "    if feature_names:\n",
    "        return np.array(formula.c.flatten()), ['spline_1', 'spline_2', 'spline_3', 'spline_4',\n",
    "                                    'spline_5', 'spline_6', 'spline_7']\n",
    "    return np.array(formula.c.flatten())"
   ]
  },
  {
   "cell_type": "code",
   "execution_count": 38,
   "metadata": {},
   "outputs": [],
   "source": [
    "def discrete_features(time_data, variable_data, feature_names=False):\n",
    "    features = []\n",
    "    features.append(np.mean(variable_data))\n",
    "    features.append(np.std(variable_data))\n",
    "    if feature_names:\n",
    "        return features, ['mean', 'std']"
   ]
  },
  {
   "cell_type": "code",
   "execution_count": 39,
   "metadata": {},
   "outputs": [],
   "source": [
    "def extract_time_series_features(time_data, variable_data, features):\n",
    "    feature_list = np.array([])\n",
    "    feature_names = []\n",
    "    for feature in features:\n",
    "        # Each feature is a function\n",
    "        data, names = feature(time_data, variable_data, feature_names=True)\n",
    "        if data is None or not any(data): return [], []\n",
    "        feature_list = np.append(feature_list, data)\n",
    "        feature_names += names\n",
    "    return feature_list, feature_names"
   ]
  },
  {
   "cell_type": "code",
   "execution_count": 501,
   "metadata": {},
   "outputs": [],
   "source": [
    "def create_learning_dataset(seg_x, seg_y, variable, features):\n",
    "    '''Creates learning dataset with time series data.\n",
    "    '''\n",
    "    x_data, y_data = [], []\n",
    "    for i, data in enumerate(seg_x):\n",
    "        if len(data) < 4: continue\n",
    "        time_data, variable_data = [], []\n",
    "        for data_pt in data:\n",
    "            time_data.append(data_pt['TIME'])\n",
    "            if variable in ['USFLUX', 'TOTPOT']:\n",
    "                variable_data.append(data_pt[variable] / 1e22)\n",
    "            else:\n",
    "                variable_data.append(data_pt[variable])\n",
    "        time_data = np.array(time_data)\n",
    "        variable_data = np.array(variable_data)\n",
    "        if not any(variable_data): continue\n",
    "        series_data, names = extract_time_series_features(time_data, variable_data, features)\n",
    "        if not any(series_data): continue\n",
    "        x_data.append(series_data)\n",
    "        y_data.append(seg_y[i])\n",
    "    names = list(map(lambda x : variable + ' ' + x, names))\n",
    "    return x_data, y_data, names"
   ]
  },
  {
   "cell_type": "code",
   "execution_count": 604,
   "metadata": {},
   "outputs": [
    {
     "name": "stdout",
     "output_type": "stream",
     "text": [
      "Features used: ['USFLUX slope', 'USFLUX intercept', 'USFLUX r^2_linear']\n"
     ]
    }
   ],
   "source": [
    "features = [linear_features]\n",
    "raw_x_data = np.array([])\n",
    "y_data = []\n",
    "feature_names = []\n",
    "variables = ['USFLUX']\n",
    "for variable in variables:\n",
    "    x, y, names = create_learning_dataset(seg_x, seg_y, variable, features)\n",
    "    feature_names += names\n",
    "    if raw_x_data.size == 0: raw_x_data = np.array(x)\n",
    "    else: raw_x_data = np.hstack((raw_x_data, np.array(x)))\n",
    "    y_data = y\n",
    "print('Features used:', feature_names)"
   ]
  },
  {
   "cell_type": "code",
   "execution_count": 605,
   "metadata": {},
   "outputs": [],
   "source": [
    "from sklearn.preprocessing import MinMaxScaler\n",
    "\n",
    "def scale_x_data(x):\n",
    "    '''Method to scale each feature in the inputted x data to a range of 0 to 1.\n",
    "    Returns the scaled data.\n",
    "    '''\n",
    "    scaler = MinMaxScaler()\n",
    "    return scaler.fit_transform(x)"
   ]
  },
  {
   "cell_type": "code",
   "execution_count": 606,
   "metadata": {},
   "outputs": [
    {
     "name": "stdout",
     "output_type": "stream",
     "text": [
      "9057 9057\n"
     ]
    }
   ],
   "source": [
    "x_data = scale_x_data(raw_x_data)\n",
    "print(len(x_data), len(y_data))"
   ]
  },
  {
   "cell_type": "markdown",
   "metadata": {},
   "source": [
    "The following two methods are helper functions to help run machine learning algorithms."
   ]
  },
  {
   "cell_type": "code",
   "execution_count": 607,
   "metadata": {},
   "outputs": [],
   "source": [
    "from sklearn.model_selection import train_test_split\n",
    "\n",
    "def fit_algorithm(clf, x, y, n=1):\n",
    "    '''This method will fit the given classifier clf to the input x, y data\n",
    "    and will return the training and test accuracy of the model.\n",
    "    This method will randomize the train/test split n number of times and will\n",
    "    return the average train/test accuracy.\n",
    "    '''\n",
    "    avg_train, avg_test = 0, 0\n",
    "    for _ in range(n):\n",
    "        x_train, x_test, y_train, y_test = train_test_split(x, y, test_size=0.25)\n",
    "        clf.fit(x_train, y_train)\n",
    "        avg_train += clf.score(x_train, y_train)\n",
    "        avg_test += clf.score(x_test, y_test)\n",
    "    return avg_train / n, avg_test / n"
   ]
  },
  {
   "cell_type": "code",
   "execution_count": 608,
   "metadata": {},
   "outputs": [],
   "source": [
    "def print_info(clf, x, y, algorithm_name, best_accuracy=0, best_algorithm=None):\n",
    "    '''This method streamlines the code required to fit the given clf to the \n",
    "    model, as well as print out important statistics. This method returns the new\n",
    "    best algorithm and best accuracy, based on the test accuracy.\n",
    "    '''\n",
    "    print(algorithm_name + ':')\n",
    "    train_accuracy, test_accuracy = fit_algorithm(clf, x, y, 50)\n",
    "    print('> Train accuracy:', train_accuracy)\n",
    "    print('> Test accuracy:', test_accuracy)\n",
    "    result_vals_dict = {'TP': 0, 'FP': 0, 'TN': 0, 'FN':0}\n",
    "    for i, data_pt in enumerate(x):\n",
    "        prediction = clf.predict([data_pt])\n",
    "        if prediction == y[i]:\n",
    "            if prediction == 1:\n",
    "                result_vals_dict['TP'] += 1\n",
    "            else:\n",
    "                result_vals_dict['TN'] += 1\n",
    "        else:\n",
    "            if prediction == 1:\n",
    "                result_vals_dict['FP'] += 1\n",
    "            else:\n",
    "                result_vals_dict['FN'] += 1\n",
    "    precision = result_vals_dict['TP'] / (result_vals_dict['TP'] + result_vals_dict['FP'] + 1)\n",
    "    recall = result_vals_dict['TP'] / (result_vals_dict['TP'] + result_vals_dict['FN'] + 1)\n",
    "    tss_score = recall - result_vals_dict['FP'] / (result_vals_dict['FP'] + result_vals_dict['TN'])\n",
    "    print('> Precision:', precision)\n",
    "    print('> Recall:', recall)\n",
    "    print('> TSS Score:', tss_score)\n",
    "    if test_accuracy > best_accuracy:\n",
    "        best_accuracy = test_accuracy\n",
    "        best_algorithm = algorithm_name\n",
    "    return best_algorithm, best_accuracy"
   ]
  },
  {
   "cell_type": "markdown",
   "metadata": {},
   "source": [
    "## Different Classification Algorithms and Their Pros and Cons\n",
    "\n",
    "1. Suppport Vector Machines (SVMs)\n",
    "  * SVMs work by constructing hyper-planes in higher dimensional space. This can be used for classification by maximizing the distance between the hyper-plane and the training data of any class.\n",
    "  * This is a good choice because it is a versatile classification algorithm.\n",
    "2. Stochastic Gradient Descent\n",
    "  * Creates a linear classifier to minimize loss.\n",
    "  * Less versatile than SVMs (this should not be an issue for the binary classification, however).\n",
    "  * Scikitlearn has the following built-in loss functions: hinge loss, modified Huber, and logistic.\n",
    "3. Multi-layer Perceptron\n",
    "  * Can learn non-linear models.\n",
    "  * Doesn't necessarily find global optimum: different initial weights can alter validation accuracy.\n",
    "  * Needs tweaking of hyperparameters such as the number of hidden neurons, layers, and iterations to work well.\n",
    "4. AdaBoost (Boosting algorithm)\n",
    "  * Principle is to combine many weak learners to create one strong model.\n",
    "  * Each weak learner concentrates on the examples that are missed by the previous learners.\n",
    "5. Random Forest\n",
    "  * Each tree is built from a random sample of the total data (with replacement).\n",
    "  * This tends to reduce the overall bias."
   ]
  },
  {
   "cell_type": "markdown",
   "metadata": {},
   "source": [
    "Let's import all the learning algorithms we need from the scikit learn library:"
   ]
  },
  {
   "cell_type": "code",
   "execution_count": 609,
   "metadata": {},
   "outputs": [],
   "source": [
    "from sklearn.svm import SVC\n",
    "from sklearn.linear_model import SGDClassifier\n",
    "from sklearn.ensemble import AdaBoostClassifier\n",
    "from sklearn.neural_network import MLPClassifier\n",
    "from sklearn.ensemble import RandomForestClassifier"
   ]
  },
  {
   "cell_type": "code",
   "execution_count": 610,
   "metadata": {},
   "outputs": [],
   "source": [
    "def run_learning_algorithms(x, y):\n",
    "    '''This method runs different machine learning (ML) algorithms and prints \n",
    "    statements indicated the accuracy, finally printing the best overall algorithm \n",
    "    in terms of test accuracy.\n",
    "    \n",
    "    Current ML algorithms:\n",
    "        Support Vector Machine\n",
    "        Stochastic Gradient Descent\n",
    "        Multi-layer Perceptron\n",
    "        AdaBoost\n",
    "        Random Forest\n",
    "    '''\n",
    "    best_accuracy = 0\n",
    "    best_algorithm = None\n",
    "\n",
    "    #algorithm_name = 'Support Vector Machine'\n",
    "    #clf = SVC(gamma='scale')\n",
    "    #best_algorithm, best_accuracy = print_info(clf, x, y, algorithm_name, best_accuracy, best_algorithm)\n",
    "    #print('>', clf.support_vectors_, '\\n')\n",
    "\n",
    "    algorithm_name = 'Stochastic Gradient Descent'\n",
    "    clf = SGDClassifier(loss='hinge', penalty='l2')\n",
    "    best_algorithm, best_accuracy = print_info(clf, x, y, algorithm_name, best_accuracy, best_algorithm)\n",
    "    print('>', clf.coef_, '\\n')\n",
    "\n",
    "    #algorithm_name = 'Multi-layer Perceptron'\n",
    "    #clf = MLPClassifier(max_iter=500)\n",
    "    #best_algorithm, best_accuracy = print_info(clf, x, y, algorithm_name, best_accuracy, best_algorithm)\n",
    "    #print('>', clf.loss_, '\\n')\n",
    "\n",
    "    algorithm_name = 'AdaBoost'\n",
    "    clf = AdaBoostClassifier(n_estimators=25, random_state=0)\n",
    "    best_algorithm, best_accuracy = print_info(clf, x, y, algorithm_name, best_accuracy, best_algorithm)\n",
    "    print('>', clf.feature_importances_, '\\n')\n",
    "\n",
    "    algorithm_name = 'Random Forest'\n",
    "    clf = RandomForestClassifier(n_estimators=25, max_depth=2, random_state=0)\n",
    "    best_algorithm, best_accuracy = print_info(clf, x, y, algorithm_name, best_accuracy, best_algorithm)\n",
    "    print('>', clf.feature_importances_, '\\n')\n",
    "\n",
    "    print('The best algorithm is', best_algorithm, 'with a test accuracy of', best_accuracy)"
   ]
  },
  {
   "cell_type": "code",
   "execution_count": 611,
   "metadata": {
    "scrolled": true
   },
   "outputs": [
    {
     "name": "stdout",
     "output_type": "stream",
     "text": [
      "Stochastic Gradient Descent:\n",
      "> Train accuracy: 0.6630859835100115\n",
      "> Test accuracy: 0.6625253863134658\n",
      "> Precision: 0.8403275332650972\n",
      "> Recall: 0.3607998242144584\n",
      "> TSS Score: 0.2917960523040967\n",
      "> [[22.778933   22.49129729  0.46595278]] \n",
      "\n",
      "AdaBoost:\n",
      "> Train accuracy: 0.7382214369846881\n",
      "> Test accuracy: 0.7302163355408388\n",
      "> Precision: 0.7546723444523302\n",
      "> Recall: 0.7009448472863107\n",
      "> TSS Score: 0.47108019230517023\n",
      "> [0.48 0.44 0.08] \n",
      "\n",
      "Random Forest:\n",
      "> Train accuracy: 0.6446967020023557\n",
      "> Test accuracy: 0.6369183222958058\n",
      "> Precision: 0.7789431222267044\n",
      "> Recall: 0.4243023511316194\n",
      "> TSS Score: 0.30293558831821804\n",
      "> [0.49370552 0.40382155 0.10247293] \n",
      "\n",
      "The best algorithm is AdaBoost with a test accuracy of 0.7302163355408388\n"
     ]
    }
   ],
   "source": [
    "run_learning_algorithms(x_data, y_data)"
   ]
  },
  {
   "cell_type": "code",
   "execution_count": 644,
   "metadata": {},
   "outputs": [],
   "source": [
    "def graph_features(x, y, feature_names, max_num_graphs=float('inf')):\n",
    "    '''Given the feature data as x, this function will graph features versus each other.\n",
    "    Different outputs in y will be displayed in different colors. The function will graph\n",
    "    every combination of features, and print them.\n",
    "    '''\n",
    "    single_feature_vectors = [[] for _ in range(len(x[0]))]\n",
    "    colors = []\n",
    "    color_map = {True: 'r', False: 'b'}\n",
    "    for i, data_pt in enumerate(x):\n",
    "        colors.append(color_map[y[i]])\n",
    "        for j in range(len(data_pt)):\n",
    "            single_feature_vectors[j].append(data_pt[j])\n",
    "    count = 0\n",
    "    for i in range(len(x[0])):\n",
    "        for j in range(i + 1, len(x[0])):\n",
    "            count += 1\n",
    "            plot_graph(single_feature_vectors[i], single_feature_vectors[j],\n",
    "                       feature_names[i], feature_names[j],\n",
    "                       feature_names[i] + ' vs. ' + feature_names[j],\n",
    "                       clr=colors, scatter=True)\n",
    "            plt.show()\n",
    "            if count >= max_num_graphs: break\n",
    "        if count >= max_num_graphs: break"
   ]
  },
  {
   "cell_type": "code",
   "execution_count": 645,
   "metadata": {},
   "outputs": [
    {
     "data": {
      "image/png": "[encoded data removed]",
      "text/plain": [
       "<Figure size 432x288 with 1 Axes>"
      ]
     },
     "metadata": {
      "needs_background": "light"
     },
     "output_type": "display_data"
    },
    {
     "data": {
      "image/png": "[encoded data removed]",
      "text/plain": [
       "<Figure size 432x288 with 1 Axes>"
      ]
     },
     "metadata": {
      "needs_background": "light"
     },
     "output_type": "display_data"
    },
    {
     "data": {
      "image/png": "[encoded data removed]",
      "text/plain": [
       "<Figure size 432x288 with 1 Axes>"
      ]
     },
     "metadata": {
      "needs_background": "light"
     },
     "output_type": "display_data"
    }
   ],
   "source": [
    "graph_features(x_data, y_data, feature_names)"
   ]
  },
  {
   "cell_type": "markdown",
   "metadata": {},
   "source": [
    "---\n",
    "## Plotting Metadata"
   ]
  },
  {
   "cell_type": "markdown",
   "metadata": {},
   "source": [
    "In this section, I will include a few functions for graphing the results outputted from the machine learning modeling. Specifically, there is a method to understand the relationship between lag time and accuracy and a method to understand the importance of the coefficients in the models as lag time changes.\n",
    "\n",
    "The following two functions are used to get run the algorithms to get the data ready to be plotted and analyzed:"
   ]
  },
  {
   "cell_type": "code",
   "execution_count": 612,
   "metadata": {},
   "outputs": [],
   "source": [
    "def lag_vs_accuracy_data(harp_ids, flare_time_dict, seg_x, seg_y, hour_range=range(2, 25),\n",
    "                         ada=False, tss=False, features=[spline_features],\n",
    "                         variables=['USFLUX', 'TOTPOT', 'AREA_ACR', 'R_VALUE']):\n",
    "    '''This function outputs lag time vs coefficient data in the form of a dictionary.\n",
    "    The dictionary keys are the variables in the variables parameter, and the values are\n",
    "    a list of three-tuples (lag time, accuracy, accuracy error) for all lag times in the\n",
    "    hour_range parameter. Note: the model is trained on a single variable with the learning\n",
    "    algorithm, so there will be len(variables) separate data series.\n",
    "    \n",
    "    This function normalizes the data before learning by ensuring that the data at the\n",
    "    beginning of the time series is set to zero. This makes sure that the algorithm learns\n",
    "    on time series instead of discrete features.\n",
    "\n",
    "    By default, the function will return accuracy data (i.e. accuracy over time). If tss is\n",
    "    set to true, it will return TSS data instead of accuracy data.\n",
    "\n",
    "    The default model used is stochastic gradient descent. If the ada parameter is set to\n",
    "    True, then an AdaBoost model will be used instead.\n",
    "\n",
    "    This function takes harp_ids, flare_time_dict, seg_x, and seg_y as inputs.\n",
    "\n",
    "    Note: The default range does not include hour 1. This is by design: for many of the\n",
    "    fitting features such as spline_features and cubic_features, it does not make sense to\n",
    "    fit on one hour (i.e. 5 data points) of data.\n",
    "    '''\n",
    "    data_dict = {}\n",
    "    for variable in variables: data_dict[variable] = [] # List of (time, accuracy, error)\n",
    "\n",
    "    # Preprocessing to ensure that all the values in new_seg_x are floats (not strings)\n",
    "    new_seg_x = []\n",
    "    for data in seg_x:\n",
    "        def map_to_float(series):\n",
    "            '''Function to map the elements of a series to floats.'''\n",
    "            def to_float(x):\n",
    "                '''Converts x to float unless x is a timestamp.'''\n",
    "                if type(x) is pandas.Timestamp: return x\n",
    "                return float(x)\n",
    "            return series.map(to_float)\n",
    "        new_seg_x.append(list(map(map_to_float, data)))\n",
    "\n",
    "    for lag in hour_range:\n",
    "        modified_seg_x = []\n",
    "        # Convert data into difference data\n",
    "        for data in new_seg_x:\n",
    "            end_time = data[-1]['TIME']\n",
    "            for i, point in enumerate(data):\n",
    "                if end_time - point['TIME'] < lag:\n",
    "                    data_tail = data[i:]\n",
    "                    data_tail = list(map(lambda x : x - data_tail[0], data_tail))\n",
    "                    modified_seg_x.append(data_tail)\n",
    "                    break\n",
    "        lag_time = round(modified_seg_x[0][-1]['TIME'] - modified_seg_x[0][0]['TIME'])\n",
    "        for variable in variables:\n",
    "            # Get data ready for model\n",
    "            x, y_data, feature_names = create_learning_dataset(modified_seg_x, seg_y, variable, features)\n",
    "            raw_x_data = np.array(x)\n",
    "            x_data = scale_x_data(raw_x_data)\n",
    "            assert(len(x_data) == len(y_data))\n",
    "\n",
    "            # Run model n times, and take the standard deviation to determine the error\n",
    "            n = 100\n",
    "            if ada: clf = AdaBoostClassifier(n_estimators=25, random_state=0)\n",
    "            else: clf = SGDClassifier(loss='hinge', penalty='l2')\n",
    "            accuracies = []\n",
    "            for _ in range(n):\n",
    "                x_train, x_test, y_train, y_test = train_test_split(x_data, y_data, test_size=0.25)\n",
    "                clf.fit(x_train, y_train)\n",
    "                TP, TN, FP, FN = 0, 0, 0, 0\n",
    "                for i, data_pt in enumerate(x_test):\n",
    "                    prediction = clf.predict([data_pt])\n",
    "                    if prediction == y_test[i]:\n",
    "                        if prediction: TP += 1\n",
    "                        else: TN += 1\n",
    "                    else:\n",
    "                        if prediction: FP += 1\n",
    "                        else: FN += 1\n",
    "                if tss:\n",
    "                    accuracies.append(TP/(TP+FN) - FP/(FP+TN))\n",
    "                else:\n",
    "                    accuracies.append((TP + TN)/(TP + TN + FP + FN))\n",
    "            print(np.mean(accuracies))\n",
    "            mean_var = np.mean(accuracies)\n",
    "            var_error = np.std(accuracies)\n",
    "            data_dict[variable].append((lag_time, mean_var, var_error))\n",
    "    return data_dict"
   ]
  },
  {
   "cell_type": "markdown",
   "metadata": {},
   "source": [
    "We want to create lag vs. accuracy graphs for every SHARP variable (except time; QUERY_VARIABLES includes a `time` variable as its first element):"
   ]
  },
  {
   "cell_type": "code",
   "execution_count": 614,
   "metadata": {},
   "outputs": [
    {
     "name": "stdout",
     "output_type": "stream",
     "text": [
      "['USFLUX', 'MEANGAM', 'MEANGBT', 'MEANGBZ', 'MEANGBH', 'MEANJZD', 'TOTUSJZ', 'MEANJZH', 'TOTUSJH', 'ABSNJZH', 'SAVNCPP', 'MEANPOT', 'TOTPOT', 'MEANSHR', 'SHRGT45', 'R_VALUE', 'AREA_ACR']\n"
     ]
    }
   ],
   "source": [
    "print(QUERY_VARIABLES.split(',')[1:])"
   ]
  },
  {
   "cell_type": "code",
   "execution_count": null,
   "metadata": {},
   "outputs": [],
   "source": [
    "accuracy_data_dict = lag_vs_accuracy_data(harp_ids, flare_time_dict, seg_x, seg_y,\n",
    "                                          ada=False, variables=QUERY_VARIABLES.split(',')[1:])"
   ]
  },
  {
   "cell_type": "code",
   "execution_count": 638,
   "metadata": {},
   "outputs": [],
   "source": [
    "def lag_vs_coefficient_data(harp_ids, flare_time_dict, seg_x, seg_y, hour_range=range(2, 25),\n",
    "                            ada=False, features=[spline_features],\n",
    "                            f_score=False, variables=['USFLUX']):\n",
    "    '''This function outputs data of lag time vs. coefficient values for a machine learning\n",
    "    fit. This allows one to see how the relative importance of coefficients changes over time.\n",
    "    The function returns two lists: coef_data, which is the values of the coefficients at each\n",
    "    timestep, and time_data, which specifies the timesteps.\n",
    "\n",
    "    This function also has a f_score parameter. When this is set to true, the coefficient data\n",
    "    will be the ANOVA F-value computed for each feature for the data. By default this is false,\n",
    "    and the function returns the parameters of the machine learning fit.\n",
    "\n",
    "    (The paragraphs below are identical to lag_vs_accuracy_data)\n",
    "    The default model used is stochastic gradient descent. If the ada parameter is set to\n",
    "    True, then an AdaBoost model will be used instead.\n",
    "\n",
    "    This function takes harp_ids, flare_time_dict, seg_x, and seg_y as inputs.\n",
    "\n",
    "    Note: The default range does not include hour 1. This is by design: for many of the\n",
    "    fitting features such as spline_features and cubic_features, it does not make sense to\n",
    "    fit on one hour (i.e. 5 data points) of data.\n",
    "    '''\n",
    "    coef_data = {}\n",
    "    time_data = []\n",
    "    for variable in variables: coef_data[variable] = []\n",
    "\n",
    "    # Preprocessing to ensure that all the values in new_seg_x are floats (not strings)\n",
    "    new_seg_x = []\n",
    "    for data in seg_x:\n",
    "        def map_to_float(series):\n",
    "            '''Function to map the elements of a series to floats.'''\n",
    "            def to_float(x):\n",
    "                '''Converts x to float unless x is a timestamp.'''\n",
    "                if type(x) is pandas.Timestamp: return x\n",
    "                return float(x)\n",
    "            return series.map(to_float)\n",
    "        new_seg_x.append(list(map(map_to_float, data)))\n",
    "\n",
    "    for lag in hour_range:\n",
    "        modified_seg_x = []\n",
    "        # Take time off of the start\n",
    "        for data in new_seg_x:\n",
    "            end_time = data[-1]['TIME']\n",
    "            for i, point in enumerate(data):\n",
    "                if end_time - point['TIME'] < lag:\n",
    "                    data_tail = data[i:]\n",
    "                    data_tail = list(map(lambda x : x - data_tail[0], data_tail))\n",
    "                    modified_seg_x.append(data_tail)\n",
    "                    break\n",
    "        lag_time = round(modified_seg_x[0][-1]['TIME'] - modified_seg_x[0][0]['TIME'])\n",
    "        time_data.append(lag_time)\n",
    "        for variable in variables:\n",
    "            x, y_data, feature_names = create_learning_dataset(modified_seg_x, seg_y, variable, features)\n",
    "            raw_x_data = np.array(x)\n",
    "            x_data = scale_x_data(raw_x_data)\n",
    "            assert(len(x_data) == len(y_data))\n",
    "\n",
    "            # ANOVA F-value does not depend on a machine learning algorithm, so we can save\n",
    "            # time by not running the ML fit if f_score is True\n",
    "            if f_score:\n",
    "                selector = SelectKBest(f_classif, k='all')\n",
    "                selector.fit(x_data, y_data)\n",
    "                scores = selector.scores_\n",
    "                order = np.argsort(selector.scores_)\n",
    "                ordered_scores = list(map(lambda x : scores[x], order))\n",
    "                coef_data.append(ordered_scores)\n",
    "                continue\n",
    "\n",
    "            # Run model n times, and take the standard deviation to determine the error\n",
    "            n = 10\n",
    "            if ada: clf = AdaBoostClassifier(n_estimators=25, random_state=0)\n",
    "            else: clf = SGDClassifier(loss='hinge', penalty='l2')\n",
    "            coefs = []\n",
    "            for _ in range(n):\n",
    "                _, test_accuracy = fit_algorithm(clf, x_data, y_data, 1)\n",
    "                if ada: coefs.append(clf.feature_importances_)\n",
    "                else: coefs.append(clf.coef_[0])\n",
    "            coef_data[variable].append(sum(coefs) / len(coefs)) # Average coefficients\n",
    "    return coef_data, time_data"
   ]
  },
  {
   "cell_type": "code",
   "execution_count": 639,
   "metadata": {
    "scrolled": true
   },
   "outputs": [],
   "source": [
    "coef_data, time_data = lag_vs_coefficient_data(harp_ids, flare_time_dict, seg_x, seg_y,\n",
    "                                               variables=QUERY_VARIABLES.split(',')[1:])"
   ]
  },
  {
   "cell_type": "markdown",
   "metadata": {},
   "source": [
    "First, let's import methods from the `bokeh` graphing module that we will use to plot data."
   ]
  },
  {
   "cell_type": "code",
   "execution_count": 172,
   "metadata": {},
   "outputs": [
    {
     "data": {
      "text/html": [
       "\n",
       "    <div class=\"bk-root\">\n",
       "        <a href=\"https://bokeh.pydata.org\" target=\"_blank\" class=\"bk-logo bk-logo-small bk-logo-notebook\"></a>\n",
       "        <span id=\"1002\">Loading BokehJS ...</span>\n",
       "    </div>"
      ]
     },
     "metadata": {},
     "output_type": "display_data"
    },
    {
     "data": {
      "application/javascript": [
       "\n",
       "(function(root) {\n",
       "  function now() {\n",
       "    return new Date();\n",
       "  }\n",
       "\n",
       "  var force = true;\n",
       "\n",
       "  if (typeof root._bokeh_onload_callbacks === \"undefined\" || force === true) {\n",
       "    root._bokeh_onload_callbacks = [];\n",
       "    root._bokeh_is_loading = undefined;\n",
       "  }\n",
       "\n",
       "  var JS_MIME_TYPE = 'application/javascript';\n",
       "  var HTML_MIME_TYPE = 'text/html';\n",
       "  var EXEC_MIME_TYPE = 'application/vnd.bokehjs_exec.v0+json';\n",
       "  var CLASS_NAME = 'output_bokeh rendered_html';\n",
       "\n",
       "  /**\n",
       "   * Render data to the DOM node\n",
       "   */\n",
       "  function render(props, node) {\n",
       "    var script = document.createElement(\"script\");\n",
       "    node.appendChild(script);\n",
       "  }\n",
       "\n",
       "  /**\n",
       "   * Handle when an output is cleared or removed\n",
       "   */\n",
       "  function handleClearOutput(event, handle) {\n",
       "    var cell = handle.cell;\n",
       "\n",
       "    var id = cell.output_area._bokeh_element_id;\n",
       "    var server_id = cell.output_area._bokeh_server_id;\n",
       "    // Clean up Bokeh references\n",
       "    if (id != null && id in Bokeh.index) {\n",
       "      Bokeh.index[id].model.document.clear();\n",
       "      delete Bokeh.index[id];\n",
       "    }\n",
       "\n",
       "    if (server_id !== undefined) {\n",
       "      // Clean up Bokeh references\n",
       "      var cmd = \"from bokeh.io.state import curstate; print(curstate().uuid_to_server['\" + server_id + \"'].get_sessions()[0].document.roots[0]._id)\";\n",
       "      cell.notebook.kernel.execute(cmd, {\n",
       "        iopub: {\n",
       "          output: function(msg) {\n",
       "            var id = msg.content.text.trim();\n",
       "            if (id in Bokeh.index) {\n",
       "              Bokeh.index[id].model.document.clear();\n",
       "              delete Bokeh.index[id];\n",
       "            }\n",
       "          }\n",
       "        }\n",
       "      });\n",
       "      // Destroy server and session\n",
       "      var cmd = \"import bokeh.io.notebook as ion; ion.destroy_server('\" + server_id + \"')\";\n",
       "      cell.notebook.kernel.execute(cmd);\n",
       "    }\n",
       "  }\n",
       "\n",
       "  /**\n",
       "   * Handle when a new output is added\n",
       "   */\n",
       "  function handleAddOutput(event, handle) {\n",
       "    var output_area = handle.output_area;\n",
       "    var output = handle.output;\n",
       "\n",
       "    // limit handleAddOutput to display_data with EXEC_MIME_TYPE content only\n",
       "    if ((output.output_type != \"display_data\") || (!output.data.hasOwnProperty(EXEC_MIME_TYPE))) {\n",
       "      return\n",
       "    }\n",
       "\n",
       "    var toinsert = output_area.element.find(\".\" + CLASS_NAME.split(' ')[0]);\n",
       "\n",
       "    if (output.metadata[EXEC_MIME_TYPE][\"id\"] !== undefined) {\n",
       "      toinsert[toinsert.length - 1].firstChild.textContent = output.data[JS_MIME_TYPE];\n",
       "      // store reference to embed id on output_area\n",
       "      output_area._bokeh_element_id = output.metadata[EXEC_MIME_TYPE][\"id\"];\n",
       "    }\n",
       "    if (output.metadata[EXEC_MIME_TYPE][\"server_id\"] !== undefined) {\n",
       "      var bk_div = document.createElement(\"div\");\n",
       "      bk_div.innerHTML = output.data[HTML_MIME_TYPE];\n",
       "      var script_attrs = bk_div.children[0].attributes;\n",
       "      for (var i = 0; i < script_attrs.length; i++) {\n",
       "        toinsert[toinsert.length - 1].firstChild.setAttribute(script_attrs[i].name, script_attrs[i].value);\n",
       "      }\n",
       "      // store reference to server id on output_area\n",
       "      output_area._bokeh_server_id = output.metadata[EXEC_MIME_TYPE][\"server_id\"];\n",
       "    }\n",
       "  }\n",
       "\n",
       "  function register_renderer(events, OutputArea) {\n",
       "\n",
       "    function append_mime(data, metadata, element) {\n",
       "      // create a DOM node to render to\n",
       "      var toinsert = this.create_output_subarea(\n",
       "        metadata,\n",
       "        CLASS_NAME,\n",
       "        EXEC_MIME_TYPE\n",
       "      );\n",
       "      this.keyboard_manager.register_events(toinsert);\n",
       "      // Render to node\n",
       "      var props = {data: data, metadata: metadata[EXEC_MIME_TYPE]};\n",
       "      render(props, toinsert[toinsert.length - 1]);\n",
       "      element.append(toinsert);\n",
       "      return toinsert\n",
       "    }\n",
       "\n",
       "    /* Handle when an output is cleared or removed */\n",
       "    events.on('clear_output.CodeCell', handleClearOutput);\n",
       "    events.on('delete.Cell', handleClearOutput);\n",
       "\n",
       "    /* Handle when a new output is added */\n",
       "    events.on('output_added.OutputArea', handleAddOutput);\n",
       "\n",
       "    /**\n",
       "     * Register the mime type and append_mime function with output_area\n",
       "     */\n",
       "    OutputArea.prototype.register_mime_type(EXEC_MIME_TYPE, append_mime, {\n",
       "      /* Is output safe? */\n",
       "      safe: true,\n",
       "      /* Index of renderer in `output_area.display_order` */\n",
       "      index: 0\n",
       "    });\n",
       "  }\n",
       "\n",
       "  // register the mime type if in Jupyter Notebook environment and previously unregistered\n",
       "  if (root.Jupyter !== undefined) {\n",
       "    var events = require('base/js/events');\n",
       "    var OutputArea = require('notebook/js/outputarea').OutputArea;\n",
       "\n",
       "    if (OutputArea.prototype.mime_types().indexOf(EXEC_MIME_TYPE) == -1) {\n",
       "      register_renderer(events, OutputArea);\n",
       "    }\n",
       "  }\n",
       "\n",
       "  \n",
       "  if (typeof (root._bokeh_timeout) === \"undefined\" || force === true) {\n",
       "    root._bokeh_timeout = Date.now() + 5000;\n",
       "    root._bokeh_failed_load = false;\n",
       "  }\n",
       "\n",
       "  var NB_LOAD_WARNING = {'data': {'text/html':\n",
       "     \"<div style='background-color: #fdd'>\\n\"+\n",
       "     \"<p>\\n\"+\n",
       "     \"BokehJS does not appear to have successfully loaded. If loading BokehJS from CDN, this \\n\"+\n",
       "     \"may be due to a slow or bad network connection. Possible fixes:\\n\"+\n",
       "     \"</p>\\n\"+\n",
       "     \"<ul>\\n\"+\n",
       "     \"<li>re-rerun `output_notebook()` to attempt to load from CDN again, or</li>\\n\"+\n",
       "     \"<li>use INLINE resources instead, as so:</li>\\n\"+\n",
       "     \"</ul>\\n\"+\n",
       "     \"<code>\\n\"+\n",
       "     \"from bokeh.resources import INLINE\\n\"+\n",
       "     \"output_notebook(resources=INLINE)\\n\"+\n",
       "     \"</code>\\n\"+\n",
       "     \"</div>\"}};\n",
       "\n",
       "  function display_loaded() {\n",
       "    var el = document.getElementById(\"1002\");\n",
       "    if (el != null) {\n",
       "      el.textContent = \"BokehJS is loading...\";\n",
       "    }\n",
       "    if (root.Bokeh !== undefined) {\n",
       "      if (el != null) {\n",
       "        el.textContent = \"BokehJS \" + root.Bokeh.version + \" successfully loaded.\";\n",
       "      }\n",
       "    } else if (Date.now() < root._bokeh_timeout) {\n",
       "      setTimeout(display_loaded, 100)\n",
       "    }\n",
       "  }\n",
       "\n",
       "\n",
       "  function run_callbacks() {\n",
       "    try {\n",
       "      root._bokeh_onload_callbacks.forEach(function(callback) {\n",
       "        if (callback != null)\n",
       "          callback();\n",
       "      });\n",
       "    } finally {\n",
       "      delete root._bokeh_onload_callbacks\n",
       "    }\n",
       "    console.debug(\"Bokeh: all callbacks have finished\");\n",
       "  }\n",
       "\n",
       "  function load_libs(css_urls, js_urls, callback) {\n",
       "    if (css_urls == null) css_urls = [];\n",
       "    if (js_urls == null) js_urls = [];\n",
       "\n",
       "    root._bokeh_onload_callbacks.push(callback);\n",
       "    if (root._bokeh_is_loading > 0) {\n",
       "      console.debug(\"Bokeh: BokehJS is being loaded, scheduling callback at\", now());\n",
       "      return null;\n",
       "    }\n",
       "    if (js_urls == null || js_urls.length === 0) {\n",
       "      run_callbacks();\n",
       "      return null;\n",
       "    }\n",
       "    console.debug(\"Bokeh: BokehJS not loaded, scheduling load and callback at\", now());\n",
       "    root._bokeh_is_loading = css_urls.length + js_urls.length;\n",
       "\n",
       "    function on_load() {\n",
       "      root._bokeh_is_loading--;\n",
       "      if (root._bokeh_is_loading === 0) {\n",
       "        console.debug(\"Bokeh: all BokehJS libraries/stylesheets loaded\");\n",
       "        run_callbacks()\n",
       "      }\n",
       "    }\n",
       "\n",
       "    function on_error() {\n",
       "      console.error(\"failed to load \" + url);\n",
       "    }\n",
       "\n",
       "    for (var i = 0; i < css_urls.length; i++) {\n",
       "      var url = css_urls[i];\n",
       "      const element = document.createElement(\"link\");\n",
       "      element.onload = on_load;\n",
       "      element.onerror = on_error;\n",
       "      element.rel = \"stylesheet\";\n",
       "      element.type = \"text/css\";\n",
       "      element.href = url;\n",
       "      console.debug(\"Bokeh: injecting link tag for BokehJS stylesheet: \", url);\n",
       "      document.body.appendChild(element);\n",
       "    }\n",
       "\n",
       "    for (var i = 0; i < js_urls.length; i++) {\n",
       "      var url = js_urls[i];\n",
       "      var element = document.createElement('script');\n",
       "      element.onload = on_load;\n",
       "      element.onerror = on_error;\n",
       "      element.async = false;\n",
       "      element.src = url;\n",
       "      console.debug(\"Bokeh: injecting script tag for BokehJS library: \", url);\n",
       "      document.head.appendChild(element);\n",
       "    }\n",
       "  };var element = document.getElementById(\"1002\");\n",
       "  if (element == null) {\n",
       "    console.error(\"Bokeh: ERROR: autoload.js configured with elementid '1002' but no matching script tag was found. \")\n",
       "    return false;\n",
       "  }\n",
       "\n",
       "  function inject_raw_css(css) {\n",
       "    const element = document.createElement(\"style\");\n",
       "    element.appendChild(document.createTextNode(css));\n",
       "    document.body.appendChild(element);\n",
       "  }\n",
       "\n",
       "  var js_urls = [\"https://cdn.pydata.org/bokeh/release/bokeh-1.3.2.min.js\", \"https://cdn.pydata.org/bokeh/release/bokeh-widgets-1.3.2.min.js\", \"https://cdn.pydata.org/bokeh/release/bokeh-tables-1.3.2.min.js\", \"https://cdn.pydata.org/bokeh/release/bokeh-gl-1.3.2.min.js\"];\n",
       "  var css_urls = [];\n",
       "\n",
       "  var inline_js = [\n",
       "    function(Bokeh) {\n",
       "      Bokeh.set_log_level(\"info\");\n",
       "    },\n",
       "    \n",
       "    function(Bokeh) {\n",
       "      \n",
       "    },\n",
       "    function(Bokeh) {} // ensure no trailing comma for IE\n",
       "  ];\n",
       "\n",
       "  function run_inline_js() {\n",
       "    \n",
       "    if ((root.Bokeh !== undefined) || (force === true)) {\n",
       "      for (var i = 0; i < inline_js.length; i++) {\n",
       "        inline_js[i].call(root, root.Bokeh);\n",
       "      }if (force === true) {\n",
       "        display_loaded();\n",
       "      }} else if (Date.now() < root._bokeh_timeout) {\n",
       "      setTimeout(run_inline_js, 100);\n",
       "    } else if (!root._bokeh_failed_load) {\n",
       "      console.log(\"Bokeh: BokehJS failed to load within specified timeout.\");\n",
       "      root._bokeh_failed_load = true;\n",
       "    } else if (force !== true) {\n",
       "      var cell = $(document.getElementById(\"1002\")).parents('.cell').data().cell;\n",
       "      cell.output_area.append_execute_result(NB_LOAD_WARNING)\n",
       "    }\n",
       "\n",
       "  }\n",
       "\n",
       "  if (root._bokeh_is_loading === 0) {\n",
       "    console.debug(\"Bokeh: BokehJS loaded, going straight to plotting\");\n",
       "    run_inline_js();\n",
       "  } else {\n",
       "    load_libs(css_urls, js_urls, function() {\n",
       "      console.debug(\"Bokeh: BokehJS plotting callback run at\", now());\n",
       "      run_inline_js();\n",
       "    });\n",
       "  }\n",
       "}(window));"
      ],
      "application/vnd.bokehjs_load.v0+json": "\n(function(root) {\n  function now() {\n    return new Date();\n  }\n\n  var force = true;\n\n  if (typeof root._bokeh_onload_callbacks === \"undefined\" || force === true) {\n    root._bokeh_onload_callbacks = [];\n    root._bokeh_is_loading = undefined;\n  }\n\n  \n\n  \n  if (typeof (root._bokeh_timeout) === \"undefined\" || force === true) {\n    root._bokeh_timeout = Date.now() + 5000;\n    root._bokeh_failed_load = false;\n  }\n\n  var NB_LOAD_WARNING = {'data': {'text/html':\n     \"<div style='background-color: #fdd'>\\n\"+\n     \"<p>\\n\"+\n     \"BokehJS does not appear to have successfully loaded. If loading BokehJS from CDN, this \\n\"+\n     \"may be due to a slow or bad network connection. Possible fixes:\\n\"+\n     \"</p>\\n\"+\n     \"<ul>\\n\"+\n     \"<li>re-rerun `output_notebook()` to attempt to load from CDN again, or</li>\\n\"+\n     \"<li>use INLINE resources instead, as so:</li>\\n\"+\n     \"</ul>\\n\"+\n     \"<code>\\n\"+\n     \"from bokeh.resources import INLINE\\n\"+\n     \"output_notebook(resources=INLINE)\\n\"+\n     \"</code>\\n\"+\n     \"</div>\"}};\n\n  function display_loaded() {\n    var el = document.getElementById(\"1002\");\n    if (el != null) {\n      el.textContent = \"BokehJS is loading...\";\n    }\n    if (root.Bokeh !== undefined) {\n      if (el != null) {\n        el.textContent = \"BokehJS \" + root.Bokeh.version + \" successfully loaded.\";\n      }\n    } else if (Date.now() < root._bokeh_timeout) {\n      setTimeout(display_loaded, 100)\n    }\n  }\n\n\n  function run_callbacks() {\n    try {\n      root._bokeh_onload_callbacks.forEach(function(callback) {\n        if (callback != null)\n          callback();\n      });\n    } finally {\n      delete root._bokeh_onload_callbacks\n    }\n    console.debug(\"Bokeh: all callbacks have finished\");\n  }\n\n  function load_libs(css_urls, js_urls, callback) {\n    if (css_urls == null) css_urls = [];\n    if (js_urls == null) js_urls = [];\n\n    root._bokeh_onload_callbacks.push(callback);\n    if (root._bokeh_is_loading > 0) {\n      console.debug(\"Bokeh: BokehJS is being loaded, scheduling callback at\", now());\n      return null;\n    }\n    if (js_urls == null || js_urls.length === 0) {\n      run_callbacks();\n      return null;\n    }\n    console.debug(\"Bokeh: BokehJS not loaded, scheduling load and callback at\", now());\n    root._bokeh_is_loading = css_urls.length + js_urls.length;\n\n    function on_load() {\n      root._bokeh_is_loading--;\n      if (root._bokeh_is_loading === 0) {\n        console.debug(\"Bokeh: all BokehJS libraries/stylesheets loaded\");\n        run_callbacks()\n      }\n    }\n\n    function on_error() {\n      console.error(\"failed to load \" + url);\n    }\n\n    for (var i = 0; i < css_urls.length; i++) {\n      var url = css_urls[i];\n      const element = document.createElement(\"link\");\n      element.onload = on_load;\n      element.onerror = on_error;\n      element.rel = \"stylesheet\";\n      element.type = \"text/css\";\n      element.href = url;\n      console.debug(\"Bokeh: injecting link tag for BokehJS stylesheet: \", url);\n      document.body.appendChild(element);\n    }\n\n    for (var i = 0; i < js_urls.length; i++) {\n      var url = js_urls[i];\n      var element = document.createElement('script');\n      element.onload = on_load;\n      element.onerror = on_error;\n      element.async = false;\n      element.src = url;\n      console.debug(\"Bokeh: injecting script tag for BokehJS library: \", url);\n      document.head.appendChild(element);\n    }\n  };var element = document.getElementById(\"1002\");\n  if (element == null) {\n    console.error(\"Bokeh: ERROR: autoload.js configured with elementid '1002' but no matching script tag was found. \")\n    return false;\n  }\n\n  function inject_raw_css(css) {\n    const element = document.createElement(\"style\");\n    element.appendChild(document.createTextNode(css));\n    document.body.appendChild(element);\n  }\n\n  var js_urls = [\"https://cdn.pydata.org/bokeh/release/bokeh-1.3.2.min.js\", \"https://cdn.pydata.org/bokeh/release/bokeh-widgets-1.3.2.min.js\", \"https://cdn.pydata.org/bokeh/release/bokeh-tables-1.3.2.min.js\", \"https://cdn.pydata.org/bokeh/release/bokeh-gl-1.3.2.min.js\"];\n  var css_urls = [];\n\n  var inline_js = [\n    function(Bokeh) {\n      Bokeh.set_log_level(\"info\");\n    },\n    \n    function(Bokeh) {\n      \n    },\n    function(Bokeh) {} // ensure no trailing comma for IE\n  ];\n\n  function run_inline_js() {\n    \n    if ((root.Bokeh !== undefined) || (force === true)) {\n      for (var i = 0; i < inline_js.length; i++) {\n        inline_js[i].call(root, root.Bokeh);\n      }if (force === true) {\n        display_loaded();\n      }} else if (Date.now() < root._bokeh_timeout) {\n      setTimeout(run_inline_js, 100);\n    } else if (!root._bokeh_failed_load) {\n      console.log(\"Bokeh: BokehJS failed to load within specified timeout.\");\n      root._bokeh_failed_load = true;\n    } else if (force !== true) {\n      var cell = $(document.getElementById(\"1002\")).parents('.cell').data().cell;\n      cell.output_area.append_execute_result(NB_LOAD_WARNING)\n    }\n\n  }\n\n  if (root._bokeh_is_loading === 0) {\n    console.debug(\"Bokeh: BokehJS loaded, going straight to plotting\");\n    run_inline_js();\n  } else {\n    load_libs(css_urls, js_urls, function() {\n      console.debug(\"Bokeh: BokehJS plotting callback run at\", now());\n      run_inline_js();\n    });\n  }\n}(window));"
     },
     "metadata": {},
     "output_type": "display_data"
    }
   ],
   "source": [
    "from bokeh.plotting import figure, show, ColumnDataSource\n",
    "from bokeh.models import HoverTool, Legend, Band, Range1d\n",
    "from bokeh.io import output_notebook\n",
    "output_notebook()"
   ]
  },
  {
   "cell_type": "markdown",
   "metadata": {},
   "source": [
    "The next functions are used to plot the data:"
   ]
  },
  {
   "cell_type": "code",
   "execution_count": 582,
   "metadata": {},
   "outputs": [],
   "source": [
    "# Colors taken from colorbrewer\n",
    "COLORS = ['#a6cee3', '#1f78b4', '#b2df8a', '#33a02c', '#fb9a99', '#e31a1c', '#fdbf6f',\n",
    "          '#ff7f00', '#cab2d6', '#6a3d9a', '#ffff99', '#b15928', '#8dd3c7', '#fdb462',\n",
    "          '#d9d9d9', '#ffed6f', '#e31a1c']"
   ]
  },
  {
   "cell_type": "code",
   "execution_count": 620,
   "metadata": {},
   "outputs": [],
   "source": [
    "def plot_variable_data(data_dict, variables=None, parameter='accuracy'):\n",
    "    '''This function plots the variable vs. lag time data of the given input data_dict\n",
    "    using the bokeh plotting library.\n",
    "\n",
    "    If variables is set to None, this function will plot all variables in data_dict. Else\n",
    "    it will plot all the variables in variables.\n",
    "\n",
    "    The parameter input is for labeling the graph. By default it is accuracy, and will\n",
    "    include this word in the title, y axis, and on the tooltips.\n",
    "    '''\n",
    "    variable_data, error_data = {}, {}\n",
    "    time_data, items = [], []\n",
    "    for var in data_dict:\n",
    "        # Parse tuples in data_dict\n",
    "        time_data, variable_subset, error_subset= [], [], []\n",
    "        for tup in data_dict[var]:\n",
    "            time_data.append(tup[0])\n",
    "            variable_subset.append(tup[1])\n",
    "            error_subset.append(tup[2])\n",
    "        variable_data[var] = variable_subset\n",
    "        error_data[var] = error_subset\n",
    "\n",
    "    # Basic plot setup\n",
    "    plot = figure(plot_width=800, plot_height=600, tools='',\n",
    "                  toolbar_location=None, title='Lag time vs. ' + parameter,\n",
    "                  x_axis_label='Lag time (hours)', y_axis_label=parameter.capitalize())\n",
    "\n",
    "    circles = []\n",
    "    min_val = 1\n",
    "    max_val = 0\n",
    "    for i, var in enumerate(variable_data):\n",
    "        if variables:\n",
    "            if var not in variables: continue\n",
    "        source = ColumnDataSource(data=dict(\n",
    "            x_data = time_data,\n",
    "            y_data = variable_data[var],\n",
    "        ))\n",
    "        item = plot.line('x_data', 'y_data', line_width=1, line_alpha=0.5,\n",
    "                         color=COLORS[i], source=source)\n",
    "        items.append((var, [item]))\n",
    "        circles.append(plot.circle('x_data', 'y_data', size=10, source=source,\n",
    "                       fill_color=COLORS[i], hover_fill_color=COLORS[i],\n",
    "                       fill_alpha=0.25, hover_alpha=0.5,\n",
    "                       line_color=None, hover_line_color='white'))\n",
    "\n",
    "        # Used for creating error bands\n",
    "        err_xs, err_ys = [], []\n",
    "        for x, y, y_err in zip(time_data, variable_data[var], error_data[var]):\n",
    "            if y + y_err / 2 > max_val: max_val = y + y_err / 2\n",
    "            if y - y_err / 2 < min_val: min_val = y - y_err / 2\n",
    "            err_xs.append((x, x))\n",
    "            err_ys.append((y - y_err / 2, y + y_err / 2))\n",
    "\n",
    "        source = ColumnDataSource({\n",
    "            'base': time_data,\n",
    "            'lower': list(map(lambda x : x[0], err_ys)),\n",
    "            'upper': list(map(lambda x : x[1], err_ys))\n",
    "        })\n",
    "\n",
    "        band = Band(base='base', lower='lower', upper='upper', source=source, \n",
    "                    level='underlay', fill_alpha=.5, line_width=1,\n",
    "                    line_color='black', fill_color=COLORS[i])\n",
    "        plot.add_layout(band)\n",
    "\n",
    "    plot.add_tools(HoverTool(tooltips=[(parameter.capitalize(), '@y_data %')], renderers=circles,\n",
    "                             mode='vline'))\n",
    "    plot.y_range = Range1d(min_val - (max_val - min_val) / 10,\n",
    "                           max_val  + (max_val - min_val) / 10)\n",
    "    plot.x_range = Range1d(0, 25)\n",
    "    plot.y_range = Range1d(0.45, 0.65)\n",
    "    legend = Legend(items=items)\n",
    "    legend.click_policy='hide'\n",
    "    plot.add_layout(legend, 'right')\n",
    "\n",
    "    plot.title.text_font_size = '16pt'\n",
    "    plot.xaxis.axis_label_text_font_size = \"16pt\"\n",
    "    plot.yaxis.axis_label_text_font_size = \"16pt\"\n",
    "    plot.yaxis.axis_label_text_font_size = \"16pt\"\n",
    "    show(plot)"
   ]
  },
  {
   "cell_type": "code",
   "execution_count": 621,
   "metadata": {
    "scrolled": false
   },
   "outputs": [
    {
     "data": {
      "text/html": [
       "\n",
       "\n",
       "\n",
       "\n",
       "\n",
       "\n",
       "  <div class=\"bk-root\" id=\"508a4dff-5133-4a51-86b0-e50d549b9eed\" data-root-id=\"83946\"></div>\n"
      ]
     },
     "metadata": {},
     "output_type": "display_data"
    },
    {
     "data": {
      "application/javascript": [
       "(function(root) {\n",
       "  function embed_document(root) {\n",
       "    \n",
       "  var docs_json = {\"293aa8ed-12ee-4111-8cb0-2d723e579cba\":{\"roots\":{\"references\":[{\"attributes\":{\"below\":[{\"id\":\"83957\",\"type\":\"LinearAxis\"}],\"center\":[{\"id\":\"83961\",\"type\":\"Grid\"},{\"id\":\"83966\",\"type\":\"Grid\"},{\"id\":\"83981\",\"type\":\"Band\"},{\"id\":\"83996\",\"type\":\"Band\"},{\"id\":\"84011\",\"type\":\"Band\"},{\"id\":\"84026\",\"type\":\"Band\"},{\"id\":\"84041\",\"type\":\"Band\"},{\"id\":\"84056\",\"type\":\"Band\"}],\"left\":[{\"id\":\"83962\",\"type\":\"LinearAxis\"}],\"plot_width\":800,\"renderers\":[{\"id\":\"83972\",\"type\":\"GlyphRenderer\"},{\"id\":\"83978\",\"type\":\"GlyphRenderer\"},{\"id\":\"83987\",\"type\":\"GlyphRenderer\"},{\"id\":\"83993\",\"type\":\"GlyphRenderer\"},{\"id\":\"84002\",\"type\":\"GlyphRenderer\"},{\"id\":\"84008\",\"type\":\"GlyphRenderer\"},{\"id\":\"84017\",\"type\":\"GlyphRenderer\"},{\"id\":\"84023\",\"type\":\"GlyphRenderer\"},{\"id\":\"84032\",\"type\":\"GlyphRenderer\"},{\"id\":\"84038\",\"type\":\"GlyphRenderer\"},{\"id\":\"84047\",\"type\":\"GlyphRenderer\"},{\"id\":\"84053\",\"type\":\"GlyphRenderer\"}],\"right\":[{\"id\":\"84063\",\"type\":\"Legend\"}],\"title\":{\"id\":\"83947\",\"type\":\"Title\"},\"toolbar\":{\"id\":\"83967\",\"type\":\"Toolbar\"},\"toolbar_location\":null,\"x_range\":{\"id\":\"84061\",\"type\":\"Range1d\"},\"x_scale\":{\"id\":\"83953\",\"type\":\"LinearScale\"},\"y_range\":{\"id\":\"84062\",\"type\":\"Range1d\"},\"y_scale\":{\"id\":\"83955\",\"type\":\"LinearScale\"}},\"id\":\"83946\",\"subtype\":\"Figure\",\"type\":\"Plot\"},{\"attributes\":{\"line_alpha\":0.5,\"line_color\":\"#fdbf6f\",\"x\":{\"field\":\"x_data\"},\"y\":{\"field\":\"y_data\"}},\"id\":\"84000\",\"type\":\"Line\"},{\"attributes\":{\"source\":{\"id\":\"83968\",\"type\":\"ColumnDataSource\"}},\"id\":\"83979\",\"type\":\"CDSView\"},{\"attributes\":{\"line_alpha\":0.5,\"line_color\":\"#cab2d6\",\"x\":{\"field\":\"x_data\"},\"y\":{\"field\":\"y_data\"}},\"id\":\"84015\",\"type\":\"Line\"},{\"attributes\":{\"callback\":null,\"data\":{\"base\":[2,3,4,5,6,7,8,9,10,11,12,13,14,15,16,17,18,19,20,21,22,23,24],\"lower\":[0.4934053223266181,0.4935077032146896,0.49446563681482053,0.49372257611840537,0.49412303841122596,0.4948685082104164,0.4947029588649574,0.4963681109410309,0.49377579606797906,0.49473176150961673,0.4949123024793461,0.4914452242175727,0.49268637754959005,0.49248718869109015,0.49446533556604666,0.49105266031587647,0.4901449114117996,0.4921576252104001,0.4959155434648515,0.49467247213984455,0.49322617805843055,0.4941701739752978,0.4916246526595453],\"upper\":[0.5058362126620953,0.5072965863295466,0.5059263453678073,0.505434478007593,0.5058061337888625,0.5062725798037365,0.5075870499767756,0.509608900553222,0.5044831522307395,0.5068678849773474,0.5087449413369082,0.5041554824962081,0.506465940331205,0.505268995054493,0.5067890813950844,0.5052387304126005,0.5046519083761862,0.5059077458143351,0.5091793792724555,0.5057072188093827,0.5075773539503996,0.5052558745898236,0.5087550382896822]},\"selected\":{\"id\":\"86055\",\"type\":\"Selection\"},\"selection_policy\":{\"id\":\"86054\",\"type\":\"UnionRenderers\"}},\"id\":\"83995\",\"type\":\"ColumnDataSource\"},{\"attributes\":{},\"id\":\"86052\",\"type\":\"UnionRenderers\"},{\"attributes\":{\"callback\":null,\"data\":{\"x_data\":[2,3,4,5,6,7,8,9,10,11,12,13,14,15,16,17,18,19,20,21,22,23,24],\"y_data\":[0.5079006772009029,0.5130116175156391,0.5148641425389754,0.529569653948536,0.5276848162903939,0.5238522777532065,0.5386781609195401,0.5344960212201592,0.5350684931506849,0.5391648254529385,0.5425353356890459,0.5508259717314488,0.557430463576159,0.5589090106007066,0.5637676678445229,0.5686269315673289,0.5639355123674911,0.5675088339222615,0.5766710816777042,0.5653863134657837,0.5725430463576159,0.5779955849889624,0.5720485651214128]},\"selected\":{\"id\":\"86065\",\"type\":\"Selection\"},\"selection_policy\":{\"id\":\"86064\",\"type\":\"UnionRenderers\"}},\"id\":\"83968\",\"type\":\"ColumnDataSource\"},{\"attributes\":{\"line_alpha\":0.1,\"line_color\":\"#1f77b4\",\"x\":{\"field\":\"x_data\"},\"y\":{\"field\":\"y_data\"}},\"id\":\"84016\",\"type\":\"Line\"},{\"attributes\":{\"base\":{\"field\":\"base\",\"units\":\"data\"},\"fill_alpha\":{\"value\":0.5},\"fill_color\":{\"value\":\"#a6cee3\"},\"level\":\"underlay\",\"line_color\":{\"value\":\"black\"},\"lower\":{\"field\":\"lower\",\"units\":\"data\"},\"source\":{\"id\":\"83980\",\"type\":\"ColumnDataSource\"},\"upper\":{\"field\":\"upper\",\"units\":\"data\"}},\"id\":\"83981\",\"type\":\"Band\"},{\"attributes\":{\"callback\":null,\"data\":{\"x_data\":[2,3,4,5,6,7,8,9,10,11,12,13,14,15,16,17,18,19,20,21,22,23,24],\"y_data\":[0.49934085778781023,0.5013047363717605,0.49889977728285073,0.5050177462289264,0.5088756086764055,0.5026846528084918,0.5137709991158267,0.5217860300618922,0.5312859036676977,0.5295713654441007,0.5247879858657243,0.5292005300353356,0.5461810154525386,0.5517402826855123,0.5409275618374558,0.565205298013245,0.5597305653710247,0.5722968197879859,0.5706710816777042,0.5700883002207506,0.5765651214128035,0.5916688741721855,0.5300397350993378]},\"selected\":{\"id\":\"86069\",\"type\":\"Selection\"},\"selection_policy\":{\"id\":\"86068\",\"type\":\"UnionRenderers\"}},\"id\":\"83998\",\"type\":\"ColumnDataSource\"},{\"attributes\":{\"source\":{\"id\":\"83998\",\"type\":\"ColumnDataSource\"}},\"id\":\"84003\",\"type\":\"CDSView\"},{\"attributes\":{},\"id\":\"86070\",\"type\":\"UnionRenderers\"},{\"attributes\":{},\"id\":\"86072\",\"type\":\"UnionRenderers\"},{\"attributes\":{\"base\":{\"field\":\"base\",\"units\":\"data\"},\"fill_alpha\":{\"value\":0.5},\"fill_color\":{\"value\":\"#e31a1c\"},\"level\":\"underlay\",\"line_color\":{\"value\":\"black\"},\"lower\":{\"field\":\"lower\",\"units\":\"data\"},\"source\":{\"id\":\"83995\",\"type\":\"ColumnDataSource\"},\"upper\":{\"field\":\"upper\",\"units\":\"data\"}},\"id\":\"83996\",\"type\":\"Band\"},{\"attributes\":{\"fill_alpha\":{\"value\":0.1},\"fill_color\":{\"value\":\"#1f77b4\"},\"line_alpha\":{\"value\":0.1},\"line_color\":{\"value\":\"#1f77b4\"},\"size\":{\"units\":\"screen\",\"value\":10},\"x\":{\"field\":\"x_data\"},\"y\":{\"field\":\"y_data\"}},\"id\":\"83976\",\"type\":\"Circle\"},{\"attributes\":{},\"id\":\"86053\",\"type\":\"Selection\"},{\"attributes\":{},\"id\":\"83958\",\"type\":\"BasicTicker\"},{\"attributes\":{\"callback\":null,\"data\":{\"base\":[2,3,4,5,6,7,8,9,10,11,12,13,14,15,16,17,18,19,20,21,22,23,24],\"lower\":[0.4940090506202519,0.4960952774220333,0.49643127000571485,0.5050707901843969,0.5034840015185854,0.4999656771946972,0.5131055117803938,0.5060482613881538,0.5078447611253716,0.5111996927953322,0.514269726370508,0.5215090056162069,0.5297417405977806,0.5293225469019914,0.5339460868436849,0.5406731327249856,0.5356577081625746,0.5411341067577337,0.5500543733615642,0.5350482799283963,0.5443921020346993,0.5490507389554209,0.544980591976156],\"upper\":[0.521792303781554,0.5299279576092448,0.5332970150722359,0.554068517712675,0.5518856310622023,0.5477388783117159,0.5642508100586865,0.5629437810521645,0.5622922251759983,0.5671299581105449,0.5708009450075837,0.5801429378466906,0.5851191865545374,0.5884954742994218,0.5935892488453609,0.5965807304096722,0.5922133165724075,0.5938835610867893,0.6032877899938442,0.5957243470031711,0.6006939906805324,0.606940431022504,0.5991165382666696]},\"selected\":{\"id\":\"86053\",\"type\":\"Selection\"},\"selection_policy\":{\"id\":\"86052\",\"type\":\"UnionRenderers\"}},\"id\":\"83980\",\"type\":\"ColumnDataSource\"},{\"attributes\":{\"callback\":null,\"data\":{\"x_data\":[2,3,4,5,6,7,8,9,10,11,12,13,14,15,16,17,18,19,20,21,22,23,24],\"y_data\":[0.5016704288939052,0.49932529043789103,0.5038797327394209,0.5072493345164153,0.5213014608233731,0.5040822644847412,0.5201237842617153,0.5253006189213085,0.5249403446752098,0.5383517454706142,0.54386925795053,0.5560247349823322,0.5713686534216336,0.5664178445229682,0.5727120141342756,0.579439293598234,0.5604063604240282,0.5831537102473497,0.5862030905077262,0.5988388520971302,0.5833200883002206,0.5962384105960264,0.581505518763797]},\"selected\":{\"id\":\"86071\",\"type\":\"Selection\"},\"selection_policy\":{\"id\":\"86070\",\"type\":\"UnionRenderers\"}},\"id\":\"84013\",\"type\":\"ColumnDataSource\"},{\"attributes\":{\"callback\":null,\"data\":{\"x_data\":[2,3,4,5,6,7,8,9,10,11,12,13,14,15,16,17,18,19,20,21,22,23,24],\"y_data\":[0.5045598194130926,0.5065281501340483,0.5088463251670379,0.5091748003549246,0.5146038069942452,0.5080097302078727,0.5255305039787799,0.5353580901856765,0.5441670349094123,0.5593283252319929,0.5647349823321555,0.558957597173145,0.5492229580573951,0.5509938162544169,0.5599249116607773,0.5738543046357616,0.5958922261484099,0.5762941696113074,0.5825960264900663,0.5913421633554083,0.596635761589404,0.5871920529801323,0.5786799116997793]},\"selected\":{\"id\":\"86073\",\"type\":\"Selection\"},\"selection_policy\":{\"id\":\"86072\",\"type\":\"UnionRenderers\"}},\"id\":\"84028\",\"type\":\"ColumnDataSource\"},{\"attributes\":{\"data_source\":{\"id\":\"83968\",\"type\":\"ColumnDataSource\"},\"glyph\":{\"id\":\"83975\",\"type\":\"Circle\"},\"hover_glyph\":{\"id\":\"83977\",\"type\":\"Circle\"},\"muted_glyph\":null,\"nonselection_glyph\":{\"id\":\"83976\",\"type\":\"Circle\"},\"selection_glyph\":null,\"view\":{\"id\":\"83979\",\"type\":\"CDSView\"}},\"id\":\"83978\",\"type\":\"GlyphRenderer\"},{\"attributes\":{\"axis_label\":\"Lag time (hours)\",\"axis_label_text_font_size\":{\"value\":\"16pt\"},\"formatter\":{\"id\":\"86048\",\"type\":\"BasicTickFormatter\"},\"ticker\":{\"id\":\"83958\",\"type\":\"BasicTicker\"}},\"id\":\"83957\",\"type\":\"LinearAxis\"},{\"attributes\":{},\"id\":\"86060\",\"type\":\"UnionRenderers\"},{\"attributes\":{\"callback\":null,\"data\":{\"base\":[2,3,4,5,6,7,8,9,10,11,12,13,14,15,16,17,18,19,20,21,22,23,24],\"lower\":[0.48976837183591154,0.49012651371168553,0.4937118103957528,0.48884171253061137,0.4907985130961296,0.49330335600875774,0.49200923330191376,0.4967658964512461,0.5048554012324916,0.5031312109031365,0.4990696009032922,0.5039318660315227,0.516621494428018,0.5221140279799393,0.5123817870219564,0.5363372073189913,0.53291995959107,0.5451019147262508,0.5428431782372125,0.5416936110059114,0.5473166699324281,0.5667452539765366,0.5023731569408733],\"upper\":[0.508913343739709,0.5124829590318355,0.5040877441699487,0.5211937799272414,0.5269527042566814,0.5120659496082259,0.5355327649297396,0.5468061636725383,0.5577164061029037,0.5560115199850648,0.5505063708281563,0.5544691940391485,0.5757405364770593,0.5813665373910853,0.5694733366529553,0.5940733887074988,0.5865411711509795,0.5994917248497209,0.5984989851181959,0.5984829894355899,0.6058135728931788,0.6165924943678344,0.5577063132578023]},\"selected\":{\"id\":\"86057\",\"type\":\"Selection\"},\"selection_policy\":{\"id\":\"86056\",\"type\":\"UnionRenderers\"}},\"id\":\"84010\",\"type\":\"ColumnDataSource\"},{\"attributes\":{\"data_source\":{\"id\":\"83998\",\"type\":\"ColumnDataSource\"},\"glyph\":{\"id\":\"84005\",\"type\":\"Circle\"},\"hover_glyph\":{\"id\":\"84007\",\"type\":\"Circle\"},\"muted_glyph\":null,\"nonselection_glyph\":{\"id\":\"84006\",\"type\":\"Circle\"},\"selection_glyph\":null,\"view\":{\"id\":\"84009\",\"type\":\"CDSView\"}},\"id\":\"84008\",\"type\":\"GlyphRenderer\"},{\"attributes\":{\"label\":{\"value\":\"TOTPOT\"},\"renderers\":[{\"id\":\"84032\",\"type\":\"GlyphRenderer\"}]},\"id\":\"84068\",\"type\":\"LegendItem\"},{\"attributes\":{},\"id\":\"86048\",\"type\":\"BasicTickFormatter\"},{\"attributes\":{},\"id\":\"86056\",\"type\":\"UnionRenderers\"},{\"attributes\":{\"line_alpha\":0.1,\"line_color\":\"#1f77b4\",\"x\":{\"field\":\"x_data\"},\"y\":{\"field\":\"y_data\"}},\"id\":\"84001\",\"type\":\"Line\"},{\"attributes\":{},\"id\":\"83963\",\"type\":\"BasicTicker\"},{\"attributes\":{},\"id\":\"86055\",\"type\":\"Selection\"},{\"attributes\":{\"text\":\"Lag time vs. accuracy\",\"text_font_size\":{\"value\":\"16pt\"}},\"id\":\"83947\",\"type\":\"Title\"},{\"attributes\":{\"fill_alpha\":{\"value\":0.25},\"fill_color\":{\"value\":\"#a6cee3\"},\"line_color\":{\"value\":null},\"size\":{\"units\":\"screen\",\"value\":10},\"x\":{\"field\":\"x_data\"},\"y\":{\"field\":\"y_data\"}},\"id\":\"83975\",\"type\":\"Circle\"},{\"attributes\":{\"source\":{\"id\":\"83983\",\"type\":\"ColumnDataSource\"}},\"id\":\"83994\",\"type\":\"CDSView\"},{\"attributes\":{\"data_source\":{\"id\":\"83998\",\"type\":\"ColumnDataSource\"},\"glyph\":{\"id\":\"84000\",\"type\":\"Line\"},\"hover_glyph\":null,\"muted_glyph\":null,\"nonselection_glyph\":{\"id\":\"84001\",\"type\":\"Line\"},\"selection_glyph\":null,\"view\":{\"id\":\"84003\",\"type\":\"CDSView\"}},\"id\":\"84002\",\"type\":\"GlyphRenderer\"},{\"attributes\":{\"ticker\":{\"id\":\"83958\",\"type\":\"BasicTicker\"}},\"id\":\"83961\",\"type\":\"Grid\"},{\"attributes\":{\"base\":{\"field\":\"base\",\"units\":\"data\"},\"fill_alpha\":{\"value\":0.5},\"fill_color\":{\"value\":\"#cab2d6\"},\"level\":\"underlay\",\"line_color\":{\"value\":\"black\"},\"lower\":{\"field\":\"lower\",\"units\":\"data\"},\"source\":{\"id\":\"84025\",\"type\":\"ColumnDataSource\"},\"upper\":{\"field\":\"upper\",\"units\":\"data\"}},\"id\":\"84026\",\"type\":\"Band\"},{\"attributes\":{\"base\":{\"field\":\"base\",\"units\":\"data\"},\"fill_alpha\":{\"value\":0.5},\"fill_color\":{\"value\":\"#fdbf6f\"},\"level\":\"underlay\",\"line_color\":{\"value\":\"black\"},\"lower\":{\"field\":\"lower\",\"units\":\"data\"},\"source\":{\"id\":\"84010\",\"type\":\"ColumnDataSource\"},\"upper\":{\"field\":\"upper\",\"units\":\"data\"}},\"id\":\"84011\",\"type\":\"Band\"},{\"attributes\":{},\"id\":\"83955\",\"type\":\"LinearScale\"},{\"attributes\":{\"fill_alpha\":{\"value\":0.5},\"fill_color\":{\"value\":\"#a6cee3\"},\"line_alpha\":{\"value\":0.5},\"line_color\":{\"value\":\"white\"},\"size\":{\"units\":\"screen\",\"value\":10},\"x\":{\"field\":\"x_data\"},\"y\":{\"field\":\"y_data\"}},\"id\":\"83977\",\"type\":\"Circle\"},{\"attributes\":{\"label\":{\"value\":\"TOTUSJZ\"},\"renderers\":[{\"id\":\"84002\",\"type\":\"GlyphRenderer\"}]},\"id\":\"84066\",\"type\":\"LegendItem\"},{\"attributes\":{\"callback\":null,\"end\":25},\"id\":\"84061\",\"type\":\"Range1d\"},{\"attributes\":{\"callback\":null,\"mode\":\"vline\",\"renderers\":[{\"id\":\"83978\",\"type\":\"GlyphRenderer\"},{\"id\":\"83993\",\"type\":\"GlyphRenderer\"},{\"id\":\"84008\",\"type\":\"GlyphRenderer\"},{\"id\":\"84023\",\"type\":\"GlyphRenderer\"},{\"id\":\"84038\",\"type\":\"GlyphRenderer\"},{\"id\":\"84053\",\"type\":\"GlyphRenderer\"}],\"tooltips\":[[\"Accuracy\",\"@y_data %\"]]},\"id\":\"84058\",\"type\":\"HoverTool\"},{\"attributes\":{\"callback\":null,\"data\":{\"base\":[2,3,4,5,6,7,8,9,10,11,12,13,14,15,16,17,18,19,20,21,22,23,24],\"lower\":[0.4862881102137377,0.48483165962810104,0.49108621547645065,0.48363294361617204,0.4956363496469049,0.4904360546827744,0.48993624971209493,0.49498920558173615,0.4927412809013305,0.5074385626362017,0.5106247970222856,0.522573540718038,0.5410247676344525,0.5336747288129206,0.5417563354946995,0.5487681789525473,0.5276429856115737,0.5547038407340733,0.5558856019841814,0.570488607971668,0.5491056814614651,0.5670926076405451,0.547970961081138],\"upper\":[0.5170527475740728,0.513818921247681,0.5166732500023911,0.5308657254166586,0.5469665719998414,0.5177284742867081,0.5503113188113358,0.555612032260881,0.557139408449089,0.5692649283050266,0.5771137188787744,0.5894759292466264,0.6017125392088146,0.5991609602330158,0.6036676927738518,0.6101104082439207,0.5931697352364828,0.6116035797606262,0.6165205790312711,0.6271890962225923,0.6175344951389762,0.6253842135515078,0.615040076446456]},\"selected\":{\"id\":\"86059\",\"type\":\"Selection\"},\"selection_policy\":{\"id\":\"86058\",\"type\":\"UnionRenderers\"}},\"id\":\"84025\",\"type\":\"ColumnDataSource\"},{\"attributes\":{\"line_alpha\":0.5,\"line_color\":\"#a6cee3\",\"x\":{\"field\":\"x_data\"},\"y\":{\"field\":\"y_data\"}},\"id\":\"83970\",\"type\":\"Line\"},{\"attributes\":{},\"id\":\"86057\",\"type\":\"Selection\"},{\"attributes\":{\"axis_label\":\"Accuracy\",\"axis_label_text_font_size\":{\"value\":\"16pt\"},\"formatter\":{\"id\":\"86050\",\"type\":\"BasicTickFormatter\"},\"ticker\":{\"id\":\"83963\",\"type\":\"BasicTicker\"}},\"id\":\"83962\",\"type\":\"LinearAxis\"},{\"attributes\":{\"line_alpha\":0.1,\"line_color\":\"#1f77b4\",\"x\":{\"field\":\"x_data\"},\"y\":{\"field\":\"y_data\"}},\"id\":\"83971\",\"type\":\"Line\"},{\"attributes\":{},\"id\":\"86066\",\"type\":\"UnionRenderers\"},{\"attributes\":{},\"id\":\"86054\",\"type\":\"UnionRenderers\"},{\"attributes\":{\"source\":{\"id\":\"83998\",\"type\":\"ColumnDataSource\"}},\"id\":\"84009\",\"type\":\"CDSView\"},{\"attributes\":{\"active_drag\":\"auto\",\"active_inspect\":\"auto\",\"active_multi\":null,\"active_scroll\":\"auto\",\"active_tap\":\"auto\",\"tools\":[{\"id\":\"84058\",\"type\":\"HoverTool\"}]},\"id\":\"83967\",\"type\":\"Toolbar\"},{\"attributes\":{},\"id\":\"86059\",\"type\":\"Selection\"},{\"attributes\":{\"label\":{\"value\":\"TOTUSJH\"},\"renderers\":[{\"id\":\"84017\",\"type\":\"GlyphRenderer\"}]},\"id\":\"84067\",\"type\":\"LegendItem\"},{\"attributes\":{\"data_source\":{\"id\":\"83968\",\"type\":\"ColumnDataSource\"},\"glyph\":{\"id\":\"83970\",\"type\":\"Line\"},\"hover_glyph\":null,\"muted_glyph\":null,\"nonselection_glyph\":{\"id\":\"83971\",\"type\":\"Line\"},\"selection_glyph\":null,\"view\":{\"id\":\"83973\",\"type\":\"CDSView\"}},\"id\":\"83972\",\"type\":\"GlyphRenderer\"},{\"attributes\":{},\"id\":\"86050\",\"type\":\"BasicTickFormatter\"},{\"attributes\":{\"fill_alpha\":{\"value\":0.25},\"fill_color\":{\"value\":\"#fdbf6f\"},\"line_color\":{\"value\":null},\"size\":{\"units\":\"screen\",\"value\":10},\"x\":{\"field\":\"x_data\"},\"y\":{\"field\":\"y_data\"}},\"id\":\"84005\",\"type\":\"Circle\"},{\"attributes\":{},\"id\":\"86058\",\"type\":\"UnionRenderers\"},{\"attributes\":{\"click_policy\":\"hide\",\"items\":[{\"id\":\"84064\",\"type\":\"LegendItem\"},{\"id\":\"84065\",\"type\":\"LegendItem\"},{\"id\":\"84066\",\"type\":\"LegendItem\"},{\"id\":\"84067\",\"type\":\"LegendItem\"},{\"id\":\"84068\",\"type\":\"LegendItem\"},{\"id\":\"84069\",\"type\":\"LegendItem\"}]},\"id\":\"84063\",\"type\":\"Legend\"},{\"attributes\":{\"label\":{\"value\":\"R_VALUE\"},\"renderers\":[{\"id\":\"84047\",\"type\":\"GlyphRenderer\"}]},\"id\":\"84069\",\"type\":\"LegendItem\"},{\"attributes\":{\"dimension\":1,\"ticker\":{\"id\":\"83963\",\"type\":\"BasicTicker\"}},\"id\":\"83966\",\"type\":\"Grid\"},{\"attributes\":{\"label\":{\"value\":\"USFLUX\"},\"renderers\":[{\"id\":\"83972\",\"type\":\"GlyphRenderer\"}]},\"id\":\"84064\",\"type\":\"LegendItem\"},{\"attributes\":{\"fill_alpha\":{\"value\":0.5},\"fill_color\":{\"value\":\"#fdbf6f\"},\"line_alpha\":{\"value\":0.5},\"line_color\":{\"value\":\"white\"},\"size\":{\"units\":\"screen\",\"value\":10},\"x\":{\"field\":\"x_data\"},\"y\":{\"field\":\"y_data\"}},\"id\":\"84007\",\"type\":\"Circle\"},{\"attributes\":{\"source\":{\"id\":\"84028\",\"type\":\"ColumnDataSource\"}},\"id\":\"84033\",\"type\":\"CDSView\"},{\"attributes\":{\"source\":{\"id\":\"83968\",\"type\":\"ColumnDataSource\"}},\"id\":\"83973\",\"type\":\"CDSView\"},{\"attributes\":{\"fill_alpha\":{\"value\":0.1},\"fill_color\":{\"value\":\"#1f77b4\"},\"line_alpha\":{\"value\":0.1},\"line_color\":{\"value\":\"#1f77b4\"},\"size\":{\"units\":\"screen\",\"value\":10},\"x\":{\"field\":\"x_data\"},\"y\":{\"field\":\"y_data\"}},\"id\":\"84006\",\"type\":\"Circle\"},{\"attributes\":{},\"id\":\"83953\",\"type\":\"LinearScale\"},{\"attributes\":{\"fill_alpha\":{\"value\":0.25},\"fill_color\":{\"value\":\"#ffed6f\"},\"line_color\":{\"value\":null},\"size\":{\"units\":\"screen\",\"value\":10},\"x\":{\"field\":\"x_data\"},\"y\":{\"field\":\"y_data\"}},\"id\":\"84050\",\"type\":\"Circle\"},{\"attributes\":{\"base\":{\"field\":\"base\",\"units\":\"data\"},\"fill_alpha\":{\"value\":0.5},\"fill_color\":{\"value\":\"#ffed6f\"},\"level\":\"underlay\",\"line_color\":{\"value\":\"black\"},\"lower\":{\"field\":\"lower\",\"units\":\"data\"},\"source\":{\"id\":\"84055\",\"type\":\"ColumnDataSource\"},\"upper\":{\"field\":\"upper\",\"units\":\"data\"}},\"id\":\"84056\",\"type\":\"Band\"},{\"attributes\":{\"data_source\":{\"id\":\"83983\",\"type\":\"ColumnDataSource\"},\"glyph\":{\"id\":\"83985\",\"type\":\"Line\"},\"hover_glyph\":null,\"muted_glyph\":null,\"nonselection_glyph\":{\"id\":\"83986\",\"type\":\"Line\"},\"selection_glyph\":null,\"view\":{\"id\":\"83988\",\"type\":\"CDSView\"}},\"id\":\"83987\",\"type\":\"GlyphRenderer\"},{\"attributes\":{\"source\":{\"id\":\"84028\",\"type\":\"ColumnDataSource\"}},\"id\":\"84039\",\"type\":\"CDSView\"},{\"attributes\":{\"line_alpha\":0.5,\"line_color\":\"#e31a1c\",\"x\":{\"field\":\"x_data\"},\"y\":{\"field\":\"y_data\"}},\"id\":\"83985\",\"type\":\"Line\"},{\"attributes\":{\"line_alpha\":0.1,\"line_color\":\"#1f77b4\",\"x\":{\"field\":\"x_data\"},\"y\":{\"field\":\"y_data\"}},\"id\":\"84046\",\"type\":\"Line\"},{\"attributes\":{},\"id\":\"86069\",\"type\":\"Selection\"},{\"attributes\":{},\"id\":\"86064\",\"type\":\"UnionRenderers\"},{\"attributes\":{},\"id\":\"86065\",\"type\":\"Selection\"},{\"attributes\":{},\"id\":\"86075\",\"type\":\"Selection\"},{\"attributes\":{\"fill_alpha\":{\"value\":0.5},\"fill_color\":{\"value\":\"#8dd3c7\"},\"line_alpha\":{\"value\":0.5},\"line_color\":{\"value\":\"white\"},\"size\":{\"units\":\"screen\",\"value\":10},\"x\":{\"field\":\"x_data\"},\"y\":{\"field\":\"y_data\"}},\"id\":\"84037\",\"type\":\"Circle\"},{\"attributes\":{},\"id\":\"86063\",\"type\":\"Selection\"},{\"attributes\":{\"fill_alpha\":{\"value\":0.5},\"fill_color\":{\"value\":\"#e31a1c\"},\"line_alpha\":{\"value\":0.5},\"line_color\":{\"value\":\"white\"},\"size\":{\"units\":\"screen\",\"value\":10},\"x\":{\"field\":\"x_data\"},\"y\":{\"field\":\"y_data\"}},\"id\":\"83992\",\"type\":\"Circle\"},{\"attributes\":{\"fill_alpha\":{\"value\":0.1},\"fill_color\":{\"value\":\"#1f77b4\"},\"line_alpha\":{\"value\":0.1},\"line_color\":{\"value\":\"#1f77b4\"},\"size\":{\"units\":\"screen\",\"value\":10},\"x\":{\"field\":\"x_data\"},\"y\":{\"field\":\"y_data\"}},\"id\":\"84051\",\"type\":\"Circle\"},{\"attributes\":{\"callback\":null,\"data\":{\"x_data\":[2,3,4,5,6,7,8,9,10,11,12,13,14,15,16,17,18,19,20,21,22,23,24],\"y_data\":[0.5132918660287081,0.512039381153305,0.49685262668526264,0.5125345622119817,0.5032845379688929,0.5135476516187871,0.5019326966803093,0.5027144802541987,0.5060416666666668,0.5074378671486669,0.5046705776173286,0.5042522522522522,0.5071152115211521,0.5115249662618083,0.5081850853548967,0.5196680125616869,0.5248699551569506,0.5179659498207886,0.5184198746642794,0.522839892665474,0.5214215467143497,0.5200268096514747,0.5301875837427423]},\"selected\":{\"id\":\"86075\",\"type\":\"Selection\"},\"selection_policy\":{\"id\":\"86074\",\"type\":\"UnionRenderers\"}},\"id\":\"84043\",\"type\":\"ColumnDataSource\"},{\"attributes\":{},\"id\":\"86062\",\"type\":\"UnionRenderers\"},{\"attributes\":{\"fill_alpha\":{\"value\":0.25},\"fill_color\":{\"value\":\"#8dd3c7\"},\"line_color\":{\"value\":null},\"size\":{\"units\":\"screen\",\"value\":10},\"x\":{\"field\":\"x_data\"},\"y\":{\"field\":\"y_data\"}},\"id\":\"84035\",\"type\":\"Circle\"},{\"attributes\":{},\"id\":\"86074\",\"type\":\"UnionRenderers\"},{\"attributes\":{\"source\":{\"id\":\"84043\",\"type\":\"ColumnDataSource\"}},\"id\":\"84054\",\"type\":\"CDSView\"},{\"attributes\":{\"source\":{\"id\":\"84043\",\"type\":\"ColumnDataSource\"}},\"id\":\"84048\",\"type\":\"CDSView\"},{\"attributes\":{\"data_source\":{\"id\":\"83983\",\"type\":\"ColumnDataSource\"},\"glyph\":{\"id\":\"83990\",\"type\":\"Circle\"},\"hover_glyph\":{\"id\":\"83992\",\"type\":\"Circle\"},\"muted_glyph\":null,\"nonselection_glyph\":{\"id\":\"83991\",\"type\":\"Circle\"},\"selection_glyph\":null,\"view\":{\"id\":\"83994\",\"type\":\"CDSView\"}},\"id\":\"83993\",\"type\":\"GlyphRenderer\"},{\"attributes\":{},\"id\":\"86073\",\"type\":\"Selection\"},{\"attributes\":{\"label\":{\"value\":\"MEANJZD\"},\"renderers\":[{\"id\":\"83987\",\"type\":\"GlyphRenderer\"}]},\"id\":\"84065\",\"type\":\"LegendItem\"},{\"attributes\":{\"callback\":null,\"data\":{\"x_data\":[2,3,4,5,6,7,8,9,10,11,12,13,14,15,16,17,18,19,20,21,22,23,24],\"y_data\":[0.4996207674943567,0.5004021447721181,0.500195991091314,0.49957852706299916,0.49996458610004424,0.5005705440070765,0.5011450044208665,0.5029885057471265,0.49912947414935926,0.500799823243482,0.5018286219081272,0.49780035335689043,0.4995761589403975,0.49887809187279153,0.5006272084805655,0.49814569536423847,0.4973984098939929,0.49903268551236757,0.5025474613686535,0.5001898454746136,0.5004017660044151,0.49971302428256065,0.5001898454746138]},\"selected\":{\"id\":\"86067\",\"type\":\"Selection\"},\"selection_policy\":{\"id\":\"86066\",\"type\":\"UnionRenderers\"}},\"id\":\"83983\",\"type\":\"ColumnDataSource\"},{\"attributes\":{\"callback\":null,\"data\":{\"base\":[2,3,4,5,6,7,8,9,10,11,12,13,14,15,16,17,18,19,20,21,22,23,24],\"lower\":[0.48572776182230765,0.48574356317559136,0.4894148819828246,0.4788722882224941,0.483518565780655,0.4848445516521493,0.48942917693504207,0.5026158060162554,0.5051302797106652,0.5234899588374783,0.5297819231187628,0.5231089098803854,0.5079439565921164,0.5104871353617315,0.5205615466431488,0.5366506176884812,0.5621874770093221,0.537608702079649,0.5444810648807954,0.5570789910392083,0.5648020504733755,0.5521209869230426,0.5388510513256926],\"upper\":[0.5233918770038775,0.5273127370925053,0.5282777683512512,0.5394773124873551,0.5456890482078355,0.531174908763596,0.5616318310225177,0.5681003743550975,0.5832037901081595,0.5951666916265076,0.5996880415455481,0.5948062844659046,0.5905019595226737,0.5915004971471023,0.5992882766784058,0.611057991583042,0.6295969752874976,0.6149796371429659,0.6207109880993371,0.6256053356716084,0.6284694727054325,0.6222631190372221,0.618508772073866]},\"selected\":{\"id\":\"86061\",\"type\":\"Selection\"},\"selection_policy\":{\"id\":\"86060\",\"type\":\"UnionRenderers\"}},\"id\":\"84040\",\"type\":\"ColumnDataSource\"},{\"attributes\":{\"data_source\":{\"id\":\"84013\",\"type\":\"ColumnDataSource\"},\"glyph\":{\"id\":\"84015\",\"type\":\"Line\"},\"hover_glyph\":null,\"muted_glyph\":null,\"nonselection_glyph\":{\"id\":\"84016\",\"type\":\"Line\"},\"selection_glyph\":null,\"view\":{\"id\":\"84018\",\"type\":\"CDSView\"}},\"id\":\"84017\",\"type\":\"GlyphRenderer\"},{\"attributes\":{\"base\":{\"field\":\"base\",\"units\":\"data\"},\"fill_alpha\":{\"value\":0.5},\"fill_color\":{\"value\":\"#8dd3c7\"},\"level\":\"underlay\",\"line_color\":{\"value\":\"black\"},\"lower\":{\"field\":\"lower\",\"units\":\"data\"},\"source\":{\"id\":\"84040\",\"type\":\"ColumnDataSource\"},\"upper\":{\"field\":\"upper\",\"units\":\"data\"}},\"id\":\"84041\",\"type\":\"Band\"},{\"attributes\":{\"data_source\":{\"id\":\"84028\",\"type\":\"ColumnDataSource\"},\"glyph\":{\"id\":\"84035\",\"type\":\"Circle\"},\"hover_glyph\":{\"id\":\"84037\",\"type\":\"Circle\"},\"muted_glyph\":null,\"nonselection_glyph\":{\"id\":\"84036\",\"type\":\"Circle\"},\"selection_glyph\":null,\"view\":{\"id\":\"84039\",\"type\":\"CDSView\"}},\"id\":\"84038\",\"type\":\"GlyphRenderer\"},{\"attributes\":{\"fill_alpha\":{\"value\":0.1},\"fill_color\":{\"value\":\"#1f77b4\"},\"line_alpha\":{\"value\":0.1},\"line_color\":{\"value\":\"#1f77b4\"},\"size\":{\"units\":\"screen\",\"value\":10},\"x\":{\"field\":\"x_data\"},\"y\":{\"field\":\"y_data\"}},\"id\":\"83991\",\"type\":\"Circle\"},{\"attributes\":{\"source\":{\"id\":\"83983\",\"type\":\"ColumnDataSource\"}},\"id\":\"83988\",\"type\":\"CDSView\"},{\"attributes\":{\"fill_alpha\":{\"value\":0.25},\"fill_color\":{\"value\":\"#e31a1c\"},\"line_color\":{\"value\":null},\"size\":{\"units\":\"screen\",\"value\":10},\"x\":{\"field\":\"x_data\"},\"y\":{\"field\":\"y_data\"}},\"id\":\"83990\",\"type\":\"Circle\"},{\"attributes\":{\"data_source\":{\"id\":\"84043\",\"type\":\"ColumnDataSource\"},\"glyph\":{\"id\":\"84045\",\"type\":\"Line\"},\"hover_glyph\":null,\"muted_glyph\":null,\"nonselection_glyph\":{\"id\":\"84046\",\"type\":\"Line\"},\"selection_glyph\":null,\"view\":{\"id\":\"84048\",\"type\":\"CDSView\"}},\"id\":\"84047\",\"type\":\"GlyphRenderer\"},{\"attributes\":{},\"id\":\"86061\",\"type\":\"Selection\"},{\"attributes\":{\"data_source\":{\"id\":\"84013\",\"type\":\"ColumnDataSource\"},\"glyph\":{\"id\":\"84020\",\"type\":\"Circle\"},\"hover_glyph\":{\"id\":\"84022\",\"type\":\"Circle\"},\"muted_glyph\":null,\"nonselection_glyph\":{\"id\":\"84021\",\"type\":\"Circle\"},\"selection_glyph\":null,\"view\":{\"id\":\"84024\",\"type\":\"CDSView\"}},\"id\":\"84023\",\"type\":\"GlyphRenderer\"},{\"attributes\":{\"line_alpha\":0.5,\"line_color\":\"#8dd3c7\",\"x\":{\"field\":\"x_data\"},\"y\":{\"field\":\"y_data\"}},\"id\":\"84030\",\"type\":\"Line\"},{\"attributes\":{\"fill_alpha\":{\"value\":0.5},\"fill_color\":{\"value\":\"#ffed6f\"},\"line_alpha\":{\"value\":0.5},\"line_color\":{\"value\":\"white\"},\"size\":{\"units\":\"screen\",\"value\":10},\"x\":{\"field\":\"x_data\"},\"y\":{\"field\":\"y_data\"}},\"id\":\"84052\",\"type\":\"Circle\"},{\"attributes\":{\"data_source\":{\"id\":\"84043\",\"type\":\"ColumnDataSource\"},\"glyph\":{\"id\":\"84050\",\"type\":\"Circle\"},\"hover_glyph\":{\"id\":\"84052\",\"type\":\"Circle\"},\"muted_glyph\":null,\"nonselection_glyph\":{\"id\":\"84051\",\"type\":\"Circle\"},\"selection_glyph\":null,\"view\":{\"id\":\"84054\",\"type\":\"CDSView\"}},\"id\":\"84053\",\"type\":\"GlyphRenderer\"},{\"attributes\":{\"source\":{\"id\":\"84013\",\"type\":\"ColumnDataSource\"}},\"id\":\"84024\",\"type\":\"CDSView\"},{\"attributes\":{\"data_source\":{\"id\":\"84028\",\"type\":\"ColumnDataSource\"},\"glyph\":{\"id\":\"84030\",\"type\":\"Line\"},\"hover_glyph\":null,\"muted_glyph\":null,\"nonselection_glyph\":{\"id\":\"84031\",\"type\":\"Line\"},\"selection_glyph\":null,\"view\":{\"id\":\"84033\",\"type\":\"CDSView\"}},\"id\":\"84032\",\"type\":\"GlyphRenderer\"},{\"attributes\":{},\"id\":\"86067\",\"type\":\"Selection\"},{\"attributes\":{\"callback\":null,\"data\":{\"base\":[2,3,4,5,6,7,8,9,10,11,12,13,14,15,16,17,18,19,20,21,22,23,24],\"lower\":[0.49621020532916554,0.4956644117032994,0.4794737309647733,0.49498975392764644,0.4861860821827423,0.49611155032508936,0.4866355283596324,0.4873976910314193,0.48872561843636725,0.48725317641231686,0.4895735569683292,0.4840435037720331,0.4891780047528898,0.4893920889971502,0.4864719195816792,0.49582957651594844,0.4994827801088971,0.49533213052768293,0.4948396210559656,0.49945567786686884,0.4985773339952835,0.4948899836705213,0.5053913220572475],\"upper\":[0.5303735267282508,0.5284143506033108,0.514231522405752,0.5300793704963169,0.5203829937550436,0.5309837529124849,0.5172298650009861,0.5180312694769782,0.5233577148969665,0.5276225578850169,0.5197675982663279,0.5244610007324714,0.5250524182894144,0.5336578435264664,0.5298982511281143,0.5435064486074254,0.550257130205004,0.5405997691138943,0.5420001282725933,0.5462241074640792,0.5442657594334159,0.5451636356324282,0.5549838454282372]},\"selected\":{\"id\":\"86063\",\"type\":\"Selection\"},\"selection_policy\":{\"id\":\"86062\",\"type\":\"UnionRenderers\"}},\"id\":\"84055\",\"type\":\"ColumnDataSource\"},{\"attributes\":{\"callback\":null,\"end\":0.65,\"start\":0.45},\"id\":\"84062\",\"type\":\"Range1d\"},{\"attributes\":{\"line_alpha\":0.1,\"line_color\":\"#1f77b4\",\"x\":{\"field\":\"x_data\"},\"y\":{\"field\":\"y_data\"}},\"id\":\"84031\",\"type\":\"Line\"},{\"attributes\":{\"source\":{\"id\":\"84013\",\"type\":\"ColumnDataSource\"}},\"id\":\"84018\",\"type\":\"CDSView\"},{\"attributes\":{\"line_alpha\":0.5,\"line_color\":\"#ffed6f\",\"x\":{\"field\":\"x_data\"},\"y\":{\"field\":\"y_data\"}},\"id\":\"84045\",\"type\":\"Line\"},{\"attributes\":{},\"id\":\"86071\",\"type\":\"Selection\"},{\"attributes\":{\"fill_alpha\":{\"value\":0.1},\"fill_color\":{\"value\":\"#1f77b4\"},\"line_alpha\":{\"value\":0.1},\"line_color\":{\"value\":\"#1f77b4\"},\"size\":{\"units\":\"screen\",\"value\":10},\"x\":{\"field\":\"x_data\"},\"y\":{\"field\":\"y_data\"}},\"id\":\"84021\",\"type\":\"Circle\"},{\"attributes\":{\"line_alpha\":0.1,\"line_color\":\"#1f77b4\",\"x\":{\"field\":\"x_data\"},\"y\":{\"field\":\"y_data\"}},\"id\":\"83986\",\"type\":\"Line\"},{\"attributes\":{\"fill_alpha\":{\"value\":0.25},\"fill_color\":{\"value\":\"#cab2d6\"},\"line_color\":{\"value\":null},\"size\":{\"units\":\"screen\",\"value\":10},\"x\":{\"field\":\"x_data\"},\"y\":{\"field\":\"y_data\"}},\"id\":\"84020\",\"type\":\"Circle\"},{\"attributes\":{},\"id\":\"86068\",\"type\":\"UnionRenderers\"},{\"attributes\":{\"fill_alpha\":{\"value\":0.5},\"fill_color\":{\"value\":\"#cab2d6\"},\"line_alpha\":{\"value\":0.5},\"line_color\":{\"value\":\"white\"},\"size\":{\"units\":\"screen\",\"value\":10},\"x\":{\"field\":\"x_data\"},\"y\":{\"field\":\"y_data\"}},\"id\":\"84022\",\"type\":\"Circle\"},{\"attributes\":{\"fill_alpha\":{\"value\":0.1},\"fill_color\":{\"value\":\"#1f77b4\"},\"line_alpha\":{\"value\":0.1},\"line_color\":{\"value\":\"#1f77b4\"},\"size\":{\"units\":\"screen\",\"value\":10},\"x\":{\"field\":\"x_data\"},\"y\":{\"field\":\"y_data\"}},\"id\":\"84036\",\"type\":\"Circle\"}],\"root_ids\":[\"83946\"]},\"title\":\"Bokeh Application\",\"version\":\"1.3.2\"}};\n",
       "  var render_items = [{\"docid\":\"293aa8ed-12ee-4111-8cb0-2d723e579cba\",\"roots\":{\"83946\":\"508a4dff-5133-4a51-86b0-e50d549b9eed\"}}];\n",
       "  root.Bokeh.embed.embed_items_notebook(docs_json, render_items);\n",
       "\n",
       "  }\n",
       "  if (root.Bokeh !== undefined) {\n",
       "    embed_document(root);\n",
       "  } else {\n",
       "    var attempts = 0;\n",
       "    var timer = setInterval(function(root) {\n",
       "      if (root.Bokeh !== undefined) {\n",
       "        embed_document(root);\n",
       "        clearInterval(timer);\n",
       "      }\n",
       "      attempts++;\n",
       "      if (attempts > 100) {\n",
       "        console.log(\"Bokeh: ERROR: Unable to run BokehJS code because BokehJS library is missing\");\n",
       "        clearInterval(timer);\n",
       "      }\n",
       "    }, 10, root)\n",
       "  }\n",
       "})(window);"
      ],
      "application/vnd.bokehjs_exec.v0+json": ""
     },
     "metadata": {
      "application/vnd.bokehjs_exec.v0+json": {
       "id": "83946"
      }
     },
     "output_type": "display_data"
    }
   ],
   "source": [
    "plot_variable_data(accuracy_data_dict, variables=['TOTUSJH', 'TOTUSJZ', 'MEANJZD', 'R_VALUE', 'USFLUX', 'TOTPOT'])"
   ]
  },
  {
   "cell_type": "code",
   "execution_count": 241,
   "metadata": {},
   "outputs": [],
   "source": [
    "def plot_coef_data(coef_data, time_data):\n",
    "    '''This function plots the coefficient data vs. lag time with the bokeh plotting\n",
    "    library. Each coefficient is displayed as a separate color.\n",
    "    '''\n",
    "    coef_data = np.array(coef_data)\n",
    "    transposed_data = coef_data.transpose()\n",
    "\n",
    "    sums = []\n",
    "    for var in coef_data:\n",
    "        sums.append(sum(list(map(lambda x : abs(x), var))) + 0.01)\n",
    "    normalized_data = []\n",
    "    for var in transposed_data:\n",
    "        normalized_data.append([abs(x) / sums[i] for i, x in enumerate(var)])\n",
    "\n",
    "    # Basic plot setup\n",
    "    plot = figure(plot_width=600, plot_height=300, tools='',\n",
    "                  toolbar_location=None, title='Lag time vs. feature importances',\n",
    "                  x_axis_label='Lag time (hr)', y_axis_label='Importance')\n",
    "\n",
    "    circles = []\n",
    "    items = []\n",
    "    for i, var in enumerate(normalized_data):\n",
    "        source = ColumnDataSource(data=dict(\n",
    "            x_data = time_data,\n",
    "            y_data = var\n",
    "        ))\n",
    "        item = plot.line('x_data', 'y_data', line_width=1, color=COLORS[i], source=source)\n",
    "        items.append(('coef ' + str(i + 1), [item]))\n",
    "        circles.append(plot.circle('x_data', 'y_data', size=10, source=source,\n",
    "                       fill_color=COLORS[i], hover_fill_color=COLORS[i],\n",
    "                       fill_alpha=0.25, hover_alpha=0.5,\n",
    "                       line_color=None, hover_line_color='white'))\n",
    "\n",
    "    plot.add_tools(HoverTool(tooltips=[('Importance', '@y_data')], renderers=circles,\n",
    "                             mode='vline'))\n",
    "    plot.x_range = Range1d(0, 25)\n",
    "    legend = Legend(items=items)\n",
    "\n",
    "    plot.add_layout(legend, 'right')\n",
    "    plot.legend.click_policy='hide'\n",
    "    \n",
    "    show(plot)"
   ]
  },
  {
   "cell_type": "code",
   "execution_count": 640,
   "metadata": {
    "scrolled": true
   },
   "outputs": [
    {
     "data": {
      "text/html": [
       "\n",
       "\n",
       "\n",
       "\n",
       "\n",
       "\n",
       "  <div class=\"bk-root\" id=\"29ea2849-31fa-4e22-9d73-254dceaee0dd\" data-root-id=\"101471\"></div>\n"
      ]
     },
     "metadata": {},
     "output_type": "display_data"
    },
    {
     "data": {
      "application/javascript": [
       "(function(root) {\n",
       "  function embed_document(root) {\n",
       "    \n",
       "  var docs_json = {\"c6a99cd1-ca0a-470b-b300-2488618a8ae7\":{\"roots\":{\"references\":[{\"attributes\":{\"below\":[{\"id\":\"101482\",\"type\":\"LinearAxis\"}],\"center\":[{\"id\":\"101486\",\"type\":\"Grid\"},{\"id\":\"101491\",\"type\":\"Grid\"}],\"left\":[{\"id\":\"101487\",\"type\":\"LinearAxis\"}],\"plot_height\":300,\"renderers\":[{\"id\":\"101497\",\"type\":\"GlyphRenderer\"},{\"id\":\"101503\",\"type\":\"GlyphRenderer\"},{\"id\":\"101509\",\"type\":\"GlyphRenderer\"},{\"id\":\"101515\",\"type\":\"GlyphRenderer\"},{\"id\":\"101521\",\"type\":\"GlyphRenderer\"},{\"id\":\"101527\",\"type\":\"GlyphRenderer\"},{\"id\":\"101533\",\"type\":\"GlyphRenderer\"},{\"id\":\"101539\",\"type\":\"GlyphRenderer\"},{\"id\":\"101545\",\"type\":\"GlyphRenderer\"},{\"id\":\"101551\",\"type\":\"GlyphRenderer\"},{\"id\":\"101557\",\"type\":\"GlyphRenderer\"},{\"id\":\"101563\",\"type\":\"GlyphRenderer\"},{\"id\":\"101569\",\"type\":\"GlyphRenderer\"},{\"id\":\"101575\",\"type\":\"GlyphRenderer\"}],\"right\":[{\"id\":\"101580\",\"type\":\"Legend\"}],\"title\":{\"id\":\"101472\",\"type\":\"Title\"},\"toolbar\":{\"id\":\"101492\",\"type\":\"Toolbar\"},\"toolbar_location\":null,\"x_range\":{\"id\":\"101579\",\"type\":\"Range1d\"},\"x_scale\":{\"id\":\"101478\",\"type\":\"LinearScale\"},\"y_range\":{\"id\":\"101476\",\"type\":\"DataRange1d\"},\"y_scale\":{\"id\":\"101480\",\"type\":\"LinearScale\"}},\"id\":\"101471\",\"subtype\":\"Figure\",\"type\":\"Plot\"},{\"attributes\":{},\"id\":\"101478\",\"type\":\"LinearScale\"},{\"attributes\":{\"callback\":null,\"data\":{\"x_data\":[2,3,4,5,6,7,8,9,10,11,12,13,14,15,16,17,18,19,20,21,22,23,24],\"y_data\":[0.1020404706229104,0.061951741104386567,0.008535845209310895,0.07062856611683069,0.035392323752808416,0.03981541118872959,0.26436295620173195,0.24504535216126597,0.2520296105869744,0.2497567760718185,0.06038144711234803,0.2882201073436397,0.0628686922495487,0.22798236035779262,0.2507608305226729,0.21661787348908054,0.2664849366694018,0.3034211626591327,0.2813328489078656,0.2585411214803361,0.25038957567370923,0.20612663007209775,0.18210203061141195]},\"selected\":{\"id\":\"103685\",\"type\":\"Selection\"},\"selection_policy\":{\"id\":\"103684\",\"type\":\"UnionRenderers\"}},\"id\":\"101553\",\"type\":\"ColumnDataSource\"},{\"attributes\":{\"callback\":null,\"data\":{\"x_data\":[2,3,4,5,6,7,8,9,10,11,12,13,14,15,16,17,18,19,20,21,22,23,24],\"y_data\":[0.07817142967697124,0.1033363949084525,0.20404981973210481,0.028684503685150603,0.036512956157880985,0.07578609823678333,0.07002250371304504,0.062266118101440865,0.024773726629236596,0.06800942718614902,0.12791397623691897,0.039346044528406246,0.0810150877657547,0.09851865481789263,0.14394625942459024,0.14408485780707683,0.04195987736605354,0.0012892311871126232,0.008766064301274242,0.04275912633251211,0.02152105827659618,0.10421150841668075,0.06771083746952443]},\"selected\":{\"id\":\"103675\",\"type\":\"Selection\"},\"selection_policy\":{\"id\":\"103674\",\"type\":\"UnionRenderers\"}},\"id\":\"101493\",\"type\":\"ColumnDataSource\"},{\"attributes\":{},\"id\":\"103681\",\"type\":\"Selection\"},{\"attributes\":{\"line_alpha\":0.1,\"line_color\":\"#1f77b4\",\"x\":{\"field\":\"x_data\"},\"y\":{\"field\":\"y_data\"}},\"id\":\"101496\",\"type\":\"Line\"},{\"attributes\":{\"data_source\":{\"id\":\"101565\",\"type\":\"ColumnDataSource\"},\"glyph\":{\"id\":\"101567\",\"type\":\"Line\"},\"hover_glyph\":null,\"muted_glyph\":null,\"nonselection_glyph\":{\"id\":\"101568\",\"type\":\"Line\"},\"selection_glyph\":null,\"view\":{\"id\":\"101570\",\"type\":\"CDSView\"}},\"id\":\"101569\",\"type\":\"GlyphRenderer\"},{\"attributes\":{\"callback\":null,\"mode\":\"vline\",\"renderers\":[{\"id\":\"101503\",\"type\":\"GlyphRenderer\"},{\"id\":\"101515\",\"type\":\"GlyphRenderer\"},{\"id\":\"101527\",\"type\":\"GlyphRenderer\"},{\"id\":\"101539\",\"type\":\"GlyphRenderer\"},{\"id\":\"101551\",\"type\":\"GlyphRenderer\"},{\"id\":\"101563\",\"type\":\"GlyphRenderer\"},{\"id\":\"101575\",\"type\":\"GlyphRenderer\"}],\"tooltips\":[[\"Importance\",\"@y_data\"]]},\"id\":\"101577\",\"type\":\"HoverTool\"},{\"attributes\":{\"text\":\"Lag time vs. feature importances\"},\"id\":\"101472\",\"type\":\"Title\"},{\"attributes\":{\"click_policy\":\"hide\",\"items\":[{\"id\":\"101581\",\"type\":\"LegendItem\"},{\"id\":\"101582\",\"type\":\"LegendItem\"},{\"id\":\"101583\",\"type\":\"LegendItem\"},{\"id\":\"101584\",\"type\":\"LegendItem\"},{\"id\":\"101585\",\"type\":\"LegendItem\"},{\"id\":\"101586\",\"type\":\"LegendItem\"},{\"id\":\"101587\",\"type\":\"LegendItem\"}]},\"id\":\"101580\",\"type\":\"Legend\"},{\"attributes\":{\"callback\":null},\"id\":\"101476\",\"type\":\"DataRange1d\"},{\"attributes\":{\"data_source\":{\"id\":\"101493\",\"type\":\"ColumnDataSource\"},\"glyph\":{\"id\":\"101495\",\"type\":\"Line\"},\"hover_glyph\":null,\"muted_glyph\":null,\"nonselection_glyph\":{\"id\":\"101496\",\"type\":\"Line\"},\"selection_glyph\":null,\"view\":{\"id\":\"101498\",\"type\":\"CDSView\"}},\"id\":\"101497\",\"type\":\"GlyphRenderer\"},{\"attributes\":{\"axis_label\":\"Lag time (hr)\",\"formatter\":{\"id\":\"103670\",\"type\":\"BasicTickFormatter\"},\"ticker\":{\"id\":\"101483\",\"type\":\"BasicTicker\"}},\"id\":\"101482\",\"type\":\"LinearAxis\"},{\"attributes\":{},\"id\":\"101483\",\"type\":\"BasicTicker\"},{\"attributes\":{\"fill_alpha\":{\"value\":0.5},\"fill_color\":{\"value\":\"#33a02c\"},\"line_alpha\":{\"value\":0.5},\"line_color\":{\"value\":\"white\"},\"size\":{\"units\":\"screen\",\"value\":10},\"x\":{\"field\":\"x_data\"},\"y\":{\"field\":\"y_data\"}},\"id\":\"101538\",\"type\":\"Circle\"},{\"attributes\":{\"callback\":null,\"data\":{\"x_data\":[2,3,4,5,6,7,8,9,10,11,12,13,14,15,16,17,18,19,20,21,22,23,24],\"y_data\":[0.14523594005605872,0.035401727584623954,0.07918232733948133,0.13124624539996693,0.17718881842335873,0.1963397838517563,0.11838189989301401,0.15846736757353472,0.16351520868841846,0.14131950331175036,0.11571739957957654,0.13696786992351723,0.11347812802054337,0.06469708239519459,0.04685311156350752,0.03713662523996975,0.033901026925372335,0.0486971584788061,0.06576132649136035,0.11764907864384173,0.1370204178898203,0.12749884397446734,0.10058692743867532]},\"selected\":{\"id\":\"103683\",\"type\":\"Selection\"},\"selection_policy\":{\"id\":\"103682\",\"type\":\"UnionRenderers\"}},\"id\":\"101541\",\"type\":\"ColumnDataSource\"},{\"attributes\":{\"ticker\":{\"id\":\"101483\",\"type\":\"BasicTicker\"}},\"id\":\"101486\",\"type\":\"Grid\"},{\"attributes\":{\"source\":{\"id\":\"101529\",\"type\":\"ColumnDataSource\"}},\"id\":\"101540\",\"type\":\"CDSView\"},{\"attributes\":{\"data_source\":{\"id\":\"101529\",\"type\":\"ColumnDataSource\"},\"glyph\":{\"id\":\"101536\",\"type\":\"Circle\"},\"hover_glyph\":{\"id\":\"101538\",\"type\":\"Circle\"},\"muted_glyph\":null,\"nonselection_glyph\":{\"id\":\"101537\",\"type\":\"Circle\"},\"selection_glyph\":null,\"view\":{\"id\":\"101540\",\"type\":\"CDSView\"}},\"id\":\"101539\",\"type\":\"GlyphRenderer\"},{\"attributes\":{\"axis_label\":\"Importance\",\"formatter\":{\"id\":\"103672\",\"type\":\"BasicTickFormatter\"},\"ticker\":{\"id\":\"101488\",\"type\":\"BasicTicker\"}},\"id\":\"101487\",\"type\":\"LinearAxis\"},{\"attributes\":{},\"id\":\"101488\",\"type\":\"BasicTicker\"},{\"attributes\":{\"line_color\":\"#33a02c\",\"x\":{\"field\":\"x_data\"},\"y\":{\"field\":\"y_data\"}},\"id\":\"101531\",\"type\":\"Line\"},{\"attributes\":{\"line_alpha\":0.1,\"line_color\":\"#1f77b4\",\"x\":{\"field\":\"x_data\"},\"y\":{\"field\":\"y_data\"}},\"id\":\"101532\",\"type\":\"Line\"},{\"attributes\":{\"dimension\":1,\"ticker\":{\"id\":\"101488\",\"type\":\"BasicTicker\"}},\"id\":\"101491\",\"type\":\"Grid\"},{\"attributes\":{\"fill_alpha\":{\"value\":0.1},\"fill_color\":{\"value\":\"#1f77b4\"},\"line_alpha\":{\"value\":0.1},\"line_color\":{\"value\":\"#1f77b4\"},\"size\":{\"units\":\"screen\",\"value\":10},\"x\":{\"field\":\"x_data\"},\"y\":{\"field\":\"y_data\"}},\"id\":\"101537\",\"type\":\"Circle\"},{\"attributes\":{\"source\":{\"id\":\"101541\",\"type\":\"ColumnDataSource\"}},\"id\":\"101546\",\"type\":\"CDSView\"},{\"attributes\":{\"active_drag\":\"auto\",\"active_inspect\":\"auto\",\"active_multi\":null,\"active_scroll\":\"auto\",\"active_tap\":\"auto\",\"tools\":[{\"id\":\"101577\",\"type\":\"HoverTool\"}]},\"id\":\"101492\",\"type\":\"Toolbar\"},{\"attributes\":{\"fill_alpha\":{\"value\":0.25},\"fill_color\":{\"value\":\"#33a02c\"},\"line_color\":{\"value\":null},\"size\":{\"units\":\"screen\",\"value\":10},\"x\":{\"field\":\"x_data\"},\"y\":{\"field\":\"y_data\"}},\"id\":\"101536\",\"type\":\"Circle\"},{\"attributes\":{\"source\":{\"id\":\"101541\",\"type\":\"ColumnDataSource\"}},\"id\":\"101552\",\"type\":\"CDSView\"},{\"attributes\":{\"line_color\":\"#a6cee3\",\"x\":{\"field\":\"x_data\"},\"y\":{\"field\":\"y_data\"}},\"id\":\"101495\",\"type\":\"Line\"},{\"attributes\":{\"data_source\":{\"id\":\"101541\",\"type\":\"ColumnDataSource\"},\"glyph\":{\"id\":\"101543\",\"type\":\"Line\"},\"hover_glyph\":null,\"muted_glyph\":null,\"nonselection_glyph\":{\"id\":\"101544\",\"type\":\"Line\"},\"selection_glyph\":null,\"view\":{\"id\":\"101546\",\"type\":\"CDSView\"}},\"id\":\"101545\",\"type\":\"GlyphRenderer\"},{\"attributes\":{\"source\":{\"id\":\"101493\",\"type\":\"ColumnDataSource\"}},\"id\":\"101498\",\"type\":\"CDSView\"},{\"attributes\":{\"source\":{\"id\":\"101529\",\"type\":\"ColumnDataSource\"}},\"id\":\"101534\",\"type\":\"CDSView\"},{\"attributes\":{},\"id\":\"101480\",\"type\":\"LinearScale\"},{\"attributes\":{\"data_source\":{\"id\":\"101529\",\"type\":\"ColumnDataSource\"},\"glyph\":{\"id\":\"101531\",\"type\":\"Line\"},\"hover_glyph\":null,\"muted_glyph\":null,\"nonselection_glyph\":{\"id\":\"101532\",\"type\":\"Line\"},\"selection_glyph\":null,\"view\":{\"id\":\"101534\",\"type\":\"CDSView\"}},\"id\":\"101533\",\"type\":\"GlyphRenderer\"},{\"attributes\":{\"data_source\":{\"id\":\"101517\",\"type\":\"ColumnDataSource\"},\"glyph\":{\"id\":\"101524\",\"type\":\"Circle\"},\"hover_glyph\":{\"id\":\"101526\",\"type\":\"Circle\"},\"muted_glyph\":null,\"nonselection_glyph\":{\"id\":\"101525\",\"type\":\"Circle\"},\"selection_glyph\":null,\"view\":{\"id\":\"101528\",\"type\":\"CDSView\"}},\"id\":\"101527\",\"type\":\"GlyphRenderer\"},{\"attributes\":{\"fill_alpha\":{\"value\":0.5},\"fill_color\":{\"value\":\"#b2df8a\"},\"line_alpha\":{\"value\":0.5},\"line_color\":{\"value\":\"white\"},\"size\":{\"units\":\"screen\",\"value\":10},\"x\":{\"field\":\"x_data\"},\"y\":{\"field\":\"y_data\"}},\"id\":\"101526\",\"type\":\"Circle\"},{\"attributes\":{},\"id\":\"103685\",\"type\":\"Selection\"},{\"attributes\":{},\"id\":\"103670\",\"type\":\"BasicTickFormatter\"},{\"attributes\":{\"source\":{\"id\":\"101517\",\"type\":\"ColumnDataSource\"}},\"id\":\"101528\",\"type\":\"CDSView\"},{\"attributes\":{\"label\":{\"value\":\"coef 1\"},\"renderers\":[{\"id\":\"101497\",\"type\":\"GlyphRenderer\"}]},\"id\":\"101581\",\"type\":\"LegendItem\"},{\"attributes\":{},\"id\":\"103683\",\"type\":\"Selection\"},{\"attributes\":{\"data_source\":{\"id\":\"101541\",\"type\":\"ColumnDataSource\"},\"glyph\":{\"id\":\"101548\",\"type\":\"Circle\"},\"hover_glyph\":{\"id\":\"101550\",\"type\":\"Circle\"},\"muted_glyph\":null,\"nonselection_glyph\":{\"id\":\"101549\",\"type\":\"Circle\"},\"selection_glyph\":null,\"view\":{\"id\":\"101552\",\"type\":\"CDSView\"}},\"id\":\"101551\",\"type\":\"GlyphRenderer\"},{\"attributes\":{\"label\":{\"value\":\"coef 2\"},\"renderers\":[{\"id\":\"101509\",\"type\":\"GlyphRenderer\"}]},\"id\":\"101582\",\"type\":\"LegendItem\"},{\"attributes\":{},\"id\":\"103677\",\"type\":\"Selection\"},{\"attributes\":{\"callback\":null,\"data\":{\"x_data\":[2,3,4,5,6,7,8,9,10,11,12,13,14,15,16,17,18,19,20,21,22,23,24],\"y_data\":[0.20034582234444148,0.19085146534201,0.09203804059013897,0.0816347819577143,0.055708312812135445,0.0017644770055970582,0.022220774920502884,0.008470497593564367,0.03236107646724022,0.018817913650008553,0.11384508745770201,0.061847261040330614,0.13531780870807755,0.09880935637548525,0.07246828523560654,0.10334725824411421,0.10493717942682412,0.08033829167053269,0.03422753327978526,0.00018598078822152581,0.021060396986434155,0.048027913571438804,0.07297321701608875]},\"selected\":{\"id\":\"103681\",\"type\":\"Selection\"},\"selection_policy\":{\"id\":\"103680\",\"type\":\"UnionRenderers\"}},\"id\":\"101529\",\"type\":\"ColumnDataSource\"},{\"attributes\":{\"label\":{\"value\":\"coef 3\"},\"renderers\":[{\"id\":\"101521\",\"type\":\"GlyphRenderer\"}]},\"id\":\"101583\",\"type\":\"LegendItem\"},{\"attributes\":{},\"id\":\"103676\",\"type\":\"UnionRenderers\"},{\"attributes\":{\"label\":{\"value\":\"coef 4\"},\"renderers\":[{\"id\":\"101533\",\"type\":\"GlyphRenderer\"}]},\"id\":\"101584\",\"type\":\"LegendItem\"},{\"attributes\":{\"label\":{\"value\":\"coef 5\"},\"renderers\":[{\"id\":\"101545\",\"type\":\"GlyphRenderer\"}]},\"id\":\"101585\",\"type\":\"LegendItem\"},{\"attributes\":{},\"id\":\"103684\",\"type\":\"UnionRenderers\"},{\"attributes\":{\"fill_alpha\":{\"value\":0.1},\"fill_color\":{\"value\":\"#1f77b4\"},\"line_alpha\":{\"value\":0.1},\"line_color\":{\"value\":\"#1f77b4\"},\"size\":{\"units\":\"screen\",\"value\":10},\"x\":{\"field\":\"x_data\"},\"y\":{\"field\":\"y_data\"}},\"id\":\"101501\",\"type\":\"Circle\"},{\"attributes\":{},\"id\":\"103687\",\"type\":\"Selection\"},{\"attributes\":{\"label\":{\"value\":\"coef 6\"},\"renderers\":[{\"id\":\"101557\",\"type\":\"GlyphRenderer\"}]},\"id\":\"101586\",\"type\":\"LegendItem\"},{\"attributes\":{},\"id\":\"103686\",\"type\":\"UnionRenderers\"},{\"attributes\":{\"data_source\":{\"id\":\"101493\",\"type\":\"ColumnDataSource\"},\"glyph\":{\"id\":\"101500\",\"type\":\"Circle\"},\"hover_glyph\":{\"id\":\"101502\",\"type\":\"Circle\"},\"muted_glyph\":null,\"nonselection_glyph\":{\"id\":\"101501\",\"type\":\"Circle\"},\"selection_glyph\":null,\"view\":{\"id\":\"101504\",\"type\":\"CDSView\"}},\"id\":\"101503\",\"type\":\"GlyphRenderer\"},{\"attributes\":{\"label\":{\"value\":\"coef 7\"},\"renderers\":[{\"id\":\"101569\",\"type\":\"GlyphRenderer\"}]},\"id\":\"101587\",\"type\":\"LegendItem\"},{\"attributes\":{\"fill_alpha\":{\"value\":0.25},\"fill_color\":{\"value\":\"#a6cee3\"},\"line_color\":{\"value\":null},\"size\":{\"units\":\"screen\",\"value\":10},\"x\":{\"field\":\"x_data\"},\"y\":{\"field\":\"y_data\"}},\"id\":\"101500\",\"type\":\"Circle\"},{\"attributes\":{},\"id\":\"103672\",\"type\":\"BasicTickFormatter\"},{\"attributes\":{\"fill_alpha\":{\"value\":0.5},\"fill_color\":{\"value\":\"#a6cee3\"},\"line_alpha\":{\"value\":0.5},\"line_color\":{\"value\":\"white\"},\"size\":{\"units\":\"screen\",\"value\":10},\"x\":{\"field\":\"x_data\"},\"y\":{\"field\":\"y_data\"}},\"id\":\"101502\",\"type\":\"Circle\"},{\"attributes\":{\"source\":{\"id\":\"101493\",\"type\":\"ColumnDataSource\"}},\"id\":\"101504\",\"type\":\"CDSView\"},{\"attributes\":{},\"id\":\"103674\",\"type\":\"UnionRenderers\"},{\"attributes\":{\"line_color\":\"#1f78b4\",\"x\":{\"field\":\"x_data\"},\"y\":{\"field\":\"y_data\"}},\"id\":\"101507\",\"type\":\"Line\"},{\"attributes\":{\"callback\":null,\"data\":{\"x_data\":[2,3,4,5,6,7,8,9,10,11,12,13,14,15,16,17,18,19,20,21,22,23,24],\"y_data\":[0.13270146301533664,0.10740331609950489,0.06824242882756776,0.08229519982391181,0.08516397721054696,0.05210197658773591,0.049486015790454765,0.05749895138129538,0.06445035436305627,0.06141725814221963,0.04293311970640487,0.03626702877539214,0.057468841142995226,0.11115260497070975,0.07475207360036533,0.05437304577516197,0.022239352600016495,0.023358906006061782,0.039599949834868975,0.09252562004652647,0.055291991420394614,0.008927999775483263,0.08067252320146631]},\"selected\":{\"id\":\"103677\",\"type\":\"Selection\"},\"selection_policy\":{\"id\":\"103676\",\"type\":\"UnionRenderers\"}},\"id\":\"101505\",\"type\":\"ColumnDataSource\"},{\"attributes\":{\"line_alpha\":0.1,\"line_color\":\"#1f77b4\",\"x\":{\"field\":\"x_data\"},\"y\":{\"field\":\"y_data\"}},\"id\":\"101568\",\"type\":\"Line\"},{\"attributes\":{\"fill_alpha\":{\"value\":0.5},\"fill_color\":{\"value\":\"#fb9a99\"},\"line_alpha\":{\"value\":0.5},\"line_color\":{\"value\":\"white\"},\"size\":{\"units\":\"screen\",\"value\":10},\"x\":{\"field\":\"x_data\"},\"y\":{\"field\":\"y_data\"}},\"id\":\"101550\",\"type\":\"Circle\"},{\"attributes\":{\"source\":{\"id\":\"101553\",\"type\":\"ColumnDataSource\"}},\"id\":\"101558\",\"type\":\"CDSView\"},{\"attributes\":{\"line_alpha\":0.1,\"line_color\":\"#1f77b4\",\"x\":{\"field\":\"x_data\"},\"y\":{\"field\":\"y_data\"}},\"id\":\"101508\",\"type\":\"Line\"},{\"attributes\":{\"line_color\":\"#fb9a99\",\"x\":{\"field\":\"x_data\"},\"y\":{\"field\":\"y_data\"}},\"id\":\"101543\",\"type\":\"Line\"},{\"attributes\":{\"callback\":null,\"data\":{\"x_data\":[2,3,4,5,6,7,8,9,10,11,12,13,14,15,16,17,18,19,20,21,22,23,24],\"y_data\":[0.2169831448118051,0.38323312867327924,0.46659218110018663,0.5154077301560689,0.600466855999277,0.5497301240732184,0.3182041551977757,0.2986364142867847,0.37051864305694926,0.3824087197842679,0.5331654181007868,0.40170116889292423,0.47253448375302165,0.36561662654280597,0.3627819024898917,0.34020655459771704,0.41375798753553555,0.41670033261476597,0.44725463996730364,0.39267676287980224,0.47238070964241774,0.49833088410668985,0.46632361600537303]},\"selected\":{\"id\":\"103687\",\"type\":\"Selection\"},\"selection_policy\":{\"id\":\"103686\",\"type\":\"UnionRenderers\"}},\"id\":\"101565\",\"type\":\"ColumnDataSource\"},{\"attributes\":{\"data_source\":{\"id\":\"101505\",\"type\":\"ColumnDataSource\"},\"glyph\":{\"id\":\"101507\",\"type\":\"Line\"},\"hover_glyph\":null,\"muted_glyph\":null,\"nonselection_glyph\":{\"id\":\"101508\",\"type\":\"Line\"},\"selection_glyph\":null,\"view\":{\"id\":\"101510\",\"type\":\"CDSView\"}},\"id\":\"101509\",\"type\":\"GlyphRenderer\"},{\"attributes\":{\"fill_alpha\":{\"value\":0.25},\"fill_color\":{\"value\":\"#fdbf6f\"},\"line_color\":{\"value\":null},\"size\":{\"units\":\"screen\",\"value\":10},\"x\":{\"field\":\"x_data\"},\"y\":{\"field\":\"y_data\"}},\"id\":\"101572\",\"type\":\"Circle\"},{\"attributes\":{\"source\":{\"id\":\"101505\",\"type\":\"ColumnDataSource\"}},\"id\":\"101510\",\"type\":\"CDSView\"},{\"attributes\":{},\"id\":\"103678\",\"type\":\"UnionRenderers\"},{\"attributes\":{\"fill_alpha\":{\"value\":0.5},\"fill_color\":{\"value\":\"#fdbf6f\"},\"line_alpha\":{\"value\":0.5},\"line_color\":{\"value\":\"white\"},\"size\":{\"units\":\"screen\",\"value\":10},\"x\":{\"field\":\"x_data\"},\"y\":{\"field\":\"y_data\"}},\"id\":\"101574\",\"type\":\"Circle\"},{\"attributes\":{\"source\":{\"id\":\"101565\",\"type\":\"ColumnDataSource\"}},\"id\":\"101576\",\"type\":\"CDSView\"},{\"attributes\":{\"fill_alpha\":{\"value\":0.25},\"fill_color\":{\"value\":\"#1f78b4\"},\"line_color\":{\"value\":null},\"size\":{\"units\":\"screen\",\"value\":10},\"x\":{\"field\":\"x_data\"},\"y\":{\"field\":\"y_data\"}},\"id\":\"101512\",\"type\":\"Circle\"},{\"attributes\":{\"source\":{\"id\":\"101553\",\"type\":\"ColumnDataSource\"}},\"id\":\"101564\",\"type\":\"CDSView\"},{\"attributes\":{\"fill_alpha\":{\"value\":0.1},\"fill_color\":{\"value\":\"#1f77b4\"},\"line_alpha\":{\"value\":0.1},\"line_color\":{\"value\":\"#1f77b4\"},\"size\":{\"units\":\"screen\",\"value\":10},\"x\":{\"field\":\"x_data\"},\"y\":{\"field\":\"y_data\"}},\"id\":\"101549\",\"type\":\"Circle\"},{\"attributes\":{\"fill_alpha\":{\"value\":0.1},\"fill_color\":{\"value\":\"#1f77b4\"},\"line_alpha\":{\"value\":0.1},\"line_color\":{\"value\":\"#1f77b4\"},\"size\":{\"units\":\"screen\",\"value\":10},\"x\":{\"field\":\"x_data\"},\"y\":{\"field\":\"y_data\"}},\"id\":\"101513\",\"type\":\"Circle\"},{\"attributes\":{\"fill_alpha\":{\"value\":0.1},\"fill_color\":{\"value\":\"#1f77b4\"},\"line_alpha\":{\"value\":0.1},\"line_color\":{\"value\":\"#1f77b4\"},\"size\":{\"units\":\"screen\",\"value\":10},\"x\":{\"field\":\"x_data\"},\"y\":{\"field\":\"y_data\"}},\"id\":\"101573\",\"type\":\"Circle\"},{\"attributes\":{\"fill_alpha\":{\"value\":0.5},\"fill_color\":{\"value\":\"#1f78b4\"},\"line_alpha\":{\"value\":0.5},\"line_color\":{\"value\":\"white\"},\"size\":{\"units\":\"screen\",\"value\":10},\"x\":{\"field\":\"x_data\"},\"y\":{\"field\":\"y_data\"}},\"id\":\"101514\",\"type\":\"Circle\"},{\"attributes\":{\"line_alpha\":0.1,\"line_color\":\"#1f77b4\",\"x\":{\"field\":\"x_data\"},\"y\":{\"field\":\"y_data\"}},\"id\":\"101544\",\"type\":\"Line\"},{\"attributes\":{\"data_source\":{\"id\":\"101565\",\"type\":\"ColumnDataSource\"},\"glyph\":{\"id\":\"101572\",\"type\":\"Circle\"},\"hover_glyph\":{\"id\":\"101574\",\"type\":\"Circle\"},\"muted_glyph\":null,\"nonselection_glyph\":{\"id\":\"101573\",\"type\":\"Circle\"},\"selection_glyph\":null,\"view\":{\"id\":\"101576\",\"type\":\"CDSView\"}},\"id\":\"101575\",\"type\":\"GlyphRenderer\"},{\"attributes\":{\"data_source\":{\"id\":\"101505\",\"type\":\"ColumnDataSource\"},\"glyph\":{\"id\":\"101512\",\"type\":\"Circle\"},\"hover_glyph\":{\"id\":\"101514\",\"type\":\"Circle\"},\"muted_glyph\":null,\"nonselection_glyph\":{\"id\":\"101513\",\"type\":\"Circle\"},\"selection_glyph\":null,\"view\":{\"id\":\"101516\",\"type\":\"CDSView\"}},\"id\":\"101515\",\"type\":\"GlyphRenderer\"},{\"attributes\":{\"callback\":null,\"end\":25},\"id\":\"101579\",\"type\":\"Range1d\"},{\"attributes\":{\"line_alpha\":0.1,\"line_color\":\"#1f77b4\",\"x\":{\"field\":\"x_data\"},\"y\":{\"field\":\"y_data\"}},\"id\":\"101556\",\"type\":\"Line\"},{\"attributes\":{\"source\":{\"id\":\"101505\",\"type\":\"ColumnDataSource\"}},\"id\":\"101516\",\"type\":\"CDSView\"},{\"attributes\":{\"callback\":null,\"data\":{\"x_data\":[2,3,4,5,6,7,8,9,10,11,12,13,14,15,16,17,18,19,20,21,22,23,24],\"y_data\":[0.123346266945378,0.11662668435487027,0.08037242775316297,0.08913349449343665,0.008476368547899241,0.08360301081897066,0.15660441591053434,0.16889796348536984,0.09160073256143446,0.07751438657522189,0.0052895948356496535,0.034907515669967984,0.07662409171803602,0.032632440446050515,0.04776311999679621,0.10361325107634907,0.11602111648851476,0.12542617842509124,0.12225325157442052,0.09488673003908295,0.04153930956185708,0.006092647749803544,0.028918574063832383]},\"selected\":{\"id\":\"103679\",\"type\":\"Selection\"},\"selection_policy\":{\"id\":\"103678\",\"type\":\"UnionRenderers\"}},\"id\":\"101517\",\"type\":\"ColumnDataSource\"},{\"attributes\":{},\"id\":\"103680\",\"type\":\"UnionRenderers\"},{\"attributes\":{\"fill_alpha\":{\"value\":0.25},\"fill_color\":{\"value\":\"#e31a1c\"},\"line_color\":{\"value\":null},\"size\":{\"units\":\"screen\",\"value\":10},\"x\":{\"field\":\"x_data\"},\"y\":{\"field\":\"y_data\"}},\"id\":\"101560\",\"type\":\"Circle\"},{\"attributes\":{\"fill_alpha\":{\"value\":0.25},\"fill_color\":{\"value\":\"#fb9a99\"},\"line_color\":{\"value\":null},\"size\":{\"units\":\"screen\",\"value\":10},\"x\":{\"field\":\"x_data\"},\"y\":{\"field\":\"y_data\"}},\"id\":\"101548\",\"type\":\"Circle\"},{\"attributes\":{\"data_source\":{\"id\":\"101553\",\"type\":\"ColumnDataSource\"},\"glyph\":{\"id\":\"101555\",\"type\":\"Line\"},\"hover_glyph\":null,\"muted_glyph\":null,\"nonselection_glyph\":{\"id\":\"101556\",\"type\":\"Line\"},\"selection_glyph\":null,\"view\":{\"id\":\"101558\",\"type\":\"CDSView\"}},\"id\":\"101557\",\"type\":\"GlyphRenderer\"},{\"attributes\":{\"line_color\":\"#b2df8a\",\"x\":{\"field\":\"x_data\"},\"y\":{\"field\":\"y_data\"}},\"id\":\"101519\",\"type\":\"Line\"},{\"attributes\":{\"line_color\":\"#e31a1c\",\"x\":{\"field\":\"x_data\"},\"y\":{\"field\":\"y_data\"}},\"id\":\"101555\",\"type\":\"Line\"},{\"attributes\":{\"line_alpha\":0.1,\"line_color\":\"#1f77b4\",\"x\":{\"field\":\"x_data\"},\"y\":{\"field\":\"y_data\"}},\"id\":\"101520\",\"type\":\"Line\"},{\"attributes\":{\"data_source\":{\"id\":\"101517\",\"type\":\"ColumnDataSource\"},\"glyph\":{\"id\":\"101519\",\"type\":\"Line\"},\"hover_glyph\":null,\"muted_glyph\":null,\"nonselection_glyph\":{\"id\":\"101520\",\"type\":\"Line\"},\"selection_glyph\":null,\"view\":{\"id\":\"101522\",\"type\":\"CDSView\"}},\"id\":\"101521\",\"type\":\"GlyphRenderer\"},{\"attributes\":{\"fill_alpha\":{\"value\":0.1},\"fill_color\":{\"value\":\"#1f77b4\"},\"line_alpha\":{\"value\":0.1},\"line_color\":{\"value\":\"#1f77b4\"},\"size\":{\"units\":\"screen\",\"value\":10},\"x\":{\"field\":\"x_data\"},\"y\":{\"field\":\"y_data\"}},\"id\":\"101561\",\"type\":\"Circle\"},{\"attributes\":{\"fill_alpha\":{\"value\":0.5},\"fill_color\":{\"value\":\"#e31a1c\"},\"line_alpha\":{\"value\":0.5},\"line_color\":{\"value\":\"white\"},\"size\":{\"units\":\"screen\",\"value\":10},\"x\":{\"field\":\"x_data\"},\"y\":{\"field\":\"y_data\"}},\"id\":\"101562\",\"type\":\"Circle\"},{\"attributes\":{\"line_color\":\"#fdbf6f\",\"x\":{\"field\":\"x_data\"},\"y\":{\"field\":\"y_data\"}},\"id\":\"101567\",\"type\":\"Line\"},{\"attributes\":{\"source\":{\"id\":\"101517\",\"type\":\"ColumnDataSource\"}},\"id\":\"101522\",\"type\":\"CDSView\"},{\"attributes\":{\"source\":{\"id\":\"101565\",\"type\":\"ColumnDataSource\"}},\"id\":\"101570\",\"type\":\"CDSView\"},{\"attributes\":{},\"id\":\"103682\",\"type\":\"UnionRenderers\"},{\"attributes\":{\"data_source\":{\"id\":\"101553\",\"type\":\"ColumnDataSource\"},\"glyph\":{\"id\":\"101560\",\"type\":\"Circle\"},\"hover_glyph\":{\"id\":\"101562\",\"type\":\"Circle\"},\"muted_glyph\":null,\"nonselection_glyph\":{\"id\":\"101561\",\"type\":\"Circle\"},\"selection_glyph\":null,\"view\":{\"id\":\"101564\",\"type\":\"CDSView\"}},\"id\":\"101563\",\"type\":\"GlyphRenderer\"},{\"attributes\":{},\"id\":\"103675\",\"type\":\"Selection\"},{\"attributes\":{\"fill_alpha\":{\"value\":0.25},\"fill_color\":{\"value\":\"#b2df8a\"},\"line_color\":{\"value\":null},\"size\":{\"units\":\"screen\",\"value\":10},\"x\":{\"field\":\"x_data\"},\"y\":{\"field\":\"y_data\"}},\"id\":\"101524\",\"type\":\"Circle\"},{\"attributes\":{},\"id\":\"103679\",\"type\":\"Selection\"},{\"attributes\":{\"fill_alpha\":{\"value\":0.1},\"fill_color\":{\"value\":\"#1f77b4\"},\"line_alpha\":{\"value\":0.1},\"line_color\":{\"value\":\"#1f77b4\"},\"size\":{\"units\":\"screen\",\"value\":10},\"x\":{\"field\":\"x_data\"},\"y\":{\"field\":\"y_data\"}},\"id\":\"101525\",\"type\":\"Circle\"}],\"root_ids\":[\"101471\"]},\"title\":\"Bokeh Application\",\"version\":\"1.3.2\"}};\n",
       "  var render_items = [{\"docid\":\"c6a99cd1-ca0a-470b-b300-2488618a8ae7\",\"roots\":{\"101471\":\"29ea2849-31fa-4e22-9d73-254dceaee0dd\"}}];\n",
       "  root.Bokeh.embed.embed_items_notebook(docs_json, render_items);\n",
       "\n",
       "  }\n",
       "  if (root.Bokeh !== undefined) {\n",
       "    embed_document(root);\n",
       "  } else {\n",
       "    var attempts = 0;\n",
       "    var timer = setInterval(function(root) {\n",
       "      if (root.Bokeh !== undefined) {\n",
       "        embed_document(root);\n",
       "        clearInterval(timer);\n",
       "      }\n",
       "      attempts++;\n",
       "      if (attempts > 100) {\n",
       "        console.log(\"Bokeh: ERROR: Unable to run BokehJS code because BokehJS library is missing\");\n",
       "        clearInterval(timer);\n",
       "      }\n",
       "    }, 10, root)\n",
       "  }\n",
       "})(window);"
      ],
      "application/vnd.bokehjs_exec.v0+json": ""
     },
     "metadata": {
      "application/vnd.bokehjs_exec.v0+json": {
       "id": "101471"
      }
     },
     "output_type": "display_data"
    }
   ],
   "source": [
    "plot_coef_data(coef_data['USFLUX'], time_data)"
   ]
  },
  {
   "cell_type": "markdown",
   "metadata": {},
   "source": [
    "The plot above is confusing. If we want to plot only specific features, we can manipulate the `coef_data` before passing it into `plot_coef_data`.\n",
    "\n",
    "We will splice the data such that we only plot `coef 2` and `coef 6`. These specific variables are meaningful because `coef 2` corresponds to the first half of the lag time and `coef 6` corresponds to the last half of the lag time. This is due to the properties of B-splines. Note: this is only true if we are plotting coefficients for `spline_features`."
   ]
  },
  {
   "cell_type": "code",
   "execution_count": 641,
   "metadata": {
    "scrolled": true
   },
   "outputs": [
    {
     "data": {
      "text/html": [
       "\n",
       "\n",
       "\n",
       "\n",
       "\n",
       "\n",
       "  <div class=\"bk-root\" id=\"856e0786-7dd2-4cc7-a173-38a15156c22e\" data-root-id=\"103802\"></div>\n"
      ]
     },
     "metadata": {},
     "output_type": "display_data"
    },
    {
     "data": {
      "application/javascript": [
       "(function(root) {\n",
       "  function embed_document(root) {\n",
       "    \n",
       "  var docs_json = {\"0123ecec-0d30-4aec-ab0a-abc8bbd8e1df\":{\"roots\":{\"references\":[{\"attributes\":{\"below\":[{\"id\":\"103813\",\"type\":\"LinearAxis\"}],\"center\":[{\"id\":\"103817\",\"type\":\"Grid\"},{\"id\":\"103822\",\"type\":\"Grid\"}],\"left\":[{\"id\":\"103818\",\"type\":\"LinearAxis\"}],\"plot_height\":300,\"renderers\":[{\"id\":\"103828\",\"type\":\"GlyphRenderer\"},{\"id\":\"103834\",\"type\":\"GlyphRenderer\"},{\"id\":\"103840\",\"type\":\"GlyphRenderer\"},{\"id\":\"103846\",\"type\":\"GlyphRenderer\"}],\"right\":[{\"id\":\"103851\",\"type\":\"Legend\"}],\"title\":{\"id\":\"103803\",\"type\":\"Title\"},\"toolbar\":{\"id\":\"103823\",\"type\":\"Toolbar\"},\"toolbar_location\":null,\"x_range\":{\"id\":\"103850\",\"type\":\"Range1d\"},\"x_scale\":{\"id\":\"103809\",\"type\":\"LinearScale\"},\"y_range\":{\"id\":\"103807\",\"type\":\"DataRange1d\"},\"y_scale\":{\"id\":\"103811\",\"type\":\"LinearScale\"}},\"id\":\"103802\",\"subtype\":\"Figure\",\"type\":\"Plot\"},{\"attributes\":{\"data_source\":{\"id\":\"103824\",\"type\":\"ColumnDataSource\"},\"glyph\":{\"id\":\"103826\",\"type\":\"Line\"},\"hover_glyph\":null,\"muted_glyph\":null,\"nonselection_glyph\":{\"id\":\"103827\",\"type\":\"Line\"},\"selection_glyph\":null,\"view\":{\"id\":\"103829\",\"type\":\"CDSView\"}},\"id\":\"103828\",\"type\":\"GlyphRenderer\"},{\"attributes\":{},\"id\":\"105961\",\"type\":\"UnionRenderers\"},{\"attributes\":{\"fill_alpha\":{\"value\":0.25},\"fill_color\":{\"value\":\"#a6cee3\"},\"line_color\":{\"value\":null},\"size\":{\"units\":\"screen\",\"value\":10},\"x\":{\"field\":\"x_data\"},\"y\":{\"field\":\"y_data\"}},\"id\":\"103831\",\"type\":\"Circle\"},{\"attributes\":{\"data_source\":{\"id\":\"103824\",\"type\":\"ColumnDataSource\"},\"glyph\":{\"id\":\"103831\",\"type\":\"Circle\"},\"hover_glyph\":{\"id\":\"103833\",\"type\":\"Circle\"},\"muted_glyph\":null,\"nonselection_glyph\":{\"id\":\"103832\",\"type\":\"Circle\"},\"selection_glyph\":null,\"view\":{\"id\":\"103835\",\"type\":\"CDSView\"}},\"id\":\"103834\",\"type\":\"GlyphRenderer\"},{\"attributes\":{\"fill_alpha\":{\"value\":0.1},\"fill_color\":{\"value\":\"#1f77b4\"},\"line_alpha\":{\"value\":0.1},\"line_color\":{\"value\":\"#1f77b4\"},\"size\":{\"units\":\"screen\",\"value\":10},\"x\":{\"field\":\"x_data\"},\"y\":{\"field\":\"y_data\"}},\"id\":\"103832\",\"type\":\"Circle\"},{\"attributes\":{\"fill_alpha\":{\"value\":0.5},\"fill_color\":{\"value\":\"#1f78b4\"},\"line_alpha\":{\"value\":0.5},\"line_color\":{\"value\":\"white\"},\"size\":{\"units\":\"screen\",\"value\":10},\"x\":{\"field\":\"x_data\"},\"y\":{\"field\":\"y_data\"}},\"id\":\"103845\",\"type\":\"Circle\"},{\"attributes\":{\"fill_alpha\":{\"value\":0.5},\"fill_color\":{\"value\":\"#a6cee3\"},\"line_alpha\":{\"value\":0.5},\"line_color\":{\"value\":\"white\"},\"size\":{\"units\":\"screen\",\"value\":10},\"x\":{\"field\":\"x_data\"},\"y\":{\"field\":\"y_data\"}},\"id\":\"103833\",\"type\":\"Circle\"},{\"attributes\":{},\"id\":\"103809\",\"type\":\"LinearScale\"},{\"attributes\":{\"dimension\":1,\"ticker\":{\"id\":\"103819\",\"type\":\"BasicTicker\"}},\"id\":\"103822\",\"type\":\"Grid\"},{\"attributes\":{\"callback\":null},\"id\":\"103807\",\"type\":\"DataRange1d\"},{\"attributes\":{\"callback\":null,\"end\":25},\"id\":\"103850\",\"type\":\"Range1d\"},{\"attributes\":{},\"id\":\"105957\",\"type\":\"BasicTickFormatter\"},{\"attributes\":{\"active_drag\":\"auto\",\"active_inspect\":\"auto\",\"active_multi\":null,\"active_scroll\":\"auto\",\"active_tap\":\"auto\",\"tools\":[{\"id\":\"103848\",\"type\":\"HoverTool\"}]},\"id\":\"103823\",\"type\":\"Toolbar\"},{\"attributes\":{\"callback\":null,\"data\":{\"x_data\":[2,3,4,5,6,7,8,9,10,11,12,13,14,15,16,17,18,19,20,21,22,23,24],\"y_data\":[0.43252626674208533,0.36324552020311357,0.10976432680415435,0.45894520214045537,0.29094358685303623,0.4291540272368223,0.8404047029675836,0.8080328029690182,0.794468126906046,0.8006820005898205,0.5802085483076488,0.886203558478653,0.5194454635495972,0.6710774804333175,0.7687632662461246,0.7975284954620384,0.9207461381175644,0.926338779433818,0.8744181977127832,0.7348209860397558,0.8169900865006556,0.9550053141163514,0.691123848539842]},\"selected\":{\"id\":\"105962\",\"type\":\"Selection\"},\"selection_policy\":{\"id\":\"105961\",\"type\":\"UnionRenderers\"}},\"id\":\"103836\",\"type\":\"ColumnDataSource\"},{\"attributes\":{},\"id\":\"105959\",\"type\":\"UnionRenderers\"},{\"attributes\":{\"click_policy\":\"hide\",\"items\":[{\"id\":\"103852\",\"type\":\"LegendItem\"},{\"id\":\"103853\",\"type\":\"LegendItem\"}]},\"id\":\"103851\",\"type\":\"Legend\"},{\"attributes\":{\"line_alpha\":0.1,\"line_color\":\"#1f77b4\",\"x\":{\"field\":\"x_data\"},\"y\":{\"field\":\"y_data\"}},\"id\":\"103839\",\"type\":\"Line\"},{\"attributes\":{},\"id\":\"105955\",\"type\":\"BasicTickFormatter\"},{\"attributes\":{\"callback\":null,\"data\":{\"x_data\":[2,3,4,5,6,7,8,9,10,11,12,13,14,15,16,17,18,19,20,21,22,23,24],\"y_data\":[0.5624912158759641,0.6297445839716954,0.8775445285216356,0.5347551167313601,0.7000928555401965,0.5615858887815479,0.15731508301674008,0.18960179592319337,0.2031656208569906,0.19689433012985882,0.41254663891746207,0.11151189364411798,0.4748298041366624,0.3271832521177515,0.22916915747928834,0.20018686681890727,0.07684035832052784,0.07131427580373903,0.12308166962565686,0.26297467484954606,0.18041090062075155,0.041364316813571514,0.3061728884582963]},\"selected\":{\"id\":\"105960\",\"type\":\"Selection\"},\"selection_policy\":{\"id\":\"105959\",\"type\":\"UnionRenderers\"}},\"id\":\"103824\",\"type\":\"ColumnDataSource\"},{\"attributes\":{\"callback\":null,\"mode\":\"vline\",\"renderers\":[{\"id\":\"103834\",\"type\":\"GlyphRenderer\"},{\"id\":\"103846\",\"type\":\"GlyphRenderer\"}],\"tooltips\":[[\"Importance\",\"@y_data\"]]},\"id\":\"103848\",\"type\":\"HoverTool\"},{\"attributes\":{\"fill_alpha\":{\"value\":0.1},\"fill_color\":{\"value\":\"#1f77b4\"},\"line_alpha\":{\"value\":0.1},\"line_color\":{\"value\":\"#1f77b4\"},\"size\":{\"units\":\"screen\",\"value\":10},\"x\":{\"field\":\"x_data\"},\"y\":{\"field\":\"y_data\"}},\"id\":\"103844\",\"type\":\"Circle\"},{\"attributes\":{\"text\":\"Lag time vs. feature importances\"},\"id\":\"103803\",\"type\":\"Title\"},{\"attributes\":{},\"id\":\"105960\",\"type\":\"Selection\"},{\"attributes\":{\"source\":{\"id\":\"103824\",\"type\":\"ColumnDataSource\"}},\"id\":\"103835\",\"type\":\"CDSView\"},{\"attributes\":{\"axis_label\":\"Lag time (hr)\",\"formatter\":{\"id\":\"105955\",\"type\":\"BasicTickFormatter\"},\"ticker\":{\"id\":\"103814\",\"type\":\"BasicTicker\"}},\"id\":\"103813\",\"type\":\"LinearAxis\"},{\"attributes\":{\"label\":{\"value\":\"coef 1\"},\"renderers\":[{\"id\":\"103828\",\"type\":\"GlyphRenderer\"}]},\"id\":\"103852\",\"type\":\"LegendItem\"},{\"attributes\":{\"ticker\":{\"id\":\"103814\",\"type\":\"BasicTicker\"}},\"id\":\"103817\",\"type\":\"Grid\"},{\"attributes\":{\"line_color\":\"#1f78b4\",\"x\":{\"field\":\"x_data\"},\"y\":{\"field\":\"y_data\"}},\"id\":\"103838\",\"type\":\"Line\"},{\"attributes\":{},\"id\":\"105962\",\"type\":\"Selection\"},{\"attributes\":{\"fill_alpha\":{\"value\":0.25},\"fill_color\":{\"value\":\"#1f78b4\"},\"line_color\":{\"value\":null},\"size\":{\"units\":\"screen\",\"value\":10},\"x\":{\"field\":\"x_data\"},\"y\":{\"field\":\"y_data\"}},\"id\":\"103843\",\"type\":\"Circle\"},{\"attributes\":{},\"id\":\"103814\",\"type\":\"BasicTicker\"},{\"attributes\":{\"data_source\":{\"id\":\"103836\",\"type\":\"ColumnDataSource\"},\"glyph\":{\"id\":\"103838\",\"type\":\"Line\"},\"hover_glyph\":null,\"muted_glyph\":null,\"nonselection_glyph\":{\"id\":\"103839\",\"type\":\"Line\"},\"selection_glyph\":null,\"view\":{\"id\":\"103841\",\"type\":\"CDSView\"}},\"id\":\"103840\",\"type\":\"GlyphRenderer\"},{\"attributes\":{\"source\":{\"id\":\"103836\",\"type\":\"ColumnDataSource\"}},\"id\":\"103841\",\"type\":\"CDSView\"},{\"attributes\":{\"axis_label\":\"Importance\",\"formatter\":{\"id\":\"105957\",\"type\":\"BasicTickFormatter\"},\"ticker\":{\"id\":\"103819\",\"type\":\"BasicTicker\"}},\"id\":\"103818\",\"type\":\"LinearAxis\"},{\"attributes\":{\"line_alpha\":0.1,\"line_color\":\"#1f77b4\",\"x\":{\"field\":\"x_data\"},\"y\":{\"field\":\"y_data\"}},\"id\":\"103827\",\"type\":\"Line\"},{\"attributes\":{},\"id\":\"103811\",\"type\":\"LinearScale\"},{\"attributes\":{},\"id\":\"103819\",\"type\":\"BasicTicker\"},{\"attributes\":{\"source\":{\"id\":\"103824\",\"type\":\"ColumnDataSource\"}},\"id\":\"103829\",\"type\":\"CDSView\"},{\"attributes\":{\"source\":{\"id\":\"103836\",\"type\":\"ColumnDataSource\"}},\"id\":\"103847\",\"type\":\"CDSView\"},{\"attributes\":{\"label\":{\"value\":\"coef 2\"},\"renderers\":[{\"id\":\"103840\",\"type\":\"GlyphRenderer\"}]},\"id\":\"103853\",\"type\":\"LegendItem\"},{\"attributes\":{\"line_color\":\"#a6cee3\",\"x\":{\"field\":\"x_data\"},\"y\":{\"field\":\"y_data\"}},\"id\":\"103826\",\"type\":\"Line\"},{\"attributes\":{\"data_source\":{\"id\":\"103836\",\"type\":\"ColumnDataSource\"},\"glyph\":{\"id\":\"103843\",\"type\":\"Circle\"},\"hover_glyph\":{\"id\":\"103845\",\"type\":\"Circle\"},\"muted_glyph\":null,\"nonselection_glyph\":{\"id\":\"103844\",\"type\":\"Circle\"},\"selection_glyph\":null,\"view\":{\"id\":\"103847\",\"type\":\"CDSView\"}},\"id\":\"103846\",\"type\":\"GlyphRenderer\"}],\"root_ids\":[\"103802\"]},\"title\":\"Bokeh Application\",\"version\":\"1.3.2\"}};\n",
       "  var render_items = [{\"docid\":\"0123ecec-0d30-4aec-ab0a-abc8bbd8e1df\",\"roots\":{\"103802\":\"856e0786-7dd2-4cc7-a173-38a15156c22e\"}}];\n",
       "  root.Bokeh.embed.embed_items_notebook(docs_json, render_items);\n",
       "\n",
       "  }\n",
       "  if (root.Bokeh !== undefined) {\n",
       "    embed_document(root);\n",
       "  } else {\n",
       "    var attempts = 0;\n",
       "    var timer = setInterval(function(root) {\n",
       "      if (root.Bokeh !== undefined) {\n",
       "        embed_document(root);\n",
       "        clearInterval(timer);\n",
       "      }\n",
       "      attempts++;\n",
       "      if (attempts > 100) {\n",
       "        console.log(\"Bokeh: ERROR: Unable to run BokehJS code because BokehJS library is missing\");\n",
       "        clearInterval(timer);\n",
       "      }\n",
       "    }, 10, root)\n",
       "  }\n",
       "})(window);"
      ],
      "application/vnd.bokehjs_exec.v0+json": ""
     },
     "metadata": {
      "application/vnd.bokehjs_exec.v0+json": {
       "id": "103802"
      }
     },
     "output_type": "display_data"
    }
   ],
   "source": [
    "spliced_data = list(map(lambda x : [x[1], x[-2]], coef_data['USFLUX']))\n",
    "plot_coef_data(spliced_data, time_data)"
   ]
  },
  {
   "cell_type": "markdown",
   "metadata": {},
   "source": [
    "Lastly, we have a function that plots the importance of the feature for spline fitting over time. This is built by using the ratios of the two variables above. Since the ratio between the two coefficients corresponds to the relative importance of the first and second half of the lag time, we can make a plot that reflects this."
   ]
  },
  {
   "cell_type": "code",
   "execution_count": 244,
   "metadata": {},
   "outputs": [],
   "source": [
    "from sklearn.linear_model import LinearRegression\n",
    "\n",
    "def plot_spline_feature_importance(coef_data, time_data):\n",
    "    '''This method takes coefficient data and time data, and creates a plot of the\n",
    "    importance of the time series data for the spline model over time.\n",
    "    '''\n",
    "    first_and_last = list(map(lambda x : [abs(x[1]), abs(x[-2])], coef_data))\n",
    "\n",
    "    def normalize_points(point):\n",
    "        '''This method takes a list of two values and returns the normalized list.\n",
    "        It is normalized such that both numbers sum to 1.\n",
    "        '''\n",
    "        if point[0] == 0 and point[1] == 0: return [0.5, 0.5] # Inconclusive\n",
    "        else:\n",
    "            point_sum = point[0] + point[1]\n",
    "            return [point[0] / point_sum, point[1] / point_sum]\n",
    "    normalized_data = list(map(normalize_points, first_and_last))\n",
    "\n",
    "    time_dict = {}\n",
    "    for i, t in enumerate(time_data):\n",
    "        contains_nan = False\n",
    "        for coef in normalized_data[i]:\n",
    "            if np.isnan(coef): contains_nan = True\n",
    "        if contains_nan: continue\n",
    "        time_dict[t] = normalized_data[i]\n",
    "\n",
    "    time_points, data_points, data_point_ranges = [], [], []\n",
    "    for i, lag_time in enumerate(time_dict.keys()):\n",
    "        if i == 0:\n",
    "            time_points += [24 - lag_time * 3/4, 24 - lag_time/4]\n",
    "            data_points += time_dict[lag_time]\n",
    "            data_point_ranges += [(24 - lag_time, 24 - lag_time/2),\n",
    "                                  (24 - lag_time/2, 24)]\n",
    "        else:\n",
    "            # Keep track of areas since many areas overlap\n",
    "            second_half_area, first_half_area = 0, 0\n",
    "            second_half_range = (24 - lag_time/2, 24)\n",
    "            first_half_range = (24 - lag_time, 24 - lag_time/2)\n",
    "            for j, d in enumerate(data_point_ranges):\n",
    "                second_overlap, first_overlap = 0, 0\n",
    "                if second_half_range[1] > d[0]:\n",
    "                    second_overlap = (min(second_half_range[1], d[1]) -\n",
    "                                      max(second_half_range[0], d[0]))\n",
    "                    if second_overlap < 0: second_overlap = 0\n",
    "                second_half_area += second_overlap * data_points[j]\n",
    "                if first_half_range[1] > d[0]:\n",
    "                    first_overlap = min(first_half_range[1], d[1]) -  d[0]\n",
    "                first_half_area += first_overlap * data_points[j]\n",
    "            width = 1\n",
    "            # Adding 0.1 smooths the ratios\n",
    "            ratio = (time_dict[lag_time][0] + 0.1) / (time_dict[lag_time][1] + 0.1)\n",
    "            if ratio * second_half_area - first_half_area < 0:\n",
    "                average_ratio = (first_half_area / second_half_area + ratio) / 2\n",
    "                factor = average_ratio / (first_half_area / second_half_area)\n",
    "                for k, d in enumerate(data_point_ranges):\n",
    "                    if first_half_range[1] > d[0]:\n",
    "                        data_points[k] *= factor\n",
    "                data_points.append(0)\n",
    "            else:\n",
    "                data_points.append((ratio * second_half_area - first_half_area) / width)\n",
    "            data_point_ranges.append((24 - lag_time, 24 - lag_time + width))\n",
    "            time_points.append(24 - lag_time * 3/4)\n",
    "\n",
    "        areas = ([x * (data_point_ranges[i][1] - data_point_ranges[i][0])\n",
    "                  for i, x in enumerate(data_points)])\n",
    "        total_area = sum(areas)\n",
    "        data_points = list(map(lambda x : x / total_area, data_points))\n",
    "\n",
    "    # Create plot\n",
    "    plot = figure(plot_width=600, plot_height=300, tools='', x_range=[0,24],\n",
    "                  toolbar_location=None, title='Feature importance over time',\n",
    "                  x_axis_label='Time', y_axis_label='Importance')\n",
    "    source = ColumnDataSource(data=dict(\n",
    "        x_data = time_points,\n",
    "        y_data = data_points\n",
    "    ))\n",
    "    plot.circle('x_data', 'y_data', size=10, source=source,\n",
    "                fill_color='red', fill_alpha=1, line_color=None)\n",
    "    # To avoid division by 0, replace all 0s with 0.01\n",
    "    data_points = list(map(lambda x : x + 0.01, data_points))\n",
    "    reg = LinearRegression().fit(np.array(time_points).reshape(-1, 1), data_points)\n",
    "    plot.line([time_data[0], time_data[-1]],\n",
    "              [reg.predict([[time_data[0]]])[0],\n",
    "               reg.predict([[time_data[-1]]])[0]], line_width=2)\n",
    "    show(plot)"
   ]
  },
  {
   "cell_type": "code",
   "execution_count": 642,
   "metadata": {
    "scrolled": true
   },
   "outputs": [
    {
     "data": {
      "text/html": [
       "\n",
       "\n",
       "\n",
       "\n",
       "\n",
       "\n",
       "  <div class=\"bk-root\" id=\"dc08161d-7612-43e3-85e1-32c07352df14\" data-root-id=\"106017\"></div>\n"
      ]
     },
     "metadata": {},
     "output_type": "display_data"
    },
    {
     "data": {
      "application/javascript": [
       "(function(root) {\n",
       "  function embed_document(root) {\n",
       "    \n",
       "  var docs_json = {\"a862f85d-d8cc-438d-9ebd-74cb34d48e94\":{\"roots\":{\"references\":[{\"attributes\":{\"below\":[{\"id\":\"106028\",\"type\":\"LinearAxis\"}],\"center\":[{\"id\":\"106032\",\"type\":\"Grid\"},{\"id\":\"106037\",\"type\":\"Grid\"}],\"left\":[{\"id\":\"106033\",\"type\":\"LinearAxis\"}],\"plot_height\":300,\"renderers\":[{\"id\":\"106043\",\"type\":\"GlyphRenderer\"},{\"id\":\"106048\",\"type\":\"GlyphRenderer\"}],\"title\":{\"id\":\"106018\",\"type\":\"Title\"},\"toolbar\":{\"id\":\"106038\",\"type\":\"Toolbar\"},\"toolbar_location\":null,\"x_range\":{\"id\":\"106020\",\"type\":\"Range1d\"},\"x_scale\":{\"id\":\"106024\",\"type\":\"LinearScale\"},\"y_range\":{\"id\":\"106022\",\"type\":\"DataRange1d\"},\"y_scale\":{\"id\":\"106026\",\"type\":\"LinearScale\"}},\"id\":\"106017\",\"subtype\":\"Figure\",\"type\":\"Plot\"},{\"attributes\":{\"callback\":null,\"data\":{\"x\":[2,24],\"y\":[0.018139149401904264,0.07651517286701406]},\"selected\":{\"id\":\"108167\",\"type\":\"Selection\"},\"selection_policy\":{\"id\":\"108166\",\"type\":\"UnionRenderers\"}},\"id\":\"106045\",\"type\":\"ColumnDataSource\"},{\"attributes\":{\"active_drag\":\"auto\",\"active_inspect\":\"auto\",\"active_multi\":null,\"active_scroll\":\"auto\",\"active_tap\":\"auto\"},\"id\":\"106038\",\"type\":\"Toolbar\"},{\"attributes\":{\"callback\":null},\"id\":\"106022\",\"type\":\"DataRange1d\"},{\"attributes\":{},\"id\":\"106026\",\"type\":\"LinearScale\"},{\"attributes\":{},\"id\":\"106034\",\"type\":\"BasicTicker\"},{\"attributes\":{\"line_alpha\":0.1,\"line_color\":\"#1f77b4\",\"line_width\":2,\"x\":{\"field\":\"x\"},\"y\":{\"field\":\"y\"}},\"id\":\"106047\",\"type\":\"Line\"},{\"attributes\":{\"line_color\":\"#1f77b4\",\"line_width\":2,\"x\":{\"field\":\"x\"},\"y\":{\"field\":\"y\"}},\"id\":\"106046\",\"type\":\"Line\"},{\"attributes\":{},\"id\":\"108162\",\"type\":\"BasicTickFormatter\"},{\"attributes\":{\"dimension\":1,\"ticker\":{\"id\":\"106034\",\"type\":\"BasicTicker\"}},\"id\":\"106037\",\"type\":\"Grid\"},{\"attributes\":{\"text\":\"Feature importance over time\"},\"id\":\"106018\",\"type\":\"Title\"},{\"attributes\":{\"axis_label\":\"Time\",\"formatter\":{\"id\":\"108160\",\"type\":\"BasicTickFormatter\"},\"ticker\":{\"id\":\"106029\",\"type\":\"BasicTicker\"}},\"id\":\"106028\",\"type\":\"LinearAxis\"},{\"attributes\":{\"callback\":null,\"data\":{\"x_data\":[22.5,23.5,21.75,21.0,20.25,19.5,18.75,18.0,17.25,16.5,15.75,15.0,14.25,13.5,12.75,12.0,11.25,10.5,9.75,9.0,8.25,7.5,6.75,6.0],\"y_data\":[0.06629197342597191,0.050975053425943447,0.06860490407324128,0.3102186281917093,0.0,0.04540164777543423,0.08891866217060665,0.0,0.0,0.0,0.0033270042812715704,0.02709312852002404,0.0,0.05947692454423126,0.0,0.0,0.0,0.0,0.0,0.0,0.07768733125074648,0.0,0.0,0.2020047423408197]},\"selected\":{\"id\":\"108165\",\"type\":\"Selection\"},\"selection_policy\":{\"id\":\"108164\",\"type\":\"UnionRenderers\"}},\"id\":\"106039\",\"type\":\"ColumnDataSource\"},{\"attributes\":{},\"id\":\"108164\",\"type\":\"UnionRenderers\"},{\"attributes\":{\"ticker\":{\"id\":\"106029\",\"type\":\"BasicTicker\"}},\"id\":\"106032\",\"type\":\"Grid\"},{\"attributes\":{},\"id\":\"108166\",\"type\":\"UnionRenderers\"},{\"attributes\":{\"axis_label\":\"Importance\",\"formatter\":{\"id\":\"108162\",\"type\":\"BasicTickFormatter\"},\"ticker\":{\"id\":\"106034\",\"type\":\"BasicTicker\"}},\"id\":\"106033\",\"type\":\"LinearAxis\"},{\"attributes\":{},\"id\":\"108160\",\"type\":\"BasicTickFormatter\"},{\"attributes\":{},\"id\":\"106024\",\"type\":\"LinearScale\"},{\"attributes\":{\"source\":{\"id\":\"106039\",\"type\":\"ColumnDataSource\"}},\"id\":\"106044\",\"type\":\"CDSView\"},{\"attributes\":{},\"id\":\"106029\",\"type\":\"BasicTicker\"},{\"attributes\":{},\"id\":\"108167\",\"type\":\"Selection\"},{\"attributes\":{\"fill_color\":{\"value\":\"red\"},\"line_color\":{\"value\":null},\"size\":{\"units\":\"screen\",\"value\":10},\"x\":{\"field\":\"x_data\"},\"y\":{\"field\":\"y_data\"}},\"id\":\"106041\",\"type\":\"Circle\"},{\"attributes\":{},\"id\":\"108165\",\"type\":\"Selection\"},{\"attributes\":{\"callback\":null,\"end\":24},\"id\":\"106020\",\"type\":\"Range1d\"},{\"attributes\":{\"data_source\":{\"id\":\"106039\",\"type\":\"ColumnDataSource\"},\"glyph\":{\"id\":\"106041\",\"type\":\"Circle\"},\"hover_glyph\":null,\"muted_glyph\":null,\"nonselection_glyph\":{\"id\":\"106042\",\"type\":\"Circle\"},\"selection_glyph\":null,\"view\":{\"id\":\"106044\",\"type\":\"CDSView\"}},\"id\":\"106043\",\"type\":\"GlyphRenderer\"},{\"attributes\":{\"source\":{\"id\":\"106045\",\"type\":\"ColumnDataSource\"}},\"id\":\"106049\",\"type\":\"CDSView\"},{\"attributes\":{\"fill_alpha\":{\"value\":0.1},\"fill_color\":{\"value\":\"#1f77b4\"},\"line_alpha\":{\"value\":0.1},\"line_color\":{\"value\":\"#1f77b4\"},\"size\":{\"units\":\"screen\",\"value\":10},\"x\":{\"field\":\"x_data\"},\"y\":{\"field\":\"y_data\"}},\"id\":\"106042\",\"type\":\"Circle\"},{\"attributes\":{\"data_source\":{\"id\":\"106045\",\"type\":\"ColumnDataSource\"},\"glyph\":{\"id\":\"106046\",\"type\":\"Line\"},\"hover_glyph\":null,\"muted_glyph\":null,\"nonselection_glyph\":{\"id\":\"106047\",\"type\":\"Line\"},\"selection_glyph\":null,\"view\":{\"id\":\"106049\",\"type\":\"CDSView\"}},\"id\":\"106048\",\"type\":\"GlyphRenderer\"}],\"root_ids\":[\"106017\"]},\"title\":\"Bokeh Application\",\"version\":\"1.3.2\"}};\n",
       "  var render_items = [{\"docid\":\"a862f85d-d8cc-438d-9ebd-74cb34d48e94\",\"roots\":{\"106017\":\"dc08161d-7612-43e3-85e1-32c07352df14\"}}];\n",
       "  root.Bokeh.embed.embed_items_notebook(docs_json, render_items);\n",
       "\n",
       "  }\n",
       "  if (root.Bokeh !== undefined) {\n",
       "    embed_document(root);\n",
       "  } else {\n",
       "    var attempts = 0;\n",
       "    var timer = setInterval(function(root) {\n",
       "      if (root.Bokeh !== undefined) {\n",
       "        embed_document(root);\n",
       "        clearInterval(timer);\n",
       "      }\n",
       "      attempts++;\n",
       "      if (attempts > 100) {\n",
       "        console.log(\"Bokeh: ERROR: Unable to run BokehJS code because BokehJS library is missing\");\n",
       "        clearInterval(timer);\n",
       "      }\n",
       "    }, 10, root)\n",
       "  }\n",
       "})(window);"
      ],
      "application/vnd.bokehjs_exec.v0+json": ""
     },
     "metadata": {
      "application/vnd.bokehjs_exec.v0+json": {
       "id": "106017"
      }
     },
     "output_type": "display_data"
    }
   ],
   "source": [
    "plot_spline_feature_importance(coef_data['USFLUX'], time_data)"
   ]
  },
  {
   "cell_type": "markdown",
   "metadata": {},
   "source": [
    "Lastly, we can plot the difference in the importance of the first half of the lag time (coefficient 2) versus the importance of the last half of the lag time (coefficient 6)"
   ]
  },
  {
   "cell_type": "code",
   "execution_count": 633,
   "metadata": {},
   "outputs": [],
   "source": [
    "def plot_difference_data(coef_data, time_data):\n",
    "    '''\n",
    "    '''\n",
    "    normalized_coef_data = {}\n",
    "    def normalize_points(point):\n",
    "        '''This method takes a list of two values and returns the ratio of the\n",
    "        second data point to the first data point.\n",
    "        '''\n",
    "        if point[0] == 0 and point[1] == 0: return 1 # Inconclusive\n",
    "        else:\n",
    "            point_sum = point[0] + point[1]\n",
    "            return (point[1] - point[0]) / point_sum\n",
    "    for coef in coef_data:\n",
    "        normalized_coef_data[coef] = list(map(lambda x : [abs(x[1]), abs(x[-2])], coef_data[coef]))\n",
    "        normalized_coef_data[coef] = list(map(normalize_points, normalized_coef_data[coef]))\n",
    "\n",
    "    # Basic plot setup\n",
    "    plot = figure(plot_width=600, plot_height=400, tools='',\n",
    "                  toolbar_location=None, title='Lag time vs. ratios',\n",
    "                  x_axis_label='Lag time (hr)', y_axis_label='Difference')\n",
    "\n",
    "    circles = []\n",
    "    items = []\n",
    "    for i, var in enumerate(normalized_coef_data):\n",
    "        source = ColumnDataSource(data=dict(\n",
    "            x_data = time_data,\n",
    "            y_data = normalized_coef_data[var]\n",
    "        ))\n",
    "        item = plot.line('x_data', 'y_data', line_width=1, color=COLORS[i], source=source)\n",
    "        items.append((var + ' ratio', [item]))\n",
    "        circles.append(plot.circle('x_data', 'y_data', size=10, source=source,\n",
    "                       fill_color=COLORS[i], hover_fill_color=COLORS[i],\n",
    "                       fill_alpha=0.25, hover_alpha=0.5,\n",
    "                       line_color=None, hover_line_color='white'))\n",
    "\n",
    "    plot.add_tools(HoverTool(tooltips=[('Ratio', '@y_data')], renderers=circles,\n",
    "                             mode='vline'))\n",
    "    plot.x_range = Range1d(0, 25)\n",
    "    legend = Legend(items=items)\n",
    "\n",
    "    plot.add_layout(legend, 'right')\n",
    "    plot.legend.click_policy='hide'\n",
    "    \n",
    "    show(plot)"
   ]
  },
  {
   "cell_type": "code",
   "execution_count": 643,
   "metadata": {
    "scrolled": true
   },
   "outputs": [
    {
     "data": {
      "text/html": [
       "\n",
       "\n",
       "\n",
       "\n",
       "\n",
       "\n",
       "  <div class=\"bk-root\" id=\"7c6c0ea1-fd3a-46f5-933d-c9c6efbd35aa\" data-root-id=\"108222\"></div>\n"
      ]
     },
     "metadata": {},
     "output_type": "display_data"
    },
    {
     "data": {
      "application/javascript": [
       "(function(root) {\n",
       "  function embed_document(root) {\n",
       "    \n",
       "  var docs_json = {\"3e53e02d-2620-4c04-ac0f-2adaa4e9c883\":{\"roots\":{\"references\":[{\"attributes\":{\"below\":[{\"id\":\"108233\",\"type\":\"LinearAxis\"}],\"center\":[{\"id\":\"108237\",\"type\":\"Grid\"},{\"id\":\"108242\",\"type\":\"Grid\"}],\"left\":[{\"id\":\"108238\",\"type\":\"LinearAxis\"}],\"plot_height\":400,\"renderers\":[{\"id\":\"108248\",\"type\":\"GlyphRenderer\"},{\"id\":\"108254\",\"type\":\"GlyphRenderer\"},{\"id\":\"108260\",\"type\":\"GlyphRenderer\"},{\"id\":\"108266\",\"type\":\"GlyphRenderer\"},{\"id\":\"108272\",\"type\":\"GlyphRenderer\"},{\"id\":\"108278\",\"type\":\"GlyphRenderer\"},{\"id\":\"108284\",\"type\":\"GlyphRenderer\"},{\"id\":\"108290\",\"type\":\"GlyphRenderer\"},{\"id\":\"108296\",\"type\":\"GlyphRenderer\"},{\"id\":\"108302\",\"type\":\"GlyphRenderer\"},{\"id\":\"108308\",\"type\":\"GlyphRenderer\"},{\"id\":\"108314\",\"type\":\"GlyphRenderer\"},{\"id\":\"108320\",\"type\":\"GlyphRenderer\"},{\"id\":\"108326\",\"type\":\"GlyphRenderer\"},{\"id\":\"108332\",\"type\":\"GlyphRenderer\"},{\"id\":\"108338\",\"type\":\"GlyphRenderer\"},{\"id\":\"108344\",\"type\":\"GlyphRenderer\"},{\"id\":\"108350\",\"type\":\"GlyphRenderer\"},{\"id\":\"108356\",\"type\":\"GlyphRenderer\"},{\"id\":\"108362\",\"type\":\"GlyphRenderer\"},{\"id\":\"108368\",\"type\":\"GlyphRenderer\"},{\"id\":\"108374\",\"type\":\"GlyphRenderer\"},{\"id\":\"108380\",\"type\":\"GlyphRenderer\"},{\"id\":\"108386\",\"type\":\"GlyphRenderer\"},{\"id\":\"108392\",\"type\":\"GlyphRenderer\"},{\"id\":\"108398\",\"type\":\"GlyphRenderer\"},{\"id\":\"108404\",\"type\":\"GlyphRenderer\"},{\"id\":\"108410\",\"type\":\"GlyphRenderer\"},{\"id\":\"108416\",\"type\":\"GlyphRenderer\"},{\"id\":\"108422\",\"type\":\"GlyphRenderer\"},{\"id\":\"108428\",\"type\":\"GlyphRenderer\"},{\"id\":\"108434\",\"type\":\"GlyphRenderer\"},{\"id\":\"108440\",\"type\":\"GlyphRenderer\"},{\"id\":\"108446\",\"type\":\"GlyphRenderer\"}],\"right\":[{\"id\":\"108451\",\"type\":\"Legend\"}],\"title\":{\"id\":\"108223\",\"type\":\"Title\"},\"toolbar\":{\"id\":\"108243\",\"type\":\"Toolbar\"},\"toolbar_location\":null,\"x_range\":{\"id\":\"108450\",\"type\":\"Range1d\"},\"x_scale\":{\"id\":\"108229\",\"type\":\"LinearScale\"},\"y_range\":{\"id\":\"108227\",\"type\":\"DataRange1d\"},\"y_scale\":{\"id\":\"108231\",\"type\":\"LinearScale\"}},\"id\":\"108222\",\"subtype\":\"Figure\",\"type\":\"Plot\"},{\"attributes\":{\"line_alpha\":0.1,\"line_color\":\"#1f77b4\",\"x\":{\"field\":\"x_data\"},\"y\":{\"field\":\"y_data\"}},\"id\":\"108355\",\"type\":\"Line\"},{\"attributes\":{\"label\":{\"value\":\"R_VALUE ratio\"},\"renderers\":[{\"id\":\"108428\",\"type\":\"GlyphRenderer\"}]},\"id\":\"108467\",\"type\":\"LegendItem\"},{\"attributes\":{\"source\":{\"id\":\"108388\",\"type\":\"ColumnDataSource\"}},\"id\":\"108399\",\"type\":\"CDSView\"},{\"attributes\":{\"callback\":null,\"data\":{\"x_data\":[2,3,4,5,6,7,8,9,10,11,12,13,14,15,16,17,18,19,20,21,22,23,24],\"y_data\":[-0.45982370641950404,0.0024614902133606193,-0.1650013794791148,-0.8269821165082206,-0.6379829629107946,-0.2839179428172407,0.37191461096273354,0.2461842805109523,0.37533914575470795,0.20839108827327887,-0.36648770856265844,-0.3964815616574463,-0.7772413438834511,-0.7175285699999215,0.38314337917253316,0.5554980826748084,0.7590252711846731,0.8044322978967322,0.2391544682929825,0.9084201682224602,0.7011247917604762,0.21633559183857135,0.05144853907742661]},\"selected\":{\"id\":\"110621\",\"type\":\"Selection\"},\"selection_policy\":{\"id\":\"110620\",\"type\":\"UnionRenderers\"}},\"id\":\"108412\",\"type\":\"ColumnDataSource\"},{\"attributes\":{},\"id\":\"110608\",\"type\":\"UnionRenderers\"},{\"attributes\":{\"source\":{\"id\":\"108352\",\"type\":\"ColumnDataSource\"}},\"id\":\"108357\",\"type\":\"CDSView\"},{\"attributes\":{\"line_alpha\":0.1,\"line_color\":\"#1f77b4\",\"x\":{\"field\":\"x_data\"},\"y\":{\"field\":\"y_data\"}},\"id\":\"108331\",\"type\":\"Line\"},{\"attributes\":{\"callback\":null,\"data\":{\"x_data\":[2,3,4,5,6,7,8,9,10,11,12,13,14,15,16,17,18,19,20,21,22,23,24],\"y_data\":[-0.16245242828797204,-0.10932292007946028,0.19058457491839742,-0.17061362834575108,0.0818483530752652,-0.09262192229479727,-0.34938633053971846,-0.28288943881394274,-0.38112589116242007,-0.5835598905782652,-0.9435784553458656,-0.7853293689408353,-0.11977444485139127,-0.7678054449314102,-0.19895976487580772,-0.11218409733607773,-0.1254089442063758,-0.38759184244070694,-0.14770567890504863,-0.1996588592401847,0.5069616676537829,0.26664710732185676,0.5827646961493649]},\"selected\":{\"id\":\"110613\",\"type\":\"Selection\"},\"selection_policy\":{\"id\":\"110612\",\"type\":\"UnionRenderers\"}},\"id\":\"108364\",\"type\":\"ColumnDataSource\"},{\"attributes\":{\"fill_alpha\":{\"value\":0.1},\"fill_color\":{\"value\":\"#1f77b4\"},\"line_alpha\":{\"value\":0.1},\"line_color\":{\"value\":\"#1f77b4\"},\"size\":{\"units\":\"screen\",\"value\":10},\"x\":{\"field\":\"x_data\"},\"y\":{\"field\":\"y_data\"}},\"id\":\"108384\",\"type\":\"Circle\"},{\"attributes\":{},\"id\":\"110611\",\"type\":\"Selection\"},{\"attributes\":{\"line_color\":\"#b15928\",\"x\":{\"field\":\"x_data\"},\"y\":{\"field\":\"y_data\"}},\"id\":\"108378\",\"type\":\"Line\"},{\"attributes\":{},\"id\":\"110621\",\"type\":\"Selection\"},{\"attributes\":{\"fill_alpha\":{\"value\":0.25},\"fill_color\":{\"value\":\"#33a02c\"},\"line_color\":{\"value\":null},\"size\":{\"units\":\"screen\",\"value\":10},\"x\":{\"field\":\"x_data\"},\"y\":{\"field\":\"y_data\"}},\"id\":\"108287\",\"type\":\"Circle\"},{\"attributes\":{\"source\":{\"id\":\"108328\",\"type\":\"ColumnDataSource\"}},\"id\":\"108339\",\"type\":\"CDSView\"},{\"attributes\":{\"source\":{\"id\":\"108412\",\"type\":\"ColumnDataSource\"}},\"id\":\"108417\",\"type\":\"CDSView\"},{\"attributes\":{},\"id\":\"110590\",\"type\":\"BasicTickFormatter\"},{\"attributes\":{\"data_source\":{\"id\":\"108280\",\"type\":\"ColumnDataSource\"},\"glyph\":{\"id\":\"108282\",\"type\":\"Line\"},\"hover_glyph\":null,\"muted_glyph\":null,\"nonselection_glyph\":{\"id\":\"108283\",\"type\":\"Line\"},\"selection_glyph\":null,\"view\":{\"id\":\"108285\",\"type\":\"CDSView\"}},\"id\":\"108284\",\"type\":\"GlyphRenderer\"},{\"attributes\":{\"callback\":null,\"data\":{\"x_data\":[2,3,4,5,6,7,8,9,10,11,12,13,14,15,16,17,18,19,20,21,22,23,24],\"y_data\":[0.1477012577725982,0.006798418540785599,-0.42488862557975693,0.5596332617752814,-0.17702557563436144,0.8253791479802228,0.4953392121636998,0.6218672281160957,0.7025540989723862,0.6370795767748026,-0.00812575624047694,0.5187911017040077,0.5306218389514442,0.16473181586089225,0.07031088060734732,0.4793776627387645,0.49221432067249987,0.40776270579129326,0.6558795553553322,0.39023589574687007,0.25809474236810265,0.7615947047765041,0.8474261478417797]},\"selected\":{\"id\":\"110609\",\"type\":\"Selection\"},\"selection_policy\":{\"id\":\"110608\",\"type\":\"UnionRenderers\"}},\"id\":\"108340\",\"type\":\"ColumnDataSource\"},{\"attributes\":{\"line_alpha\":0.1,\"line_color\":\"#1f77b4\",\"x\":{\"field\":\"x_data\"},\"y\":{\"field\":\"y_data\"}},\"id\":\"108415\",\"type\":\"Line\"},{\"attributes\":{},\"id\":\"110620\",\"type\":\"UnionRenderers\"},{\"attributes\":{\"source\":{\"id\":\"108376\",\"type\":\"ColumnDataSource\"}},\"id\":\"108387\",\"type\":\"CDSView\"},{\"attributes\":{\"data_source\":{\"id\":\"108364\",\"type\":\"ColumnDataSource\"},\"glyph\":{\"id\":\"108366\",\"type\":\"Line\"},\"hover_glyph\":null,\"muted_glyph\":null,\"nonselection_glyph\":{\"id\":\"108367\",\"type\":\"Line\"},\"selection_glyph\":null,\"view\":{\"id\":\"108369\",\"type\":\"CDSView\"}},\"id\":\"108368\",\"type\":\"GlyphRenderer\"},{\"attributes\":{\"fill_alpha\":{\"value\":0.25},\"fill_color\":{\"value\":\"#cab2d6\"},\"line_color\":{\"value\":null},\"size\":{\"units\":\"screen\",\"value\":10},\"x\":{\"field\":\"x_data\"},\"y\":{\"field\":\"y_data\"}},\"id\":\"108347\",\"type\":\"Circle\"},{\"attributes\":{},\"id\":\"110612\",\"type\":\"UnionRenderers\"},{\"attributes\":{\"fill_alpha\":{\"value\":0.5},\"fill_color\":{\"value\":\"#6a3d9a\"},\"line_alpha\":{\"value\":0.5},\"line_color\":{\"value\":\"white\"},\"size\":{\"units\":\"screen\",\"value\":10},\"x\":{\"field\":\"x_data\"},\"y\":{\"field\":\"y_data\"}},\"id\":\"108361\",\"type\":\"Circle\"},{\"attributes\":{\"line_alpha\":0.1,\"line_color\":\"#1f77b4\",\"x\":{\"field\":\"x_data\"},\"y\":{\"field\":\"y_data\"}},\"id\":\"108403\",\"type\":\"Line\"},{\"attributes\":{},\"id\":\"110615\",\"type\":\"Selection\"},{\"attributes\":{\"callback\":null,\"data\":{\"x_data\":[2,3,4,5,6,7,8,9,10,11,12,13,14,15,16,17,18,19,20,21,22,23,24],\"y_data\":[0.0344309450914659,0.02299911896652893,0.011153136747546855,0.33985244751432986,0.27559643423570346,0.9180688444564766,0.7165310655757045,-0.7526967251660442,0.1359785164018353,0.07034194165760764,0.07244711899346262,0.15865982975642892,0.33906523664522087,0.8598929692605489,0.5408734423193168,0.9760621976408504,0.12306723576093716,0.15635541493679833,-0.2374001235795758,-0.15881513733972,-0.05557210990704101,0.03519834550316844,0.7728018742190662]},\"selected\":{\"id\":\"110599\",\"type\":\"Selection\"},\"selection_policy\":{\"id\":\"110598\",\"type\":\"UnionRenderers\"}},\"id\":\"108280\",\"type\":\"ColumnDataSource\"},{\"attributes\":{},\"id\":\"110616\",\"type\":\"UnionRenderers\"},{\"attributes\":{\"line_color\":\"#33a02c\",\"x\":{\"field\":\"x_data\"},\"y\":{\"field\":\"y_data\"}},\"id\":\"108282\",\"type\":\"Line\"},{\"attributes\":{\"callback\":null,\"data\":{\"x_data\":[2,3,4,5,6,7,8,9,10,11,12,13,14,15,16,17,18,19,20,21,22,23,24],\"y_data\":[0.1246008781569956,-0.1724930213230405,0.15221073411632635,-0.014733660496225796,-0.029151262211324185,0.23111362173181235,0.50378658199696,0.4248984051015202,0.6581645888234122,0.485878894954807,-0.13446151355959496,-0.28782349030500765,-0.4206505144626208,-0.22567532877095545,-0.8486216739296714,-0.16570709533131292,-0.03518700772395392,0.3970515664955933,-0.0715123094194757,0.14572613850577917,0.3931935904359528,-0.008978226489014151,0.5852399830334618]},\"selected\":{\"id\":\"110607\",\"type\":\"Selection\"},\"selection_policy\":{\"id\":\"110606\",\"type\":\"UnionRenderers\"}},\"id\":\"108328\",\"type\":\"ColumnDataSource\"},{\"attributes\":{},\"id\":\"110614\",\"type\":\"UnionRenderers\"},{\"attributes\":{\"fill_alpha\":{\"value\":0.25},\"fill_color\":{\"value\":\"#ff7f00\"},\"line_color\":{\"value\":null},\"size\":{\"units\":\"screen\",\"value\":10},\"x\":{\"field\":\"x_data\"},\"y\":{\"field\":\"y_data\"}},\"id\":\"108335\",\"type\":\"Circle\"},{\"attributes\":{\"label\":{\"value\":\"AREA_ACR ratio\"},\"renderers\":[{\"id\":\"108440\",\"type\":\"GlyphRenderer\"}]},\"id\":\"108468\",\"type\":\"LegendItem\"},{\"attributes\":{\"source\":{\"id\":\"108292\",\"type\":\"ColumnDataSource\"}},\"id\":\"108303\",\"type\":\"CDSView\"},{\"attributes\":{\"source\":{\"id\":\"108352\",\"type\":\"ColumnDataSource\"}},\"id\":\"108363\",\"type\":\"CDSView\"},{\"attributes\":{\"line_color\":\"#d9d9d9\",\"x\":{\"field\":\"x_data\"},\"y\":{\"field\":\"y_data\"}},\"id\":\"108414\",\"type\":\"Line\"},{\"attributes\":{},\"id\":\"110595\",\"type\":\"Selection\"},{\"attributes\":{\"source\":{\"id\":\"108280\",\"type\":\"ColumnDataSource\"}},\"id\":\"108285\",\"type\":\"CDSView\"},{\"attributes\":{},\"id\":\"110606\",\"type\":\"UnionRenderers\"},{\"attributes\":{\"label\":{\"value\":\"MEANGBH ratio\"},\"renderers\":[{\"id\":\"108296\",\"type\":\"GlyphRenderer\"}]},\"id\":\"108456\",\"type\":\"LegendItem\"},{\"attributes\":{\"line_alpha\":0.1,\"line_color\":\"#1f77b4\",\"x\":{\"field\":\"x_data\"},\"y\":{\"field\":\"y_data\"}},\"id\":\"108295\",\"type\":\"Line\"},{\"attributes\":{\"callback\":null,\"data\":{\"x_data\":[2,3,4,5,6,7,8,9,10,11,12,13,14,15,16,17,18,19,20,21,22,23,24],\"y_data\":[-0.0654836152333666,0.2551805540893376,-0.17407769986055233,0.22343736542326786,0.29049634631828203,0.4862390252861536,-0.7928568396477699,-0.5098643004111608,-0.5319173873790775,-0.355694918873967,0.03166363438657753,-0.4295422394665678,0.06709268300088676,0.0018452819067847047,0.027012253443834858,-0.2613968082002908,0.9652571785347344,0.8423105027555815,0.3033944825871227,0.2578037226110176,0.17783571370855705,-0.137992143067345,0.54051160132527]},\"selected\":{\"id\":\"110603\",\"type\":\"Selection\"},\"selection_policy\":{\"id\":\"110602\",\"type\":\"UnionRenderers\"}},\"id\":\"108304\",\"type\":\"ColumnDataSource\"},{\"attributes\":{\"source\":{\"id\":\"108328\",\"type\":\"ColumnDataSource\"}},\"id\":\"108333\",\"type\":\"CDSView\"},{\"attributes\":{\"source\":{\"id\":\"108292\",\"type\":\"ColumnDataSource\"}},\"id\":\"108297\",\"type\":\"CDSView\"},{\"attributes\":{\"callback\":null,\"data\":{\"x_data\":[2,3,4,5,6,7,8,9,10,11,12,13,14,15,16,17,18,19,20,21,22,23,24],\"y_data\":[0.20132215172216714,0.13434692069066065,-0.015707448561265384,0.9924659622307583,-0.11845790932387043,-0.3363676044056034,-0.10118758247771151,-0.8756918381017569,0.0691355280166161,-0.18103797626554038,0.22021057965767027,-0.49280431743250513,-0.4465102341393781,-0.7979954121616664,0.5966518850691559,-0.18733887685663014,0.6870478752185405,0.2714644544770747,0.354428448105211,0.2289297995242742,0.25973711111697967,0.9826655831095144,0.8518131187647195]},\"selected\":{\"id\":\"110611\",\"type\":\"Selection\"},\"selection_policy\":{\"id\":\"110610\",\"type\":\"UnionRenderers\"}},\"id\":\"108352\",\"type\":\"ColumnDataSource\"},{\"attributes\":{\"source\":{\"id\":\"108340\",\"type\":\"ColumnDataSource\"}},\"id\":\"108351\",\"type\":\"CDSView\"},{\"attributes\":{},\"id\":\"110600\",\"type\":\"UnionRenderers\"},{\"attributes\":{\"line_color\":\"#1f78b4\",\"x\":{\"field\":\"x_data\"},\"y\":{\"field\":\"y_data\"}},\"id\":\"108258\",\"type\":\"Line\"},{\"attributes\":{\"data_source\":{\"id\":\"108352\",\"type\":\"ColumnDataSource\"},\"glyph\":{\"id\":\"108359\",\"type\":\"Circle\"},\"hover_glyph\":{\"id\":\"108361\",\"type\":\"Circle\"},\"muted_glyph\":null,\"nonselection_glyph\":{\"id\":\"108360\",\"type\":\"Circle\"},\"selection_glyph\":null,\"view\":{\"id\":\"108363\",\"type\":\"CDSView\"}},\"id\":\"108362\",\"type\":\"GlyphRenderer\"},{\"attributes\":{\"label\":{\"value\":\"TOTUSJZ ratio\"},\"renderers\":[{\"id\":\"108320\",\"type\":\"GlyphRenderer\"}]},\"id\":\"108458\",\"type\":\"LegendItem\"},{\"attributes\":{\"data_source\":{\"id\":\"108292\",\"type\":\"ColumnDataSource\"},\"glyph\":{\"id\":\"108294\",\"type\":\"Line\"},\"hover_glyph\":null,\"muted_glyph\":null,\"nonselection_glyph\":{\"id\":\"108295\",\"type\":\"Line\"},\"selection_glyph\":null,\"view\":{\"id\":\"108297\",\"type\":\"CDSView\"}},\"id\":\"108296\",\"type\":\"GlyphRenderer\"},{\"attributes\":{},\"id\":\"110601\",\"type\":\"Selection\"},{\"attributes\":{},\"id\":\"110625\",\"type\":\"Selection\"},{\"attributes\":{\"source\":{\"id\":\"108268\",\"type\":\"ColumnDataSource\"}},\"id\":\"108279\",\"type\":\"CDSView\"},{\"attributes\":{\"fill_alpha\":{\"value\":0.5},\"fill_color\":{\"value\":\"#8dd3c7\"},\"line_alpha\":{\"value\":0.5},\"line_color\":{\"value\":\"white\"},\"size\":{\"units\":\"screen\",\"value\":10},\"x\":{\"field\":\"x_data\"},\"y\":{\"field\":\"y_data\"}},\"id\":\"108397\",\"type\":\"Circle\"},{\"attributes\":{\"data_source\":{\"id\":\"108340\",\"type\":\"ColumnDataSource\"},\"glyph\":{\"id\":\"108347\",\"type\":\"Circle\"},\"hover_glyph\":{\"id\":\"108349\",\"type\":\"Circle\"},\"muted_glyph\":null,\"nonselection_glyph\":{\"id\":\"108348\",\"type\":\"Circle\"},\"selection_glyph\":null,\"view\":{\"id\":\"108351\",\"type\":\"CDSView\"}},\"id\":\"108350\",\"type\":\"GlyphRenderer\"},{\"attributes\":{\"label\":{\"value\":\"SAVNCPP ratio\"},\"renderers\":[{\"id\":\"108368\",\"type\":\"GlyphRenderer\"}]},\"id\":\"108462\",\"type\":\"LegendItem\"},{\"attributes\":{\"fill_alpha\":{\"value\":0.1},\"fill_color\":{\"value\":\"#1f77b4\"},\"line_alpha\":{\"value\":0.1},\"line_color\":{\"value\":\"#1f77b4\"},\"size\":{\"units\":\"screen\",\"value\":10},\"x\":{\"field\":\"x_data\"},\"y\":{\"field\":\"y_data\"}},\"id\":\"108396\",\"type\":\"Circle\"},{\"attributes\":{},\"id\":\"110607\",\"type\":\"Selection\"},{\"attributes\":{},\"id\":\"110624\",\"type\":\"UnionRenderers\"},{\"attributes\":{\"fill_alpha\":{\"value\":0.1},\"fill_color\":{\"value\":\"#1f77b4\"},\"line_alpha\":{\"value\":0.1},\"line_color\":{\"value\":\"#1f77b4\"},\"size\":{\"units\":\"screen\",\"value\":10},\"x\":{\"field\":\"x_data\"},\"y\":{\"field\":\"y_data\"}},\"id\":\"108288\",\"type\":\"Circle\"},{\"attributes\":{},\"id\":\"110610\",\"type\":\"UnionRenderers\"},{\"attributes\":{\"line_alpha\":0.1,\"line_color\":\"#1f77b4\",\"x\":{\"field\":\"x_data\"},\"y\":{\"field\":\"y_data\"}},\"id\":\"108283\",\"type\":\"Line\"},{\"attributes\":{\"source\":{\"id\":\"108316\",\"type\":\"ColumnDataSource\"}},\"id\":\"108327\",\"type\":\"CDSView\"},{\"attributes\":{\"line_color\":\"#6a3d9a\",\"x\":{\"field\":\"x_data\"},\"y\":{\"field\":\"y_data\"}},\"id\":\"108354\",\"type\":\"Line\"},{\"attributes\":{\"label\":{\"value\":\"MEANJZD ratio\"},\"renderers\":[{\"id\":\"108308\",\"type\":\"GlyphRenderer\"}]},\"id\":\"108457\",\"type\":\"LegendItem\"},{\"attributes\":{\"data_source\":{\"id\":\"108352\",\"type\":\"ColumnDataSource\"},\"glyph\":{\"id\":\"108354\",\"type\":\"Line\"},\"hover_glyph\":null,\"muted_glyph\":null,\"nonselection_glyph\":{\"id\":\"108355\",\"type\":\"Line\"},\"selection_glyph\":null,\"view\":{\"id\":\"108357\",\"type\":\"CDSView\"}},\"id\":\"108356\",\"type\":\"GlyphRenderer\"},{\"attributes\":{},\"id\":\"110622\",\"type\":\"UnionRenderers\"},{\"attributes\":{\"label\":{\"value\":\"MEANSHR ratio\"},\"renderers\":[{\"id\":\"108404\",\"type\":\"GlyphRenderer\"}]},\"id\":\"108465\",\"type\":\"LegendItem\"},{\"attributes\":{},\"id\":\"110623\",\"type\":\"Selection\"},{\"attributes\":{\"fill_alpha\":{\"value\":0.1},\"fill_color\":{\"value\":\"#1f77b4\"},\"line_alpha\":{\"value\":0.1},\"line_color\":{\"value\":\"#1f77b4\"},\"size\":{\"units\":\"screen\",\"value\":10},\"x\":{\"field\":\"x_data\"},\"y\":{\"field\":\"y_data\"}},\"id\":\"108336\",\"type\":\"Circle\"},{\"attributes\":{\"label\":{\"value\":\"MEANGBZ ratio\"},\"renderers\":[{\"id\":\"108284\",\"type\":\"GlyphRenderer\"}]},\"id\":\"108455\",\"type\":\"LegendItem\"},{\"attributes\":{\"data_source\":{\"id\":\"108292\",\"type\":\"ColumnDataSource\"},\"glyph\":{\"id\":\"108299\",\"type\":\"Circle\"},\"hover_glyph\":{\"id\":\"108301\",\"type\":\"Circle\"},\"muted_glyph\":null,\"nonselection_glyph\":{\"id\":\"108300\",\"type\":\"Circle\"},\"selection_glyph\":null,\"view\":{\"id\":\"108303\",\"type\":\"CDSView\"}},\"id\":\"108302\",\"type\":\"GlyphRenderer\"},{\"attributes\":{\"callback\":null,\"data\":{\"x_data\":[2,3,4,5,6,7,8,9,10,11,12,13,14,15,16,17,18,19,20,21,22,23,24],\"y_data\":[-0.5446943165359326,-0.1829967243332639,-0.659465117080935,0.6576855175809384,0.20880341158476076,0.8765383611620395,0.3956787521981507,-0.19711909099691244,-0.05636908709825947,0.08208709228159326,-0.17666264574568724,0.5577822870383558,0.30815367046213427,0.8849671351311168,0.2897400182036105,0.41543775486538903,0.4002654255557592,0.8407297112244029,0.2439109534608066,0.25002327677028185,0.4422030310166124,0.23369234995198054,0.3369005159423169]},\"selected\":{\"id\":\"110601\",\"type\":\"Selection\"},\"selection_policy\":{\"id\":\"110600\",\"type\":\"UnionRenderers\"}},\"id\":\"108292\",\"type\":\"ColumnDataSource\"},{\"attributes\":{\"line_color\":\"#ff7f00\",\"x\":{\"field\":\"x_data\"},\"y\":{\"field\":\"y_data\"}},\"id\":\"108330\",\"type\":\"Line\"},{\"attributes\":{\"line_color\":\"#cab2d6\",\"x\":{\"field\":\"x_data\"},\"y\":{\"field\":\"y_data\"}},\"id\":\"108342\",\"type\":\"Line\"},{\"attributes\":{},\"id\":\"110594\",\"type\":\"UnionRenderers\"},{\"attributes\":{},\"id\":\"110609\",\"type\":\"Selection\"},{\"attributes\":{\"callback\":null,\"data\":{\"x_data\":[2,3,4,5,6,7,8,9,10,11,12,13,14,15,16,17,18,19,20,21,22,23,24],\"y_data\":[-0.730801055741492,0.15492510662816203,-0.051100650993997104,-0.3205034066713291,-0.10699491165681314,-0.17676259027779906,0.4529335736556157,0.35389833574566554,0.5415017970876748,0.5005134625394004,-0.024132258336519632,-0.00566796549325809,-0.7372967189613311,-0.7343172509420569,-0.048202953074290365,0.40450760019038784,0.6862207146358557,0.8763690386378084,0.15235368644159045,0.4401574092104576,0.32172124612340075,0.35438824799343255,0.04336216243638662]},\"selected\":{\"id\":\"110595\",\"type\":\"Selection\"},\"selection_policy\":{\"id\":\"110594\",\"type\":\"UnionRenderers\"}},\"id\":\"108256\",\"type\":\"ColumnDataSource\"},{\"attributes\":{\"line_color\":\"#fb9a99\",\"x\":{\"field\":\"x_data\"},\"y\":{\"field\":\"y_data\"}},\"id\":\"108294\",\"type\":\"Line\"},{\"attributes\":{\"callback\":null,\"data\":{\"x_data\":[2,3,4,5,6,7,8,9,10,11,12,13,14,15,16,17,18,19,20,21,22,23,24],\"y_data\":[-0.30339260154022996,-0.07322103016431276,-0.020367583065626544,0.10306033564318083,-0.02271758138253084,-0.4452810905052947,-0.344642292889047,0.1863327651544819,-0.005393982675346752,0.05710638375059259,-0.15279541485232698,0.4572754485089575,0.497708335227232,0.41440141443469164,0.15742390000961232,0.6526912760987796,0.4188986096027469,0.2743267763356,0.3399016153023711,0.0585316363818569,0.1458824242855603,0.16165901370129465,0.42256726410764384]},\"selected\":{\"id\":\"110615\",\"type\":\"Selection\"},\"selection_policy\":{\"id\":\"110614\",\"type\":\"UnionRenderers\"}},\"id\":\"108376\",\"type\":\"ColumnDataSource\"},{\"attributes\":{\"data_source\":{\"id\":\"108328\",\"type\":\"ColumnDataSource\"},\"glyph\":{\"id\":\"108335\",\"type\":\"Circle\"},\"hover_glyph\":{\"id\":\"108337\",\"type\":\"Circle\"},\"muted_glyph\":null,\"nonselection_glyph\":{\"id\":\"108336\",\"type\":\"Circle\"},\"selection_glyph\":null,\"view\":{\"id\":\"108339\",\"type\":\"CDSView\"}},\"id\":\"108338\",\"type\":\"GlyphRenderer\"},{\"attributes\":{\"fill_alpha\":{\"value\":0.1},\"fill_color\":{\"value\":\"#1f77b4\"},\"line_alpha\":{\"value\":0.1},\"line_color\":{\"value\":\"#1f77b4\"},\"size\":{\"units\":\"screen\",\"value\":10},\"x\":{\"field\":\"x_data\"},\"y\":{\"field\":\"y_data\"}},\"id\":\"108360\",\"type\":\"Circle\"},{\"attributes\":{},\"id\":\"110619\",\"type\":\"Selection\"},{\"attributes\":{},\"id\":\"108239\",\"type\":\"BasicTicker\"},{\"attributes\":{\"fill_alpha\":{\"value\":0.25},\"fill_color\":{\"value\":\"#a6cee3\"},\"line_color\":{\"value\":null},\"size\":{\"units\":\"screen\",\"value\":10},\"x\":{\"field\":\"x_data\"},\"y\":{\"field\":\"y_data\"}},\"id\":\"108251\",\"type\":\"Circle\"},{\"attributes\":{\"label\":{\"value\":\"MEANJZH ratio\"},\"renderers\":[{\"id\":\"108332\",\"type\":\"GlyphRenderer\"}]},\"id\":\"108459\",\"type\":\"LegendItem\"},{\"attributes\":{\"active_drag\":\"auto\",\"active_inspect\":\"auto\",\"active_multi\":null,\"active_scroll\":\"auto\",\"active_tap\":\"auto\",\"tools\":[{\"id\":\"108448\",\"type\":\"HoverTool\"}]},\"id\":\"108243\",\"type\":\"Toolbar\"},{\"attributes\":{\"label\":{\"value\":\"SHRGT45 ratio\"},\"renderers\":[{\"id\":\"108416\",\"type\":\"GlyphRenderer\"}]},\"id\":\"108466\",\"type\":\"LegendItem\"},{\"attributes\":{\"data_source\":{\"id\":\"108388\",\"type\":\"ColumnDataSource\"},\"glyph\":{\"id\":\"108395\",\"type\":\"Circle\"},\"hover_glyph\":{\"id\":\"108397\",\"type\":\"Circle\"},\"muted_glyph\":null,\"nonselection_glyph\":{\"id\":\"108396\",\"type\":\"Circle\"},\"selection_glyph\":null,\"view\":{\"id\":\"108399\",\"type\":\"CDSView\"}},\"id\":\"108398\",\"type\":\"GlyphRenderer\"},{\"attributes\":{\"line_alpha\":0.1,\"line_color\":\"#1f77b4\",\"x\":{\"field\":\"x_data\"},\"y\":{\"field\":\"y_data\"}},\"id\":\"108247\",\"type\":\"Line\"},{\"attributes\":{\"source\":{\"id\":\"108388\",\"type\":\"ColumnDataSource\"}},\"id\":\"108393\",\"type\":\"CDSView\"},{\"attributes\":{\"callback\":null,\"data\":{\"x_data\":[2,3,4,5,6,7,8,9,10,11,12,13,14,15,16,17,18,19,20,21,22,23,24],\"y_data\":[-0.8314980672603894,-0.03830709867541405,-0.018632652910841877,-0.3276776985073569,-0.5384611281575135,-0.3705208811760712,0.45193105280821405,0.7445534371275295,0.40232285361105347,0.4892458403920492,-0.9310311096189944,-0.022400127306938623,0.00910194027026977,-0.8310613650368548,0.5236010385474773,0.6598119962224065,0.9658212152144722,0.7055466381494978,0.3626899442864694,0.6217855114677515,0.5663591265416291,0.2092928125962061,0.004178372204372962]},\"selected\":{\"id\":\"110619\",\"type\":\"Selection\"},\"selection_policy\":{\"id\":\"110618\",\"type\":\"UnionRenderers\"}},\"id\":\"108400\",\"type\":\"ColumnDataSource\"},{\"attributes\":{},\"id\":\"110602\",\"type\":\"UnionRenderers\"},{\"attributes\":{\"data_source\":{\"id\":\"108244\",\"type\":\"ColumnDataSource\"},\"glyph\":{\"id\":\"108251\",\"type\":\"Circle\"},\"hover_glyph\":{\"id\":\"108253\",\"type\":\"Circle\"},\"muted_glyph\":null,\"nonselection_glyph\":{\"id\":\"108252\",\"type\":\"Circle\"},\"selection_glyph\":null,\"view\":{\"id\":\"108255\",\"type\":\"CDSView\"}},\"id\":\"108254\",\"type\":\"GlyphRenderer\"},{\"attributes\":{\"data_source\":{\"id\":\"108328\",\"type\":\"ColumnDataSource\"},\"glyph\":{\"id\":\"108330\",\"type\":\"Line\"},\"hover_glyph\":null,\"muted_glyph\":null,\"nonselection_glyph\":{\"id\":\"108331\",\"type\":\"Line\"},\"selection_glyph\":null,\"view\":{\"id\":\"108333\",\"type\":\"CDSView\"}},\"id\":\"108332\",\"type\":\"GlyphRenderer\"},{\"attributes\":{},\"id\":\"110588\",\"type\":\"BasicTickFormatter\"},{\"attributes\":{\"line_color\":\"#ffff99\",\"x\":{\"field\":\"x_data\"},\"y\":{\"field\":\"y_data\"}},\"id\":\"108366\",\"type\":\"Line\"},{\"attributes\":{\"data_source\":{\"id\":\"108412\",\"type\":\"ColumnDataSource\"},\"glyph\":{\"id\":\"108414\",\"type\":\"Line\"},\"hover_glyph\":null,\"muted_glyph\":null,\"nonselection_glyph\":{\"id\":\"108415\",\"type\":\"Line\"},\"selection_glyph\":null,\"view\":{\"id\":\"108417\",\"type\":\"CDSView\"}},\"id\":\"108416\",\"type\":\"GlyphRenderer\"},{\"attributes\":{\"fill_alpha\":{\"value\":0.5},\"fill_color\":{\"value\":\"#ff7f00\"},\"line_alpha\":{\"value\":0.5},\"line_color\":{\"value\":\"white\"},\"size\":{\"units\":\"screen\",\"value\":10},\"x\":{\"field\":\"x_data\"},\"y\":{\"field\":\"y_data\"}},\"id\":\"108337\",\"type\":\"Circle\"},{\"attributes\":{\"label\":{\"value\":\"TOTUSJH ratio\"},\"renderers\":[{\"id\":\"108344\",\"type\":\"GlyphRenderer\"}]},\"id\":\"108460\",\"type\":\"LegendItem\"},{\"attributes\":{\"data_source\":{\"id\":\"108244\",\"type\":\"ColumnDataSource\"},\"glyph\":{\"id\":\"108246\",\"type\":\"Line\"},\"hover_glyph\":null,\"muted_glyph\":null,\"nonselection_glyph\":{\"id\":\"108247\",\"type\":\"Line\"},\"selection_glyph\":null,\"view\":{\"id\":\"108249\",\"type\":\"CDSView\"}},\"id\":\"108248\",\"type\":\"GlyphRenderer\"},{\"attributes\":{\"data_source\":{\"id\":\"108340\",\"type\":\"ColumnDataSource\"},\"glyph\":{\"id\":\"108342\",\"type\":\"Line\"},\"hover_glyph\":null,\"muted_glyph\":null,\"nonselection_glyph\":{\"id\":\"108343\",\"type\":\"Line\"},\"selection_glyph\":null,\"view\":{\"id\":\"108345\",\"type\":\"CDSView\"}},\"id\":\"108344\",\"type\":\"GlyphRenderer\"},{\"attributes\":{\"click_policy\":\"hide\",\"items\":[{\"id\":\"108452\",\"type\":\"LegendItem\"},{\"id\":\"108453\",\"type\":\"LegendItem\"},{\"id\":\"108454\",\"type\":\"LegendItem\"},{\"id\":\"108455\",\"type\":\"LegendItem\"},{\"id\":\"108456\",\"type\":\"LegendItem\"},{\"id\":\"108457\",\"type\":\"LegendItem\"},{\"id\":\"108458\",\"type\":\"LegendItem\"},{\"id\":\"108459\",\"type\":\"LegendItem\"},{\"id\":\"108460\",\"type\":\"LegendItem\"},{\"id\":\"108461\",\"type\":\"LegendItem\"},{\"id\":\"108462\",\"type\":\"LegendItem\"},{\"id\":\"108463\",\"type\":\"LegendItem\"},{\"id\":\"108464\",\"type\":\"LegendItem\"},{\"id\":\"108465\",\"type\":\"LegendItem\"},{\"id\":\"108466\",\"type\":\"LegendItem\"},{\"id\":\"108467\",\"type\":\"LegendItem\"},{\"id\":\"108468\",\"type\":\"LegendItem\"}]},\"id\":\"108451\",\"type\":\"Legend\"},{\"attributes\":{\"source\":{\"id\":\"108364\",\"type\":\"ColumnDataSource\"}},\"id\":\"108375\",\"type\":\"CDSView\"},{\"attributes\":{},\"id\":\"110618\",\"type\":\"UnionRenderers\"},{\"attributes\":{\"fill_alpha\":{\"value\":0.5},\"fill_color\":{\"value\":\"#a6cee3\"},\"line_alpha\":{\"value\":0.5},\"line_color\":{\"value\":\"white\"},\"size\":{\"units\":\"screen\",\"value\":10},\"x\":{\"field\":\"x_data\"},\"y\":{\"field\":\"y_data\"}},\"id\":\"108253\",\"type\":\"Circle\"},{\"attributes\":{\"line_alpha\":0.1,\"line_color\":\"#1f77b4\",\"x\":{\"field\":\"x_data\"},\"y\":{\"field\":\"y_data\"}},\"id\":\"108367\",\"type\":\"Line\"},{\"attributes\":{\"data_source\":{\"id\":\"108388\",\"type\":\"ColumnDataSource\"},\"glyph\":{\"id\":\"108390\",\"type\":\"Line\"},\"hover_glyph\":null,\"muted_glyph\":null,\"nonselection_glyph\":{\"id\":\"108391\",\"type\":\"Line\"},\"selection_glyph\":null,\"view\":{\"id\":\"108393\",\"type\":\"CDSView\"}},\"id\":\"108392\",\"type\":\"GlyphRenderer\"},{\"attributes\":{},\"id\":\"110617\",\"type\":\"Selection\"},{\"attributes\":{\"source\":{\"id\":\"108244\",\"type\":\"ColumnDataSource\"}},\"id\":\"108249\",\"type\":\"CDSView\"},{\"attributes\":{\"fill_alpha\":{\"value\":0.25},\"fill_color\":{\"value\":\"#6a3d9a\"},\"line_color\":{\"value\":null},\"size\":{\"units\":\"screen\",\"value\":10},\"x\":{\"field\":\"x_data\"},\"y\":{\"field\":\"y_data\"}},\"id\":\"108359\",\"type\":\"Circle\"},{\"attributes\":{\"label\":{\"value\":\"ABSNJZH ratio\"},\"renderers\":[{\"id\":\"108356\",\"type\":\"GlyphRenderer\"}]},\"id\":\"108461\",\"type\":\"LegendItem\"},{\"attributes\":{\"dimension\":1,\"ticker\":{\"id\":\"108239\",\"type\":\"BasicTicker\"}},\"id\":\"108242\",\"type\":\"Grid\"},{\"attributes\":{\"fill_alpha\":{\"value\":0.5},\"fill_color\":{\"value\":\"#cab2d6\"},\"line_alpha\":{\"value\":0.5},\"line_color\":{\"value\":\"white\"},\"size\":{\"units\":\"screen\",\"value\":10},\"x\":{\"field\":\"x_data\"},\"y\":{\"field\":\"y_data\"}},\"id\":\"108349\",\"type\":\"Circle\"},{\"attributes\":{\"source\":{\"id\":\"108364\",\"type\":\"ColumnDataSource\"}},\"id\":\"108369\",\"type\":\"CDSView\"},{\"attributes\":{\"line_alpha\":0.1,\"line_color\":\"#1f77b4\",\"x\":{\"field\":\"x_data\"},\"y\":{\"field\":\"y_data\"}},\"id\":\"108343\",\"type\":\"Line\"},{\"attributes\":{},\"id\":\"110603\",\"type\":\"Selection\"},{\"attributes\":{\"line_color\":\"#a6cee3\",\"x\":{\"field\":\"x_data\"},\"y\":{\"field\":\"y_data\"}},\"id\":\"108246\",\"type\":\"Line\"},{\"attributes\":{},\"id\":\"110613\",\"type\":\"Selection\"},{\"attributes\":{\"source\":{\"id\":\"108340\",\"type\":\"ColumnDataSource\"}},\"id\":\"108345\",\"type\":\"CDSView\"},{\"attributes\":{},\"id\":\"110605\",\"type\":\"Selection\"},{\"attributes\":{\"data_source\":{\"id\":\"108364\",\"type\":\"ColumnDataSource\"},\"glyph\":{\"id\":\"108371\",\"type\":\"Circle\"},\"hover_glyph\":{\"id\":\"108373\",\"type\":\"Circle\"},\"muted_glyph\":null,\"nonselection_glyph\":{\"id\":\"108372\",\"type\":\"Circle\"},\"selection_glyph\":null,\"view\":{\"id\":\"108375\",\"type\":\"CDSView\"}},\"id\":\"108374\",\"type\":\"GlyphRenderer\"},{\"attributes\":{\"source\":{\"id\":\"108304\",\"type\":\"ColumnDataSource\"}},\"id\":\"108309\",\"type\":\"CDSView\"},{\"attributes\":{\"label\":{\"value\":\"TOTPOT ratio\"},\"renderers\":[{\"id\":\"108392\",\"type\":\"GlyphRenderer\"}]},\"id\":\"108464\",\"type\":\"LegendItem\"},{\"attributes\":{\"fill_alpha\":{\"value\":0.1},\"fill_color\":{\"value\":\"#1f77b4\"},\"line_alpha\":{\"value\":0.1},\"line_color\":{\"value\":\"#1f77b4\"},\"size\":{\"units\":\"screen\",\"value\":10},\"x\":{\"field\":\"x_data\"},\"y\":{\"field\":\"y_data\"}},\"id\":\"108252\",\"type\":\"Circle\"},{\"attributes\":{\"fill_alpha\":{\"value\":0.25},\"fill_color\":{\"value\":\"#8dd3c7\"},\"line_color\":{\"value\":null},\"size\":{\"units\":\"screen\",\"value\":10},\"x\":{\"field\":\"x_data\"},\"y\":{\"field\":\"y_data\"}},\"id\":\"108395\",\"type\":\"Circle\"},{\"attributes\":{\"label\":{\"value\":\"MEANPOT ratio\"},\"renderers\":[{\"id\":\"108380\",\"type\":\"GlyphRenderer\"}]},\"id\":\"108463\",\"type\":\"LegendItem\"},{\"attributes\":{\"fill_alpha\":{\"value\":0.25},\"fill_color\":{\"value\":\"#ffff99\"},\"line_color\":{\"value\":null},\"size\":{\"units\":\"screen\",\"value\":10},\"x\":{\"field\":\"x_data\"},\"y\":{\"field\":\"y_data\"}},\"id\":\"108371\",\"type\":\"Circle\"},{\"attributes\":{\"callback\":null,\"data\":{\"x_data\":[2,3,4,5,6,7,8,9,10,11,12,13,14,15,16,17,18,19,20,21,22,23,24],\"y_data\":[-0.3404954510512405,0.0028364304519528766,-0.31183429610331376,0.6467584381963786,-0.9164949269103524,0.902245008454017,0.6896166820294662,0.7479038634142658,0.8515414188988312,0.7667168545481846,0.502256983389431,0.325631005409575,-0.6546024054814991,-0.6991794423097304,0.05950020016230804,0.4713443359734992,0.8317184634431951,0.4774619014829539,0.17562836860930983,0.11614451052539526,0.12532725410543977,0.6473298644463001,0.8119582775229409]},\"selected\":{\"id\":\"110617\",\"type\":\"Selection\"},\"selection_policy\":{\"id\":\"110616\",\"type\":\"UnionRenderers\"}},\"id\":\"108388\",\"type\":\"ColumnDataSource\"},{\"attributes\":{\"fill_alpha\":{\"value\":0.1},\"fill_color\":{\"value\":\"#1f77b4\"},\"line_alpha\":{\"value\":0.1},\"line_color\":{\"value\":\"#1f77b4\"},\"size\":{\"units\":\"screen\",\"value\":10},\"x\":{\"field\":\"x_data\"},\"y\":{\"field\":\"y_data\"}},\"id\":\"108348\",\"type\":\"Circle\"},{\"attributes\":{},\"id\":\"110604\",\"type\":\"UnionRenderers\"},{\"attributes\":{\"fill_alpha\":{\"value\":0.1},\"fill_color\":{\"value\":\"#1f77b4\"},\"line_alpha\":{\"value\":0.1},\"line_color\":{\"value\":\"#1f77b4\"},\"size\":{\"units\":\"screen\",\"value\":10},\"x\":{\"field\":\"x_data\"},\"y\":{\"field\":\"y_data\"}},\"id\":\"108372\",\"type\":\"Circle\"},{\"attributes\":{\"fill_alpha\":{\"value\":0.5},\"fill_color\":{\"value\":\"#ffff99\"},\"line_alpha\":{\"value\":0.5},\"line_color\":{\"value\":\"white\"},\"size\":{\"units\":\"screen\",\"value\":10},\"x\":{\"field\":\"x_data\"},\"y\":{\"field\":\"y_data\"}},\"id\":\"108373\",\"type\":\"Circle\"},{\"attributes\":{\"data_source\":{\"id\":\"108436\",\"type\":\"ColumnDataSource\"},\"glyph\":{\"id\":\"108443\",\"type\":\"Circle\"},\"hover_glyph\":{\"id\":\"108445\",\"type\":\"Circle\"},\"muted_glyph\":null,\"nonselection_glyph\":{\"id\":\"108444\",\"type\":\"Circle\"},\"selection_glyph\":null,\"view\":{\"id\":\"108447\",\"type\":\"CDSView\"}},\"id\":\"108446\",\"type\":\"GlyphRenderer\"},{\"attributes\":{\"line_alpha\":0.1,\"line_color\":\"#1f77b4\",\"x\":{\"field\":\"x_data\"},\"y\":{\"field\":\"y_data\"}},\"id\":\"108391\",\"type\":\"Line\"},{\"attributes\":{},\"id\":\"110598\",\"type\":\"UnionRenderers\"},{\"attributes\":{\"data_source\":{\"id\":\"108436\",\"type\":\"ColumnDataSource\"},\"glyph\":{\"id\":\"108438\",\"type\":\"Line\"},\"hover_glyph\":null,\"muted_glyph\":null,\"nonselection_glyph\":{\"id\":\"108439\",\"type\":\"Line\"},\"selection_glyph\":null,\"view\":{\"id\":\"108441\",\"type\":\"CDSView\"}},\"id\":\"108440\",\"type\":\"GlyphRenderer\"},{\"attributes\":{\"line_alpha\":0.1,\"line_color\":\"#1f77b4\",\"x\":{\"field\":\"x_data\"},\"y\":{\"field\":\"y_data\"}},\"id\":\"108379\",\"type\":\"Line\"},{\"attributes\":{\"fill_alpha\":{\"value\":0.25},\"fill_color\":{\"value\":\"#b15928\"},\"line_color\":{\"value\":null},\"size\":{\"units\":\"screen\",\"value\":10},\"x\":{\"field\":\"x_data\"},\"y\":{\"field\":\"y_data\"}},\"id\":\"108383\",\"type\":\"Circle\"},{\"attributes\":{\"fill_alpha\":{\"value\":0.1},\"fill_color\":{\"value\":\"#1f77b4\"},\"line_alpha\":{\"value\":0.1},\"line_color\":{\"value\":\"#1f77b4\"},\"size\":{\"units\":\"screen\",\"value\":10},\"x\":{\"field\":\"x_data\"},\"y\":{\"field\":\"y_data\"}},\"id\":\"108300\",\"type\":\"Circle\"},{\"attributes\":{\"source\":{\"id\":\"108376\",\"type\":\"ColumnDataSource\"}},\"id\":\"108381\",\"type\":\"CDSView\"},{\"attributes\":{\"data_source\":{\"id\":\"108376\",\"type\":\"ColumnDataSource\"},\"glyph\":{\"id\":\"108378\",\"type\":\"Line\"},\"hover_glyph\":null,\"muted_glyph\":null,\"nonselection_glyph\":{\"id\":\"108379\",\"type\":\"Line\"},\"selection_glyph\":null,\"view\":{\"id\":\"108381\",\"type\":\"CDSView\"}},\"id\":\"108380\",\"type\":\"GlyphRenderer\"},{\"attributes\":{\"line_color\":\"#ffed6f\",\"x\":{\"field\":\"x_data\"},\"y\":{\"field\":\"y_data\"}},\"id\":\"108426\",\"type\":\"Line\"},{\"attributes\":{\"source\":{\"id\":\"108436\",\"type\":\"ColumnDataSource\"}},\"id\":\"108441\",\"type\":\"CDSView\"},{\"attributes\":{\"data_source\":{\"id\":\"108424\",\"type\":\"ColumnDataSource\"},\"glyph\":{\"id\":\"108431\",\"type\":\"Circle\"},\"hover_glyph\":{\"id\":\"108433\",\"type\":\"Circle\"},\"muted_glyph\":null,\"nonselection_glyph\":{\"id\":\"108432\",\"type\":\"Circle\"},\"selection_glyph\":null,\"view\":{\"id\":\"108435\",\"type\":\"CDSView\"}},\"id\":\"108434\",\"type\":\"GlyphRenderer\"},{\"attributes\":{\"fill_alpha\":{\"value\":0.25},\"fill_color\":{\"value\":\"#fdbf6f\"},\"line_color\":{\"value\":null},\"size\":{\"units\":\"screen\",\"value\":10},\"x\":{\"field\":\"x_data\"},\"y\":{\"field\":\"y_data\"}},\"id\":\"108323\",\"type\":\"Circle\"},{\"attributes\":{},\"id\":\"108234\",\"type\":\"BasicTicker\"},{\"attributes\":{\"fill_alpha\":{\"value\":0.5},\"fill_color\":{\"value\":\"#d9d9d9\"},\"line_alpha\":{\"value\":0.5},\"line_color\":{\"value\":\"white\"},\"size\":{\"units\":\"screen\",\"value\":10},\"x\":{\"field\":\"x_data\"},\"y\":{\"field\":\"y_data\"}},\"id\":\"108421\",\"type\":\"Circle\"},{\"attributes\":{\"source\":{\"id\":\"108304\",\"type\":\"ColumnDataSource\"}},\"id\":\"108315\",\"type\":\"CDSView\"},{\"attributes\":{\"fill_alpha\":{\"value\":0.5},\"fill_color\":{\"value\":\"#ffed6f\"},\"line_alpha\":{\"value\":0.5},\"line_color\":{\"value\":\"white\"},\"size\":{\"units\":\"screen\",\"value\":10},\"x\":{\"field\":\"x_data\"},\"y\":{\"field\":\"y_data\"}},\"id\":\"108433\",\"type\":\"Circle\"},{\"attributes\":{\"data_source\":{\"id\":\"108316\",\"type\":\"ColumnDataSource\"},\"glyph\":{\"id\":\"108323\",\"type\":\"Circle\"},\"hover_glyph\":{\"id\":\"108325\",\"type\":\"Circle\"},\"muted_glyph\":null,\"nonselection_glyph\":{\"id\":\"108324\",\"type\":\"Circle\"},\"selection_glyph\":null,\"view\":{\"id\":\"108327\",\"type\":\"CDSView\"}},\"id\":\"108326\",\"type\":\"GlyphRenderer\"},{\"attributes\":{\"callback\":null,\"data\":{\"x_data\":[2,3,4,5,6,7,8,9,10,11,12,13,14,15,16,17,18,19,20,21,22,23,24],\"y_data\":[0.15577153462047078,-0.26580653142888006,-0.21941316664557808,0.5304114797685762,-0.08042968886187837,-0.008638131733078017,0.0037261119719496257,0.010468657262383494,0.060122944003301024,0.32835107255581314,0.10637542921443492,0.4378404699292151,-0.18119421586309467,0.23601782319657608,0.3922757300587034,0.6003444429707165,0.22087120464209756,0.16441429285472392,0.2594909524133247,0.1562604341126135,0.17346452428934214,0.40911231649270274,0.5564186553606404]},\"selected\":{\"id\":\"110623\",\"type\":\"Selection\"},\"selection_policy\":{\"id\":\"110622\",\"type\":\"UnionRenderers\"}},\"id\":\"108424\",\"type\":\"ColumnDataSource\"},{\"attributes\":{\"fill_alpha\":{\"value\":0.1},\"fill_color\":{\"value\":\"#1f77b4\"},\"line_alpha\":{\"value\":0.1},\"line_color\":{\"value\":\"#1f77b4\"},\"size\":{\"units\":\"screen\",\"value\":10},\"x\":{\"field\":\"x_data\"},\"y\":{\"field\":\"y_data\"}},\"id\":\"108312\",\"type\":\"Circle\"},{\"attributes\":{\"label\":{\"value\":\"MEANGAM ratio\"},\"renderers\":[{\"id\":\"108260\",\"type\":\"GlyphRenderer\"}]},\"id\":\"108453\",\"type\":\"LegendItem\"},{\"attributes\":{\"line_color\":\"#e31a1c\",\"x\":{\"field\":\"x_data\"},\"y\":{\"field\":\"y_data\"}},\"id\":\"108438\",\"type\":\"Line\"},{\"attributes\":{\"data_source\":{\"id\":\"108304\",\"type\":\"ColumnDataSource\"},\"glyph\":{\"id\":\"108306\",\"type\":\"Line\"},\"hover_glyph\":null,\"muted_glyph\":null,\"nonselection_glyph\":{\"id\":\"108307\",\"type\":\"Line\"},\"selection_glyph\":null,\"view\":{\"id\":\"108309\",\"type\":\"CDSView\"}},\"id\":\"108308\",\"type\":\"GlyphRenderer\"},{\"attributes\":{\"data_source\":{\"id\":\"108304\",\"type\":\"ColumnDataSource\"},\"glyph\":{\"id\":\"108311\",\"type\":\"Circle\"},\"hover_glyph\":{\"id\":\"108313\",\"type\":\"Circle\"},\"muted_glyph\":null,\"nonselection_glyph\":{\"id\":\"108312\",\"type\":\"Circle\"},\"selection_glyph\":null,\"view\":{\"id\":\"108315\",\"type\":\"CDSView\"}},\"id\":\"108314\",\"type\":\"GlyphRenderer\"},{\"attributes\":{\"callback\":null,\"mode\":\"vline\",\"renderers\":[{\"id\":\"108254\",\"type\":\"GlyphRenderer\"},{\"id\":\"108266\",\"type\":\"GlyphRenderer\"},{\"id\":\"108278\",\"type\":\"GlyphRenderer\"},{\"id\":\"108290\",\"type\":\"GlyphRenderer\"},{\"id\":\"108302\",\"type\":\"GlyphRenderer\"},{\"id\":\"108314\",\"type\":\"GlyphRenderer\"},{\"id\":\"108326\",\"type\":\"GlyphRenderer\"},{\"id\":\"108338\",\"type\":\"GlyphRenderer\"},{\"id\":\"108350\",\"type\":\"GlyphRenderer\"},{\"id\":\"108362\",\"type\":\"GlyphRenderer\"},{\"id\":\"108374\",\"type\":\"GlyphRenderer\"},{\"id\":\"108386\",\"type\":\"GlyphRenderer\"},{\"id\":\"108398\",\"type\":\"GlyphRenderer\"},{\"id\":\"108410\",\"type\":\"GlyphRenderer\"},{\"id\":\"108422\",\"type\":\"GlyphRenderer\"},{\"id\":\"108434\",\"type\":\"GlyphRenderer\"},{\"id\":\"108446\",\"type\":\"GlyphRenderer\"}],\"tooltips\":[[\"Ratio\",\"@y_data\"]]},\"id\":\"108448\",\"type\":\"HoverTool\"},{\"attributes\":{\"source\":{\"id\":\"108436\",\"type\":\"ColumnDataSource\"}},\"id\":\"108447\",\"type\":\"CDSView\"},{\"attributes\":{\"axis_label\":\"Lag time (hr)\",\"formatter\":{\"id\":\"110588\",\"type\":\"BasicTickFormatter\"},\"ticker\":{\"id\":\"108234\",\"type\":\"BasicTicker\"}},\"id\":\"108233\",\"type\":\"LinearAxis\"},{\"attributes\":{\"fill_alpha\":{\"value\":0.25},\"fill_color\":{\"value\":\"#ffed6f\"},\"line_color\":{\"value\":null},\"size\":{\"units\":\"screen\",\"value\":10},\"x\":{\"field\":\"x_data\"},\"y\":{\"field\":\"y_data\"}},\"id\":\"108431\",\"type\":\"Circle\"},{\"attributes\":{\"fill_alpha\":{\"value\":0.5},\"fill_color\":{\"value\":\"#e31a1c\"},\"line_alpha\":{\"value\":0.5},\"line_color\":{\"value\":\"white\"},\"size\":{\"units\":\"screen\",\"value\":10},\"x\":{\"field\":\"x_data\"},\"y\":{\"field\":\"y_data\"}},\"id\":\"108445\",\"type\":\"Circle\"},{\"attributes\":{\"data_source\":{\"id\":\"108424\",\"type\":\"ColumnDataSource\"},\"glyph\":{\"id\":\"108426\",\"type\":\"Line\"},\"hover_glyph\":null,\"muted_glyph\":null,\"nonselection_glyph\":{\"id\":\"108427\",\"type\":\"Line\"},\"selection_glyph\":null,\"view\":{\"id\":\"108429\",\"type\":\"CDSView\"}},\"id\":\"108428\",\"type\":\"GlyphRenderer\"},{\"attributes\":{\"fill_alpha\":{\"value\":0.25},\"fill_color\":{\"value\":\"#e31a1c\"},\"line_color\":{\"value\":null},\"size\":{\"units\":\"screen\",\"value\":10},\"x\":{\"field\":\"x_data\"},\"y\":{\"field\":\"y_data\"}},\"id\":\"108311\",\"type\":\"Circle\"},{\"attributes\":{\"callback\":null,\"end\":25},\"id\":\"108450\",\"type\":\"Range1d\"},{\"attributes\":{\"data_source\":{\"id\":\"108268\",\"type\":\"ColumnDataSource\"},\"glyph\":{\"id\":\"108270\",\"type\":\"Line\"},\"hover_glyph\":null,\"muted_glyph\":null,\"nonselection_glyph\":{\"id\":\"108271\",\"type\":\"Line\"},\"selection_glyph\":null,\"view\":{\"id\":\"108273\",\"type\":\"CDSView\"}},\"id\":\"108272\",\"type\":\"GlyphRenderer\"},{\"attributes\":{\"fill_alpha\":{\"value\":0.5},\"fill_color\":{\"value\":\"#fdbf6f\"},\"line_alpha\":{\"value\":0.5},\"line_color\":{\"value\":\"white\"},\"size\":{\"units\":\"screen\",\"value\":10},\"x\":{\"field\":\"x_data\"},\"y\":{\"field\":\"y_data\"}},\"id\":\"108325\",\"type\":\"Circle\"},{\"attributes\":{\"source\":{\"id\":\"108244\",\"type\":\"ColumnDataSource\"}},\"id\":\"108255\",\"type\":\"CDSView\"},{\"attributes\":{\"source\":{\"id\":\"108268\",\"type\":\"ColumnDataSource\"}},\"id\":\"108273\",\"type\":\"CDSView\"},{\"attributes\":{\"fill_alpha\":{\"value\":0.5},\"fill_color\":{\"value\":\"#fb9a99\"},\"line_alpha\":{\"value\":0.5},\"line_color\":{\"value\":\"white\"},\"size\":{\"units\":\"screen\",\"value\":10},\"x\":{\"field\":\"x_data\"},\"y\":{\"field\":\"y_data\"}},\"id\":\"108301\",\"type\":\"Circle\"},{\"attributes\":{\"axis_label\":\"Difference\",\"formatter\":{\"id\":\"110590\",\"type\":\"BasicTickFormatter\"},\"ticker\":{\"id\":\"108239\",\"type\":\"BasicTicker\"}},\"id\":\"108238\",\"type\":\"LinearAxis\"},{\"attributes\":{\"line_alpha\":0.1,\"line_color\":\"#1f77b4\",\"x\":{\"field\":\"x_data\"},\"y\":{\"field\":\"y_data\"}},\"id\":\"108319\",\"type\":\"Line\"},{\"attributes\":{\"fill_alpha\":{\"value\":0.25},\"fill_color\":{\"value\":\"#fdb462\"},\"line_color\":{\"value\":null},\"size\":{\"units\":\"screen\",\"value\":10},\"x\":{\"field\":\"x_data\"},\"y\":{\"field\":\"y_data\"}},\"id\":\"108407\",\"type\":\"Circle\"},{\"attributes\":{\"fill_alpha\":{\"value\":0.1},\"fill_color\":{\"value\":\"#1f77b4\"},\"line_alpha\":{\"value\":0.1},\"line_color\":{\"value\":\"#1f77b4\"},\"size\":{\"units\":\"screen\",\"value\":10},\"x\":{\"field\":\"x_data\"},\"y\":{\"field\":\"y_data\"}},\"id\":\"108408\",\"type\":\"Circle\"},{\"attributes\":{\"source\":{\"id\":\"108256\",\"type\":\"ColumnDataSource\"}},\"id\":\"108267\",\"type\":\"CDSView\"},{\"attributes\":{},\"id\":\"108229\",\"type\":\"LinearScale\"},{\"attributes\":{\"fill_alpha\":{\"value\":0.5},\"fill_color\":{\"value\":\"#b15928\"},\"line_alpha\":{\"value\":0.5},\"line_color\":{\"value\":\"white\"},\"size\":{\"units\":\"screen\",\"value\":10},\"x\":{\"field\":\"x_data\"},\"y\":{\"field\":\"y_data\"}},\"id\":\"108385\",\"type\":\"Circle\"},{\"attributes\":{\"line_alpha\":0.1,\"line_color\":\"#1f77b4\",\"x\":{\"field\":\"x_data\"},\"y\":{\"field\":\"y_data\"}},\"id\":\"108427\",\"type\":\"Line\"},{\"attributes\":{\"line_color\":\"#8dd3c7\",\"x\":{\"field\":\"x_data\"},\"y\":{\"field\":\"y_data\"}},\"id\":\"108390\",\"type\":\"Line\"},{\"attributes\":{},\"id\":\"110597\",\"type\":\"Selection\"},{\"attributes\":{\"data_source\":{\"id\":\"108400\",\"type\":\"ColumnDataSource\"},\"glyph\":{\"id\":\"108407\",\"type\":\"Circle\"},\"hover_glyph\":{\"id\":\"108409\",\"type\":\"Circle\"},\"muted_glyph\":null,\"nonselection_glyph\":{\"id\":\"108408\",\"type\":\"Circle\"},\"selection_glyph\":null,\"view\":{\"id\":\"108411\",\"type\":\"CDSView\"}},\"id\":\"108410\",\"type\":\"GlyphRenderer\"},{\"attributes\":{\"fill_alpha\":{\"value\":0.25},\"fill_color\":{\"value\":\"#b2df8a\"},\"line_color\":{\"value\":null},\"size\":{\"units\":\"screen\",\"value\":10},\"x\":{\"field\":\"x_data\"},\"y\":{\"field\":\"y_data\"}},\"id\":\"108275\",\"type\":\"Circle\"},{\"attributes\":{\"fill_alpha\":{\"value\":0.5},\"fill_color\":{\"value\":\"#b2df8a\"},\"line_alpha\":{\"value\":0.5},\"line_color\":{\"value\":\"white\"},\"size\":{\"units\":\"screen\",\"value\":10},\"x\":{\"field\":\"x_data\"},\"y\":{\"field\":\"y_data\"}},\"id\":\"108277\",\"type\":\"Circle\"},{\"attributes\":{\"fill_alpha\":{\"value\":0.25},\"fill_color\":{\"value\":\"#fb9a99\"},\"line_color\":{\"value\":null},\"size\":{\"units\":\"screen\",\"value\":10},\"x\":{\"field\":\"x_data\"},\"y\":{\"field\":\"y_data\"}},\"id\":\"108299\",\"type\":\"Circle\"},{\"attributes\":{},\"id\":\"110592\",\"type\":\"UnionRenderers\"},{\"attributes\":{\"source\":{\"id\":\"108400\",\"type\":\"ColumnDataSource\"}},\"id\":\"108405\",\"type\":\"CDSView\"},{\"attributes\":{\"callback\":null,\"data\":{\"x_data\":[2,3,4,5,6,7,8,9,10,11,12,13,14,15,16,17,18,19,20,21,22,23,24],\"y_data\":[0.04372793818040535,-0.32431032314853736,0.13208373973041893,0.13390250721761943,-0.5165429467568017,0.8630141185743014,0.7334196813886972,-0.1499894834345572,0.05328785013290423,-0.31796477019684816,-0.02003703359659272,0.18516562274554532,0.17407985057549819,0.27946231146202866,-0.820968746076239,-0.41564804999033633,-0.035567007633010135,-0.5452012139979707,-0.49656055553038636,-0.29839188697656266,-0.1448466158751619,0.0800562284027029,0.08357618640812621]},\"selected\":{\"id\":\"110597\",\"type\":\"Selection\"},\"selection_policy\":{\"id\":\"110596\",\"type\":\"UnionRenderers\"}},\"id\":\"108268\",\"type\":\"ColumnDataSource\"},{\"attributes\":{\"fill_alpha\":{\"value\":0.5},\"fill_color\":{\"value\":\"#fdb462\"},\"line_alpha\":{\"value\":0.5},\"line_color\":{\"value\":\"white\"},\"size\":{\"units\":\"screen\",\"value\":10},\"x\":{\"field\":\"x_data\"},\"y\":{\"field\":\"y_data\"}},\"id\":\"108409\",\"type\":\"Circle\"},{\"attributes\":{\"label\":{\"value\":\"USFLUX ratio\"},\"renderers\":[{\"id\":\"108248\",\"type\":\"GlyphRenderer\"}]},\"id\":\"108452\",\"type\":\"LegendItem\"},{\"attributes\":{\"fill_alpha\":{\"value\":0.1},\"fill_color\":{\"value\":\"#1f77b4\"},\"line_alpha\":{\"value\":0.1},\"line_color\":{\"value\":\"#1f77b4\"},\"size\":{\"units\":\"screen\",\"value\":10},\"x\":{\"field\":\"x_data\"},\"y\":{\"field\":\"y_data\"}},\"id\":\"108444\",\"type\":\"Circle\"},{\"attributes\":{\"data_source\":{\"id\":\"108256\",\"type\":\"ColumnDataSource\"},\"glyph\":{\"id\":\"108263\",\"type\":\"Circle\"},\"hover_glyph\":{\"id\":\"108265\",\"type\":\"Circle\"},\"muted_glyph\":null,\"nonselection_glyph\":{\"id\":\"108264\",\"type\":\"Circle\"},\"selection_glyph\":null,\"view\":{\"id\":\"108267\",\"type\":\"CDSView\"}},\"id\":\"108266\",\"type\":\"GlyphRenderer\"},{\"attributes\":{\"ticker\":{\"id\":\"108234\",\"type\":\"BasicTicker\"}},\"id\":\"108237\",\"type\":\"Grid\"},{\"attributes\":{},\"id\":\"110593\",\"type\":\"Selection\"},{\"attributes\":{\"fill_alpha\":{\"value\":0.5},\"fill_color\":{\"value\":\"#33a02c\"},\"line_alpha\":{\"value\":0.5},\"line_color\":{\"value\":\"white\"},\"size\":{\"units\":\"screen\",\"value\":10},\"x\":{\"field\":\"x_data\"},\"y\":{\"field\":\"y_data\"}},\"id\":\"108289\",\"type\":\"Circle\"},{\"attributes\":{\"source\":{\"id\":\"108400\",\"type\":\"ColumnDataSource\"}},\"id\":\"108411\",\"type\":\"CDSView\"},{\"attributes\":{\"source\":{\"id\":\"108424\",\"type\":\"ColumnDataSource\"}},\"id\":\"108429\",\"type\":\"CDSView\"},{\"attributes\":{\"fill_alpha\":{\"value\":0.25},\"fill_color\":{\"value\":\"#d9d9d9\"},\"line_color\":{\"value\":null},\"size\":{\"units\":\"screen\",\"value\":10},\"x\":{\"field\":\"x_data\"},\"y\":{\"field\":\"y_data\"}},\"id\":\"108419\",\"type\":\"Circle\"},{\"attributes\":{\"fill_alpha\":{\"value\":0.1},\"fill_color\":{\"value\":\"#1f77b4\"},\"line_alpha\":{\"value\":0.1},\"line_color\":{\"value\":\"#1f77b4\"},\"size\":{\"units\":\"screen\",\"value\":10},\"x\":{\"field\":\"x_data\"},\"y\":{\"field\":\"y_data\"}},\"id\":\"108276\",\"type\":\"Circle\"},{\"attributes\":{\"data_source\":{\"id\":\"108280\",\"type\":\"ColumnDataSource\"},\"glyph\":{\"id\":\"108287\",\"type\":\"Circle\"},\"hover_glyph\":{\"id\":\"108289\",\"type\":\"Circle\"},\"muted_glyph\":null,\"nonselection_glyph\":{\"id\":\"108288\",\"type\":\"Circle\"},\"selection_glyph\":null,\"view\":{\"id\":\"108291\",\"type\":\"CDSView\"}},\"id\":\"108290\",\"type\":\"GlyphRenderer\"},{\"attributes\":{\"line_color\":\"#e31a1c\",\"x\":{\"field\":\"x_data\"},\"y\":{\"field\":\"y_data\"}},\"id\":\"108306\",\"type\":\"Line\"},{\"attributes\":{\"line_alpha\":0.1,\"line_color\":\"#1f77b4\",\"x\":{\"field\":\"x_data\"},\"y\":{\"field\":\"y_data\"}},\"id\":\"108271\",\"type\":\"Line\"},{\"attributes\":{\"line_color\":\"#fdb462\",\"x\":{\"field\":\"x_data\"},\"y\":{\"field\":\"y_data\"}},\"id\":\"108402\",\"type\":\"Line\"},{\"attributes\":{\"line_alpha\":0.1,\"line_color\":\"#1f77b4\",\"x\":{\"field\":\"x_data\"},\"y\":{\"field\":\"y_data\"}},\"id\":\"108439\",\"type\":\"Line\"},{\"attributes\":{\"fill_alpha\":{\"value\":0.25},\"fill_color\":{\"value\":\"#1f78b4\"},\"line_color\":{\"value\":null},\"size\":{\"units\":\"screen\",\"value\":10},\"x\":{\"field\":\"x_data\"},\"y\":{\"field\":\"y_data\"}},\"id\":\"108263\",\"type\":\"Circle\"},{\"attributes\":{\"source\":{\"id\":\"108316\",\"type\":\"ColumnDataSource\"}},\"id\":\"108321\",\"type\":\"CDSView\"},{\"attributes\":{\"source\":{\"id\":\"108412\",\"type\":\"ColumnDataSource\"}},\"id\":\"108423\",\"type\":\"CDSView\"},{\"attributes\":{\"data_source\":{\"id\":\"108316\",\"type\":\"ColumnDataSource\"},\"glyph\":{\"id\":\"108318\",\"type\":\"Line\"},\"hover_glyph\":null,\"muted_glyph\":null,\"nonselection_glyph\":{\"id\":\"108319\",\"type\":\"Line\"},\"selection_glyph\":null,\"view\":{\"id\":\"108321\",\"type\":\"CDSView\"}},\"id\":\"108320\",\"type\":\"GlyphRenderer\"},{\"attributes\":{\"callback\":null,\"data\":{\"x_data\":[2,3,4,5,6,7,8,9,10,11,12,13,14,15,16,17,18,19,20,21,22,23,24],\"y_data\":[0.14964427708609745,-0.2432381287149395,-0.7259589699138648,0.6407077953068502,-0.14500779406223047,-0.1513031205832145,0.7261615813820477,0.6248917718061077,0.686126641960468,0.7470334164943726,0.19773908344557764,0.6470147169460738,0.6147417472431438,0.24742180646857753,0.6954287142472463,0.6069606018450923,0.9760535463964998,0.6388390735427575,0.9939833392844352,0.7216963620271876,0.49682824449926266,0.8162903821321622,0.42275479388719295]},\"selected\":{\"id\":\"110605\",\"type\":\"Selection\"},\"selection_policy\":{\"id\":\"110604\",\"type\":\"UnionRenderers\"}},\"id\":\"108316\",\"type\":\"ColumnDataSource\"},{\"attributes\":{\"data_source\":{\"id\":\"108268\",\"type\":\"ColumnDataSource\"},\"glyph\":{\"id\":\"108275\",\"type\":\"Circle\"},\"hover_glyph\":{\"id\":\"108277\",\"type\":\"Circle\"},\"muted_glyph\":null,\"nonselection_glyph\":{\"id\":\"108276\",\"type\":\"Circle\"},\"selection_glyph\":null,\"view\":{\"id\":\"108279\",\"type\":\"CDSView\"}},\"id\":\"108278\",\"type\":\"GlyphRenderer\"},{\"attributes\":{\"text\":\"Lag time vs. ratios\"},\"id\":\"108223\",\"type\":\"Title\"},{\"attributes\":{\"line_color\":\"#fdbf6f\",\"x\":{\"field\":\"x_data\"},\"y\":{\"field\":\"y_data\"}},\"id\":\"108318\",\"type\":\"Line\"},{\"attributes\":{\"data_source\":{\"id\":\"108400\",\"type\":\"ColumnDataSource\"},\"glyph\":{\"id\":\"108402\",\"type\":\"Line\"},\"hover_glyph\":null,\"muted_glyph\":null,\"nonselection_glyph\":{\"id\":\"108403\",\"type\":\"Line\"},\"selection_glyph\":null,\"view\":{\"id\":\"108405\",\"type\":\"CDSView\"}},\"id\":\"108404\",\"type\":\"GlyphRenderer\"},{\"attributes\":{\"source\":{\"id\":\"108256\",\"type\":\"ColumnDataSource\"}},\"id\":\"108261\",\"type\":\"CDSView\"},{\"attributes\":{\"fill_alpha\":{\"value\":0.1},\"fill_color\":{\"value\":\"#1f77b4\"},\"line_alpha\":{\"value\":0.1},\"line_color\":{\"value\":\"#1f77b4\"},\"size\":{\"units\":\"screen\",\"value\":10},\"x\":{\"field\":\"x_data\"},\"y\":{\"field\":\"y_data\"}},\"id\":\"108420\",\"type\":\"Circle\"},{\"attributes\":{\"line_color\":\"#b2df8a\",\"x\":{\"field\":\"x_data\"},\"y\":{\"field\":\"y_data\"}},\"id\":\"108270\",\"type\":\"Line\"},{\"attributes\":{\"source\":{\"id\":\"108280\",\"type\":\"ColumnDataSource\"}},\"id\":\"108291\",\"type\":\"CDSView\"},{\"attributes\":{\"fill_alpha\":{\"value\":0.25},\"fill_color\":{\"value\":\"#e31a1c\"},\"line_color\":{\"value\":null},\"size\":{\"units\":\"screen\",\"value\":10},\"x\":{\"field\":\"x_data\"},\"y\":{\"field\":\"y_data\"}},\"id\":\"108443\",\"type\":\"Circle\"},{\"attributes\":{\"fill_alpha\":{\"value\":0.5},\"fill_color\":{\"value\":\"#1f78b4\"},\"line_alpha\":{\"value\":0.5},\"line_color\":{\"value\":\"white\"},\"size\":{\"units\":\"screen\",\"value\":10},\"x\":{\"field\":\"x_data\"},\"y\":{\"field\":\"y_data\"}},\"id\":\"108265\",\"type\":\"Circle\"},{\"attributes\":{\"data_source\":{\"id\":\"108376\",\"type\":\"ColumnDataSource\"},\"glyph\":{\"id\":\"108383\",\"type\":\"Circle\"},\"hover_glyph\":{\"id\":\"108385\",\"type\":\"Circle\"},\"muted_glyph\":null,\"nonselection_glyph\":{\"id\":\"108384\",\"type\":\"Circle\"},\"selection_glyph\":null,\"view\":{\"id\":\"108387\",\"type\":\"CDSView\"}},\"id\":\"108386\",\"type\":\"GlyphRenderer\"},{\"attributes\":{\"label\":{\"value\":\"MEANGBT ratio\"},\"renderers\":[{\"id\":\"108272\",\"type\":\"GlyphRenderer\"}]},\"id\":\"108454\",\"type\":\"LegendItem\"},{\"attributes\":{\"callback\":null},\"id\":\"108227\",\"type\":\"DataRange1d\"},{\"attributes\":{\"fill_alpha\":{\"value\":0.5},\"fill_color\":{\"value\":\"#e31a1c\"},\"line_alpha\":{\"value\":0.5},\"line_color\":{\"value\":\"white\"},\"size\":{\"units\":\"screen\",\"value\":10},\"x\":{\"field\":\"x_data\"},\"y\":{\"field\":\"y_data\"}},\"id\":\"108313\",\"type\":\"Circle\"},{\"attributes\":{},\"id\":\"110599\",\"type\":\"Selection\"},{\"attributes\":{\"callback\":null,\"data\":{\"x_data\":[2,3,4,5,6,7,8,9,10,11,12,13,14,15,16,17,18,19,20,21,22,23,24],\"y_data\":[-0.13061574435046133,-0.2683803822899593,-0.7776494635654116,-0.07629052054343155,-0.4128498723004721,-0.1336696537643792,0.6846507702329723,0.619897312836323,0.5927049955706838,0.6052546074588322,0.16888545287668058,0.7764655375300408,0.04487254270817594,0.3444933944629271,0.5407120722187385,0.5987094628647467,0.8459474770460741,0.8570359195927928,0.7532196772034323,0.4728887182869376,0.6382379745954848,0.9169699365987989,0.38599440447408606]},\"selected\":{\"id\":\"110593\",\"type\":\"Selection\"},\"selection_policy\":{\"id\":\"110592\",\"type\":\"UnionRenderers\"}},\"id\":\"108244\",\"type\":\"ColumnDataSource\"},{\"attributes\":{\"line_alpha\":0.1,\"line_color\":\"#1f77b4\",\"x\":{\"field\":\"x_data\"},\"y\":{\"field\":\"y_data\"}},\"id\":\"108307\",\"type\":\"Line\"},{\"attributes\":{\"fill_alpha\":{\"value\":0.1},\"fill_color\":{\"value\":\"#1f77b4\"},\"line_alpha\":{\"value\":0.1},\"line_color\":{\"value\":\"#1f77b4\"},\"size\":{\"units\":\"screen\",\"value\":10},\"x\":{\"field\":\"x_data\"},\"y\":{\"field\":\"y_data\"}},\"id\":\"108432\",\"type\":\"Circle\"},{\"attributes\":{\"fill_alpha\":{\"value\":0.1},\"fill_color\":{\"value\":\"#1f77b4\"},\"line_alpha\":{\"value\":0.1},\"line_color\":{\"value\":\"#1f77b4\"},\"size\":{\"units\":\"screen\",\"value\":10},\"x\":{\"field\":\"x_data\"},\"y\":{\"field\":\"y_data\"}},\"id\":\"108264\",\"type\":\"Circle\"},{\"attributes\":{\"fill_alpha\":{\"value\":0.1},\"fill_color\":{\"value\":\"#1f77b4\"},\"line_alpha\":{\"value\":0.1},\"line_color\":{\"value\":\"#1f77b4\"},\"size\":{\"units\":\"screen\",\"value\":10},\"x\":{\"field\":\"x_data\"},\"y\":{\"field\":\"y_data\"}},\"id\":\"108324\",\"type\":\"Circle\"},{\"attributes\":{\"data_source\":{\"id\":\"108256\",\"type\":\"ColumnDataSource\"},\"glyph\":{\"id\":\"108258\",\"type\":\"Line\"},\"hover_glyph\":null,\"muted_glyph\":null,\"nonselection_glyph\":{\"id\":\"108259\",\"type\":\"Line\"},\"selection_glyph\":null,\"view\":{\"id\":\"108261\",\"type\":\"CDSView\"}},\"id\":\"108260\",\"type\":\"GlyphRenderer\"},{\"attributes\":{},\"id\":\"110596\",\"type\":\"UnionRenderers\"},{\"attributes\":{},\"id\":\"108231\",\"type\":\"LinearScale\"},{\"attributes\":{\"line_alpha\":0.1,\"line_color\":\"#1f77b4\",\"x\":{\"field\":\"x_data\"},\"y\":{\"field\":\"y_data\"}},\"id\":\"108259\",\"type\":\"Line\"},{\"attributes\":{\"source\":{\"id\":\"108424\",\"type\":\"ColumnDataSource\"}},\"id\":\"108435\",\"type\":\"CDSView\"},{\"attributes\":{\"data_source\":{\"id\":\"108412\",\"type\":\"ColumnDataSource\"},\"glyph\":{\"id\":\"108419\",\"type\":\"Circle\"},\"hover_glyph\":{\"id\":\"108421\",\"type\":\"Circle\"},\"muted_glyph\":null,\"nonselection_glyph\":{\"id\":\"108420\",\"type\":\"Circle\"},\"selection_glyph\":null,\"view\":{\"id\":\"108423\",\"type\":\"CDSView\"}},\"id\":\"108422\",\"type\":\"GlyphRenderer\"},{\"attributes\":{\"callback\":null,\"data\":{\"x_data\":[2,3,4,5,6,7,8,9,10,11,12,13,14,15,16,17,18,19,20,21,22,23,24],\"y_data\":[0.40741765054642937,0.09516071174788883,-0.42917704471317264,0.0624892037790451,0.21475534524472137,0.4585771419253723,0.5071363358657446,0.6415247891091282,0.7078637672781946,0.7527764261271294,-0.2099274112699085,0.3276640334635319,0.3688769980190294,0.3444360690811676,0.5687556779037163,0.5842591538666382,0.6674207705420501,0.5637064238024955,0.6519102218800971,0.2534310922658464,0.6215115863959372,0.8296142566745726,0.7449115490908017]},\"selected\":{\"id\":\"110625\",\"type\":\"Selection\"},\"selection_policy\":{\"id\":\"110624\",\"type\":\"UnionRenderers\"}},\"id\":\"108436\",\"type\":\"ColumnDataSource\"}],\"root_ids\":[\"108222\"]},\"title\":\"Bokeh Application\",\"version\":\"1.3.2\"}};\n",
       "  var render_items = [{\"docid\":\"3e53e02d-2620-4c04-ac0f-2adaa4e9c883\",\"roots\":{\"108222\":\"7c6c0ea1-fd3a-46f5-933d-c9c6efbd35aa\"}}];\n",
       "  root.Bokeh.embed.embed_items_notebook(docs_json, render_items);\n",
       "\n",
       "  }\n",
       "  if (root.Bokeh !== undefined) {\n",
       "    embed_document(root);\n",
       "  } else {\n",
       "    var attempts = 0;\n",
       "    var timer = setInterval(function(root) {\n",
       "      if (root.Bokeh !== undefined) {\n",
       "        embed_document(root);\n",
       "        clearInterval(timer);\n",
       "      }\n",
       "      attempts++;\n",
       "      if (attempts > 100) {\n",
       "        console.log(\"Bokeh: ERROR: Unable to run BokehJS code because BokehJS library is missing\");\n",
       "        clearInterval(timer);\n",
       "      }\n",
       "    }, 10, root)\n",
       "  }\n",
       "})(window);"
      ],
      "application/vnd.bokehjs_exec.v0+json": ""
     },
     "metadata": {
      "application/vnd.bokehjs_exec.v0+json": {
       "id": "108222"
      }
     },
     "output_type": "display_data"
    }
   ],
   "source": [
    "plot_difference_data(coef_data, time_data)"
   ]
  }
 ],
 "metadata": {
  "kernelspec": {
   "display_name": "Python 3",
   "language": "python",
   "name": "python3"
  },
  "language_info": {
   "codemirror_mode": {
    "name": "ipython",
    "version": 3
   },
   "file_extension": ".py",
   "mimetype": "text/x-python",
   "name": "python",
   "nbconvert_exporter": "python",
   "pygments_lexer": "ipython3",
   "version": "3.7.3"
  }
 },
 "nbformat": 4,
 "nbformat_minor": 2
}
